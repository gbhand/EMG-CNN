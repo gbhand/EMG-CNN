{
 "cells": [
  {
   "cell_type": "code",
   "execution_count": 1,
   "metadata": {},
   "outputs": [
    {
     "name": "stderr",
     "output_type": "stream",
     "text": [
      "Using TensorFlow backend.\n",
      "/opt/miniconda3/envs/trial_env/lib/python3.7/site-packages/tensorflow/python/framework/dtypes.py:526: FutureWarning: Passing (type, 1) or '1type' as a synonym of type is deprecated; in a future version of numpy, it will be understood as (type, (1,)) / '(1,)type'.\n",
      "  _np_qint8 = np.dtype([(\"qint8\", np.int8, 1)])\n",
      "/opt/miniconda3/envs/trial_env/lib/python3.7/site-packages/tensorflow/python/framework/dtypes.py:527: FutureWarning: Passing (type, 1) or '1type' as a synonym of type is deprecated; in a future version of numpy, it will be understood as (type, (1,)) / '(1,)type'.\n",
      "  _np_quint8 = np.dtype([(\"quint8\", np.uint8, 1)])\n",
      "/opt/miniconda3/envs/trial_env/lib/python3.7/site-packages/tensorflow/python/framework/dtypes.py:528: FutureWarning: Passing (type, 1) or '1type' as a synonym of type is deprecated; in a future version of numpy, it will be understood as (type, (1,)) / '(1,)type'.\n",
      "  _np_qint16 = np.dtype([(\"qint16\", np.int16, 1)])\n",
      "/opt/miniconda3/envs/trial_env/lib/python3.7/site-packages/tensorflow/python/framework/dtypes.py:529: FutureWarning: Passing (type, 1) or '1type' as a synonym of type is deprecated; in a future version of numpy, it will be understood as (type, (1,)) / '(1,)type'.\n",
      "  _np_quint16 = np.dtype([(\"quint16\", np.uint16, 1)])\n",
      "/opt/miniconda3/envs/trial_env/lib/python3.7/site-packages/tensorflow/python/framework/dtypes.py:530: FutureWarning: Passing (type, 1) or '1type' as a synonym of type is deprecated; in a future version of numpy, it will be understood as (type, (1,)) / '(1,)type'.\n",
      "  _np_qint32 = np.dtype([(\"qint32\", np.int32, 1)])\n",
      "/opt/miniconda3/envs/trial_env/lib/python3.7/site-packages/tensorflow/python/framework/dtypes.py:535: FutureWarning: Passing (type, 1) or '1type' as a synonym of type is deprecated; in a future version of numpy, it will be understood as (type, (1,)) / '(1,)type'.\n",
      "  np_resource = np.dtype([(\"resource\", np.ubyte, 1)])\n"
     ]
    }
   ],
   "source": [
    "import os\n",
    "\n",
    "import matplotlib.pyplot as plt\n",
    "import numpy as np\n",
    "import pandas as pd\n",
    "import st_remux as st\n",
    "\n",
    "from sklearn.model_selection import train_test_split\n",
    "from keras.utils import to_categorical\n",
    "\n",
    "\n",
    "\n",
    "%matplotlib inline"
   ]
  },
  {
   "cell_type": "code",
   "execution_count": 2,
   "metadata": {},
   "outputs": [],
   "source": [
    "# Config\n",
    "# highpath = 'datasets/high.csv'\n",
    "# lowpath = 'datasets/none.csv'\n",
    "# hi = st.raw_to_arr(high, fs, win_len, 0)\n",
    "# lo = st.raw_to_arr(low, fs, win_len, 0)\n",
    "class_0_dir = '1D_5class_data/0_all_parameters.csv'\n",
    "class_1_dir = '1D_5class_data/1_all_parameters.csv'\n",
    "class_2_dir = '1D_5class_data/2_all_parameters.csv'\n",
    "class_3_dir = '1D_5class_data/3_all_parameters.csv'\n",
    "class_4_dir= '1D_5class_data/4_all_parameters.csv'\n",
    "\n",
    "\n",
    "\n",
    "fs = 4000\n",
    "win_len = 40\n",
    "\n",
    "use_filter = 0   # weird results if we use python filtering\n",
    "\n",
    "use_matlab_backend = 0\n",
    "\n",
    "\n",
    "class_0= np.genfromtxt(class_0_dir, delimiter=',')\n",
    "class_1= np.genfromtxt(class_1_dir, delimiter=',')\n",
    "class_2= np.genfromtxt(class_2_dir, delimiter=',')\n",
    "class_3= np.genfromtxt(class_3_dir, delimiter=',')\n",
    "class_4= np.genfromtxt(class_4_dir, delimiter=',')"
   ]
  },
  {
   "cell_type": "code",
   "execution_count": 3,
   "metadata": {},
   "outputs": [
    {
     "name": "stdout",
     "output_type": "stream",
     "text": [
      "((1521, 4),)\n"
     ]
    }
   ],
   "source": [
    "X = np.concatenate((class_0, class_1, class_2, class_3, class_4))\n",
    "d= X.shape,\n",
    "print(d)"
   ]
  },
  {
   "cell_type": "code",
   "execution_count": 4,
   "metadata": {},
   "outputs": [],
   "source": [
    "\n",
    "class_4_Y = np.ones(len(class_4), dtype=int) * 4\n",
    "class_3_Y = np.ones(len(class_3), dtype=int) * 3\n",
    "class_2_Y = np.ones(len(class_2), dtype=int) * 2\n",
    "class_1_Y = np.ones(len(class_1), dtype=int) * 1\n",
    "class_0_Y = np.zeros(len(class_0), dtype=int)\n",
    "\n",
    "Y = np.concatenate((class_0_Y, class_1_Y, class_2_Y, class_3_Y, class_4_Y))"
   ]
  },
  {
   "cell_type": "code",
   "execution_count": 5,
   "metadata": {},
   "outputs": [],
   "source": [
    "train_X, test_X, train_Y, test_Y = train_test_split(X, Y, test_size=0.1)"
   ]
  },
  {
   "cell_type": "code",
   "execution_count": 6,
   "metadata": {},
   "outputs": [
    {
     "name": "stdout",
     "output_type": "stream",
     "text": [
      "Training data shape:  (1368, 4) (1368,)\n",
      "Testing data shape:  (153, 4) (153,)\n"
     ]
    }
   ],
   "source": [
    "print('Training data shape: ', train_X.shape, train_Y.shape)\n",
    "print('Testing data shape: ', test_X.shape, test_Y.shape)"
   ]
  },
  {
   "cell_type": "code",
   "execution_count": 7,
   "metadata": {},
   "outputs": [
    {
     "name": "stdout",
     "output_type": "stream",
     "text": [
      "Total number of outputs:  5\n",
      "Output classes:  [0 1 2 3 4]\n"
     ]
    }
   ],
   "source": [
    "classes = np.unique(train_Y)\n",
    "nClasses = len(classes)\n",
    "print('Total number of outputs: ', nClasses)\n",
    "print('Output classes: ', classes)"
   ]
  },
  {
   "cell_type": "code",
   "execution_count": 8,
   "metadata": {},
   "outputs": [
    {
     "data": {
      "text/plain": [
       "Text(0.5,1,'Ground Truth: 1')"
      ]
     },
     "execution_count": 8,
     "metadata": {},
     "output_type": "execute_result"
    },
    {
     "data": {
      "image/png": "[encoded data removed]",
      "text/plain": [
       "<Figure size 720x144 with 2 Axes>"
      ]
     },
     "metadata": {
      "needs_background": "light"
     },
     "output_type": "display_data"
    }
   ],
   "source": [
    "plt.figure(figsize=[10,2])\n",
    "\n",
    "# Display first image in training set\n",
    "plt.subplot(121)\n",
    "plt.pcolormesh(train_X[:,:], cmap='jet')\n",
    "plt.title(\"Ground Truth: {}\".format(train_Y[0]))\n",
    "\n",
    "# Display second image in testing set\n",
    "plt.subplot(122)\n",
    "plt.pcolormesh(test_X[:], cmap='jet')\n",
    "plt.title(\"Ground Truth: {}\".format(test_Y[1]))"
   ]
  },
  {
   "cell_type": "code",
   "execution_count": 9,
   "metadata": {},
   "outputs": [
    {
     "name": "stdout",
     "output_type": "stream",
     "text": [
      "4\n"
     ]
    }
   ],
   "source": [
    "ydim = train_X[0].shape[0]\n",
    "print(ydim)\n",
    "train_X = train_X.reshape(-1, ydim, 1)\n",
    "test_X = test_X.reshape(-1, ydim, 1)\n",
    "train_X = train_X.astype('float32')\n",
    "test_X = test_X.astype('float32')"
   ]
  },
  {
   "cell_type": "code",
   "execution_count": 10,
   "metadata": {},
   "outputs": [
    {
     "name": "stdout",
     "output_type": "stream",
     "text": [
      "[[[130.70726 ]\n",
      "  [130.70726 ]\n",
      "  [130.70726 ]\n",
      "  [130.70726 ]]\n",
      "\n",
      " [[ 63.13146 ]\n",
      "  [ 63.13146 ]\n",
      "  [ 63.13146 ]\n",
      "  [ 63.13146 ]]\n",
      "\n",
      " [[ 80.641464]\n",
      "  [ 80.641464]\n",
      "  [ 80.641464]\n",
      "  [ 80.641464]]\n",
      "\n",
      " ...\n",
      "\n",
      " [[ 34.177074]\n",
      "  [ 34.177074]\n",
      "  [ 34.177074]\n",
      "  [ 34.177074]]\n",
      "\n",
      " [[ 69.239265]\n",
      "  [ 69.239265]\n",
      "  [ 69.239265]\n",
      "  [ 69.239265]]\n",
      "\n",
      " [[ 41.04357 ]\n",
      "  [ 41.04357 ]\n",
      "  [ 41.04357 ]\n",
      "  [ 41.04357 ]]]\n"
     ]
    }
   ],
   "source": [
    "train_X.shape, test_X.shape\n",
    "print(train_X)"
   ]
  },
  {
   "cell_type": "code",
   "execution_count": 11,
   "metadata": {},
   "outputs": [
    {
     "name": "stdout",
     "output_type": "stream",
     "text": [
      "Original label:  0\n",
      "After conversion to one-hot:  [1. 0. 0. 0. 0.]\n"
     ]
    }
   ],
   "source": [
    "# Change labels from categorical to one-hot encoding\n",
    "train_Y_one_hot = to_categorical(train_Y)\n",
    "test_Y_one_hot = to_categorical(test_Y)\n",
    "\n",
    "# See the difference?\n",
    "print('Original label: ', train_Y[0])\n",
    "print('After conversion to one-hot: ', train_Y_one_hot[0])"
   ]
  },
  {
   "cell_type": "code",
   "execution_count": 12,
   "metadata": {},
   "outputs": [
    {
     "data": {
      "text/plain": [
       "(1368, 5)"
      ]
     },
     "execution_count": 12,
     "metadata": {},
     "output_type": "execute_result"
    }
   ],
   "source": [
    "train_Y_one_hot.shape"
   ]
  },
  {
   "cell_type": "code",
   "execution_count": 13,
   "metadata": {},
   "outputs": [
    {
     "data": {
      "text/plain": [
       "'train_X, valid_X, train_label, valid_label = train_test_split(train_X, train_Y_one_hot, test_size=0.2)\\n\\ntrain_X.shape, valid_X.shape, train_label.shape, valid_label.shape'"
      ]
     },
     "execution_count": 13,
     "metadata": {},
     "output_type": "execute_result"
    }
   ],
   "source": [
    "# Partition data for 80% training and 20% validation\n",
    "# should reduce overfitting and boost test performance\n",
    "\n",
    "\"\"\"train_X, valid_X, train_label, valid_label = train_test_split(train_X, train_Y_one_hot, test_size=0.2)\n",
    "\n",
    "train_X.shape, valid_X.shape, train_label.shape, valid_label.shape\"\"\""
   ]
  },
  {
   "cell_type": "code",
   "execution_count": 14,
   "metadata": {},
   "outputs": [],
   "source": [
    "# let's get down to business\n",
    "import keras\n",
    "from keras.models import Sequential, Input, Model\n",
    "from keras.layers import Dense, Dropout, Flatten\n",
    "from keras.layers import Conv1D, MaxPooling1D\n",
    "from keras.layers.normalization import BatchNormalization\n",
    "from keras.layers.advanced_activations import LeakyReLU"
   ]
  },
  {
   "cell_type": "code",
   "execution_count": 15,
   "metadata": {},
   "outputs": [],
   "source": [
    "batch_size = 16\n",
    "epochs = 50\n",
    "num_classes = nClasses"
   ]
  },
  {
   "cell_type": "code",
   "execution_count": 16,
   "metadata": {},
   "outputs": [
    {
     "name": "stdout",
     "output_type": "stream",
     "text": [
      "WARNING:tensorflow:From /opt/miniconda3/envs/trial_env/lib/python3.7/site-packages/tensorflow/python/ops/resource_variable_ops.py:435: colocate_with (from tensorflow.python.framework.ops) is deprecated and will be removed in a future version.\n",
      "Instructions for updating:\n",
      "Colocations handled automatically by placer.\n"
     ]
    }
   ],
   "source": [
    "emg_model = Sequential()\n",
    "\n",
    "emg_model.add(\n",
    "    Conv1D(\n",
    "        32, \n",
    "        kernel_size=3, \n",
    "        activation='linear', \n",
    "        input_shape=(ydim,1), \n",
    "        padding='same'))\n",
    "emg_model.add(LeakyReLU(alpha=0.1))\n",
    "emg_model.add(MaxPooling1D(pool_size=2, padding='same'))\n",
    "emg_model.add(Dropout(0.25))\n",
    "emg_model.add(\n",
    "    Conv1D(\n",
    "        64,\n",
    "        3,\n",
    "        activation='linear',\n",
    "        padding='same'))\n",
    "emg_model.add(LeakyReLU(alpha=0.1))\n",
    "emg_model.add(MaxPooling1D(pool_size=2, padding='same'))\n",
    "emg_model.add(Dropout(0.25))\n",
    "emg_model.add(\n",
    "    Conv1D(\n",
    "        128,\n",
    "        3,\n",
    "        activation='linear',\n",
    "        padding='same'))\n",
    "emg_model.add(LeakyReLU(alpha=0.1))\n",
    "emg_model.add(MaxPooling1D(pool_size=2, padding='same'))\n",
    "emg_model.add(Dropout(0.4))\n",
    "emg_model.add(Flatten())\n",
    "emg_model.add(Dense(128, activation='linear'))\n",
    "emg_model.add(LeakyReLU(alpha=0.1))\n",
    "emg_model.add(Dropout(0.3))\n",
    "emg_model.add(Dense(num_classes, activation='softmax'))"
   ]
  },
  {
   "cell_type": "code",
   "execution_count": 17,
   "metadata": {},
   "outputs": [],
   "source": [
    "emg_model.compile(\n",
    "    loss=keras.losses.categorical_crossentropy,\n",
    "    optimizer=keras.optimizers.Adam(),\n",
    "    metrics=['accuracy'])"
   ]
  },
  {
   "cell_type": "code",
   "execution_count": 18,
   "metadata": {},
   "outputs": [
    {
     "name": "stdout",
     "output_type": "stream",
     "text": [
      "Model: \"sequential_1\"\n",
      "_________________________________________________________________\n",
      "Layer (type)                 Output Shape              Param #   \n",
      "=================================================================\n",
      "conv1d_1 (Conv1D)            (None, 4, 32)             128       \n",
      "_________________________________________________________________\n",
      "leaky_re_lu_1 (LeakyReLU)    (None, 4, 32)             0         \n",
      "_________________________________________________________________\n",
      "max_pooling1d_1 (MaxPooling1 (None, 2, 32)             0         \n",
      "_________________________________________________________________\n",
      "dropout_1 (Dropout)          (None, 2, 32)             0         \n",
      "_________________________________________________________________\n",
      "conv1d_2 (Conv1D)            (None, 2, 64)             6208      \n",
      "_________________________________________________________________\n",
      "leaky_re_lu_2 (LeakyReLU)    (None, 2, 64)             0         \n",
      "_________________________________________________________________\n",
      "max_pooling1d_2 (MaxPooling1 (None, 1, 64)             0         \n",
      "_________________________________________________________________\n",
      "dropout_2 (Dropout)          (None, 1, 64)             0         \n",
      "_________________________________________________________________\n",
      "conv1d_3 (Conv1D)            (None, 1, 128)            24704     \n",
      "_________________________________________________________________\n",
      "leaky_re_lu_3 (LeakyReLU)    (None, 1, 128)            0         \n",
      "_________________________________________________________________\n",
      "max_pooling1d_3 (MaxPooling1 (None, 1, 128)            0         \n",
      "_________________________________________________________________\n",
      "dropout_3 (Dropout)          (None, 1, 128)            0         \n",
      "_________________________________________________________________\n",
      "flatten_1 (Flatten)          (None, 128)               0         \n",
      "_________________________________________________________________\n",
      "dense_1 (Dense)              (None, 128)               16512     \n",
      "_________________________________________________________________\n",
      "leaky_re_lu_4 (LeakyReLU)    (None, 128)               0         \n",
      "_________________________________________________________________\n",
      "dropout_4 (Dropout)          (None, 128)               0         \n",
      "_________________________________________________________________\n",
      "dense_2 (Dense)              (None, 5)                 645       \n",
      "=================================================================\n",
      "Total params: 48,197\n",
      "Trainable params: 48,197\n",
      "Non-trainable params: 0\n",
      "_________________________________________________________________\n"
     ]
    }
   ],
   "source": [
    "emg_model.summary()"
   ]
  },
  {
   "cell_type": "code",
   "execution_count": 19,
   "metadata": {},
   "outputs": [
    {
     "name": "stdout",
     "output_type": "stream",
     "text": [
      "WARNING:tensorflow:From /opt/miniconda3/envs/trial_env/lib/python3.7/site-packages/tensorflow/python/ops/math_ops.py:3066: to_int32 (from tensorflow.python.ops.math_ops) is deprecated and will be removed in a future version.\n",
      "Instructions for updating:\n",
      "Use tf.cast instead.\n",
      "Train on 1368 samples, validate on 153 samples\n",
      "Epoch 1/50\n",
      "1368/1368 [==============================] - 2s 2ms/step - loss: 2.4508 - accuracy: 0.2317 - val_loss: 1.5418 - val_accuracy: 0.2222\n",
      "Epoch 2/50\n",
      "1368/1368 [==============================] - 1s 468us/step - loss: 1.5584 - accuracy: 0.2880 - val_loss: 1.5209 - val_accuracy: 0.2092\n",
      "Epoch 3/50\n",
      "1368/1368 [==============================] - 1s 473us/step - loss: 1.5123 - accuracy: 0.2953 - val_loss: 1.5163 - val_accuracy: 0.3987\n",
      "Epoch 4/50\n",
      "1368/1368 [==============================] - 1s 613us/step - loss: 1.4802 - accuracy: 0.3048 - val_loss: 1.4787 - val_accuracy: 0.3399\n",
      "Epoch 5/50\n",
      "1368/1368 [==============================] - 1s 477us/step - loss: 1.4432 - accuracy: 0.3187 - val_loss: 1.4977 - val_accuracy: 0.3856\n",
      "Epoch 6/50\n",
      "1368/1368 [==============================] - 1s 470us/step - loss: 1.4312 - accuracy: 0.3202 - val_loss: 1.4540 - val_accuracy: 0.4052\n",
      "Epoch 7/50\n",
      "1368/1368 [==============================] - 1s 600us/step - loss: 1.4090 - accuracy: 0.3348 - val_loss: 1.4520 - val_accuracy: 0.5294\n",
      "Epoch 8/50\n",
      "1368/1368 [==============================] - 1s 458us/step - loss: 1.3719 - accuracy: 0.3567 - val_loss: 1.4225 - val_accuracy: 0.5425\n",
      "Epoch 9/50\n",
      "1368/1368 [==============================] - 1s 456us/step - loss: 1.3565 - accuracy: 0.3648 - val_loss: 1.3663 - val_accuracy: 0.4314\n",
      "Epoch 10/50\n",
      "1368/1368 [==============================] - 1s 596us/step - loss: 1.3366 - accuracy: 0.3779 - val_loss: 1.3649 - val_accuracy: 0.4444\n",
      "Epoch 11/50\n",
      "1368/1368 [==============================] - 1s 479us/step - loss: 1.3236 - accuracy: 0.3911 - val_loss: 1.4011 - val_accuracy: 0.3333\n",
      "Epoch 12/50\n",
      "1368/1368 [==============================] - 1s 516us/step - loss: 1.2844 - accuracy: 0.4101 - val_loss: 1.3783 - val_accuracy: 0.3529\n",
      "Epoch 13/50\n",
      "1368/1368 [==============================] - 1s 665us/step - loss: 1.2517 - accuracy: 0.4357 - val_loss: 1.3728 - val_accuracy: 0.3529\n",
      "Epoch 14/50\n",
      "1368/1368 [==============================] - 1s 526us/step - loss: 1.2324 - accuracy: 0.4320 - val_loss: 1.3612 - val_accuracy: 0.3660\n",
      "Epoch 15/50\n",
      "1368/1368 [==============================] - 1s 535us/step - loss: 1.1974 - accuracy: 0.4393 - val_loss: 1.2928 - val_accuracy: 0.4444\n",
      "Epoch 16/50\n",
      "1368/1368 [==============================] - 1s 635us/step - loss: 1.1839 - accuracy: 0.4583 - val_loss: 1.2622 - val_accuracy: 0.3856\n",
      "Epoch 17/50\n",
      "1368/1368 [==============================] - 1s 495us/step - loss: 1.1564 - accuracy: 0.4708 - val_loss: 1.2165 - val_accuracy: 0.4575\n",
      "Epoch 18/50\n",
      "1368/1368 [==============================] - 1s 493us/step - loss: 1.1479 - accuracy: 0.4635 - val_loss: 1.1208 - val_accuracy: 0.5621\n",
      "Epoch 19/50\n",
      "1368/1368 [==============================] - 1s 642us/step - loss: 1.1130 - accuracy: 0.4898 - val_loss: 1.3793 - val_accuracy: 0.2876\n",
      "Epoch 20/50\n",
      "1368/1368 [==============================] - 1s 517us/step - loss: 1.1202 - accuracy: 0.4817 - val_loss: 1.2545 - val_accuracy: 0.3268\n",
      "Epoch 21/50\n",
      "1368/1368 [==============================] - 1s 520us/step - loss: 1.0955 - accuracy: 0.4839 - val_loss: 1.2125 - val_accuracy: 0.3856\n",
      "Epoch 22/50\n",
      "1368/1368 [==============================] - 1s 641us/step - loss: 1.0995 - accuracy: 0.4868 - val_loss: 1.2650 - val_accuracy: 0.3725\n",
      "Epoch 23/50\n",
      "1368/1368 [==============================] - 1s 515us/step - loss: 1.0665 - accuracy: 0.5132 - val_loss: 1.1009 - val_accuracy: 0.5163\n",
      "Epoch 24/50\n",
      "1368/1368 [==============================] - 1s 649us/step - loss: 1.0983 - accuracy: 0.4817 - val_loss: 1.1886 - val_accuracy: 0.4248\n",
      "Epoch 25/50\n",
      "1368/1368 [==============================] - 1s 508us/step - loss: 1.0672 - accuracy: 0.5073 - val_loss: 1.0639 - val_accuracy: 0.5490\n",
      "Epoch 26/50\n",
      "1368/1368 [==============================] - 1s 510us/step - loss: 1.0695 - accuracy: 0.4993 - val_loss: 1.1982 - val_accuracy: 0.4183\n",
      "Epoch 27/50\n",
      "1368/1368 [==============================] - 1s 656us/step - loss: 1.0596 - accuracy: 0.5212 - val_loss: 1.1359 - val_accuracy: 0.4641\n",
      "Epoch 28/50\n",
      "1368/1368 [==============================] - 1s 538us/step - loss: 1.0437 - accuracy: 0.5132 - val_loss: 1.3129 - val_accuracy: 0.3464\n",
      "Epoch 29/50\n",
      "1368/1368 [==============================] - 1s 537us/step - loss: 1.0631 - accuracy: 0.5175 - val_loss: 1.1449 - val_accuracy: 0.4575\n",
      "Epoch 30/50\n",
      "1368/1368 [==============================] - 1s 636us/step - loss: 1.0472 - accuracy: 0.5051 - val_loss: 1.4125 - val_accuracy: 0.2941\n",
      "Epoch 31/50\n",
      "1368/1368 [==============================] - 1s 495us/step - loss: 1.0474 - accuracy: 0.5234 - val_loss: 1.1509 - val_accuracy: 0.4314\n",
      "Epoch 32/50\n",
      "1368/1368 [==============================] - 1s 493us/step - loss: 1.0308 - accuracy: 0.5256 - val_loss: 1.2100 - val_accuracy: 0.4052\n",
      "Epoch 33/50\n",
      "1368/1368 [==============================] - 1s 659us/step - loss: 1.0521 - accuracy: 0.5197 - val_loss: 1.0921 - val_accuracy: 0.5229\n",
      "Epoch 34/50\n",
      "1368/1368 [==============================] - 1s 524us/step - loss: 1.0560 - accuracy: 0.5307 - val_loss: 1.1134 - val_accuracy: 0.4902\n",
      "Epoch 35/50\n",
      "1368/1368 [==============================] - 1s 637us/step - loss: 1.0354 - accuracy: 0.5249 - val_loss: 1.2156 - val_accuracy: 0.3922\n",
      "Epoch 36/50\n",
      "1368/1368 [==============================] - 1s 509us/step - loss: 1.0212 - accuracy: 0.5329 - val_loss: 1.2513 - val_accuracy: 0.3856\n",
      "Epoch 37/50\n",
      "1368/1368 [==============================] - 1s 509us/step - loss: 1.0222 - accuracy: 0.5241 - val_loss: 1.0852 - val_accuracy: 0.4967\n",
      "Epoch 38/50\n",
      "1368/1368 [==============================] - 1s 635us/step - loss: 1.0292 - accuracy: 0.5095 - val_loss: 1.0604 - val_accuracy: 0.5359\n",
      "Epoch 39/50\n",
      "1368/1368 [==============================] - 1s 491us/step - loss: 1.0267 - accuracy: 0.5344 - val_loss: 1.1748 - val_accuracy: 0.4314\n",
      "Epoch 40/50\n",
      "1368/1368 [==============================] - 1s 503us/step - loss: 1.0250 - accuracy: 0.5205 - val_loss: 1.2219 - val_accuracy: 0.3791\n",
      "Epoch 41/50\n",
      "1368/1368 [==============================] - 1s 645us/step - loss: 1.0222 - accuracy: 0.5387 - val_loss: 1.2103 - val_accuracy: 0.4118\n",
      "Epoch 42/50\n",
      "1368/1368 [==============================] - 1s 522us/step - loss: 1.0393 - accuracy: 0.5234 - val_loss: 1.0115 - val_accuracy: 0.5686\n",
      "Epoch 43/50\n",
      "1368/1368 [==============================] - 1s 525us/step - loss: 1.0311 - accuracy: 0.5300 - val_loss: 1.2460 - val_accuracy: 0.3791\n",
      "Epoch 44/50\n",
      "1368/1368 [==============================] - 1s 645us/step - loss: 1.0392 - accuracy: 0.5088 - val_loss: 1.2451 - val_accuracy: 0.3987\n",
      "Epoch 45/50\n",
      "1368/1368 [==============================] - 1s 512us/step - loss: 1.0218 - accuracy: 0.5190 - val_loss: 1.0757 - val_accuracy: 0.5098\n",
      "Epoch 46/50\n",
      "1368/1368 [==============================] - 1s 513us/step - loss: 1.0269 - accuracy: 0.5227 - val_loss: 1.0539 - val_accuracy: 0.5359\n",
      "Epoch 47/50\n",
      "1368/1368 [==============================] - 1s 650us/step - loss: 1.0016 - accuracy: 0.5234 - val_loss: 0.9562 - val_accuracy: 0.6144\n",
      "Epoch 48/50\n",
      "1368/1368 [==============================] - 1s 515us/step - loss: 1.0462 - accuracy: 0.5175 - val_loss: 1.0287 - val_accuracy: 0.5621\n",
      "Epoch 49/50\n",
      "1368/1368 [==============================] - 1s 652us/step - loss: 1.0128 - accuracy: 0.5461 - val_loss: 1.4018 - val_accuracy: 0.3399\n",
      "Epoch 50/50\n",
      "1368/1368 [==============================] - 1s 510us/step - loss: 1.0129 - accuracy: 0.5395 - val_loss: 1.0551 - val_accuracy: 0.5294\n"
     ]
    }
   ],
   "source": [
    "emg_train = emg_model.fit(\n",
    "    train_X,\n",
    "    train_Y_one_hot,\n",
    "    batch_size=batch_size,\n",
    "    epochs=epochs,\n",
    "    verbose=1,\n",
    "    validation_data=(test_X, test_Y_one_hot))"
   ]
  },
  {
   "cell_type": "code",
   "execution_count": 20,
   "metadata": {},
   "outputs": [],
   "source": [
    "test_eval = emg_model.evaluate(test_X, test_Y_one_hot, verbose=0)"
   ]
  },
  {
   "cell_type": "code",
   "execution_count": 21,
   "metadata": {},
   "outputs": [
    {
     "name": "stdout",
     "output_type": "stream",
     "text": [
      "Test loss:  1.0550522484810523\n",
      "Test accuracy:  0.529411792755127\n"
     ]
    }
   ],
   "source": [
    "print('Test loss: ', test_eval[0])\n",
    "print('Test accuracy: ', test_eval[1])"
   ]
  },
  {
   "cell_type": "code",
   "execution_count": 22,
   "metadata": {},
   "outputs": [
    {
     "data": {
      "image/png": "[encoded data removed]",
      "text/plain": [
       "<Figure size 432x288 with 1 Axes>"
      ]
     },
     "metadata": {
      "needs_background": "light"
     },
     "output_type": "display_data"
    },
    {
     "data": {
      "image/png": "[encoded data removed]",
      "text/plain": [
       "<Figure size 432x288 with 1 Axes>"
      ]
     },
     "metadata": {
      "needs_background": "light"
     },
     "output_type": "display_data"
    }
   ],
   "source": [
    "# Visualization\n",
    "accuracy = emg_train.history['accuracy']\n",
    "val_accuracy = emg_train.history['val_accuracy']\n",
    "loss = emg_train.history['loss']\n",
    "val_loss = emg_train.history['val_loss']\n",
    "epoch = range(len(accuracy))\n",
    "plt.plot(epoch, accuracy, 'bo', label='Training accuracy')\n",
    "plt.plot(epoch, val_accuracy, 'b', label='Validation accuracy')\n",
    "plt.title('Training and validation accuracy')\n",
    "plt.legend()\n",
    "plt.figure()\n",
    "plt.plot(epoch, loss, 'bo', label='Training loss')\n",
    "plt.plot(epoch, val_loss, 'b', label='Validation loss')\n",
    "plt.title('Training and validation loss')\n",
    "plt.legend()\n",
    "plt.show()"
   ]
  },
  {
   "cell_type": "code",
   "execution_count": null,
   "metadata": {},
   "outputs": [],
   "source": []
  }
 ],
 "metadata": {
  "kernelspec": {
   "display_name": "Python 3",
   "language": "python",
   "name": "python3"
  },
  "language_info": {
   "codemirror_mode": {
    "name": "ipython",
    "version": 3
   },
   "file_extension": ".py",
   "mimetype": "text/x-python",
   "name": "python",
   "nbconvert_exporter": "python",
   "pygments_lexer": "ipython3",
   "version": "3.7.0"
  }
 },
 "nbformat": 4,
 "nbformat_minor": 2
}
