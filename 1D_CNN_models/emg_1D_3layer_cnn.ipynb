{
 "cells": [
  {
   "cell_type": "code",
   "execution_count": 1,
   "metadata": {},
   "outputs": [
    {
     "name": "stderr",
     "output_type": "stream",
     "text": [
      "Using TensorFlow backend.\n",
      "/opt/miniconda3/envs/trial_env/lib/python3.7/site-packages/tensorflow/python/framework/dtypes.py:526: FutureWarning: Passing (type, 1) or '1type' as a synonym of type is deprecated; in a future version of numpy, it will be understood as (type, (1,)) / '(1,)type'.\n",
      "  _np_qint8 = np.dtype([(\"qint8\", np.int8, 1)])\n",
      "/opt/miniconda3/envs/trial_env/lib/python3.7/site-packages/tensorflow/python/framework/dtypes.py:527: FutureWarning: Passing (type, 1) or '1type' as a synonym of type is deprecated; in a future version of numpy, it will be understood as (type, (1,)) / '(1,)type'.\n",
      "  _np_quint8 = np.dtype([(\"quint8\", np.uint8, 1)])\n",
      "/opt/miniconda3/envs/trial_env/lib/python3.7/site-packages/tensorflow/python/framework/dtypes.py:528: FutureWarning: Passing (type, 1) or '1type' as a synonym of type is deprecated; in a future version of numpy, it will be understood as (type, (1,)) / '(1,)type'.\n",
      "  _np_qint16 = np.dtype([(\"qint16\", np.int16, 1)])\n",
      "/opt/miniconda3/envs/trial_env/lib/python3.7/site-packages/tensorflow/python/framework/dtypes.py:529: FutureWarning: Passing (type, 1) or '1type' as a synonym of type is deprecated; in a future version of numpy, it will be understood as (type, (1,)) / '(1,)type'.\n",
      "  _np_quint16 = np.dtype([(\"quint16\", np.uint16, 1)])\n",
      "/opt/miniconda3/envs/trial_env/lib/python3.7/site-packages/tensorflow/python/framework/dtypes.py:530: FutureWarning: Passing (type, 1) or '1type' as a synonym of type is deprecated; in a future version of numpy, it will be understood as (type, (1,)) / '(1,)type'.\n",
      "  _np_qint32 = np.dtype([(\"qint32\", np.int32, 1)])\n",
      "/opt/miniconda3/envs/trial_env/lib/python3.7/site-packages/tensorflow/python/framework/dtypes.py:535: FutureWarning: Passing (type, 1) or '1type' as a synonym of type is deprecated; in a future version of numpy, it will be understood as (type, (1,)) / '(1,)type'.\n",
      "  np_resource = np.dtype([(\"resource\", np.ubyte, 1)])\n"
     ]
    }
   ],
   "source": [
    "import os\n",
    "\n",
    "import matplotlib.pyplot as plt\n",
    "import numpy as np\n",
    "import pandas as pd\n",
    "import st_remux as st\n",
    "\n",
    "from sklearn.model_selection import train_test_split\n",
    "from keras.utils import to_categorical\n",
    "\n",
    "\n",
    "\n",
    "%matplotlib inline"
   ]
  },
  {
   "cell_type": "code",
   "execution_count": 2,
   "metadata": {},
   "outputs": [],
   "source": [
    "# Config\n",
    "# highpath = 'datasets/high.csv'\n",
    "# lowpath = 'datasets/none.csv'\n",
    "# hi = st.raw_to_arr(high, fs, win_len, 0)\n",
    "# lo = st.raw_to_arr(low, fs, win_len, 0)\n",
    "highdir = 'datasets/high'\n",
    "meddir = 'datasets/med'\n",
    "lowdir = 'datasets/low'\n",
    "nonedir = 'datasets/none'\n",
    "\n",
    "\n",
    "\n",
    "fs = 4000\n",
    "win_len = 40\n",
    "\n",
    "use_filter = 0   # weird results if we use python filtering\n",
    "\n",
    "use_matlab_backend = 0"
   ]
  },
  {
   "cell_type": "code",
   "execution_count": 3,
   "metadata": {},
   "outputs": [
    {
     "name": "stdout",
     "output_type": "stream",
     "text": [
      "Using native backend\n"
     ]
    }
   ],
   "source": [
    "if use_matlab_backend:\n",
    "    print('Using MATLAB signal processing backend')\n",
    "    # high_dir = 'datasets/high/'\n",
    "    # low_dir = 'datasets/low/'\n",
    "\n",
    "    high_dir = 'C:/Users/Geoffrey/Documents/MATLAB/S transform time frequency/high/'\n",
    "    low_dir = 'C:/Users/Geoffrey/Documents/MATLAB/S transform time frequency/low/'\n",
    "\n",
    "    def generate_3darray(directory):\n",
    "        files = os.listdir(directory)\n",
    "        dims = np.genfromtxt(directory + files[0], delimiter=',').shape\n",
    "        length = len(files)\n",
    "        arr = np.zeros((length, dims[0], dims[1]))\n",
    "\n",
    "        for idx, val in enumerate(files):\n",
    "            arr[idx] = np.genfromtxt(directory + val, delimiter=',')\n",
    "\n",
    "        return arr\n",
    "\n",
    "    hi = generate_3darray(high_dir)\n",
    "    lo = generate_3darray(low_dir)\n",
    "    \n",
    "else: \n",
    "    print('Using native backend')\n",
    "    hi = st.raw_to_arr(highdir, fs, win_len, 0)\n",
    "    med = st.raw_to_arr(meddir, fs, win_len, 0)\n",
    "    lo = st.raw_to_arr(lowdir, fs, win_len, 0)\n",
    "    none = st.raw_to_arr(nonedir, fs, win_len, 0)"
   ]
  },
  {
   "cell_type": "code",
   "execution_count": 4,
   "metadata": {},
   "outputs": [
    {
     "name": "stdout",
     "output_type": "stream",
     "text": [
      "(23470, 16, 40)\n"
     ]
    }
   ],
   "source": [
    "X = np.concatenate((hi, med, lo, none))\n",
    "d= X.shape\n",
    "print(d)\n",
    "\n",
    "hi_Y = np.ones(len(hi), dtype=int) * 3\n",
    "med_Y = np.ones(len(med), dtype=int) * 2\n",
    "lo_Y = np.ones(len(lo), dtype=int) * 1\n",
    "none_Y = np.zeros(len(none), dtype=int)\n",
    "\n",
    "Y = np.concatenate((hi_Y, med_Y, lo_Y, none_Y))"
   ]
  },
  {
   "cell_type": "code",
   "execution_count": 5,
   "metadata": {},
   "outputs": [],
   "source": [
    "train_X, test_X, train_Y, test_Y = train_test_split(X, Y, test_size=0.1)"
   ]
  },
  {
   "cell_type": "code",
   "execution_count": 6,
   "metadata": {},
   "outputs": [
    {
     "name": "stdout",
     "output_type": "stream",
     "text": [
      "Training data shape:  (21123, 16, 40) (21123,)\n",
      "Testing data shape:  (2347, 16, 40) (2347,)\n"
     ]
    }
   ],
   "source": [
    "print('Training data shape: ', train_X.shape, train_Y.shape)\n",
    "print('Testing data shape: ', test_X.shape, test_Y.shape)"
   ]
  },
  {
   "cell_type": "code",
   "execution_count": 7,
   "metadata": {},
   "outputs": [
    {
     "name": "stdout",
     "output_type": "stream",
     "text": [
      "Total number of outputs:  4\n",
      "Output classes:  [0 1 2 3]\n"
     ]
    }
   ],
   "source": [
    "classes = np.unique(train_Y)\n",
    "nClasses = len(classes)\n",
    "print('Total number of outputs: ', nClasses)\n",
    "print('Output classes: ', classes)"
   ]
  },
  {
   "cell_type": "code",
   "execution_count": 8,
   "metadata": {},
   "outputs": [
    {
     "data": {
      "text/plain": [
       "Text(0.5,1,'Ground Truth: 1')"
      ]
     },
     "execution_count": 8,
     "metadata": {},
     "output_type": "execute_result"
    },
    {
     "data": {
      "image/png": "[encoded data removed]",
      "text/plain": [
       "<Figure size 720x144 with 2 Axes>"
      ]
     },
     "metadata": {
      "needs_background": "light"
     },
     "output_type": "display_data"
    }
   ],
   "source": [
    "plt.figure(figsize=[10,2])\n",
    "\n",
    "# Display first image in training set\n",
    "plt.subplot(121)\n",
    "plt.pcolormesh(train_X[0,:,:], cmap='jet')\n",
    "plt.title(\"Ground Truth: {}\".format(train_Y[0]))\n",
    "\n",
    "# Display second image in testing set\n",
    "plt.subplot(122)\n",
    "plt.pcolormesh(test_X[1], cmap='jet')\n",
    "plt.title(\"Ground Truth: {}\".format(test_Y[1]))"
   ]
  },
  {
   "cell_type": "code",
   "execution_count": 9,
   "metadata": {},
   "outputs": [],
   "source": [
    "train_X = train_X.astype('float32')\n",
    "test_X = test_X.astype('float32')"
   ]
  },
  {
   "cell_type": "code",
   "execution_count": 10,
   "metadata": {},
   "outputs": [
    {
     "name": "stdout",
     "output_type": "stream",
     "text": [
      "40\n",
      "16\n"
     ]
    }
   ],
   "source": [
    "ydim = train_X[0].shape[0]\n",
    "xdim = train_X[0].shape[1]\n",
    "\n",
    "print(xdim)\n",
    "print(ydim)"
   ]
  },
  {
   "cell_type": "code",
   "execution_count": 11,
   "metadata": {},
   "outputs": [
    {
     "name": "stdout",
     "output_type": "stream",
     "text": [
      "Original label:  1\n",
      "After conversion to one-hot:  [0. 1. 0. 0.]\n"
     ]
    }
   ],
   "source": [
    "# Change labels from categorical to one-hot encoding\n",
    "train_Y_one_hot = to_categorical(train_Y)\n",
    "test_Y_one_hot = to_categorical(test_Y)\n",
    "\n",
    "# See the difference?\n",
    "print('Original label: ', train_Y[0])\n",
    "print('After conversion to one-hot: ', train_Y_one_hot[0])"
   ]
  },
  {
   "cell_type": "code",
   "execution_count": 12,
   "metadata": {},
   "outputs": [
    {
     "data": {
      "text/plain": [
       "(21123, 4)"
      ]
     },
     "execution_count": 12,
     "metadata": {},
     "output_type": "execute_result"
    }
   ],
   "source": [
    "train_Y_one_hot.shape"
   ]
  },
  {
   "cell_type": "code",
   "execution_count": 13,
   "metadata": {},
   "outputs": [
    {
     "data": {
      "text/plain": [
       "((16898, 16, 40), (4225, 16, 40), (16898, 4), (4225, 4))"
      ]
     },
     "execution_count": 13,
     "metadata": {},
     "output_type": "execute_result"
    }
   ],
   "source": [
    "# Partition data for 80% training and 20% validation\n",
    "# should reduce overfitting and boost test performance\n",
    "\n",
    "train_X, valid_X, train_label, valid_label = train_test_split(train_X, train_Y_one_hot, test_size=0.2)\n",
    "\n",
    "train_X.shape, valid_X.shape, train_label.shape, valid_label.shape"
   ]
  },
  {
   "cell_type": "code",
   "execution_count": 14,
   "metadata": {},
   "outputs": [],
   "source": [
    "# let's get down to business\n",
    "import keras\n",
    "from keras.models import Sequential, Input, Model\n",
    "from keras.layers import Dense, Dropout, Flatten\n",
    "from keras.layers import Conv1D, MaxPooling1D\n",
    "from keras.layers.normalization import BatchNormalization\n",
    "from keras.layers.advanced_activations import LeakyReLU"
   ]
  },
  {
   "cell_type": "code",
   "execution_count": 15,
   "metadata": {},
   "outputs": [],
   "source": [
    "batch_size = 64\n",
    "epochs = 50\n",
    "num_classes = nClasses"
   ]
  },
  {
   "cell_type": "code",
   "execution_count": 16,
   "metadata": {},
   "outputs": [
    {
     "name": "stdout",
     "output_type": "stream",
     "text": [
      "WARNING:tensorflow:From /opt/miniconda3/envs/trial_env/lib/python3.7/site-packages/tensorflow/python/ops/resource_variable_ops.py:435: colocate_with (from tensorflow.python.framework.ops) is deprecated and will be removed in a future version.\n",
      "Instructions for updating:\n",
      "Colocations handled automatically by placer.\n"
     ]
    }
   ],
   "source": [
    "emg_model = Sequential()\n",
    "\n",
    "emg_model.add(\n",
    "    Conv1D(\n",
    "        32, \n",
    "        kernel_size=7, \n",
    "        activation='linear', \n",
    "        input_shape=(ydim, xdim), \n",
    "        padding='same'))\n",
    "emg_model.add(LeakyReLU(alpha=0.1))\n",
    "emg_model.add(MaxPooling1D(pool_size=2, padding='same'))\n",
    "emg_model.add(Dropout(0.25))\n",
    "emg_model.add(\n",
    "    Conv1D(\n",
    "        64,\n",
    "        7,\n",
    "        activation='linear',\n",
    "        input_shape=(xdim,1),\n",
    "        padding='same'))\n",
    "emg_model.add(LeakyReLU(alpha=0.1))\n",
    "emg_model.add(MaxPooling1D(pool_size=2, padding='same'))\n",
    "emg_model.add(Dropout(0.25))\n",
    "emg_model.add(\n",
    "    Conv1D(\n",
    "        128,\n",
    "        7,\n",
    "        activation='linear',\n",
    "        padding='same'))\n",
    "emg_model.add(LeakyReLU(alpha=0.1))\n",
    "emg_model.add(MaxPooling1D(pool_size=2, padding='same'))\n",
    "emg_model.add(Dropout(0.4))\n",
    "emg_model.add(Flatten())\n",
    "emg_model.add(Dense(128, activation='linear'))\n",
    "emg_model.add(LeakyReLU(alpha=0.1))\n",
    "emg_model.add(Dropout(0.3))\n",
    "emg_model.add(Dense(num_classes, activation='softmax'))"
   ]
  },
  {
   "cell_type": "code",
   "execution_count": 17,
   "metadata": {},
   "outputs": [],
   "source": [
    "emg_model.compile(\n",
    "    loss=keras.losses.categorical_crossentropy,\n",
    "    optimizer=keras.optimizers.Adam(),\n",
    "    metrics=['accuracy'])"
   ]
  },
  {
   "cell_type": "code",
   "execution_count": 18,
   "metadata": {},
   "outputs": [
    {
     "name": "stdout",
     "output_type": "stream",
     "text": [
      "Model: \"sequential_1\"\n",
      "_________________________________________________________________\n",
      "Layer (type)                 Output Shape              Param #   \n",
      "=================================================================\n",
      "conv1d_1 (Conv1D)            (None, 16, 32)            8992      \n",
      "_________________________________________________________________\n",
      "leaky_re_lu_1 (LeakyReLU)    (None, 16, 32)            0         \n",
      "_________________________________________________________________\n",
      "max_pooling1d_1 (MaxPooling1 (None, 8, 32)             0         \n",
      "_________________________________________________________________\n",
      "dropout_1 (Dropout)          (None, 8, 32)             0         \n",
      "_________________________________________________________________\n",
      "conv1d_2 (Conv1D)            (None, 8, 64)             14400     \n",
      "_________________________________________________________________\n",
      "leaky_re_lu_2 (LeakyReLU)    (None, 8, 64)             0         \n",
      "_________________________________________________________________\n",
      "max_pooling1d_2 (MaxPooling1 (None, 4, 64)             0         \n",
      "_________________________________________________________________\n",
      "dropout_2 (Dropout)          (None, 4, 64)             0         \n",
      "_________________________________________________________________\n",
      "conv1d_3 (Conv1D)            (None, 4, 128)            57472     \n",
      "_________________________________________________________________\n",
      "leaky_re_lu_3 (LeakyReLU)    (None, 4, 128)            0         \n",
      "_________________________________________________________________\n",
      "max_pooling1d_3 (MaxPooling1 (None, 2, 128)            0         \n",
      "_________________________________________________________________\n",
      "dropout_3 (Dropout)          (None, 2, 128)            0         \n",
      "_________________________________________________________________\n",
      "flatten_1 (Flatten)          (None, 256)               0         \n",
      "_________________________________________________________________\n",
      "dense_1 (Dense)              (None, 128)               32896     \n",
      "_________________________________________________________________\n",
      "leaky_re_lu_4 (LeakyReLU)    (None, 128)               0         \n",
      "_________________________________________________________________\n",
      "dropout_4 (Dropout)          (None, 128)               0         \n",
      "_________________________________________________________________\n",
      "dense_2 (Dense)              (None, 4)                 516       \n",
      "=================================================================\n",
      "Total params: 114,276\n",
      "Trainable params: 114,276\n",
      "Non-trainable params: 0\n",
      "_________________________________________________________________\n"
     ]
    }
   ],
   "source": [
    "emg_model.summary()"
   ]
  },
  {
   "cell_type": "code",
   "execution_count": 19,
   "metadata": {},
   "outputs": [
    {
     "name": "stdout",
     "output_type": "stream",
     "text": [
      "WARNING:tensorflow:From /opt/miniconda3/envs/trial_env/lib/python3.7/site-packages/tensorflow/python/ops/math_ops.py:3066: to_int32 (from tensorflow.python.ops.math_ops) is deprecated and will be removed in a future version.\n",
      "Instructions for updating:\n",
      "Use tf.cast instead.\n",
      "Train on 16898 samples, validate on 4225 samples\n",
      "Epoch 1/50\n",
      "16898/16898 [==============================] - 7s 401us/step - loss: 1.2654 - accuracy: 0.4065 - val_loss: 1.1125 - val_accuracy: 0.4672\n",
      "Epoch 2/50\n",
      "16898/16898 [==============================] - 7s 393us/step - loss: 1.0763 - accuracy: 0.5283 - val_loss: 0.9760 - val_accuracy: 0.5837\n",
      "Epoch 3/50\n",
      "16898/16898 [==============================] - 6s 363us/step - loss: 0.9622 - accuracy: 0.5920 - val_loss: 0.9041 - val_accuracy: 0.6218\n",
      "Epoch 4/50\n",
      "16898/16898 [==============================] - 6s 353us/step - loss: 0.9096 - accuracy: 0.6146 - val_loss: 0.8454 - val_accuracy: 0.6547\n",
      "Epoch 5/50\n",
      "16898/16898 [==============================] - 6s 334us/step - loss: 0.8859 - accuracy: 0.6282 - val_loss: 0.9249 - val_accuracy: 0.5832\n",
      "Epoch 6/50\n",
      "16898/16898 [==============================] - 6s 335us/step - loss: 0.8614 - accuracy: 0.6332 - val_loss: 0.8036 - val_accuracy: 0.6613\n",
      "Epoch 7/50\n",
      "16898/16898 [==============================] - 6s 330us/step - loss: 0.8386 - accuracy: 0.6471 - val_loss: 0.8205 - val_accuracy: 0.6578\n",
      "Epoch 8/50\n",
      "16898/16898 [==============================] - 6s 353us/step - loss: 0.8228 - accuracy: 0.6559 - val_loss: 0.7836 - val_accuracy: 0.6701\n",
      "Epoch 9/50\n",
      "16898/16898 [==============================] - 6s 337us/step - loss: 0.8063 - accuracy: 0.6668 - val_loss: 0.7341 - val_accuracy: 0.7022\n",
      "Epoch 10/50\n",
      "16898/16898 [==============================] - 6s 380us/step - loss: 0.7780 - accuracy: 0.6825 - val_loss: 0.7543 - val_accuracy: 0.6989\n",
      "Epoch 11/50\n",
      "16898/16898 [==============================] - 6s 346us/step - loss: 0.7639 - accuracy: 0.6926 - val_loss: 0.7098 - val_accuracy: 0.7136\n",
      "Epoch 12/50\n",
      "16898/16898 [==============================] - 6s 359us/step - loss: 0.7537 - accuracy: 0.6938 - val_loss: 0.7074 - val_accuracy: 0.7188\n",
      "Epoch 13/50\n",
      "16898/16898 [==============================] - 6s 344us/step - loss: 0.7381 - accuracy: 0.6996 - val_loss: 0.6808 - val_accuracy: 0.7198\n",
      "Epoch 14/50\n",
      "16898/16898 [==============================] - 6s 346us/step - loss: 0.7321 - accuracy: 0.7034 - val_loss: 0.6678 - val_accuracy: 0.7385\n",
      "Epoch 15/50\n",
      "16898/16898 [==============================] - 6s 334us/step - loss: 0.7170 - accuracy: 0.7088 - val_loss: 0.6563 - val_accuracy: 0.7389\n",
      "Epoch 16/50\n",
      "16898/16898 [==============================] - 6s 343us/step - loss: 0.7170 - accuracy: 0.7105 - val_loss: 0.6623 - val_accuracy: 0.7347\n",
      "Epoch 17/50\n",
      "16898/16898 [==============================] - 6s 351us/step - loss: 0.7145 - accuracy: 0.7120 - val_loss: 0.6633 - val_accuracy: 0.7309\n",
      "Epoch 18/50\n",
      "16898/16898 [==============================] - 6s 339us/step - loss: 0.7062 - accuracy: 0.7149 - val_loss: 0.6554 - val_accuracy: 0.7351\n",
      "Epoch 19/50\n",
      "16898/16898 [==============================] - 6s 349us/step - loss: 0.7127 - accuracy: 0.7115 - val_loss: 0.6356 - val_accuracy: 0.7567\n",
      "Epoch 20/50\n",
      "16898/16898 [==============================] - 6s 352us/step - loss: 0.6897 - accuracy: 0.7209 - val_loss: 0.6126 - val_accuracy: 0.7567\n",
      "Epoch 21/50\n",
      "16898/16898 [==============================] - 7s 400us/step - loss: 0.6799 - accuracy: 0.7284 - val_loss: 0.6372 - val_accuracy: 0.7432\n",
      "Epoch 22/50\n",
      "16898/16898 [==============================] - 6s 344us/step - loss: 0.6842 - accuracy: 0.7266 - val_loss: 0.6584 - val_accuracy: 0.7323\n",
      "Epoch 23/50\n",
      "16898/16898 [==============================] - 6s 329us/step - loss: 0.6838 - accuracy: 0.7268 - val_loss: 0.6173 - val_accuracy: 0.7531\n",
      "Epoch 24/50\n",
      "16898/16898 [==============================] - 6s 357us/step - loss: 0.6746 - accuracy: 0.7298 - val_loss: 0.6007 - val_accuracy: 0.7579\n",
      "Epoch 25/50\n",
      "16898/16898 [==============================] - 6s 363us/step - loss: 0.6681 - accuracy: 0.7304 - val_loss: 0.5910 - val_accuracy: 0.7673\n",
      "Epoch 26/50\n",
      "16898/16898 [==============================] - 6s 349us/step - loss: 0.6748 - accuracy: 0.7312 - val_loss: 0.6020 - val_accuracy: 0.7614\n",
      "Epoch 27/50\n",
      "16898/16898 [==============================] - 7s 389us/step - loss: 0.6679 - accuracy: 0.7340 - val_loss: 0.6313 - val_accuracy: 0.7536\n",
      "Epoch 28/50\n",
      "16898/16898 [==============================] - 7s 391us/step - loss: 0.6593 - accuracy: 0.7371 - val_loss: 0.5953 - val_accuracy: 0.7709\n",
      "Epoch 29/50\n",
      "16898/16898 [==============================] - 6s 382us/step - loss: 0.6559 - accuracy: 0.7380 - val_loss: 0.6150 - val_accuracy: 0.7562\n",
      "Epoch 30/50\n",
      "16898/16898 [==============================] - 6s 352us/step - loss: 0.6525 - accuracy: 0.7389 - val_loss: 0.5941 - val_accuracy: 0.7626\n",
      "Epoch 31/50\n",
      "16898/16898 [==============================] - 6s 338us/step - loss: 0.6490 - accuracy: 0.7410 - val_loss: 0.5969 - val_accuracy: 0.7640\n",
      "Epoch 32/50\n",
      "16898/16898 [==============================] - 6s 343us/step - loss: 0.6461 - accuracy: 0.7433 - val_loss: 0.6355 - val_accuracy: 0.7456\n",
      "Epoch 33/50\n",
      "16898/16898 [==============================] - 6s 343us/step - loss: 0.6473 - accuracy: 0.7416 - val_loss: 0.5918 - val_accuracy: 0.7645\n",
      "Epoch 34/50\n",
      "16898/16898 [==============================] - 7s 391us/step - loss: 0.6466 - accuracy: 0.7445 - val_loss: 0.5711 - val_accuracy: 0.7730\n",
      "Epoch 35/50\n",
      "16898/16898 [==============================] - 7s 385us/step - loss: 0.6322 - accuracy: 0.7477 - val_loss: 0.6031 - val_accuracy: 0.7638\n",
      "Epoch 36/50\n",
      "16898/16898 [==============================] - 6s 352us/step - loss: 0.6373 - accuracy: 0.7487 - val_loss: 0.5840 - val_accuracy: 0.7730\n",
      "Epoch 37/50\n",
      "16898/16898 [==============================] - 6s 349us/step - loss: 0.6290 - accuracy: 0.7488 - val_loss: 0.5967 - val_accuracy: 0.7654\n",
      "Epoch 38/50\n",
      "16898/16898 [==============================] - 6s 361us/step - loss: 0.6300 - accuracy: 0.7540 - val_loss: 0.5804 - val_accuracy: 0.7718\n",
      "Epoch 39/50\n",
      "16898/16898 [==============================] - 6s 337us/step - loss: 0.6304 - accuracy: 0.7505 - val_loss: 0.5989 - val_accuracy: 0.7647\n",
      "Epoch 40/50\n",
      "16898/16898 [==============================] - 6s 356us/step - loss: 0.6239 - accuracy: 0.7512 - val_loss: 0.5688 - val_accuracy: 0.7751\n",
      "Epoch 41/50\n",
      "16898/16898 [==============================] - 7s 395us/step - loss: 0.6263 - accuracy: 0.7514 - val_loss: 0.6935 - val_accuracy: 0.7124\n",
      "Epoch 42/50\n",
      "16898/16898 [==============================] - 6s 374us/step - loss: 0.6818 - accuracy: 0.7264 - val_loss: 0.5763 - val_accuracy: 0.7728\n",
      "Epoch 43/50\n",
      "16898/16898 [==============================] - 6s 346us/step - loss: 0.6255 - accuracy: 0.7552 - val_loss: 0.5771 - val_accuracy: 0.7695\n",
      "Epoch 44/50\n",
      "16898/16898 [==============================] - 6s 344us/step - loss: 0.6126 - accuracy: 0.7563 - val_loss: 0.5536 - val_accuracy: 0.7856\n",
      "Epoch 45/50\n",
      "16898/16898 [==============================] - 6s 361us/step - loss: 0.6322 - accuracy: 0.7503 - val_loss: 0.5486 - val_accuracy: 0.7867\n",
      "Epoch 46/50\n",
      "16898/16898 [==============================] - 6s 369us/step - loss: 0.6109 - accuracy: 0.7561 - val_loss: 0.5649 - val_accuracy: 0.7778\n",
      "Epoch 47/50\n",
      "16898/16898 [==============================] - 6s 343us/step - loss: 0.6116 - accuracy: 0.7596 - val_loss: 0.5539 - val_accuracy: 0.7820\n",
      "Epoch 48/50\n",
      "16898/16898 [==============================] - 6s 366us/step - loss: 0.6053 - accuracy: 0.7601 - val_loss: 0.5457 - val_accuracy: 0.7927\n",
      "Epoch 49/50\n",
      "16898/16898 [==============================] - 7s 390us/step - loss: 0.6121 - accuracy: 0.7612 - val_loss: 0.5723 - val_accuracy: 0.7714\n",
      "Epoch 50/50\n",
      "16898/16898 [==============================] - 6s 354us/step - loss: 0.6070 - accuracy: 0.7587 - val_loss: 0.5850 - val_accuracy: 0.7740\n"
     ]
    }
   ],
   "source": [
    "emg_train = emg_model.fit(\n",
    "    train_X,\n",
    "    train_label,\n",
    "    batch_size=batch_size,\n",
    "    epochs=epochs,\n",
    "    verbose=1,\n",
    "    validation_data=(valid_X, valid_label))"
   ]
  },
  {
   "cell_type": "code",
   "execution_count": 21,
   "metadata": {},
   "outputs": [],
   "source": [
    "test_eval = emg_model.evaluate(test_X, test_Y_one_hot, verbose=0)"
   ]
  },
  {
   "cell_type": "code",
   "execution_count": 22,
   "metadata": {},
   "outputs": [
    {
     "name": "stdout",
     "output_type": "stream",
     "text": [
      "Test loss:  0.561622195006128\n",
      "Test accuracy:  0.7707712054252625\n"
     ]
    }
   ],
   "source": [
    "print('Test loss: ', test_eval[0])\n",
    "print('Test accuracy: ', test_eval[1])"
   ]
  },
  {
   "cell_type": "code",
   "execution_count": 23,
   "metadata": {},
   "outputs": [
    {
     "data": {
      "image/png": "[encoded data removed]",
      "text/plain": [
       "<Figure size 432x288 with 1 Axes>"
      ]
     },
     "metadata": {
      "needs_background": "light"
     },
     "output_type": "display_data"
    },
    {
     "data": {
      "image/png": "[encoded data removed]",
      "text/plain": [
       "<Figure size 432x288 with 1 Axes>"
      ]
     },
     "metadata": {
      "needs_background": "light"
     },
     "output_type": "display_data"
    }
   ],
   "source": [
    "# Visualization\n",
    "accuracy = emg_train.history['accuracy']\n",
    "val_accuracy = emg_train.history['val_accuracy']\n",
    "loss = emg_train.history['loss']\n",
    "val_loss = emg_train.history['val_loss']\n",
    "epoch = range(len(accuracy))\n",
    "plt.plot(epoch, accuracy, 'bo', label='Training accuracy')\n",
    "plt.plot(epoch, val_accuracy, 'b', label='Validation accuracy')\n",
    "plt.title('Training and validation accuracy')\n",
    "plt.legend()\n",
    "plt.figure()\n",
    "plt.plot(epoch, loss, 'bo', label='Training loss')\n",
    "plt.plot(epoch, val_loss, 'b', label='Validation loss')\n",
    "plt.title('Training and validation loss')\n",
    "plt.legend()\n",
    "plt.show()"
   ]
  },
  {
   "cell_type": "code",
   "execution_count": null,
   "metadata": {},
   "outputs": [],
   "source": []
  }
 ],
 "metadata": {
  "kernelspec": {
   "display_name": "Python 3",
   "language": "python",
   "name": "python3"
  },
  "language_info": {
   "codemirror_mode": {
    "name": "ipython",
    "version": 3
   },
   "file_extension": ".py",
   "mimetype": "text/x-python",
   "name": "python",
   "nbconvert_exporter": "python",
   "pygments_lexer": "ipython3",
   "version": "3.7.0"
  }
 },
 "nbformat": 4,
 "nbformat_minor": 2
}
