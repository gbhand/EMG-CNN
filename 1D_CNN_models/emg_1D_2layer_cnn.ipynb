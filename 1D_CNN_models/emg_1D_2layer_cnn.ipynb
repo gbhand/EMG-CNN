{
 "cells": [
  {
   "cell_type": "code",
   "execution_count": 1,
   "metadata": {},
   "outputs": [
    {
     "name": "stderr",
     "output_type": "stream",
     "text": [
      "Using TensorFlow backend.\n",
      "/opt/miniconda3/envs/trial_env/lib/python3.7/site-packages/tensorflow/python/framework/dtypes.py:526: FutureWarning: Passing (type, 1) or '1type' as a synonym of type is deprecated; in a future version of numpy, it will be understood as (type, (1,)) / '(1,)type'.\n",
      "  _np_qint8 = np.dtype([(\"qint8\", np.int8, 1)])\n",
      "/opt/miniconda3/envs/trial_env/lib/python3.7/site-packages/tensorflow/python/framework/dtypes.py:527: FutureWarning: Passing (type, 1) or '1type' as a synonym of type is deprecated; in a future version of numpy, it will be understood as (type, (1,)) / '(1,)type'.\n",
      "  _np_quint8 = np.dtype([(\"quint8\", np.uint8, 1)])\n",
      "/opt/miniconda3/envs/trial_env/lib/python3.7/site-packages/tensorflow/python/framework/dtypes.py:528: FutureWarning: Passing (type, 1) or '1type' as a synonym of type is deprecated; in a future version of numpy, it will be understood as (type, (1,)) / '(1,)type'.\n",
      "  _np_qint16 = np.dtype([(\"qint16\", np.int16, 1)])\n",
      "/opt/miniconda3/envs/trial_env/lib/python3.7/site-packages/tensorflow/python/framework/dtypes.py:529: FutureWarning: Passing (type, 1) or '1type' as a synonym of type is deprecated; in a future version of numpy, it will be understood as (type, (1,)) / '(1,)type'.\n",
      "  _np_quint16 = np.dtype([(\"quint16\", np.uint16, 1)])\n",
      "/opt/miniconda3/envs/trial_env/lib/python3.7/site-packages/tensorflow/python/framework/dtypes.py:530: FutureWarning: Passing (type, 1) or '1type' as a synonym of type is deprecated; in a future version of numpy, it will be understood as (type, (1,)) / '(1,)type'.\n",
      "  _np_qint32 = np.dtype([(\"qint32\", np.int32, 1)])\n",
      "/opt/miniconda3/envs/trial_env/lib/python3.7/site-packages/tensorflow/python/framework/dtypes.py:535: FutureWarning: Passing (type, 1) or '1type' as a synonym of type is deprecated; in a future version of numpy, it will be understood as (type, (1,)) / '(1,)type'.\n",
      "  np_resource = np.dtype([(\"resource\", np.ubyte, 1)])\n"
     ]
    }
   ],
   "source": [
    "import os\n",
    "\n",
    "import matplotlib.pyplot as plt\n",
    "import numpy as np\n",
    "import pandas as pd\n",
    "import st_remux as st\n",
    "\n",
    "from sklearn.model_selection import train_test_split\n",
    "from keras.utils import to_categorical\n",
    "\n",
    "\n",
    "\n",
    "%matplotlib inline"
   ]
  },
  {
   "cell_type": "code",
   "execution_count": 2,
   "metadata": {},
   "outputs": [],
   "source": [
    "# Config\n",
    "# highpath = 'datasets/high.csv'\n",
    "# lowpath = 'datasets/none.csv'\n",
    "# hi = st.raw_to_arr(high, fs, win_len, 0)\n",
    "# lo = st.raw_to_arr(low, fs, win_len, 0)\n",
    "highdir = 'datasets/high'\n",
    "meddir = 'datasets/med'\n",
    "lowdir = 'datasets/low'\n",
    "nonedir = 'datasets/none'\n",
    "\n",
    "\n",
    "\n",
    "fs = 4000\n",
    "win_len = 40\n",
    "\n",
    "use_filter = 0   # weird results if we use python filtering\n",
    "\n",
    "use_matlab_backend = 0"
   ]
  },
  {
   "cell_type": "code",
   "execution_count": 3,
   "metadata": {},
   "outputs": [
    {
     "name": "stdout",
     "output_type": "stream",
     "text": [
      "Using native backend\n"
     ]
    }
   ],
   "source": [
    "if use_matlab_backend:\n",
    "    print('Using MATLAB signal processing backend')\n",
    "    # high_dir = 'datasets/high/'\n",
    "    # low_dir = 'datasets/low/'\n",
    "\n",
    "    high_dir = 'C:/Users/Geoffrey/Documents/MATLAB/S transform time frequency/high/'\n",
    "    low_dir = 'C:/Users/Geoffrey/Documents/MATLAB/S transform time frequency/low/'\n",
    "\n",
    "    def generate_3darray(directory):\n",
    "        files = os.listdir(directory)\n",
    "        dims = np.genfromtxt(directory + files[0], delimiter=',').shape\n",
    "        length = len(files)\n",
    "        arr = np.zeros((length, dims[0], dims[1]))\n",
    "\n",
    "        for idx, val in enumerate(files):\n",
    "            arr[idx] = np.genfromtxt(directory + val, delimiter=',')\n",
    "\n",
    "        return arr\n",
    "\n",
    "    hi = generate_3darray(high_dir)\n",
    "    lo = generate_3darray(low_dir)\n",
    "    \n",
    "else: \n",
    "    print('Using native backend')\n",
    "    hi = st.raw_to_arr(highdir, fs, win_len, 0)\n",
    "    med = st.raw_to_arr(meddir, fs, win_len, 0)\n",
    "    lo = st.raw_to_arr(lowdir, fs, win_len, 0)\n",
    "    none = st.raw_to_arr(nonedir, fs, win_len, 0)"
   ]
  },
  {
   "cell_type": "code",
   "execution_count": 4,
   "metadata": {},
   "outputs": [
    {
     "name": "stdout",
     "output_type": "stream",
     "text": [
      "(23470, 16, 40)\n"
     ]
    }
   ],
   "source": [
    "X = np.concatenate((hi, med, lo, none))\n",
    "d= X.shape\n",
    "print(d)\n",
    "\n",
    "hi_Y = np.ones(len(hi), dtype=int) * 3\n",
    "med_Y = np.ones(len(med), dtype=int) * 2\n",
    "lo_Y = np.ones(len(lo), dtype=int) * 1\n",
    "none_Y = np.zeros(len(none), dtype=int)\n",
    "\n",
    "Y = np.concatenate((hi_Y, med_Y, lo_Y, none_Y))"
   ]
  },
  {
   "cell_type": "code",
   "execution_count": 5,
   "metadata": {},
   "outputs": [],
   "source": [
    "train_X, test_X, train_Y, test_Y = train_test_split(X, Y, test_size=0.1)"
   ]
  },
  {
   "cell_type": "code",
   "execution_count": 6,
   "metadata": {},
   "outputs": [
    {
     "name": "stdout",
     "output_type": "stream",
     "text": [
      "Training data shape:  (21123, 16, 40) (21123,)\n",
      "Testing data shape:  (2347, 16, 40) (2347,)\n"
     ]
    }
   ],
   "source": [
    "print('Training data shape: ', train_X.shape, train_Y.shape)\n",
    "print('Testing data shape: ', test_X.shape, test_Y.shape)"
   ]
  },
  {
   "cell_type": "code",
   "execution_count": 7,
   "metadata": {},
   "outputs": [
    {
     "name": "stdout",
     "output_type": "stream",
     "text": [
      "Total number of outputs:  4\n",
      "Output classes:  [0 1 2 3]\n"
     ]
    }
   ],
   "source": [
    "classes = np.unique(train_Y)\n",
    "nClasses = len(classes)\n",
    "print('Total number of outputs: ', nClasses)\n",
    "print('Output classes: ', classes)"
   ]
  },
  {
   "cell_type": "code",
   "execution_count": 8,
   "metadata": {},
   "outputs": [
    {
     "data": {
      "text/plain": [
       "Text(0.5,1,'Ground Truth: 3')"
      ]
     },
     "execution_count": 8,
     "metadata": {},
     "output_type": "execute_result"
    },
    {
     "data": {
      "image/png": "[encoded data removed]",
      "text/plain": [
       "<Figure size 720x144 with 2 Axes>"
      ]
     },
     "metadata": {
      "needs_background": "light"
     },
     "output_type": "display_data"
    }
   ],
   "source": [
    "plt.figure(figsize=[10,2])\n",
    "\n",
    "# Display first image in training set\n",
    "plt.subplot(121)\n",
    "plt.pcolormesh(train_X[0,:,:], cmap='jet')\n",
    "plt.title(\"Ground Truth: {}\".format(train_Y[0]))\n",
    "\n",
    "# Display second image in testing set\n",
    "plt.subplot(122)\n",
    "plt.pcolormesh(test_X[1], cmap='jet')\n",
    "plt.title(\"Ground Truth: {}\".format(test_Y[1]))"
   ]
  },
  {
   "cell_type": "code",
   "execution_count": 9,
   "metadata": {},
   "outputs": [],
   "source": [
    "train_X = train_X.astype('float32')\n",
    "test_X = test_X.astype('float32')"
   ]
  },
  {
   "cell_type": "code",
   "execution_count": 10,
   "metadata": {},
   "outputs": [
    {
     "name": "stdout",
     "output_type": "stream",
     "text": [
      "40\n",
      "16\n"
     ]
    }
   ],
   "source": [
    "ydim = train_X[0].shape[0]\n",
    "xdim = train_X[0].shape[1]\n",
    "\n",
    "print(xdim)\n",
    "print(ydim)"
   ]
  },
  {
   "cell_type": "code",
   "execution_count": 11,
   "metadata": {},
   "outputs": [
    {
     "name": "stdout",
     "output_type": "stream",
     "text": [
      "Original label:  2\n",
      "After conversion to one-hot:  [0. 0. 1. 0.]\n"
     ]
    }
   ],
   "source": [
    "# Change labels from categorical to one-hot encoding\n",
    "train_Y_one_hot = to_categorical(train_Y)\n",
    "test_Y_one_hot = to_categorical(test_Y)\n",
    "\n",
    "# See the difference?\n",
    "print('Original label: ', train_Y[0])\n",
    "print('After conversion to one-hot: ', train_Y_one_hot[0])"
   ]
  },
  {
   "cell_type": "code",
   "execution_count": 12,
   "metadata": {},
   "outputs": [
    {
     "data": {
      "text/plain": [
       "(21123, 4)"
      ]
     },
     "execution_count": 12,
     "metadata": {},
     "output_type": "execute_result"
    }
   ],
   "source": [
    "train_Y_one_hot.shape"
   ]
  },
  {
   "cell_type": "code",
   "execution_count": 13,
   "metadata": {},
   "outputs": [
    {
     "data": {
      "text/plain": [
       "((16898, 16, 40), (4225, 16, 40), (16898, 4), (4225, 4))"
      ]
     },
     "execution_count": 13,
     "metadata": {},
     "output_type": "execute_result"
    }
   ],
   "source": [
    "# Partition data for 80% training and 20% validation\n",
    "# should reduce overfitting and boost test performance\n",
    "\n",
    "train_X, valid_X, train_label, valid_label = train_test_split(train_X, train_Y_one_hot, test_size=0.2)\n",
    "\n",
    "train_X.shape, valid_X.shape, train_label.shape, valid_label.shape"
   ]
  },
  {
   "cell_type": "code",
   "execution_count": 14,
   "metadata": {},
   "outputs": [],
   "source": [
    "# let's get down to business\n",
    "import keras\n",
    "from keras.models import Sequential, Input, Model\n",
    "from keras.layers import Dense, Dropout, Flatten\n",
    "from keras.layers import Conv1D, MaxPooling1D\n",
    "from keras.layers.normalization import BatchNormalization\n",
    "from keras.layers.advanced_activations import LeakyReLU"
   ]
  },
  {
   "cell_type": "code",
   "execution_count": 15,
   "metadata": {},
   "outputs": [],
   "source": [
    "batch_size = 64\n",
    "epochs = 50\n",
    "num_classes = nClasses"
   ]
  },
  {
   "cell_type": "code",
   "execution_count": 16,
   "metadata": {},
   "outputs": [
    {
     "name": "stdout",
     "output_type": "stream",
     "text": [
      "WARNING:tensorflow:From /opt/miniconda3/envs/trial_env/lib/python3.7/site-packages/tensorflow/python/ops/resource_variable_ops.py:435: colocate_with (from tensorflow.python.framework.ops) is deprecated and will be removed in a future version.\n",
      "Instructions for updating:\n",
      "Colocations handled automatically by placer.\n"
     ]
    }
   ],
   "source": [
    "emg_model = Sequential()\n",
    "\n",
    "emg_model.add(\n",
    "    Conv1D(\n",
    "        32, \n",
    "        kernel_size=7, \n",
    "        activation='linear', \n",
    "        input_shape=(ydim, xdim), \n",
    "        padding='same'))\n",
    "emg_model.add(LeakyReLU(alpha=0.1))\n",
    "emg_model.add(MaxPooling1D(pool_size=2, padding='same'))\n",
    "emg_model.add(Dropout(0.25))\n",
    "emg_model.add(\n",
    "    Conv1D(\n",
    "        64,\n",
    "        7,\n",
    "        activation='linear',\n",
    "        input_shape=(xdim,1),\n",
    "        padding='same'))\n",
    "emg_model.add(LeakyReLU(alpha=0.1))\n",
    "emg_model.add(MaxPooling1D(pool_size=2, padding='same'))\n",
    "emg_model.add(Dropout(0.4))\n",
    "\"\"\"emg_model.add(\n",
    "    Conv1D(\n",
    "        128,\n",
    "        3,\n",
    "        activation='linear',\n",
    "        padding='same'))\n",
    "emg_model.add(LeakyReLU(alpha=0.1))\n",
    "emg_model.add(MaxPooling1D(pool_size=2, padding='same'))\n",
    "emg_model.add(Dropout(0.4))\"\"\"\n",
    "emg_model.add(Flatten())\n",
    "emg_model.add(Dense(128, activation='linear'))\n",
    "emg_model.add(LeakyReLU(alpha=0.1))\n",
    "emg_model.add(Dropout(0.3))\n",
    "emg_model.add(Dense(num_classes, activation='softmax'))"
   ]
  },
  {
   "cell_type": "code",
   "execution_count": 17,
   "metadata": {},
   "outputs": [],
   "source": [
    "emg_model.compile(\n",
    "    loss=keras.losses.categorical_crossentropy,\n",
    "    optimizer=keras.optimizers.Adam(),\n",
    "    metrics=['accuracy'])"
   ]
  },
  {
   "cell_type": "code",
   "execution_count": 18,
   "metadata": {},
   "outputs": [
    {
     "name": "stdout",
     "output_type": "stream",
     "text": [
      "Model: \"sequential_1\"\n",
      "_________________________________________________________________\n",
      "Layer (type)                 Output Shape              Param #   \n",
      "=================================================================\n",
      "conv1d_1 (Conv1D)            (None, 16, 32)            8992      \n",
      "_________________________________________________________________\n",
      "leaky_re_lu_1 (LeakyReLU)    (None, 16, 32)            0         \n",
      "_________________________________________________________________\n",
      "max_pooling1d_1 (MaxPooling1 (None, 8, 32)             0         \n",
      "_________________________________________________________________\n",
      "dropout_1 (Dropout)          (None, 8, 32)             0         \n",
      "_________________________________________________________________\n",
      "conv1d_2 (Conv1D)            (None, 8, 64)             14400     \n",
      "_________________________________________________________________\n",
      "leaky_re_lu_2 (LeakyReLU)    (None, 8, 64)             0         \n",
      "_________________________________________________________________\n",
      "max_pooling1d_2 (MaxPooling1 (None, 4, 64)             0         \n",
      "_________________________________________________________________\n",
      "dropout_2 (Dropout)          (None, 4, 64)             0         \n",
      "_________________________________________________________________\n",
      "flatten_1 (Flatten)          (None, 256)               0         \n",
      "_________________________________________________________________\n",
      "dense_1 (Dense)              (None, 128)               32896     \n",
      "_________________________________________________________________\n",
      "leaky_re_lu_3 (LeakyReLU)    (None, 128)               0         \n",
      "_________________________________________________________________\n",
      "dropout_3 (Dropout)          (None, 128)               0         \n",
      "_________________________________________________________________\n",
      "dense_2 (Dense)              (None, 4)                 516       \n",
      "=================================================================\n",
      "Total params: 56,804\n",
      "Trainable params: 56,804\n",
      "Non-trainable params: 0\n",
      "_________________________________________________________________\n"
     ]
    }
   ],
   "source": [
    "emg_model.summary()"
   ]
  },
  {
   "cell_type": "code",
   "execution_count": 19,
   "metadata": {},
   "outputs": [
    {
     "name": "stdout",
     "output_type": "stream",
     "text": [
      "WARNING:tensorflow:From /opt/miniconda3/envs/trial_env/lib/python3.7/site-packages/tensorflow/python/ops/math_ops.py:3066: to_int32 (from tensorflow.python.ops.math_ops) is deprecated and will be removed in a future version.\n",
      "Instructions for updating:\n",
      "Use tf.cast instead.\n",
      "Train on 16898 samples, validate on 4225 samples\n",
      "Epoch 1/50\n",
      "16898/16898 [==============================] - 7s 438us/step - loss: 1.2628 - accuracy: 0.4113 - val_loss: 1.0636 - val_accuracy: 0.5756\n",
      "Epoch 2/50\n",
      "16898/16898 [==============================] - 5s 286us/step - loss: 1.0548 - accuracy: 0.5360 - val_loss: 1.0470 - val_accuracy: 0.5378\n",
      "Epoch 3/50\n",
      "16898/16898 [==============================] - 5s 275us/step - loss: 0.9918 - accuracy: 0.5738 - val_loss: 0.9116 - val_accuracy: 0.6265\n",
      "Epoch 4/50\n",
      "16898/16898 [==============================] - 5s 279us/step - loss: 0.9388 - accuracy: 0.6039 - val_loss: 0.8982 - val_accuracy: 0.6372\n",
      "Epoch 5/50\n",
      "16898/16898 [==============================] - 5s 304us/step - loss: 0.9251 - accuracy: 0.6110 - val_loss: 0.8783 - val_accuracy: 0.6357\n",
      "Epoch 6/50\n",
      "16898/16898 [==============================] - 5s 281us/step - loss: 0.8978 - accuracy: 0.6209 - val_loss: 0.8424 - val_accuracy: 0.6551\n",
      "Epoch 7/50\n",
      "16898/16898 [==============================] - 5s 273us/step - loss: 0.8757 - accuracy: 0.6353 - val_loss: 0.8081 - val_accuracy: 0.6537\n",
      "Epoch 8/50\n",
      "16898/16898 [==============================] - 5s 283us/step - loss: 0.8690 - accuracy: 0.6376 - val_loss: 0.7962 - val_accuracy: 0.6608\n",
      "Epoch 9/50\n",
      "16898/16898 [==============================] - 5s 301us/step - loss: 0.8465 - accuracy: 0.6459 - val_loss: 0.8014 - val_accuracy: 0.6684\n",
      "Epoch 10/50\n",
      "16898/16898 [==============================] - 5s 301us/step - loss: 0.8403 - accuracy: 0.6486 - val_loss: 0.7858 - val_accuracy: 0.6715\n",
      "Epoch 11/50\n",
      "16898/16898 [==============================] - 5s 301us/step - loss: 0.8164 - accuracy: 0.6591 - val_loss: 0.7531 - val_accuracy: 0.6864\n",
      "Epoch 12/50\n",
      "16898/16898 [==============================] - 5s 294us/step - loss: 0.8032 - accuracy: 0.6704 - val_loss: 0.7614 - val_accuracy: 0.6883\n",
      "Epoch 13/50\n",
      "16898/16898 [==============================] - 5s 304us/step - loss: 0.7995 - accuracy: 0.6716 - val_loss: 0.7246 - val_accuracy: 0.7067\n",
      "Epoch 14/50\n",
      "16898/16898 [==============================] - 5s 288us/step - loss: 0.7858 - accuracy: 0.6794 - val_loss: 0.7686 - val_accuracy: 0.6895\n",
      "Epoch 15/50\n",
      "16898/16898 [==============================] - 5s 301us/step - loss: 0.7812 - accuracy: 0.6798 - val_loss: 0.7146 - val_accuracy: 0.7072\n",
      "Epoch 16/50\n",
      "16898/16898 [==============================] - 4s 247us/step - loss: 0.7651 - accuracy: 0.6874 - val_loss: 0.6891 - val_accuracy: 0.7164\n",
      "Epoch 17/50\n",
      "16898/16898 [==============================] - 4s 224us/step - loss: 0.7570 - accuracy: 0.6918 - val_loss: 0.6752 - val_accuracy: 0.7233\n",
      "Epoch 18/50\n",
      "16898/16898 [==============================] - 4s 228us/step - loss: 0.7509 - accuracy: 0.6930 - val_loss: 0.6848 - val_accuracy: 0.7183\n",
      "Epoch 19/50\n",
      "16898/16898 [==============================] - 4s 234us/step - loss: 0.7403 - accuracy: 0.7009 - val_loss: 0.6541 - val_accuracy: 0.7314\n",
      "Epoch 20/50\n",
      "16898/16898 [==============================] - 4s 240us/step - loss: 0.7368 - accuracy: 0.6968 - val_loss: 0.6634 - val_accuracy: 0.7266\n",
      "Epoch 21/50\n",
      "16898/16898 [==============================] - 4s 245us/step - loss: 0.7221 - accuracy: 0.7103 - val_loss: 0.6640 - val_accuracy: 0.7228\n",
      "Epoch 22/50\n",
      "16898/16898 [==============================] - 4s 246us/step - loss: 0.7262 - accuracy: 0.7057 - val_loss: 0.6534 - val_accuracy: 0.7328\n",
      "Epoch 23/50\n",
      "16898/16898 [==============================] - 4s 240us/step - loss: 0.7247 - accuracy: 0.7108 - val_loss: 0.6917 - val_accuracy: 0.7195\n",
      "Epoch 24/50\n",
      "16898/16898 [==============================] - 4s 231us/step - loss: 0.7198 - accuracy: 0.7088 - val_loss: 0.6517 - val_accuracy: 0.7399\n",
      "Epoch 25/50\n",
      "16898/16898 [==============================] - 4s 225us/step - loss: 0.7108 - accuracy: 0.7121 - val_loss: 0.6277 - val_accuracy: 0.7451\n",
      "Epoch 26/50\n",
      "16898/16898 [==============================] - 4s 240us/step - loss: 0.7104 - accuracy: 0.7163 - val_loss: 0.6288 - val_accuracy: 0.7418\n",
      "Epoch 27/50\n",
      "16898/16898 [==============================] - 4s 249us/step - loss: 0.7006 - accuracy: 0.7186 - val_loss: 0.6637 - val_accuracy: 0.7271\n",
      "Epoch 28/50\n",
      "16898/16898 [==============================] - 4s 245us/step - loss: 0.7013 - accuracy: 0.7168 - val_loss: 0.6183 - val_accuracy: 0.7493\n",
      "Epoch 29/50\n",
      "16898/16898 [==============================] - 4s 236us/step - loss: 0.6999 - accuracy: 0.7184 - val_loss: 0.6251 - val_accuracy: 0.7430\n",
      "Epoch 30/50\n",
      "16898/16898 [==============================] - 4s 237us/step - loss: 0.6927 - accuracy: 0.7217 - val_loss: 0.6208 - val_accuracy: 0.7531\n",
      "Epoch 31/50\n",
      "16898/16898 [==============================] - 4s 226us/step - loss: 0.6913 - accuracy: 0.7206 - val_loss: 0.6128 - val_accuracy: 0.7548\n",
      "Epoch 32/50\n",
      "16898/16898 [==============================] - 4s 236us/step - loss: 0.6882 - accuracy: 0.7235 - val_loss: 0.6151 - val_accuracy: 0.7550\n",
      "Epoch 33/50\n",
      "16898/16898 [==============================] - 4s 248us/step - loss: 0.6774 - accuracy: 0.7294 - val_loss: 0.6408 - val_accuracy: 0.7375\n",
      "Epoch 34/50\n",
      "16898/16898 [==============================] - 4s 248us/step - loss: 0.6867 - accuracy: 0.7252 - val_loss: 0.6115 - val_accuracy: 0.7520\n",
      "Epoch 35/50\n",
      "16898/16898 [==============================] - 4s 246us/step - loss: 0.6835 - accuracy: 0.7236 - val_loss: 0.6213 - val_accuracy: 0.7569\n",
      "Epoch 36/50\n",
      "16898/16898 [==============================] - 4s 238us/step - loss: 0.6756 - accuracy: 0.7290 - val_loss: 0.6181 - val_accuracy: 0.7543\n",
      "Epoch 37/50\n",
      "16898/16898 [==============================] - 4s 231us/step - loss: 0.6716 - accuracy: 0.7316 - val_loss: 0.5972 - val_accuracy: 0.7626\n",
      "Epoch 38/50\n",
      "16898/16898 [==============================] - 4s 231us/step - loss: 0.6702 - accuracy: 0.7333 - val_loss: 0.5981 - val_accuracy: 0.7631\n",
      "Epoch 39/50\n",
      "16898/16898 [==============================] - 4s 239us/step - loss: 0.6734 - accuracy: 0.7262 - val_loss: 0.6409 - val_accuracy: 0.7266\n",
      "Epoch 40/50\n",
      "16898/16898 [==============================] - 4s 243us/step - loss: 0.6721 - accuracy: 0.7298 - val_loss: 0.6225 - val_accuracy: 0.7510\n",
      "Epoch 41/50\n",
      "16898/16898 [==============================] - 4s 241us/step - loss: 0.6671 - accuracy: 0.7324 - val_loss: 0.5910 - val_accuracy: 0.7676\n",
      "Epoch 42/50\n",
      "16898/16898 [==============================] - 4s 234us/step - loss: 0.6643 - accuracy: 0.7359 - val_loss: 0.6054 - val_accuracy: 0.7512\n",
      "Epoch 43/50\n",
      "16898/16898 [==============================] - 4s 231us/step - loss: 0.6616 - accuracy: 0.7363 - val_loss: 0.5914 - val_accuracy: 0.7628\n",
      "Epoch 44/50\n",
      "16898/16898 [==============================] - 4s 222us/step - loss: 0.6573 - accuracy: 0.7386 - val_loss: 0.5964 - val_accuracy: 0.7553\n",
      "Epoch 45/50\n",
      "16898/16898 [==============================] - 4s 234us/step - loss: 0.6560 - accuracy: 0.7376 - val_loss: 0.6018 - val_accuracy: 0.7496\n",
      "Epoch 46/50\n",
      "16898/16898 [==============================] - 4s 240us/step - loss: 0.6590 - accuracy: 0.7363 - val_loss: 0.5816 - val_accuracy: 0.7730\n",
      "Epoch 47/50\n",
      "16898/16898 [==============================] - 4s 246us/step - loss: 0.6596 - accuracy: 0.7370 - val_loss: 0.6002 - val_accuracy: 0.7548\n",
      "Epoch 48/50\n",
      "16898/16898 [==============================] - 4s 244us/step - loss: 0.6546 - accuracy: 0.7377 - val_loss: 0.5998 - val_accuracy: 0.7541\n",
      "Epoch 49/50\n",
      "16898/16898 [==============================] - 4s 237us/step - loss: 0.6566 - accuracy: 0.7354 - val_loss: 0.6052 - val_accuracy: 0.7522\n",
      "Epoch 50/50\n",
      "16898/16898 [==============================] - 4s 237us/step - loss: 0.6661 - accuracy: 0.7333 - val_loss: 0.5901 - val_accuracy: 0.7645\n"
     ]
    }
   ],
   "source": [
    "emg_train = emg_model.fit(\n",
    "    train_X,\n",
    "    train_label,\n",
    "    batch_size=batch_size,\n",
    "    epochs=epochs,\n",
    "    verbose=1,\n",
    "    validation_data=(valid_X, valid_label))"
   ]
  },
  {
   "cell_type": "code",
   "execution_count": 20,
   "metadata": {},
   "outputs": [],
   "source": [
    "test_eval = emg_model.evaluate(test_X, test_Y_one_hot, verbose=0)"
   ]
  },
  {
   "cell_type": "code",
   "execution_count": 21,
   "metadata": {},
   "outputs": [
    {
     "name": "stdout",
     "output_type": "stream",
     "text": [
      "Test loss:  0.6088180298443596\n",
      "Test accuracy:  0.7622497081756592\n"
     ]
    }
   ],
   "source": [
    "print('Test loss: ', test_eval[0])\n",
    "print('Test accuracy: ', test_eval[1])"
   ]
  },
  {
   "cell_type": "code",
   "execution_count": 22,
   "metadata": {},
   "outputs": [
    {
     "data": {
      "image/png": "[encoded data removed]",
      "text/plain": [
       "<Figure size 432x288 with 1 Axes>"
      ]
     },
     "metadata": {
      "needs_background": "light"
     },
     "output_type": "display_data"
    },
    {
     "data": {
      "image/png": "[encoded data removed]",
      "text/plain": [
       "<Figure size 432x288 with 1 Axes>"
      ]
     },
     "metadata": {
      "needs_background": "light"
     },
     "output_type": "display_data"
    }
   ],
   "source": [
    "# Visualization\n",
    "accuracy = emg_train.history['accuracy']\n",
    "val_accuracy = emg_train.history['val_accuracy']\n",
    "loss = emg_train.history['loss']\n",
    "val_loss = emg_train.history['val_loss']\n",
    "epoch = range(len(accuracy))\n",
    "plt.plot(epoch, accuracy, 'bo', label='Training accuracy')\n",
    "plt.plot(epoch, val_accuracy, 'b', label='Validation accuracy')\n",
    "plt.title('Training and validation accuracy')\n",
    "plt.legend()\n",
    "plt.figure()\n",
    "plt.plot(epoch, loss, 'bo', label='Training loss')\n",
    "plt.plot(epoch, val_loss, 'b', label='Validation loss')\n",
    "plt.title('Training and validation loss')\n",
    "plt.legend()\n",
    "plt.show()"
   ]
  },
  {
   "cell_type": "code",
   "execution_count": null,
   "metadata": {},
   "outputs": [],
   "source": []
  }
 ],
 "metadata": {
  "kernelspec": {
   "display_name": "Python 3",
   "language": "python",
   "name": "python3"
  },
  "language_info": {
   "codemirror_mode": {
    "name": "ipython",
    "version": 3
   },
   "file_extension": ".py",
   "mimetype": "text/x-python",
   "name": "python",
   "nbconvert_exporter": "python",
   "pygments_lexer": "ipython3",
   "version": "3.7.0"
  }
 },
 "nbformat": 4,
 "nbformat_minor": 2
}
