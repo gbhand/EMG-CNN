{
 "cells": [
  {
   "cell_type": "code",
   "execution_count": 1,
   "metadata": {},
   "outputs": [
    {
     "name": "stderr",
     "output_type": "stream",
     "text": [
      "Using TensorFlow backend.\n",
      "/opt/miniconda3/envs/trial_env/lib/python3.7/site-packages/tensorflow/python/framework/dtypes.py:526: FutureWarning: Passing (type, 1) or '1type' as a synonym of type is deprecated; in a future version of numpy, it will be understood as (type, (1,)) / '(1,)type'.\n",
      "  _np_qint8 = np.dtype([(\"qint8\", np.int8, 1)])\n",
      "/opt/miniconda3/envs/trial_env/lib/python3.7/site-packages/tensorflow/python/framework/dtypes.py:527: FutureWarning: Passing (type, 1) or '1type' as a synonym of type is deprecated; in a future version of numpy, it will be understood as (type, (1,)) / '(1,)type'.\n",
      "  _np_quint8 = np.dtype([(\"quint8\", np.uint8, 1)])\n",
      "/opt/miniconda3/envs/trial_env/lib/python3.7/site-packages/tensorflow/python/framework/dtypes.py:528: FutureWarning: Passing (type, 1) or '1type' as a synonym of type is deprecated; in a future version of numpy, it will be understood as (type, (1,)) / '(1,)type'.\n",
      "  _np_qint16 = np.dtype([(\"qint16\", np.int16, 1)])\n",
      "/opt/miniconda3/envs/trial_env/lib/python3.7/site-packages/tensorflow/python/framework/dtypes.py:529: FutureWarning: Passing (type, 1) or '1type' as a synonym of type is deprecated; in a future version of numpy, it will be understood as (type, (1,)) / '(1,)type'.\n",
      "  _np_quint16 = np.dtype([(\"quint16\", np.uint16, 1)])\n",
      "/opt/miniconda3/envs/trial_env/lib/python3.7/site-packages/tensorflow/python/framework/dtypes.py:530: FutureWarning: Passing (type, 1) or '1type' as a synonym of type is deprecated; in a future version of numpy, it will be understood as (type, (1,)) / '(1,)type'.\n",
      "  _np_qint32 = np.dtype([(\"qint32\", np.int32, 1)])\n",
      "/opt/miniconda3/envs/trial_env/lib/python3.7/site-packages/tensorflow/python/framework/dtypes.py:535: FutureWarning: Passing (type, 1) or '1type' as a synonym of type is deprecated; in a future version of numpy, it will be understood as (type, (1,)) / '(1,)type'.\n",
      "  np_resource = np.dtype([(\"resource\", np.ubyte, 1)])\n"
     ]
    }
   ],
   "source": [
    "import os\n",
    "\n",
    "import matplotlib.pyplot as plt\n",
    "import numpy as np\n",
    "import pandas as pd\n",
    "import st_remux as st\n",
    "\n",
    "from sklearn.model_selection import train_test_split\n",
    "from keras.utils import to_categorical\n",
    "\n",
    "\n",
    "\n",
    "%matplotlib inline"
   ]
  },
  {
   "cell_type": "code",
   "execution_count": 2,
   "metadata": {},
   "outputs": [],
   "source": [
    "# Config\n",
    "# highpath = 'datasets/high.csv'\n",
    "# lowpath = 'datasets/none.csv'\n",
    "# hi = st.raw_to_arr(high, fs, win_len, 0)\n",
    "# lo = st.raw_to_arr(low, fs, win_len, 0)\n",
    "highdir = 'datasets/high'\n",
    "meddir = 'datasets/med'\n",
    "lowdir = 'datasets/low'\n",
    "nonedir = 'datasets/none'\n",
    "\n",
    "\n",
    "\n",
    "fs = 4000\n",
    "win_len = 40\n",
    "\n",
    "use_filter = 0   # weird results if we use python filtering\n",
    "\n",
    "use_matlab_backend = 0"
   ]
  },
  {
   "cell_type": "code",
   "execution_count": 3,
   "metadata": {},
   "outputs": [
    {
     "name": "stdout",
     "output_type": "stream",
     "text": [
      "Using native backend\n"
     ]
    }
   ],
   "source": [
    "if use_matlab_backend:\n",
    "    print('Using MATLAB signal processing backend')\n",
    "    # high_dir = 'datasets/high/'\n",
    "    # low_dir = 'datasets/low/'\n",
    "\n",
    "    high_dir = 'C:/Users/Geoffrey/Documents/MATLAB/S transform time frequency/high/'\n",
    "    low_dir = 'C:/Users/Geoffrey/Documents/MATLAB/S transform time frequency/low/'\n",
    "\n",
    "    def generate_3darray(directory):\n",
    "        files = os.listdir(directory)\n",
    "        dims = np.genfromtxt(directory + files[0], delimiter=',').shape\n",
    "        length = len(files)\n",
    "        arr = np.zeros((length, dims[0], dims[1]))\n",
    "\n",
    "        for idx, val in enumerate(files):\n",
    "            arr[idx] = np.genfromtxt(directory + val, delimiter=',')\n",
    "\n",
    "        return arr\n",
    "\n",
    "    hi = generate_3darray(high_dir)\n",
    "    lo = generate_3darray(low_dir)\n",
    "    \n",
    "else: \n",
    "    print('Using native backend')\n",
    "    hi = st.raw_to_arr(highdir, fs, win_len, 0)\n",
    "    med = st.raw_to_arr(meddir, fs, win_len, 0)\n",
    "    lo = st.raw_to_arr(lowdir, fs, win_len, 0)\n",
    "    none = st.raw_to_arr(nonedir, fs, win_len, 0)"
   ]
  },
  {
   "cell_type": "code",
   "execution_count": 4,
   "metadata": {},
   "outputs": [
    {
     "name": "stdout",
     "output_type": "stream",
     "text": [
      "(23470, 16, 40)\n"
     ]
    }
   ],
   "source": [
    "X = np.concatenate((hi, med, lo, none))\n",
    "d= X.shape\n",
    "print(d)\n",
    "\n",
    "hi_Y = np.ones(len(hi), dtype=int) * 3\n",
    "med_Y = np.ones(len(med), dtype=int) * 2\n",
    "lo_Y = np.ones(len(lo), dtype=int) * 1\n",
    "none_Y = np.zeros(len(none), dtype=int)\n",
    "\n",
    "Y = np.concatenate((hi_Y, med_Y, lo_Y, none_Y))"
   ]
  },
  {
   "cell_type": "code",
   "execution_count": 5,
   "metadata": {},
   "outputs": [],
   "source": [
    "train_X, test_X, train_Y, test_Y = train_test_split(X, Y, test_size=0.1)"
   ]
  },
  {
   "cell_type": "code",
   "execution_count": 6,
   "metadata": {},
   "outputs": [
    {
     "name": "stdout",
     "output_type": "stream",
     "text": [
      "Training data shape:  (21123, 16, 40) (21123,)\n",
      "Testing data shape:  (2347, 16, 40) (2347,)\n"
     ]
    }
   ],
   "source": [
    "print('Training data shape: ', train_X.shape, train_Y.shape)\n",
    "print('Testing data shape: ', test_X.shape, test_Y.shape)"
   ]
  },
  {
   "cell_type": "code",
   "execution_count": 7,
   "metadata": {},
   "outputs": [
    {
     "name": "stdout",
     "output_type": "stream",
     "text": [
      "Total number of outputs:  4\n",
      "Output classes:  [0 1 2 3]\n"
     ]
    }
   ],
   "source": [
    "classes = np.unique(train_Y)\n",
    "nClasses = len(classes)\n",
    "print('Total number of outputs: ', nClasses)\n",
    "print('Output classes: ', classes)"
   ]
  },
  {
   "cell_type": "code",
   "execution_count": 8,
   "metadata": {},
   "outputs": [
    {
     "data": {
      "text/plain": [
       "Text(0.5,1,'Ground Truth: 1')"
      ]
     },
     "execution_count": 8,
     "metadata": {},
     "output_type": "execute_result"
    },
    {
     "data": {
      "image/png": "[encoded data removed]",
      "text/plain": [
       "<Figure size 720x144 with 2 Axes>"
      ]
     },
     "metadata": {
      "needs_background": "light"
     },
     "output_type": "display_data"
    }
   ],
   "source": [
    "plt.figure(figsize=[10,2])\n",
    "\n",
    "# Display first image in training set\n",
    "plt.subplot(121)\n",
    "plt.pcolormesh(train_X[0,:,:], cmap='jet')\n",
    "plt.title(\"Ground Truth: {}\".format(train_Y[0]))\n",
    "\n",
    "# Display second image in testing set\n",
    "plt.subplot(122)\n",
    "plt.pcolormesh(test_X[1], cmap='jet')\n",
    "plt.title(\"Ground Truth: {}\".format(test_Y[1]))"
   ]
  },
  {
   "cell_type": "code",
   "execution_count": 9,
   "metadata": {},
   "outputs": [],
   "source": [
    "train_X = train_X.astype('float32')\n",
    "test_X = test_X.astype('float32')"
   ]
  },
  {
   "cell_type": "code",
   "execution_count": 10,
   "metadata": {},
   "outputs": [
    {
     "name": "stdout",
     "output_type": "stream",
     "text": [
      "40\n",
      "16\n"
     ]
    }
   ],
   "source": [
    "ydim = train_X[0].shape[0]\n",
    "xdim = train_X[0].shape[1]\n",
    "\n",
    "print(xdim)\n",
    "print(ydim)"
   ]
  },
  {
   "cell_type": "code",
   "execution_count": 11,
   "metadata": {},
   "outputs": [
    {
     "name": "stdout",
     "output_type": "stream",
     "text": [
      "Original label:  0\n",
      "After conversion to one-hot:  [1. 0. 0. 0.]\n"
     ]
    }
   ],
   "source": [
    "# Change labels from categorical to one-hot encoding\n",
    "train_Y_one_hot = to_categorical(train_Y)\n",
    "test_Y_one_hot = to_categorical(test_Y)\n",
    "\n",
    "# See the difference?\n",
    "print('Original label: ', train_Y[0])\n",
    "print('After conversion to one-hot: ', train_Y_one_hot[0])"
   ]
  },
  {
   "cell_type": "code",
   "execution_count": 12,
   "metadata": {},
   "outputs": [
    {
     "data": {
      "text/plain": [
       "(21123, 4)"
      ]
     },
     "execution_count": 12,
     "metadata": {},
     "output_type": "execute_result"
    }
   ],
   "source": [
    "train_Y_one_hot.shape"
   ]
  },
  {
   "cell_type": "code",
   "execution_count": 13,
   "metadata": {},
   "outputs": [
    {
     "data": {
      "text/plain": [
       "((16898, 16, 40), (4225, 16, 40), (16898, 4), (4225, 4))"
      ]
     },
     "execution_count": 13,
     "metadata": {},
     "output_type": "execute_result"
    }
   ],
   "source": [
    "# Partition data for 80% training and 20% validation\n",
    "# should reduce overfitting and boost test performance\n",
    "\n",
    "train_X, valid_X, train_label, valid_label = train_test_split(train_X, train_Y_one_hot, test_size=0.2)\n",
    "\n",
    "train_X.shape, valid_X.shape, train_label.shape, valid_label.shape"
   ]
  },
  {
   "cell_type": "code",
   "execution_count": 14,
   "metadata": {},
   "outputs": [],
   "source": [
    "# let's get down to business\n",
    "import keras\n",
    "from keras.models import Sequential, Input, Model\n",
    "from keras.layers import Dense, Dropout, Flatten\n",
    "from keras.layers import Conv1D, MaxPooling1D\n",
    "from keras.layers.normalization import BatchNormalization\n",
    "from keras.layers.advanced_activations import LeakyReLU"
   ]
  },
  {
   "cell_type": "code",
   "execution_count": 15,
   "metadata": {},
   "outputs": [],
   "source": [
    "batch_size = 64\n",
    "epochs = 50\n",
    "num_classes = nClasses"
   ]
  },
  {
   "cell_type": "code",
   "execution_count": 16,
   "metadata": {},
   "outputs": [
    {
     "name": "stdout",
     "output_type": "stream",
     "text": [
      "WARNING:tensorflow:From /opt/miniconda3/envs/trial_env/lib/python3.7/site-packages/tensorflow/python/ops/resource_variable_ops.py:435: colocate_with (from tensorflow.python.framework.ops) is deprecated and will be removed in a future version.\n",
      "Instructions for updating:\n",
      "Colocations handled automatically by placer.\n"
     ]
    }
   ],
   "source": [
    "emg_model = Sequential()\n",
    "\n",
    "emg_model.add(Conv1D(32, kernel_size=7, activation='linear', input_shape=(ydim, xdim), padding='same'))\n",
    "\n",
    "emg_model.add(\n",
    "    Conv1D(\n",
    "        32, \n",
    "        kernel_size=7, \n",
    "        activation='linear', \n",
    "        input_shape=(ydim, xdim), \n",
    "        padding='same'))\n",
    "emg_model.add(LeakyReLU(alpha=0.1))\n",
    "emg_model.add(MaxPooling1D(pool_size=2, padding='same'))\n",
    "emg_model.add(Dropout(0.25))\n",
    "emg_model.add(\n",
    "    Conv1D(\n",
    "        64,\n",
    "        7,\n",
    "        activation='linear',\n",
    "        input_shape=(xdim,1),\n",
    "        padding='same'))\n",
    "emg_model.add(LeakyReLU(alpha=0.1))\n",
    "emg_model.add(MaxPooling1D(pool_size=2, padding='same'))\n",
    "emg_model.add(Dropout(0.25))\n",
    "emg_model.add(\n",
    "    Conv1D(\n",
    "        128,\n",
    "        7,\n",
    "        activation='linear',\n",
    "        padding='same'))\n",
    "emg_model.add(LeakyReLU(alpha=0.1))\n",
    "emg_model.add(MaxPooling1D(pool_size=2, padding='same'))\n",
    "emg_model.add(Dropout(0.4))\n",
    "emg_model.add(Flatten())\n",
    "emg_model.add(Dense(128, activation='linear'))\n",
    "emg_model.add(LeakyReLU(alpha=0.1))\n",
    "emg_model.add(Dropout(0.3))\n",
    "emg_model.add(Dense(num_classes, activation='softmax'))"
   ]
  },
  {
   "cell_type": "code",
   "execution_count": 17,
   "metadata": {},
   "outputs": [],
   "source": [
    "emg_model.compile(\n",
    "    loss=keras.losses.categorical_crossentropy,\n",
    "    optimizer=keras.optimizers.Adam(),\n",
    "    metrics=['accuracy'])"
   ]
  },
  {
   "cell_type": "code",
   "execution_count": 18,
   "metadata": {},
   "outputs": [
    {
     "name": "stdout",
     "output_type": "stream",
     "text": [
      "Model: \"sequential_1\"\n",
      "_________________________________________________________________\n",
      "Layer (type)                 Output Shape              Param #   \n",
      "=================================================================\n",
      "conv1d_1 (Conv1D)            (None, 16, 32)            8992      \n",
      "_________________________________________________________________\n",
      "conv1d_2 (Conv1D)            (None, 16, 32)            7200      \n",
      "_________________________________________________________________\n",
      "leaky_re_lu_1 (LeakyReLU)    (None, 16, 32)            0         \n",
      "_________________________________________________________________\n",
      "max_pooling1d_1 (MaxPooling1 (None, 8, 32)             0         \n",
      "_________________________________________________________________\n",
      "dropout_1 (Dropout)          (None, 8, 32)             0         \n",
      "_________________________________________________________________\n",
      "conv1d_3 (Conv1D)            (None, 8, 64)             14400     \n",
      "_________________________________________________________________\n",
      "leaky_re_lu_2 (LeakyReLU)    (None, 8, 64)             0         \n",
      "_________________________________________________________________\n",
      "max_pooling1d_2 (MaxPooling1 (None, 4, 64)             0         \n",
      "_________________________________________________________________\n",
      "dropout_2 (Dropout)          (None, 4, 64)             0         \n",
      "_________________________________________________________________\n",
      "conv1d_4 (Conv1D)            (None, 4, 128)            57472     \n",
      "_________________________________________________________________\n",
      "leaky_re_lu_3 (LeakyReLU)    (None, 4, 128)            0         \n",
      "_________________________________________________________________\n",
      "max_pooling1d_3 (MaxPooling1 (None, 2, 128)            0         \n",
      "_________________________________________________________________\n",
      "dropout_3 (Dropout)          (None, 2, 128)            0         \n",
      "_________________________________________________________________\n",
      "flatten_1 (Flatten)          (None, 256)               0         \n",
      "_________________________________________________________________\n",
      "dense_1 (Dense)              (None, 128)               32896     \n",
      "_________________________________________________________________\n",
      "leaky_re_lu_4 (LeakyReLU)    (None, 128)               0         \n",
      "_________________________________________________________________\n",
      "dropout_4 (Dropout)          (None, 128)               0         \n",
      "_________________________________________________________________\n",
      "dense_2 (Dense)              (None, 4)                 516       \n",
      "=================================================================\n",
      "Total params: 121,476\n",
      "Trainable params: 121,476\n",
      "Non-trainable params: 0\n",
      "_________________________________________________________________\n"
     ]
    }
   ],
   "source": [
    "emg_model.summary()"
   ]
  },
  {
   "cell_type": "code",
   "execution_count": 19,
   "metadata": {},
   "outputs": [
    {
     "name": "stdout",
     "output_type": "stream",
     "text": [
      "WARNING:tensorflow:From /opt/miniconda3/envs/trial_env/lib/python3.7/site-packages/tensorflow/python/ops/math_ops.py:3066: to_int32 (from tensorflow.python.ops.math_ops) is deprecated and will be removed in a future version.\n",
      "Instructions for updating:\n",
      "Use tf.cast instead.\n",
      "Train on 16898 samples, validate on 4225 samples\n",
      "Epoch 1/50\n",
      "16898/16898 [==============================] - 8s 448us/step - loss: 1.2364 - accuracy: 0.4324 - val_loss: 1.0860 - val_accuracy: 0.5451\n",
      "Epoch 2/50\n",
      "16898/16898 [==============================] - 6s 372us/step - loss: 0.9985 - accuracy: 0.5774 - val_loss: 0.9650 - val_accuracy: 0.6142\n",
      "Epoch 3/50\n",
      "16898/16898 [==============================] - 6s 365us/step - loss: 0.9281 - accuracy: 0.6050 - val_loss: 0.8648 - val_accuracy: 0.6331\n",
      "Epoch 4/50\n",
      "16898/16898 [==============================] - 6s 371us/step - loss: 0.8708 - accuracy: 0.6323 - val_loss: 0.8003 - val_accuracy: 0.6679\n",
      "Epoch 5/50\n",
      "16898/16898 [==============================] - 6s 372us/step - loss: 0.8413 - accuracy: 0.6480 - val_loss: 0.8045 - val_accuracy: 0.6720\n",
      "Epoch 6/50\n",
      "16898/16898 [==============================] - 6s 377us/step - loss: 0.8166 - accuracy: 0.6632 - val_loss: 0.7680 - val_accuracy: 0.7013\n",
      "Epoch 7/50\n",
      "16898/16898 [==============================] - 6s 380us/step - loss: 0.7878 - accuracy: 0.6831 - val_loss: 0.7019 - val_accuracy: 0.7266\n",
      "Epoch 8/50\n",
      "16898/16898 [==============================] - 6s 383us/step - loss: 0.7694 - accuracy: 0.6921 - val_loss: 0.7022 - val_accuracy: 0.7221\n",
      "Epoch 9/50\n",
      "16898/16898 [==============================] - 6s 380us/step - loss: 0.7581 - accuracy: 0.6952 - val_loss: 0.6811 - val_accuracy: 0.7285\n",
      "Epoch 10/50\n",
      "16898/16898 [==============================] - 6s 380us/step - loss: 0.7309 - accuracy: 0.7103 - val_loss: 0.6677 - val_accuracy: 0.7304\n",
      "Epoch 11/50\n",
      "16898/16898 [==============================] - 6s 383us/step - loss: 0.7345 - accuracy: 0.7068 - val_loss: 0.7107 - val_accuracy: 0.7212\n",
      "Epoch 12/50\n",
      "16898/16898 [==============================] - 6s 381us/step - loss: 0.7209 - accuracy: 0.7109 - val_loss: 0.6834 - val_accuracy: 0.7392\n",
      "Epoch 13/50\n",
      "16898/16898 [==============================] - 7s 387us/step - loss: 0.7025 - accuracy: 0.7217 - val_loss: 0.6496 - val_accuracy: 0.7434\n",
      "Epoch 14/50\n",
      "16898/16898 [==============================] - 7s 389us/step - loss: 0.6987 - accuracy: 0.7213 - val_loss: 0.6357 - val_accuracy: 0.7470\n",
      "Epoch 15/50\n",
      "16898/16898 [==============================] - 6s 380us/step - loss: 0.6940 - accuracy: 0.7256 - val_loss: 0.6396 - val_accuracy: 0.7503\n",
      "Epoch 16/50\n",
      "16898/16898 [==============================] - 6s 375us/step - loss: 0.6713 - accuracy: 0.7341 - val_loss: 0.6017 - val_accuracy: 0.7617\n",
      "Epoch 17/50\n",
      "16898/16898 [==============================] - 6s 380us/step - loss: 0.6736 - accuracy: 0.7321 - val_loss: 0.6049 - val_accuracy: 0.7591\n",
      "Epoch 18/50\n",
      "16898/16898 [==============================] - 6s 383us/step - loss: 0.6636 - accuracy: 0.7359 - val_loss: 0.6180 - val_accuracy: 0.7546\n",
      "Epoch 19/50\n",
      "16898/16898 [==============================] - 6s 384us/step - loss: 0.6685 - accuracy: 0.7367 - val_loss: 0.6059 - val_accuracy: 0.7541\n",
      "Epoch 20/50\n",
      "16898/16898 [==============================] - 6s 382us/step - loss: 0.6512 - accuracy: 0.7405 - val_loss: 0.5961 - val_accuracy: 0.7614\n",
      "Epoch 21/50\n",
      "16898/16898 [==============================] - 6s 378us/step - loss: 0.6486 - accuracy: 0.7416 - val_loss: 0.6267 - val_accuracy: 0.7524\n",
      "Epoch 22/50\n",
      "16898/16898 [==============================] - 6s 376us/step - loss: 0.6484 - accuracy: 0.7441 - val_loss: 0.5955 - val_accuracy: 0.7697\n",
      "Epoch 23/50\n",
      "16898/16898 [==============================] - 6s 379us/step - loss: 0.6415 - accuracy: 0.7477 - val_loss: 0.5836 - val_accuracy: 0.7669\n",
      "Epoch 24/50\n",
      "16898/16898 [==============================] - 6s 379us/step - loss: 0.6386 - accuracy: 0.7454 - val_loss: 0.6094 - val_accuracy: 0.7619\n",
      "Epoch 25/50\n",
      "16898/16898 [==============================] - 6s 379us/step - loss: 0.6362 - accuracy: 0.7488 - val_loss: 0.5853 - val_accuracy: 0.7683\n",
      "Epoch 26/50\n",
      "16898/16898 [==============================] - 6s 374us/step - loss: 0.6268 - accuracy: 0.7529 - val_loss: 0.6104 - val_accuracy: 0.7588\n",
      "Epoch 27/50\n",
      "16898/16898 [==============================] - 6s 372us/step - loss: 0.6201 - accuracy: 0.7583 - val_loss: 0.5629 - val_accuracy: 0.7749\n",
      "Epoch 28/50\n",
      "16898/16898 [==============================] - 6s 369us/step - loss: 0.6211 - accuracy: 0.7549 - val_loss: 0.5729 - val_accuracy: 0.7754\n",
      "Epoch 29/50\n",
      "16898/16898 [==============================] - 6s 378us/step - loss: 0.6149 - accuracy: 0.7572 - val_loss: 0.5891 - val_accuracy: 0.7730\n",
      "Epoch 30/50\n",
      "16898/16898 [==============================] - 6s 375us/step - loss: 0.6098 - accuracy: 0.7555 - val_loss: 0.5612 - val_accuracy: 0.7822\n",
      "Epoch 31/50\n",
      "16898/16898 [==============================] - 6s 379us/step - loss: 0.6022 - accuracy: 0.7648 - val_loss: 0.5814 - val_accuracy: 0.7747\n",
      "Epoch 32/50\n",
      "16898/16898 [==============================] - 6s 376us/step - loss: 0.6127 - accuracy: 0.7604 - val_loss: 0.5855 - val_accuracy: 0.7737\n",
      "Epoch 33/50\n",
      "16898/16898 [==============================] - 6s 376us/step - loss: 0.6037 - accuracy: 0.7632 - val_loss: 0.6354 - val_accuracy: 0.7498\n",
      "Epoch 34/50\n",
      "16898/16898 [==============================] - 6s 375us/step - loss: 0.6248 - accuracy: 0.7533 - val_loss: 0.5817 - val_accuracy: 0.7659\n",
      "Epoch 35/50\n",
      "16898/16898 [==============================] - 6s 378us/step - loss: 0.6002 - accuracy: 0.7623 - val_loss: 0.5629 - val_accuracy: 0.7747\n",
      "Epoch 36/50\n",
      "16898/16898 [==============================] - 6s 372us/step - loss: 0.5968 - accuracy: 0.7668 - val_loss: 0.5513 - val_accuracy: 0.7792\n",
      "Epoch 37/50\n",
      "16898/16898 [==============================] - 6s 384us/step - loss: 0.5965 - accuracy: 0.7639 - val_loss: 0.5924 - val_accuracy: 0.7707\n",
      "Epoch 38/50\n",
      "16898/16898 [==============================] - 6s 375us/step - loss: 0.5967 - accuracy: 0.7664 - val_loss: 0.5651 - val_accuracy: 0.7778\n",
      "Epoch 39/50\n",
      "16898/16898 [==============================] - 6s 372us/step - loss: 0.5856 - accuracy: 0.7696 - val_loss: 0.5559 - val_accuracy: 0.7820\n",
      "Epoch 40/50\n",
      "16898/16898 [==============================] - 6s 370us/step - loss: 0.5894 - accuracy: 0.7692 - val_loss: 0.5560 - val_accuracy: 0.7875\n",
      "Epoch 41/50\n",
      "16898/16898 [==============================] - 6s 375us/step - loss: 0.5819 - accuracy: 0.7742 - val_loss: 0.5521 - val_accuracy: 0.7806\n",
      "Epoch 42/50\n",
      "16898/16898 [==============================] - 7s 387us/step - loss: 0.5827 - accuracy: 0.7744 - val_loss: 0.5619 - val_accuracy: 0.7799\n",
      "Epoch 43/50\n",
      "16898/16898 [==============================] - 6s 376us/step - loss: 0.5742 - accuracy: 0.7755 - val_loss: 0.5382 - val_accuracy: 0.7886\n",
      "Epoch 44/50\n",
      "16898/16898 [==============================] - 6s 383us/step - loss: 0.5720 - accuracy: 0.7800 - val_loss: 0.5555 - val_accuracy: 0.7804\n",
      "Epoch 45/50\n",
      "16898/16898 [==============================] - 6s 376us/step - loss: 0.5722 - accuracy: 0.7780 - val_loss: 0.5379 - val_accuracy: 0.7884\n",
      "Epoch 46/50\n",
      "16898/16898 [==============================] - 6s 380us/step - loss: 0.5692 - accuracy: 0.7766 - val_loss: 0.5640 - val_accuracy: 0.7811\n",
      "Epoch 47/50\n",
      "16898/16898 [==============================] - 7s 397us/step - loss: 0.5680 - accuracy: 0.7788 - val_loss: 0.5410 - val_accuracy: 0.7884\n",
      "Epoch 48/50\n",
      "16898/16898 [==============================] - 6s 383us/step - loss: 0.5693 - accuracy: 0.7771 - val_loss: 0.5732 - val_accuracy: 0.7749\n",
      "Epoch 49/50\n",
      "16898/16898 [==============================] - 7s 386us/step - loss: 0.5630 - accuracy: 0.7802 - val_loss: 0.5906 - val_accuracy: 0.7754\n",
      "Epoch 50/50\n",
      "16898/16898 [==============================] - 6s 383us/step - loss: 0.5614 - accuracy: 0.7797 - val_loss: 0.5285 - val_accuracy: 0.7941\n"
     ]
    }
   ],
   "source": [
    "emg_train = emg_model.fit(\n",
    "    train_X,\n",
    "    train_label,\n",
    "    batch_size=batch_size,\n",
    "    epochs=epochs,\n",
    "    verbose=1,\n",
    "    validation_data=(valid_X, valid_label))"
   ]
  },
  {
   "cell_type": "code",
   "execution_count": 20,
   "metadata": {},
   "outputs": [],
   "source": [
    "test_eval = emg_model.evaluate(test_X, test_Y_one_hot, verbose=0)"
   ]
  },
  {
   "cell_type": "code",
   "execution_count": 21,
   "metadata": {},
   "outputs": [
    {
     "name": "stdout",
     "output_type": "stream",
     "text": [
      "Test loss:  0.5335417094386076\n",
      "Test accuracy:  0.784831702709198\n"
     ]
    }
   ],
   "source": [
    "print('Test loss: ', test_eval[0])\n",
    "print('Test accuracy: ', test_eval[1])"
   ]
  },
  {
   "cell_type": "code",
   "execution_count": 22,
   "metadata": {},
   "outputs": [
    {
     "data": {
      "image/png": "[encoded data removed]",
      "text/plain": [
       "<Figure size 432x288 with 1 Axes>"
      ]
     },
     "metadata": {
      "needs_background": "light"
     },
     "output_type": "display_data"
    },
    {
     "data": {
      "image/png": "[encoded data removed]",
      "text/plain": [
       "<Figure size 432x288 with 1 Axes>"
      ]
     },
     "metadata": {
      "needs_background": "light"
     },
     "output_type": "display_data"
    }
   ],
   "source": [
    "# Visualization\n",
    "accuracy = emg_train.history['accuracy']\n",
    "val_accuracy = emg_train.history['val_accuracy']\n",
    "loss = emg_train.history['loss']\n",
    "val_loss = emg_train.history['val_loss']\n",
    "epoch = range(len(accuracy))\n",
    "plt.plot(epoch, accuracy, 'bo', label='Training accuracy')\n",
    "plt.plot(epoch, val_accuracy, 'b', label='Validation accuracy')\n",
    "plt.title('Training and validation accuracy')\n",
    "plt.legend()\n",
    "plt.figure()\n",
    "plt.plot(epoch, loss, 'bo', label='Training loss')\n",
    "plt.plot(epoch, val_loss, 'b', label='Validation loss')\n",
    "plt.title('Training and validation loss')\n",
    "plt.legend()\n",
    "plt.show()"
   ]
  },
  {
   "cell_type": "code",
   "execution_count": 23,
   "metadata": {},
   "outputs": [],
   "source": [
    "predicted_classes = emg_model.predict(test_X)"
   ]
  },
  {
   "cell_type": "code",
   "execution_count": 24,
   "metadata": {},
   "outputs": [],
   "source": [
    "predicted_classes = np.argmax(np.round(predicted_classes), axis=1)"
   ]
  },
  {
   "cell_type": "code",
   "execution_count": 25,
   "metadata": {},
   "outputs": [
    {
     "data": {
      "text/plain": [
       "((2347,), (2347,))"
      ]
     },
     "execution_count": 25,
     "metadata": {},
     "output_type": "execute_result"
    }
   ],
   "source": [
    "predicted_classes.shape, test_Y.shape"
   ]
  },
  {
   "cell_type": "code",
   "execution_count": 26,
   "metadata": {},
   "outputs": [
    {
     "name": "stdout",
     "output_type": "stream",
     "text": [
      "Found 1770 correct labels\n"
     ]
    },
    {
     "data": {
      "image/png": "[encoded data removed]",
      "text/plain": [
       "<Figure size 432x288 with 9 Axes>"
      ]
     },
     "metadata": {
      "needs_background": "light"
     },
     "output_type": "display_data"
    }
   ],
   "source": [
    "correct = np.where(predicted_classes==test_Y)[0]\n",
    "print(\"Found %d correct labels\" % len(correct))\n",
    "for i, correct, in enumerate(correct[:9]):\n",
    "    plt.subplot(3, 3, i+1)\n",
    "    plt.pcolormesh(test_X[correct].reshape(ydim, xdim), cmap='jet')\n",
    "    plt.title(\"Predicted {}, Class {}\".format(predicted_classes[correct], test_Y[correct]))\n",
    "    plt.tight_layout()"
   ]
  },
  {
   "cell_type": "code",
   "execution_count": 27,
   "metadata": {},
   "outputs": [
    {
     "name": "stdout",
     "output_type": "stream",
     "text": [
      "Found 577 incorrect labels\n"
     ]
    },
    {
     "data": {
      "image/png": "[encoded data removed]",
      "text/plain": [
       "<Figure size 432x288 with 9 Axes>"
      ]
     },
     "metadata": {
      "needs_background": "light"
     },
     "output_type": "display_data"
    }
   ],
   "source": [
    "incorrect = np.where(predicted_classes!=test_Y)[0]\n",
    "print(\"Found %d incorrect labels\" % len(incorrect))\n",
    "for i, incorrect, in enumerate(incorrect[:9]):\n",
    "    plt.subplot(3, 3, i+1)\n",
    "    plt.pcolormesh(test_X[incorrect].reshape(ydim, xdim), cmap='jet')\n",
    "    plt.title(\"Predicted {}, Class {}\".format(predicted_classes[incorrect], test_Y[incorrect]))\n",
    "    plt.tight_layout()"
   ]
  },
  {
   "cell_type": "code",
   "execution_count": 28,
   "metadata": {},
   "outputs": [
    {
     "name": "stdout",
     "output_type": "stream",
     "text": [
      "             precision    recall  f1-score   support\n",
      "\n",
      "    Class 0       0.72      0.92      0.81       608\n",
      "    Class 1       0.81      0.81      0.81       728\n",
      "    Class 2       0.80      0.62      0.70       587\n",
      "    Class 3       0.67      0.60      0.64       424\n",
      "\n",
      "avg / total       0.76      0.75      0.75      2347\n",
      "\n"
     ]
    }
   ],
   "source": [
    "from sklearn.metrics import classification_report\n",
    "target_names = [\"Class {}\".format(i) for i in range(num_classes)]\n",
    "print(classification_report(test_Y, predicted_classes, target_names=target_names))"
   ]
  }
 ],
 "metadata": {
  "kernelspec": {
   "display_name": "Python 3",
   "language": "python",
   "name": "python3"
  },
  "language_info": {
   "codemirror_mode": {
    "name": "ipython",
    "version": 3
   },
   "file_extension": ".py",
   "mimetype": "text/x-python",
   "name": "python",
   "nbconvert_exporter": "python",
   "pygments_lexer": "ipython3",
   "version": "3.7.0"
  }
 },
 "nbformat": 4,
 "nbformat_minor": 2
}
