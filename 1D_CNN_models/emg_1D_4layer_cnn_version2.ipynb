{
 "cells": [
  {
   "cell_type": "code",
   "execution_count": 1,
   "metadata": {},
   "outputs": [
    {
     "name": "stderr",
     "output_type": "stream",
     "text": [
      "Using TensorFlow backend.\n",
      "/opt/miniconda3/envs/trial_env/lib/python3.7/site-packages/tensorflow/python/framework/dtypes.py:526: FutureWarning: Passing (type, 1) or '1type' as a synonym of type is deprecated; in a future version of numpy, it will be understood as (type, (1,)) / '(1,)type'.\n",
      "  _np_qint8 = np.dtype([(\"qint8\", np.int8, 1)])\n",
      "/opt/miniconda3/envs/trial_env/lib/python3.7/site-packages/tensorflow/python/framework/dtypes.py:527: FutureWarning: Passing (type, 1) or '1type' as a synonym of type is deprecated; in a future version of numpy, it will be understood as (type, (1,)) / '(1,)type'.\n",
      "  _np_quint8 = np.dtype([(\"quint8\", np.uint8, 1)])\n",
      "/opt/miniconda3/envs/trial_env/lib/python3.7/site-packages/tensorflow/python/framework/dtypes.py:528: FutureWarning: Passing (type, 1) or '1type' as a synonym of type is deprecated; in a future version of numpy, it will be understood as (type, (1,)) / '(1,)type'.\n",
      "  _np_qint16 = np.dtype([(\"qint16\", np.int16, 1)])\n",
      "/opt/miniconda3/envs/trial_env/lib/python3.7/site-packages/tensorflow/python/framework/dtypes.py:529: FutureWarning: Passing (type, 1) or '1type' as a synonym of type is deprecated; in a future version of numpy, it will be understood as (type, (1,)) / '(1,)type'.\n",
      "  _np_quint16 = np.dtype([(\"quint16\", np.uint16, 1)])\n",
      "/opt/miniconda3/envs/trial_env/lib/python3.7/site-packages/tensorflow/python/framework/dtypes.py:530: FutureWarning: Passing (type, 1) or '1type' as a synonym of type is deprecated; in a future version of numpy, it will be understood as (type, (1,)) / '(1,)type'.\n",
      "  _np_qint32 = np.dtype([(\"qint32\", np.int32, 1)])\n",
      "/opt/miniconda3/envs/trial_env/lib/python3.7/site-packages/tensorflow/python/framework/dtypes.py:535: FutureWarning: Passing (type, 1) or '1type' as a synonym of type is deprecated; in a future version of numpy, it will be understood as (type, (1,)) / '(1,)type'.\n",
      "  np_resource = np.dtype([(\"resource\", np.ubyte, 1)])\n"
     ]
    }
   ],
   "source": [
    "import os\n",
    "\n",
    "import matplotlib.pyplot as plt\n",
    "import numpy as np\n",
    "import pandas as pd\n",
    "import st_remux as st\n",
    "\n",
    "from sklearn.model_selection import train_test_split\n",
    "from keras.utils import to_categorical\n",
    "\n",
    "\n",
    "\n",
    "%matplotlib inline"
   ]
  },
  {
   "cell_type": "code",
   "execution_count": 2,
   "metadata": {},
   "outputs": [],
   "source": [
    "# Config\n",
    "# highpath = 'datasets/high.csv'\n",
    "# lowpath = 'datasets/none.csv'\n",
    "# hi = st.raw_to_arr(high, fs, win_len, 0)\n",
    "# lo = st.raw_to_arr(low, fs, win_len, 0)\n",
    "highdir = 'datasets/high'\n",
    "meddir = 'datasets/med'\n",
    "lowdir = 'datasets/low'\n",
    "nonedir = 'datasets/none'\n",
    "\n",
    "\n",
    "\n",
    "fs = 4000\n",
    "win_len = 40\n",
    "\n",
    "use_filter = 0   # weird results if we use python filtering\n",
    "\n",
    "use_matlab_backend = 0"
   ]
  },
  {
   "cell_type": "code",
   "execution_count": 3,
   "metadata": {},
   "outputs": [
    {
     "name": "stdout",
     "output_type": "stream",
     "text": [
      "Using native backend\n"
     ]
    }
   ],
   "source": [
    "if use_matlab_backend:\n",
    "    print('Using MATLAB signal processing backend')\n",
    "    # high_dir = 'datasets/high/'\n",
    "    # low_dir = 'datasets/low/'\n",
    "\n",
    "    high_dir = 'C:/Users/Geoffrey/Documents/MATLAB/S transform time frequency/high/'\n",
    "    low_dir = 'C:/Users/Geoffrey/Documents/MATLAB/S transform time frequency/low/'\n",
    "\n",
    "    def generate_3darray(directory):\n",
    "        files = os.listdir(directory)\n",
    "        dims = np.genfromtxt(directory + files[0], delimiter=',').shape\n",
    "        length = len(files)\n",
    "        arr = np.zeros((length, dims[0], dims[1]))\n",
    "\n",
    "        for idx, val in enumerate(files):\n",
    "            arr[idx] = np.genfromtxt(directory + val, delimiter=',')\n",
    "\n",
    "        return arr\n",
    "\n",
    "    hi = generate_3darray(high_dir)\n",
    "    lo = generate_3darray(low_dir)\n",
    "    \n",
    "else: \n",
    "    print('Using native backend')\n",
    "    hi = st.raw_to_arr(highdir, fs, win_len, 0)\n",
    "    med = st.raw_to_arr(meddir, fs, win_len, 0)\n",
    "    lo = st.raw_to_arr(lowdir, fs, win_len, 0)\n",
    "    none = st.raw_to_arr(nonedir, fs, win_len, 0)"
   ]
  },
  {
   "cell_type": "code",
   "execution_count": 4,
   "metadata": {},
   "outputs": [
    {
     "name": "stdout",
     "output_type": "stream",
     "text": [
      "(23470, 16, 40)\n"
     ]
    }
   ],
   "source": [
    "X = np.concatenate((hi, med, lo, none))\n",
    "d= X.shape\n",
    "print(d)\n",
    "\n",
    "hi_Y = np.ones(len(hi), dtype=int) * 3\n",
    "med_Y = np.ones(len(med), dtype=int) * 2\n",
    "lo_Y = np.ones(len(lo), dtype=int) * 1\n",
    "none_Y = np.zeros(len(none), dtype=int)\n",
    "\n",
    "Y = np.concatenate((hi_Y, med_Y, lo_Y, none_Y))"
   ]
  },
  {
   "cell_type": "code",
   "execution_count": 5,
   "metadata": {},
   "outputs": [],
   "source": [
    "train_X, test_X, train_Y, test_Y = train_test_split(X, Y, test_size=0.1)"
   ]
  },
  {
   "cell_type": "code",
   "execution_count": 6,
   "metadata": {},
   "outputs": [
    {
     "name": "stdout",
     "output_type": "stream",
     "text": [
      "Training data shape:  (21123, 16, 40) (21123,)\n",
      "Testing data shape:  (2347, 16, 40) (2347,)\n"
     ]
    }
   ],
   "source": [
    "print('Training data shape: ', train_X.shape, train_Y.shape)\n",
    "print('Testing data shape: ', test_X.shape, test_Y.shape)"
   ]
  },
  {
   "cell_type": "code",
   "execution_count": 7,
   "metadata": {},
   "outputs": [
    {
     "name": "stdout",
     "output_type": "stream",
     "text": [
      "Total number of outputs:  4\n",
      "Output classes:  [0 1 2 3]\n"
     ]
    }
   ],
   "source": [
    "classes = np.unique(train_Y)\n",
    "nClasses = len(classes)\n",
    "print('Total number of outputs: ', nClasses)\n",
    "print('Output classes: ', classes)"
   ]
  },
  {
   "cell_type": "code",
   "execution_count": 8,
   "metadata": {},
   "outputs": [
    {
     "data": {
      "text/plain": [
       "Text(0.5,1,'Ground Truth: 1')"
      ]
     },
     "execution_count": 8,
     "metadata": {},
     "output_type": "execute_result"
    },
    {
     "data": {
      "image/png": "[encoded data removed]",
      "text/plain": [
       "<Figure size 720x144 with 2 Axes>"
      ]
     },
     "metadata": {
      "needs_background": "light"
     },
     "output_type": "display_data"
    }
   ],
   "source": [
    "plt.figure(figsize=[10,2])\n",
    "\n",
    "# Display first image in training set\n",
    "plt.subplot(121)\n",
    "plt.pcolormesh(train_X[0,:,:], cmap='jet')\n",
    "plt.title(\"Ground Truth: {}\".format(train_Y[0]))\n",
    "\n",
    "# Display second image in testing set\n",
    "plt.subplot(122)\n",
    "plt.pcolormesh(test_X[1], cmap='jet')\n",
    "plt.title(\"Ground Truth: {}\".format(test_Y[1]))"
   ]
  },
  {
   "cell_type": "code",
   "execution_count": 9,
   "metadata": {},
   "outputs": [],
   "source": [
    "train_X = train_X.astype('float32')\n",
    "test_X = test_X.astype('float32')"
   ]
  },
  {
   "cell_type": "code",
   "execution_count": 10,
   "metadata": {},
   "outputs": [
    {
     "name": "stdout",
     "output_type": "stream",
     "text": [
      "40\n",
      "16\n"
     ]
    }
   ],
   "source": [
    "ydim = train_X[0].shape[0]\n",
    "xdim = train_X[0].shape[1]\n",
    "\n",
    "print(xdim)\n",
    "print(ydim)"
   ]
  },
  {
   "cell_type": "code",
   "execution_count": 11,
   "metadata": {},
   "outputs": [
    {
     "name": "stdout",
     "output_type": "stream",
     "text": [
      "Original label:  0\n",
      "After conversion to one-hot:  [1. 0. 0. 0.]\n"
     ]
    }
   ],
   "source": [
    "# Change labels from categorical to one-hot encoding\n",
    "train_Y_one_hot = to_categorical(train_Y)\n",
    "test_Y_one_hot = to_categorical(test_Y)\n",
    "\n",
    "# See the difference?\n",
    "print('Original label: ', train_Y[0])\n",
    "print('After conversion to one-hot: ', train_Y_one_hot[0])"
   ]
  },
  {
   "cell_type": "code",
   "execution_count": 12,
   "metadata": {},
   "outputs": [
    {
     "data": {
      "text/plain": [
       "(21123, 4)"
      ]
     },
     "execution_count": 12,
     "metadata": {},
     "output_type": "execute_result"
    }
   ],
   "source": [
    "train_Y_one_hot.shape"
   ]
  },
  {
   "cell_type": "code",
   "execution_count": 13,
   "metadata": {},
   "outputs": [
    {
     "data": {
      "text/plain": [
       "((16898, 16, 40), (4225, 16, 40), (16898, 4), (4225, 4))"
      ]
     },
     "execution_count": 13,
     "metadata": {},
     "output_type": "execute_result"
    }
   ],
   "source": [
    "# Partition data for 80% training and 20% validation\n",
    "# should reduce overfitting and boost test performance\n",
    "\n",
    "train_X, valid_X, train_label, valid_label = train_test_split(train_X, train_Y_one_hot, test_size=0.2)\n",
    "\n",
    "train_X.shape, valid_X.shape, train_label.shape, valid_label.shape"
   ]
  },
  {
   "cell_type": "code",
   "execution_count": 14,
   "metadata": {},
   "outputs": [],
   "source": [
    "# let's get down to business\n",
    "import keras\n",
    "from keras.models import Sequential, Input, Model\n",
    "from keras.layers import Dense, Dropout, Flatten\n",
    "from keras.layers import Conv1D, MaxPooling1D\n",
    "from keras.layers.normalization import BatchNormalization\n",
    "from keras.layers.advanced_activations import LeakyReLU"
   ]
  },
  {
   "cell_type": "code",
   "execution_count": 15,
   "metadata": {},
   "outputs": [],
   "source": [
    "batch_size = 64\n",
    "epochs = 50\n",
    "num_classes = nClasses"
   ]
  },
  {
   "cell_type": "code",
   "execution_count": 16,
   "metadata": {},
   "outputs": [
    {
     "name": "stdout",
     "output_type": "stream",
     "text": [
      "WARNING:tensorflow:From /opt/miniconda3/envs/trial_env/lib/python3.7/site-packages/tensorflow/python/ops/resource_variable_ops.py:435: colocate_with (from tensorflow.python.framework.ops) is deprecated and will be removed in a future version.\n",
      "Instructions for updating:\n",
      "Colocations handled automatically by placer.\n"
     ]
    }
   ],
   "source": [
    "emg_model = Sequential()\n",
    "\n",
    "emg_model.add(Conv1D(32, kernel_size=7, activation='linear', input_shape=(ydim, xdim), padding='same'))\n",
    "\n",
    "emg_model.add(\n",
    "    Conv1D(\n",
    "        32, \n",
    "        kernel_size=7, \n",
    "        activation='linear', \n",
    "        input_shape=(ydim, xdim), \n",
    "        padding='same'))\n",
    "emg_model.add(LeakyReLU(alpha=0.1))\n",
    "emg_model.add(MaxPooling1D(pool_size=2, padding='same'))\n",
    "emg_model.add(Dropout(0.25))\n",
    "emg_model.add(\n",
    "    Conv1D(\n",
    "        64,\n",
    "        7,\n",
    "        activation='linear',\n",
    "        input_shape=(xdim,1),\n",
    "        padding='same'))\n",
    "emg_model.add(LeakyReLU(alpha=0.1))\n",
    "emg_model.add(MaxPooling1D(pool_size=2, padding='same'))\n",
    "emg_model.add(Dropout(0.25))\n",
    "emg_model.add(\n",
    "    Conv1D(\n",
    "        128,\n",
    "        7,\n",
    "        activation='linear',\n",
    "        padding='same'))\n",
    "emg_model.add(LeakyReLU(alpha=0.1))\n",
    "emg_model.add(MaxPooling1D(pool_size=2, padding='same'))\n",
    "emg_model.add(Dropout(0.4))\n",
    "emg_model.add(Flatten())\n",
    "\n",
    "emg_model.add(Dense(512, activation='linear'))\n",
    "emg_model.add(LeakyReLU(alpha=0.1))\n",
    "#emg_model.add(BatchNormalization())\n",
    "emg_model.add(Dropout(0.3))\n",
    "\n",
    "emg_model.add(Dense(128, activation='linear'))\n",
    "emg_model.add(LeakyReLU(alpha=0.1))\n",
    "emg_model.add(Dropout(0.3))\n",
    "emg_model.add(Dense(num_classes, activation='softmax'))"
   ]
  },
  {
   "cell_type": "code",
   "execution_count": 17,
   "metadata": {},
   "outputs": [],
   "source": [
    "emg_model.compile(\n",
    "    loss=keras.losses.categorical_crossentropy,\n",
    "    optimizer=keras.optimizers.Adam(),\n",
    "    metrics=['accuracy'])"
   ]
  },
  {
   "cell_type": "code",
   "execution_count": 18,
   "metadata": {},
   "outputs": [
    {
     "name": "stdout",
     "output_type": "stream",
     "text": [
      "Model: \"sequential_1\"\n",
      "_________________________________________________________________\n",
      "Layer (type)                 Output Shape              Param #   \n",
      "=================================================================\n",
      "conv1d_1 (Conv1D)            (None, 16, 32)            8992      \n",
      "_________________________________________________________________\n",
      "conv1d_2 (Conv1D)            (None, 16, 32)            7200      \n",
      "_________________________________________________________________\n",
      "leaky_re_lu_1 (LeakyReLU)    (None, 16, 32)            0         \n",
      "_________________________________________________________________\n",
      "max_pooling1d_1 (MaxPooling1 (None, 8, 32)             0         \n",
      "_________________________________________________________________\n",
      "dropout_1 (Dropout)          (None, 8, 32)             0         \n",
      "_________________________________________________________________\n",
      "conv1d_3 (Conv1D)            (None, 8, 64)             14400     \n",
      "_________________________________________________________________\n",
      "leaky_re_lu_2 (LeakyReLU)    (None, 8, 64)             0         \n",
      "_________________________________________________________________\n",
      "max_pooling1d_2 (MaxPooling1 (None, 4, 64)             0         \n",
      "_________________________________________________________________\n",
      "dropout_2 (Dropout)          (None, 4, 64)             0         \n",
      "_________________________________________________________________\n",
      "conv1d_4 (Conv1D)            (None, 4, 128)            57472     \n",
      "_________________________________________________________________\n",
      "leaky_re_lu_3 (LeakyReLU)    (None, 4, 128)            0         \n",
      "_________________________________________________________________\n",
      "max_pooling1d_3 (MaxPooling1 (None, 2, 128)            0         \n",
      "_________________________________________________________________\n",
      "dropout_3 (Dropout)          (None, 2, 128)            0         \n",
      "_________________________________________________________________\n",
      "flatten_1 (Flatten)          (None, 256)               0         \n",
      "_________________________________________________________________\n",
      "dense_1 (Dense)              (None, 512)               131584    \n",
      "_________________________________________________________________\n",
      "leaky_re_lu_4 (LeakyReLU)    (None, 512)               0         \n",
      "_________________________________________________________________\n",
      "dropout_4 (Dropout)          (None, 512)               0         \n",
      "_________________________________________________________________\n",
      "dense_2 (Dense)              (None, 128)               65664     \n",
      "_________________________________________________________________\n",
      "leaky_re_lu_5 (LeakyReLU)    (None, 128)               0         \n",
      "_________________________________________________________________\n",
      "dropout_5 (Dropout)          (None, 128)               0         \n",
      "_________________________________________________________________\n",
      "dense_3 (Dense)              (None, 4)                 516       \n",
      "=================================================================\n",
      "Total params: 285,828\n",
      "Trainable params: 285,828\n",
      "Non-trainable params: 0\n",
      "_________________________________________________________________\n"
     ]
    }
   ],
   "source": [
    "emg_model.summary()"
   ]
  },
  {
   "cell_type": "code",
   "execution_count": 19,
   "metadata": {},
   "outputs": [
    {
     "name": "stdout",
     "output_type": "stream",
     "text": [
      "WARNING:tensorflow:From /opt/miniconda3/envs/trial_env/lib/python3.7/site-packages/tensorflow/python/ops/math_ops.py:3066: to_int32 (from tensorflow.python.ops.math_ops) is deprecated and will be removed in a future version.\n",
      "Instructions for updating:\n",
      "Use tf.cast instead.\n",
      "Train on 16898 samples, validate on 4225 samples\n",
      "Epoch 1/50\n",
      "16898/16898 [==============================] - 9s 507us/step - loss: 1.2609 - accuracy: 0.4121 - val_loss: 1.2040 - val_accuracy: 0.4622\n",
      "Epoch 2/50\n",
      "16898/16898 [==============================] - 8s 446us/step - loss: 0.9989 - accuracy: 0.5743 - val_loss: 0.9350 - val_accuracy: 0.5972\n",
      "Epoch 3/50\n",
      "16898/16898 [==============================] - 7s 440us/step - loss: 0.9038 - accuracy: 0.6223 - val_loss: 0.8125 - val_accuracy: 0.6625\n",
      "Epoch 4/50\n",
      "16898/16898 [==============================] - 8s 447us/step - loss: 0.8555 - accuracy: 0.6365 - val_loss: 0.7771 - val_accuracy: 0.6831\n",
      "Epoch 5/50\n",
      "16898/16898 [==============================] - 7s 443us/step - loss: 0.8226 - accuracy: 0.6579 - val_loss: 0.7750 - val_accuracy: 0.6748\n",
      "Epoch 6/50\n",
      "16898/16898 [==============================] - 8s 453us/step - loss: 0.8013 - accuracy: 0.6753 - val_loss: 0.7210 - val_accuracy: 0.7101\n",
      "Epoch 7/50\n",
      "16898/16898 [==============================] - 8s 457us/step - loss: 0.7757 - accuracy: 0.6863 - val_loss: 0.7784 - val_accuracy: 0.6907\n",
      "Epoch 8/50\n",
      "16898/16898 [==============================] - 8s 484us/step - loss: 0.7627 - accuracy: 0.6953 - val_loss: 0.7447 - val_accuracy: 0.7205\n",
      "Epoch 9/50\n",
      "16898/16898 [==============================] - 8s 491us/step - loss: 0.7769 - accuracy: 0.6862 - val_loss: 0.6807 - val_accuracy: 0.7236\n",
      "Epoch 10/50\n",
      "16898/16898 [==============================] - 8s 492us/step - loss: 0.7215 - accuracy: 0.7193 - val_loss: 0.6675 - val_accuracy: 0.7285\n",
      "Epoch 11/50\n",
      "16898/16898 [==============================] - 8s 472us/step - loss: 0.7129 - accuracy: 0.7172 - val_loss: 0.6603 - val_accuracy: 0.7314\n",
      "Epoch 12/50\n",
      "16898/16898 [==============================] - 8s 471us/step - loss: 0.7113 - accuracy: 0.7200 - val_loss: 0.6590 - val_accuracy: 0.7349\n",
      "Epoch 13/50\n",
      "16898/16898 [==============================] - 8s 460us/step - loss: 0.7002 - accuracy: 0.7217 - val_loss: 0.6535 - val_accuracy: 0.7399\n",
      "Epoch 14/50\n",
      "16898/16898 [==============================] - 8s 454us/step - loss: 0.6842 - accuracy: 0.7261 - val_loss: 0.6773 - val_accuracy: 0.7347\n",
      "Epoch 15/50\n",
      "16898/16898 [==============================] - 7s 443us/step - loss: 0.6944 - accuracy: 0.7243 - val_loss: 0.6522 - val_accuracy: 0.7387\n",
      "Epoch 16/50\n",
      "16898/16898 [==============================] - 8s 451us/step - loss: 0.6750 - accuracy: 0.7317 - val_loss: 0.6241 - val_accuracy: 0.7501\n",
      "Epoch 17/50\n",
      "16898/16898 [==============================] - 7s 440us/step - loss: 0.6726 - accuracy: 0.7330 - val_loss: 0.6193 - val_accuracy: 0.7609\n",
      "Epoch 18/50\n",
      "16898/16898 [==============================] - 8s 446us/step - loss: 0.6597 - accuracy: 0.7394 - val_loss: 0.6312 - val_accuracy: 0.7411\n",
      "Epoch 19/50\n",
      "16898/16898 [==============================] - 8s 448us/step - loss: 0.6540 - accuracy: 0.7403 - val_loss: 0.6053 - val_accuracy: 0.7576\n",
      "Epoch 20/50\n",
      "16898/16898 [==============================] - 8s 469us/step - loss: 0.6563 - accuracy: 0.7390 - val_loss: 0.6360 - val_accuracy: 0.7434\n",
      "Epoch 21/50\n",
      "16898/16898 [==============================] - 8s 475us/step - loss: 0.6510 - accuracy: 0.7406 - val_loss: 0.6162 - val_accuracy: 0.7475\n",
      "Epoch 22/50\n",
      "16898/16898 [==============================] - 8s 500us/step - loss: 0.6462 - accuracy: 0.7480 - val_loss: 0.5890 - val_accuracy: 0.7678\n",
      "Epoch 23/50\n",
      "16898/16898 [==============================] - 8s 468us/step - loss: 0.6353 - accuracy: 0.7486 - val_loss: 0.6285 - val_accuracy: 0.7491\n",
      "Epoch 24/50\n",
      "16898/16898 [==============================] - 8s 460us/step - loss: 0.6347 - accuracy: 0.7501 - val_loss: 0.5949 - val_accuracy: 0.7550\n",
      "Epoch 25/50\n",
      "16898/16898 [==============================] - 8s 454us/step - loss: 0.6273 - accuracy: 0.7536 - val_loss: 0.6018 - val_accuracy: 0.7534\n",
      "Epoch 26/50\n",
      "16898/16898 [==============================] - 8s 468us/step - loss: 0.6305 - accuracy: 0.7533 - val_loss: 0.6008 - val_accuracy: 0.7564\n",
      "Epoch 27/50\n",
      "16898/16898 [==============================] - 10s 563us/step - loss: 0.6309 - accuracy: 0.7514 - val_loss: 0.5987 - val_accuracy: 0.7581\n",
      "Epoch 28/50\n",
      "16898/16898 [==============================] - 8s 459us/step - loss: 0.6228 - accuracy: 0.7558 - val_loss: 0.5830 - val_accuracy: 0.7609\n",
      "Epoch 29/50\n",
      "16898/16898 [==============================] - 7s 437us/step - loss: 0.6160 - accuracy: 0.7558 - val_loss: 0.5954 - val_accuracy: 0.7638\n",
      "Epoch 30/50\n",
      "16898/16898 [==============================] - 8s 456us/step - loss: 0.6325 - accuracy: 0.7502 - val_loss: 0.5969 - val_accuracy: 0.7645\n",
      "Epoch 31/50\n",
      "16898/16898 [==============================] - 8s 467us/step - loss: 0.6102 - accuracy: 0.7599 - val_loss: 0.5630 - val_accuracy: 0.7735\n",
      "Epoch 32/50\n",
      "16898/16898 [==============================] - 8s 455us/step - loss: 0.6081 - accuracy: 0.7596 - val_loss: 0.5962 - val_accuracy: 0.7638\n",
      "Epoch 33/50\n",
      "16898/16898 [==============================] - 9s 522us/step - loss: 0.6219 - accuracy: 0.7554 - val_loss: 0.5766 - val_accuracy: 0.7721\n",
      "Epoch 34/50\n",
      "16898/16898 [==============================] - 8s 495us/step - loss: 0.5994 - accuracy: 0.7651 - val_loss: 0.6035 - val_accuracy: 0.7744\n",
      "Epoch 35/50\n",
      "16898/16898 [==============================] - 8s 464us/step - loss: 0.5945 - accuracy: 0.7619 - val_loss: 0.5616 - val_accuracy: 0.7827\n",
      "Epoch 36/50\n",
      "16898/16898 [==============================] - 8s 457us/step - loss: 0.5941 - accuracy: 0.7666 - val_loss: 0.5702 - val_accuracy: 0.7733\n",
      "Epoch 37/50\n",
      "16898/16898 [==============================] - 9s 533us/step - loss: 0.5911 - accuracy: 0.7680 - val_loss: 0.5990 - val_accuracy: 0.7612\n",
      "Epoch 38/50\n",
      "16898/16898 [==============================] - 9s 537us/step - loss: 0.5919 - accuracy: 0.7674 - val_loss: 0.6271 - val_accuracy: 0.7477\n",
      "Epoch 39/50\n",
      "16898/16898 [==============================] - 8s 461us/step - loss: 0.6585 - accuracy: 0.7390 - val_loss: 0.6401 - val_accuracy: 0.7472\n",
      "Epoch 40/50\n",
      "16898/16898 [==============================] - 8s 446us/step - loss: 0.6350 - accuracy: 0.7475 - val_loss: 0.5576 - val_accuracy: 0.7813\n",
      "Epoch 41/50\n",
      "16898/16898 [==============================] - 8s 465us/step - loss: 0.5889 - accuracy: 0.7661 - val_loss: 0.5522 - val_accuracy: 0.7782\n",
      "Epoch 42/50\n",
      "16898/16898 [==============================] - 9s 548us/step - loss: 0.5850 - accuracy: 0.7722 - val_loss: 0.5801 - val_accuracy: 0.7685\n",
      "Epoch 43/50\n",
      "16898/16898 [==============================] - 8s 479us/step - loss: 0.5762 - accuracy: 0.7723 - val_loss: 0.5581 - val_accuracy: 0.7721\n",
      "Epoch 44/50\n",
      "16898/16898 [==============================] - 8s 457us/step - loss: 0.5966 - accuracy: 0.7658 - val_loss: 0.5723 - val_accuracy: 0.7735\n",
      "Epoch 45/50\n",
      "16898/16898 [==============================] - 8s 457us/step - loss: 0.5707 - accuracy: 0.7762 - val_loss: 0.5794 - val_accuracy: 0.7643\n",
      "Epoch 46/50\n",
      "16898/16898 [==============================] - 9s 504us/step - loss: 0.6005 - accuracy: 0.7664 - val_loss: 0.5518 - val_accuracy: 0.7775\n",
      "Epoch 47/50\n",
      "16898/16898 [==============================] - 8s 463us/step - loss: 0.5650 - accuracy: 0.7745 - val_loss: 0.5545 - val_accuracy: 0.7853\n",
      "Epoch 48/50\n",
      "16898/16898 [==============================] - 8s 451us/step - loss: 0.5638 - accuracy: 0.7771 - val_loss: 0.5537 - val_accuracy: 0.7789\n",
      "Epoch 49/50\n",
      "16898/16898 [==============================] - 10s 572us/step - loss: 0.5680 - accuracy: 0.7823 - val_loss: 0.5334 - val_accuracy: 0.7865\n",
      "Epoch 50/50\n",
      "16898/16898 [==============================] - 8s 470us/step - loss: 0.5671 - accuracy: 0.7748 - val_loss: 0.5525 - val_accuracy: 0.7780\n"
     ]
    }
   ],
   "source": [
    "emg_train = emg_model.fit(\n",
    "    train_X,\n",
    "    train_label,\n",
    "    batch_size=batch_size,\n",
    "    epochs=epochs,\n",
    "    verbose=1,\n",
    "    validation_data=(valid_X, valid_label))"
   ]
  },
  {
   "cell_type": "code",
   "execution_count": 20,
   "metadata": {},
   "outputs": [],
   "source": [
    "test_eval = emg_model.evaluate(test_X, test_Y_one_hot, verbose=0)"
   ]
  },
  {
   "cell_type": "code",
   "execution_count": 21,
   "metadata": {},
   "outputs": [
    {
     "name": "stdout",
     "output_type": "stream",
     "text": [
      "Test loss:  0.5345459799208843\n",
      "Test accuracy:  0.7835534811019897\n"
     ]
    }
   ],
   "source": [
    "print('Test loss: ', test_eval[0])\n",
    "print('Test accuracy: ', test_eval[1])"
   ]
  },
  {
   "cell_type": "code",
   "execution_count": 22,
   "metadata": {},
   "outputs": [
    {
     "data": {
      "image/png": "[encoded data removed]",
      "text/plain": [
       "<Figure size 432x288 with 1 Axes>"
      ]
     },
     "metadata": {
      "needs_background": "light"
     },
     "output_type": "display_data"
    },
    {
     "data": {
      "image/png": "[encoded data removed]",
      "text/plain": [
       "<Figure size 432x288 with 1 Axes>"
      ]
     },
     "metadata": {
      "needs_background": "light"
     },
     "output_type": "display_data"
    }
   ],
   "source": [
    "# Visualization\n",
    "accuracy = emg_train.history['accuracy']\n",
    "val_accuracy = emg_train.history['val_accuracy']\n",
    "loss = emg_train.history['loss']\n",
    "val_loss = emg_train.history['val_loss']\n",
    "epoch = range(len(accuracy))\n",
    "plt.plot(epoch, accuracy, 'bo', label='Training accuracy')\n",
    "plt.plot(epoch, val_accuracy, 'b', label='Validation accuracy')\n",
    "plt.title('Training and validation accuracy')\n",
    "plt.legend()\n",
    "plt.figure()\n",
    "plt.plot(epoch, loss, 'bo', label='Training loss')\n",
    "plt.plot(epoch, val_loss, 'b', label='Validation loss')\n",
    "plt.title('Training and validation loss')\n",
    "plt.legend()\n",
    "plt.show()"
   ]
  },
  {
   "cell_type": "code",
   "execution_count": null,
   "metadata": {},
   "outputs": [],
   "source": []
  }
 ],
 "metadata": {
  "kernelspec": {
   "display_name": "Python 3",
   "language": "python",
   "name": "python3"
  },
  "language_info": {
   "codemirror_mode": {
    "name": "ipython",
    "version": 3
   },
   "file_extension": ".py",
   "mimetype": "text/x-python",
   "name": "python",
   "nbconvert_exporter": "python",
   "pygments_lexer": "ipython3",
   "version": "3.7.0"
  }
 },
 "nbformat": 4,
 "nbformat_minor": 2
}
