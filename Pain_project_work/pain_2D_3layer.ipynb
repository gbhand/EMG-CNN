{
 "cells": [
  {
   "cell_type": "code",
   "execution_count": 1,
   "metadata": {},
   "outputs": [
    {
     "name": "stderr",
     "output_type": "stream",
     "text": [
      "Using TensorFlow backend.\n",
      "/opt/miniconda3/envs/trial_env/lib/python3.7/site-packages/tensorflow/python/framework/dtypes.py:526: FutureWarning: Passing (type, 1) or '1type' as a synonym of type is deprecated; in a future version of numpy, it will be understood as (type, (1,)) / '(1,)type'.\n",
      "  _np_qint8 = np.dtype([(\"qint8\", np.int8, 1)])\n",
      "/opt/miniconda3/envs/trial_env/lib/python3.7/site-packages/tensorflow/python/framework/dtypes.py:527: FutureWarning: Passing (type, 1) or '1type' as a synonym of type is deprecated; in a future version of numpy, it will be understood as (type, (1,)) / '(1,)type'.\n",
      "  _np_quint8 = np.dtype([(\"quint8\", np.uint8, 1)])\n",
      "/opt/miniconda3/envs/trial_env/lib/python3.7/site-packages/tensorflow/python/framework/dtypes.py:528: FutureWarning: Passing (type, 1) or '1type' as a synonym of type is deprecated; in a future version of numpy, it will be understood as (type, (1,)) / '(1,)type'.\n",
      "  _np_qint16 = np.dtype([(\"qint16\", np.int16, 1)])\n",
      "/opt/miniconda3/envs/trial_env/lib/python3.7/site-packages/tensorflow/python/framework/dtypes.py:529: FutureWarning: Passing (type, 1) or '1type' as a synonym of type is deprecated; in a future version of numpy, it will be understood as (type, (1,)) / '(1,)type'.\n",
      "  _np_quint16 = np.dtype([(\"quint16\", np.uint16, 1)])\n",
      "/opt/miniconda3/envs/trial_env/lib/python3.7/site-packages/tensorflow/python/framework/dtypes.py:530: FutureWarning: Passing (type, 1) or '1type' as a synonym of type is deprecated; in a future version of numpy, it will be understood as (type, (1,)) / '(1,)type'.\n",
      "  _np_qint32 = np.dtype([(\"qint32\", np.int32, 1)])\n",
      "/opt/miniconda3/envs/trial_env/lib/python3.7/site-packages/tensorflow/python/framework/dtypes.py:535: FutureWarning: Passing (type, 1) or '1type' as a synonym of type is deprecated; in a future version of numpy, it will be understood as (type, (1,)) / '(1,)type'.\n",
      "  np_resource = np.dtype([(\"resource\", np.ubyte, 1)])\n"
     ]
    }
   ],
   "source": [
    "import os\n",
    "\n",
    "import matplotlib.pyplot as plt\n",
    "import numpy as np\n",
    "import pandas as pd\n",
    "import st_remux as st\n",
    "\n",
    "from sklearn.model_selection import train_test_split\n",
    "from keras.utils import to_categorical\n",
    "\n",
    "\n",
    "\n",
    "%matplotlib inline"
   ]
  },
  {
   "cell_type": "code",
   "execution_count": 2,
   "metadata": {},
   "outputs": [],
   "source": [
    "# Config\n",
    "\n",
    "highpain = 'Pain_data/final_data/high_pain'\n",
    "lowpain= 'Pain_data/final_data/low_pain'\n",
    "nopain= 'Pain_data/final_data/no_pain'\n",
    "\n",
    "fs = 4000\n",
    "win_len = 40\n",
    "\n",
    "use_filter = 0   # weird results if we use python filtering\n",
    "\n",
    "use_matlab_backend = 0\n",
    "\n",
    "#high = np.genfromtxt(highpain, delimiter=',')\n",
    "#no = np.genfromtxt(nopain, delimiter=',')"
   ]
  },
  {
   "cell_type": "code",
   "execution_count": 3,
   "metadata": {},
   "outputs": [
    {
     "name": "stdout",
     "output_type": "stream",
     "text": [
      "Using native backend\n",
      "['.DS_Store', 'pain_large.csv']\n",
      "ydim=16 xdim=40\n",
      "['pain_low.csv']\n",
      "ydim=16 xdim=40\n",
      "['.DS_Store', 'nopain.csv']\n",
      "ydim=16 xdim=40\n"
     ]
    }
   ],
   "source": [
    "if use_matlab_backend:\n",
    "    print('Using MATLAB signal processing backend')\n",
    "    # high_dir = 'datasets/high/'\n",
    "    # low_dir = 'datasets/low/'\n",
    "\n",
    "    high_dir = 'EMG_data/power_spectrum_for_cnn_input/high/'\n",
    "    low_dir = 'EMG_data/power_spectrum_for_cnn_input/low/'\n",
    "\n",
    "    def generate_3darray(directory):\n",
    "        files = os.listdir(directory)\n",
    "        dims = np.genfromtxt(directory + files[0], delimiter=',').shape\n",
    "        length = len(files)\n",
    "        arr = np.zeros((length, dims[0], dims[1]))\n",
    "\n",
    "        for idx, val in enumerate(files):\n",
    "            arr[idx] = np.genfromtxt(directory + val, delimiter=',')\n",
    "\n",
    "        return arr\n",
    "\n",
    "    hi = generate_3darray(high_dir)\n",
    "    lo = generate_3darray(low_dir)\n",
    "    \n",
    "else: \n",
    "    print('Using native backend')\n",
    "    hi = st.raw_to_arr(highpain, fs, win_len, 0)\n",
    "    low= st.raw_to_arr(lowpain, fs, win_len, 0)\n",
    "    no = st.raw_to_arr(nopain, fs, win_len, 0)\n",
    "\n",
    "X = np.concatenate((hi, no, low))\n",
    "\n",
    "hi_Y = np.ones(len(hi), dtype=int)*2\n",
    "low_Y= np.ones(len(low), dtype=int)*1\n",
    "no_Y = np.zeros(len(no), dtype=int)\n",
    "\n",
    "Y = np.concatenate((hi_Y, no_Y, low_Y))"
   ]
  },
  {
   "cell_type": "code",
   "execution_count": 4,
   "metadata": {},
   "outputs": [],
   "source": [
    "train_X, test_X, train_Y, test_Y = train_test_split(X, Y, test_size=0.1)"
   ]
  },
  {
   "cell_type": "code",
   "execution_count": 5,
   "metadata": {},
   "outputs": [
    {
     "name": "stdout",
     "output_type": "stream",
     "text": [
      "Training data shape:  (2572, 16, 40) (2572,)\n",
      "Testing data shape:  (286, 16, 40) (286,)\n"
     ]
    }
   ],
   "source": [
    "print('Training data shape: ', train_X.shape, train_Y.shape)\n",
    "print('Testing data shape: ', test_X.shape, test_Y.shape)"
   ]
  },
  {
   "cell_type": "code",
   "execution_count": 6,
   "metadata": {},
   "outputs": [
    {
     "name": "stdout",
     "output_type": "stream",
     "text": [
      "Total number of outputs:  3\n",
      "Output classes:  [0 1 2]\n"
     ]
    }
   ],
   "source": [
    "classes = np.unique(train_Y)\n",
    "nClasses = len(classes)\n",
    "print('Total number of outputs: ', nClasses)\n",
    "print('Output classes: ', classes)"
   ]
  },
  {
   "cell_type": "code",
   "execution_count": 7,
   "metadata": {},
   "outputs": [
    {
     "data": {
      "text/plain": [
       "Text(0.5,1,'Ground Truth: 2')"
      ]
     },
     "execution_count": 7,
     "metadata": {},
     "output_type": "execute_result"
    },
    {
     "data": {
      "image/png": "[encoded data removed]",
      "text/plain": [
       "<Figure size 720x144 with 2 Axes>"
      ]
     },
     "metadata": {
      "needs_background": "light"
     },
     "output_type": "display_data"
    }
   ],
   "source": [
    "plt.figure(figsize=[10,2])\n",
    "\n",
    "# Display first image in training set\n",
    "plt.subplot(121)\n",
    "plt.pcolormesh(train_X[0,:,:], cmap='jet')\n",
    "plt.title(\"Ground Truth: {}\".format(train_Y[0]))\n",
    "\n",
    "# Display second image in testing set\n",
    "plt.subplot(122)\n",
    "plt.pcolormesh(test_X[1], cmap='jet')\n",
    "plt.title(\"Ground Truth: {}\".format(test_Y[1]))"
   ]
  },
  {
   "cell_type": "code",
   "execution_count": 8,
   "metadata": {},
   "outputs": [
    {
     "data": {
      "text/plain": [
       "((2572, 16, 40, 1), (286, 16, 40, 1))"
      ]
     },
     "execution_count": 8,
     "metadata": {},
     "output_type": "execute_result"
    }
   ],
   "source": [
    "ydim = train_X[0].shape[0]\n",
    "xdim = train_X[0].shape[1]\n",
    "train_X = train_X.reshape(-1, ydim, xdim, 1)\n",
    "test_X = test_X.reshape(-1, ydim, xdim, 1)\n",
    "train_X.shape, test_X.shape"
   ]
  },
  {
   "cell_type": "code",
   "execution_count": 9,
   "metadata": {},
   "outputs": [],
   "source": [
    "train_X = train_X.astype('float32')\n",
    "test_X = test_X.astype('float32')"
   ]
  },
  {
   "cell_type": "code",
   "execution_count": 10,
   "metadata": {},
   "outputs": [
    {
     "name": "stdout",
     "output_type": "stream",
     "text": [
      "Original label:  1\n",
      "After conversion to one-hot:  [0. 1. 0.]\n"
     ]
    }
   ],
   "source": [
    "# Change labels from categorical to one-hot encoding\n",
    "train_Y_one_hot = to_categorical(train_Y)\n",
    "test_Y_one_hot = to_categorical(test_Y)\n",
    "\n",
    "# See the difference?\n",
    "print('Original label: ', train_Y[0])\n",
    "print('After conversion to one-hot: ', train_Y_one_hot[0])"
   ]
  },
  {
   "cell_type": "code",
   "execution_count": 11,
   "metadata": {},
   "outputs": [
    {
     "data": {
      "text/plain": [
       "(286, 3)"
      ]
     },
     "execution_count": 11,
     "metadata": {},
     "output_type": "execute_result"
    }
   ],
   "source": [
    "train_Y_one_hot.shape\n",
    "test_Y_one_hot.shape"
   ]
  },
  {
   "cell_type": "code",
   "execution_count": 12,
   "metadata": {},
   "outputs": [
    {
     "data": {
      "text/plain": [
       "((2057, 16, 40, 1), (515, 16, 40, 1), (2057, 3), (515, 3))"
      ]
     },
     "execution_count": 12,
     "metadata": {},
     "output_type": "execute_result"
    }
   ],
   "source": [
    "# Partition data for 80% training and 20% validation\n",
    "# should reduce overfitting and boost test performance\n",
    "\n",
    "train_X, valid_X, train_label, valid_label = train_test_split(train_X, train_Y_one_hot, test_size=0.2)\n",
    "\n",
    "train_X.shape, valid_X.shape, train_label.shape, valid_label.shape"
   ]
  },
  {
   "cell_type": "code",
   "execution_count": 13,
   "metadata": {},
   "outputs": [],
   "source": [
    "# let's get down to business\n",
    "import keras\n",
    "from keras.models import Sequential, Input, Model\n",
    "from keras.layers import Dense, Dropout, Flatten\n",
    "from keras.layers import Conv2D, MaxPooling2D\n",
    "from keras.layers.normalization import BatchNormalization\n",
    "from keras.layers.advanced_activations import LeakyReLU"
   ]
  },
  {
   "cell_type": "code",
   "execution_count": 14,
   "metadata": {},
   "outputs": [],
   "source": [
    "# Parameters\n",
    "batch_size = 32\n",
    "epochs = 50\n",
    "num_classes = nClasses"
   ]
  },
  {
   "cell_type": "code",
   "execution_count": 15,
   "metadata": {},
   "outputs": [
    {
     "name": "stdout",
     "output_type": "stream",
     "text": [
      "WARNING:tensorflow:From /opt/miniconda3/envs/trial_env/lib/python3.7/site-packages/tensorflow/python/ops/resource_variable_ops.py:435: colocate_with (from tensorflow.python.framework.ops) is deprecated and will be removed in a future version.\n",
      "Instructions for updating:\n",
      "Colocations handled automatically by placer.\n"
     ]
    }
   ],
   "source": [
    "pain_model = Sequential()\n",
    "pain_model.add(\n",
    "    Conv2D(\n",
    "        32, \n",
    "        kernel_size=(3, 3), \n",
    "        activation='linear', \n",
    "        input_shape=(ydim, xdim, 1), \n",
    "        padding='same'))\n",
    "pain_model.add(LeakyReLU(alpha=0.1))\n",
    "pain_model.add(MaxPooling2D(pool_size=(2, 2), padding='same'))\n",
    "pain_model.add(Dropout(0.25))\n",
    "pain_model.add(\n",
    "    Conv2D(\n",
    "        64,\n",
    "        (3, 3),\n",
    "        activation='linear',\n",
    "        padding='same'))\n",
    "pain_model.add(LeakyReLU(alpha=0.1))\n",
    "pain_model.add(MaxPooling2D(pool_size=(2, 2), padding='same'))\n",
    "pain_model.add(Dropout(0.25))\n",
    "pain_model.add(\n",
    "    Conv2D(\n",
    "        128,\n",
    "        (3, 3),\n",
    "        activation='linear',\n",
    "        padding='same'))\n",
    "pain_model.add(LeakyReLU(alpha=0.1))\n",
    "pain_model.add(MaxPooling2D(pool_size=(2, 2), padding='same'))\n",
    "pain_model.add(Dropout(0.4))\n",
    "pain_model.add(Flatten())\n",
    "pain_model.add(Dense(128, activation='linear'))\n",
    "pain_model.add(LeakyReLU(alpha=0.1))\n",
    "pain_model.add(Dropout(0.3))\n",
    "pain_model.add(Dense(num_classes, activation='softmax'))"
   ]
  },
  {
   "cell_type": "code",
   "execution_count": 16,
   "metadata": {},
   "outputs": [],
   "source": [
    "pain_model.compile(\n",
    "    loss=keras.losses.categorical_crossentropy,\n",
    "    optimizer=keras.optimizers.Adam(),\n",
    "    metrics=['accuracy'])"
   ]
  },
  {
   "cell_type": "code",
   "execution_count": 17,
   "metadata": {},
   "outputs": [
    {
     "name": "stdout",
     "output_type": "stream",
     "text": [
      "Model: \"sequential_1\"\n",
      "_________________________________________________________________\n",
      "Layer (type)                 Output Shape              Param #   \n",
      "=================================================================\n",
      "conv2d_1 (Conv2D)            (None, 16, 40, 32)        320       \n",
      "_________________________________________________________________\n",
      "leaky_re_lu_1 (LeakyReLU)    (None, 16, 40, 32)        0         \n",
      "_________________________________________________________________\n",
      "max_pooling2d_1 (MaxPooling2 (None, 8, 20, 32)         0         \n",
      "_________________________________________________________________\n",
      "dropout_1 (Dropout)          (None, 8, 20, 32)         0         \n",
      "_________________________________________________________________\n",
      "conv2d_2 (Conv2D)            (None, 8, 20, 64)         18496     \n",
      "_________________________________________________________________\n",
      "leaky_re_lu_2 (LeakyReLU)    (None, 8, 20, 64)         0         \n",
      "_________________________________________________________________\n",
      "max_pooling2d_2 (MaxPooling2 (None, 4, 10, 64)         0         \n",
      "_________________________________________________________________\n",
      "dropout_2 (Dropout)          (None, 4, 10, 64)         0         \n",
      "_________________________________________________________________\n",
      "conv2d_3 (Conv2D)            (None, 4, 10, 128)        73856     \n",
      "_________________________________________________________________\n",
      "leaky_re_lu_3 (LeakyReLU)    (None, 4, 10, 128)        0         \n",
      "_________________________________________________________________\n",
      "max_pooling2d_3 (MaxPooling2 (None, 2, 5, 128)         0         \n",
      "_________________________________________________________________\n",
      "dropout_3 (Dropout)          (None, 2, 5, 128)         0         \n",
      "_________________________________________________________________\n",
      "flatten_1 (Flatten)          (None, 1280)              0         \n",
      "_________________________________________________________________\n",
      "dense_1 (Dense)              (None, 128)               163968    \n",
      "_________________________________________________________________\n",
      "leaky_re_lu_4 (LeakyReLU)    (None, 128)               0         \n",
      "_________________________________________________________________\n",
      "dropout_4 (Dropout)          (None, 128)               0         \n",
      "_________________________________________________________________\n",
      "dense_2 (Dense)              (None, 3)                 387       \n",
      "=================================================================\n",
      "Total params: 257,027\n",
      "Trainable params: 257,027\n",
      "Non-trainable params: 0\n",
      "_________________________________________________________________\n"
     ]
    }
   ],
   "source": [
    "pain_model.summary()"
   ]
  },
  {
   "cell_type": "code",
   "execution_count": 18,
   "metadata": {},
   "outputs": [
    {
     "name": "stdout",
     "output_type": "stream",
     "text": [
      "WARNING:tensorflow:From /opt/miniconda3/envs/trial_env/lib/python3.7/site-packages/tensorflow/python/ops/math_ops.py:3066: to_int32 (from tensorflow.python.ops.math_ops) is deprecated and will be removed in a future version.\n",
      "Instructions for updating:\n",
      "Use tf.cast instead.\n",
      "Train on 2057 samples, validate on 515 samples\n",
      "Epoch 1/50\n",
      "2057/2057 [==============================] - 4s 2ms/step - loss: 1.0979 - accuracy: 0.3495 - val_loss: 1.0967 - val_accuracy: 0.3340\n",
      "Epoch 2/50\n",
      "2057/2057 [==============================] - 3s 1ms/step - loss: 1.0842 - accuracy: 0.3913 - val_loss: 1.0659 - val_accuracy: 0.4175\n",
      "Epoch 3/50\n",
      "2057/2057 [==============================] - 3s 1ms/step - loss: 1.0782 - accuracy: 0.3967 - val_loss: 1.0604 - val_accuracy: 0.4583\n",
      "Epoch 4/50\n",
      "2057/2057 [==============================] - 3s 1ms/step - loss: 1.0629 - accuracy: 0.4152 - val_loss: 1.0469 - val_accuracy: 0.4311\n",
      "Epoch 5/50\n",
      "2057/2057 [==============================] - 3s 1ms/step - loss: 1.0492 - accuracy: 0.4409 - val_loss: 1.0304 - val_accuracy: 0.4544\n",
      "Epoch 6/50\n",
      "2057/2057 [==============================] - 3s 1ms/step - loss: 1.0402 - accuracy: 0.4443 - val_loss: 1.0265 - val_accuracy: 0.4136\n",
      "Epoch 7/50\n",
      "2057/2057 [==============================] - 3s 1ms/step - loss: 1.0358 - accuracy: 0.4453 - val_loss: 1.0251 - val_accuracy: 0.4466\n",
      "Epoch 8/50\n",
      "2057/2057 [==============================] - 3s 1ms/step - loss: 1.0234 - accuracy: 0.4521 - val_loss: 1.0268 - val_accuracy: 0.4602\n",
      "Epoch 9/50\n",
      "2057/2057 [==============================] - 3s 1ms/step - loss: 1.0228 - accuracy: 0.4507 - val_loss: 1.0135 - val_accuracy: 0.4388\n",
      "Epoch 10/50\n",
      "2057/2057 [==============================] - 3s 1ms/step - loss: 1.0197 - accuracy: 0.4589 - val_loss: 1.0220 - val_accuracy: 0.4699\n",
      "Epoch 11/50\n",
      "2057/2057 [==============================] - 3s 1ms/step - loss: 1.0290 - accuracy: 0.4589 - val_loss: 1.0169 - val_accuracy: 0.4466\n",
      "Epoch 12/50\n",
      "2057/2057 [==============================] - 3s 1ms/step - loss: 1.0148 - accuracy: 0.4643 - val_loss: 1.0119 - val_accuracy: 0.4544\n",
      "Epoch 13/50\n",
      "2057/2057 [==============================] - 3s 1ms/step - loss: 1.0202 - accuracy: 0.4487 - val_loss: 1.0170 - val_accuracy: 0.4466\n",
      "Epoch 14/50\n",
      "2057/2057 [==============================] - 3s 1ms/step - loss: 1.0180 - accuracy: 0.4633 - val_loss: 1.0300 - val_accuracy: 0.4563\n",
      "Epoch 15/50\n",
      "2057/2057 [==============================] - 3s 1ms/step - loss: 1.0139 - accuracy: 0.4716 - val_loss: 1.0131 - val_accuracy: 0.4621\n",
      "Epoch 16/50\n",
      "2057/2057 [==============================] - 3s 1ms/step - loss: 1.0061 - accuracy: 0.4740 - val_loss: 1.0461 - val_accuracy: 0.4427\n",
      "Epoch 17/50\n",
      "2057/2057 [==============================] - 3s 1ms/step - loss: 1.0091 - accuracy: 0.4604 - val_loss: 1.0209 - val_accuracy: 0.4680\n",
      "Epoch 18/50\n",
      "2057/2057 [==============================] - 3s 1ms/step - loss: 1.0039 - accuracy: 0.4696 - val_loss: 1.0199 - val_accuracy: 0.4660\n",
      "Epoch 19/50\n",
      "2057/2057 [==============================] - 3s 1ms/step - loss: 0.9978 - accuracy: 0.4696 - val_loss: 1.0126 - val_accuracy: 0.4641\n",
      "Epoch 20/50\n",
      "2057/2057 [==============================] - 3s 1ms/step - loss: 0.9977 - accuracy: 0.4793 - val_loss: 1.0313 - val_accuracy: 0.4583\n",
      "Epoch 21/50\n",
      "2057/2057 [==============================] - 3s 1ms/step - loss: 1.0019 - accuracy: 0.4750 - val_loss: 1.0164 - val_accuracy: 0.4660\n",
      "Epoch 22/50\n",
      "2057/2057 [==============================] - 3s 1ms/step - loss: 0.9942 - accuracy: 0.4745 - val_loss: 1.0183 - val_accuracy: 0.4738\n",
      "Epoch 23/50\n",
      "2057/2057 [==============================] - 3s 1ms/step - loss: 0.9977 - accuracy: 0.4696 - val_loss: 1.0353 - val_accuracy: 0.4602\n",
      "Epoch 24/50\n",
      "2057/2057 [==============================] - 3s 1ms/step - loss: 0.9928 - accuracy: 0.4769 - val_loss: 1.0266 - val_accuracy: 0.4563\n",
      "Epoch 25/50\n",
      "2057/2057 [==============================] - 3s 1ms/step - loss: 0.9874 - accuracy: 0.4852 - val_loss: 1.0266 - val_accuracy: 0.4699\n",
      "Epoch 26/50\n",
      "2057/2057 [==============================] - 3s 1ms/step - loss: 0.9840 - accuracy: 0.4895 - val_loss: 1.0148 - val_accuracy: 0.4563\n",
      "Epoch 27/50\n",
      "2057/2057 [==============================] - 3s 1ms/step - loss: 0.9793 - accuracy: 0.4895 - val_loss: 1.0270 - val_accuracy: 0.4718\n",
      "Epoch 28/50\n",
      "2057/2057 [==============================] - 3s 1ms/step - loss: 0.9862 - accuracy: 0.4910 - val_loss: 1.0300 - val_accuracy: 0.4447\n",
      "Epoch 29/50\n",
      "2057/2057 [==============================] - 3s 1ms/step - loss: 0.9664 - accuracy: 0.5012 - val_loss: 1.0339 - val_accuracy: 0.4369\n",
      "Epoch 30/50\n",
      "2057/2057 [==============================] - 3s 1ms/step - loss: 0.9742 - accuracy: 0.5007 - val_loss: 1.0573 - val_accuracy: 0.4330\n",
      "Epoch 31/50\n",
      "2057/2057 [==============================] - 3s 1ms/step - loss: 0.9528 - accuracy: 0.5080 - val_loss: 1.0556 - val_accuracy: 0.4544\n",
      "Epoch 32/50\n",
      "2057/2057 [==============================] - 3s 1ms/step - loss: 0.9625 - accuracy: 0.5066 - val_loss: 1.0478 - val_accuracy: 0.4019\n",
      "Epoch 33/50\n",
      "2057/2057 [==============================] - 3s 1ms/step - loss: 0.9634 - accuracy: 0.5134 - val_loss: 1.0775 - val_accuracy: 0.4408\n",
      "Epoch 34/50\n",
      "2057/2057 [==============================] - 3s 1ms/step - loss: 0.9552 - accuracy: 0.5182 - val_loss: 1.0567 - val_accuracy: 0.4447\n",
      "Epoch 35/50\n",
      "2057/2057 [==============================] - 3s 1ms/step - loss: 0.9551 - accuracy: 0.5100 - val_loss: 1.0488 - val_accuracy: 0.4505\n",
      "Epoch 36/50\n",
      "2057/2057 [==============================] - 3s 1ms/step - loss: 0.9466 - accuracy: 0.5124 - val_loss: 1.0539 - val_accuracy: 0.3806\n",
      "Epoch 37/50\n",
      "2057/2057 [==============================] - 3s 1ms/step - loss: 0.9439 - accuracy: 0.5241 - val_loss: 1.0622 - val_accuracy: 0.4563\n",
      "Epoch 38/50\n",
      "2057/2057 [==============================] - 3s 1ms/step - loss: 0.9515 - accuracy: 0.5177 - val_loss: 1.0501 - val_accuracy: 0.4369\n",
      "Epoch 39/50\n",
      "2057/2057 [==============================] - 3s 1ms/step - loss: 0.9452 - accuracy: 0.5177 - val_loss: 1.0576 - val_accuracy: 0.4194\n",
      "Epoch 40/50\n",
      "2057/2057 [==============================] - 3s 1ms/step - loss: 0.9114 - accuracy: 0.5348 - val_loss: 1.0600 - val_accuracy: 0.4233\n",
      "Epoch 41/50\n",
      "2057/2057 [==============================] - 3s 1ms/step - loss: 0.9241 - accuracy: 0.5416 - val_loss: 1.0573 - val_accuracy: 0.4136\n",
      "Epoch 42/50\n",
      "2057/2057 [==============================] - 3s 1ms/step - loss: 0.9253 - accuracy: 0.5382 - val_loss: 1.0755 - val_accuracy: 0.4233\n",
      "Epoch 43/50\n",
      "2057/2057 [==============================] - 3s 1ms/step - loss: 0.9216 - accuracy: 0.5479 - val_loss: 1.0630 - val_accuracy: 0.4427\n",
      "Epoch 44/50\n",
      "2057/2057 [==============================] - 3s 1ms/step - loss: 0.9096 - accuracy: 0.5586 - val_loss: 1.0892 - val_accuracy: 0.4233\n",
      "Epoch 45/50\n",
      "2057/2057 [==============================] - 3s 1ms/step - loss: 0.8833 - accuracy: 0.5664 - val_loss: 1.1105 - val_accuracy: 0.4330\n",
      "Epoch 46/50\n",
      "2057/2057 [==============================] - 3s 1ms/step - loss: 0.9184 - accuracy: 0.5430 - val_loss: 1.0697 - val_accuracy: 0.4272\n",
      "Epoch 47/50\n",
      "2057/2057 [==============================] - 3s 1ms/step - loss: 0.8825 - accuracy: 0.5790 - val_loss: 1.1132 - val_accuracy: 0.4194\n",
      "Epoch 48/50\n",
      "2057/2057 [==============================] - 3s 1ms/step - loss: 0.8830 - accuracy: 0.5751 - val_loss: 1.0944 - val_accuracy: 0.4272\n",
      "Epoch 49/50\n",
      "2057/2057 [==============================] - 3s 1ms/step - loss: 0.8707 - accuracy: 0.5819 - val_loss: 1.1112 - val_accuracy: 0.4252\n",
      "Epoch 50/50\n",
      "2057/2057 [==============================] - 3s 1ms/step - loss: 0.8703 - accuracy: 0.5819 - val_loss: 1.0900 - val_accuracy: 0.4311\n"
     ]
    }
   ],
   "source": [
    "pain_train = pain_model.fit(train_X,train_label,\n",
    "    batch_size=batch_size,\n",
    "    epochs=epochs,\n",
    "    verbose=1,\n",
    "    validation_data=(valid_X, valid_label))"
   ]
  },
  {
   "cell_type": "code",
   "execution_count": 19,
   "metadata": {},
   "outputs": [],
   "source": [
    "test_eval = pain_model.evaluate(test_X, test_Y_one_hot, verbose=0)"
   ]
  },
  {
   "cell_type": "code",
   "execution_count": 20,
   "metadata": {},
   "outputs": [
    {
     "name": "stdout",
     "output_type": "stream",
     "text": [
      "Test loss:  1.0799371237521405\n",
      "Test accuracy:  0.4720279574394226\n"
     ]
    }
   ],
   "source": [
    "print('Test loss: ', test_eval[0])\n",
    "print('Test accuracy: ', test_eval[1])"
   ]
  },
  {
   "cell_type": "code",
   "execution_count": 21,
   "metadata": {},
   "outputs": [
    {
     "data": {
      "image/png": "[encoded data removed]",
      "text/plain": [
       "<Figure size 432x288 with 1 Axes>"
      ]
     },
     "metadata": {
      "needs_background": "light"
     },
     "output_type": "display_data"
    },
    {
     "data": {
      "image/png": "[encoded data removed]",
      "text/plain": [
       "<Figure size 432x288 with 1 Axes>"
      ]
     },
     "metadata": {
      "needs_background": "light"
     },
     "output_type": "display_data"
    }
   ],
   "source": [
    "accuracy = pain_train.history['accuracy']\n",
    "val_accuracy = pain_train.history['val_accuracy']\n",
    "loss = pain_train.history['loss']\n",
    "val_loss = pain_train.history['val_loss']\n",
    "epoch = range(len(accuracy))\n",
    "plt.plot(epoch, accuracy, 'bo', label='Training accuracy')\n",
    "plt.plot(epoch, val_accuracy, 'b', label='Validation accuracy')\n",
    "plt.title('Training and validation accuracy')\n",
    "plt.legend()\n",
    "plt.figure()\n",
    "plt.plot(epoch, loss, 'bo', label='Training loss')\n",
    "plt.plot(epoch, val_loss, 'b', label='Validation loss')\n",
    "plt.title('Training and validation loss')\n",
    "plt.legend()\n",
    "plt.show()"
   ]
  },
  {
   "cell_type": "code",
   "execution_count": 22,
   "metadata": {},
   "outputs": [],
   "source": [
    "predicted_classes = pain_model.predict(test_X)"
   ]
  },
  {
   "cell_type": "code",
   "execution_count": 23,
   "metadata": {},
   "outputs": [],
   "source": [
    "predicted_classes = np.argmax(np.round(predicted_classes), axis=1)"
   ]
  },
  {
   "cell_type": "code",
   "execution_count": 24,
   "metadata": {},
   "outputs": [
    {
     "data": {
      "text/plain": [
       "((286,), (286,))"
      ]
     },
     "execution_count": 24,
     "metadata": {},
     "output_type": "execute_result"
    }
   ],
   "source": [
    "predicted_classes.shape, test_Y.shape"
   ]
  },
  {
   "cell_type": "code",
   "execution_count": 25,
   "metadata": {},
   "outputs": [
    {
     "name": "stdout",
     "output_type": "stream",
     "text": [
      "Found 141 correct labels\n"
     ]
    },
    {
     "data": {
      "image/png": "[encoded data removed]",
      "text/plain": [
       "<Figure size 432x288 with 9 Axes>"
      ]
     },
     "metadata": {
      "needs_background": "light"
     },
     "output_type": "display_data"
    }
   ],
   "source": [
    "correct = np.where(predicted_classes==test_Y)[0]\n",
    "print(\"Found %d correct labels\" % len(correct))\n",
    "for i, correct, in enumerate(correct[:9]):\n",
    "    plt.subplot(3, 3, i+1)\n",
    "    plt.pcolormesh(test_X[correct].reshape(ydim, xdim), cmap='jet')\n",
    "    plt.title(\"Predicted {}, Class {}\".format(predicted_classes[correct], test_Y[correct]))\n",
    "    plt.tight_layout()"
   ]
  },
  {
   "cell_type": "code",
   "execution_count": 26,
   "metadata": {},
   "outputs": [
    {
     "name": "stdout",
     "output_type": "stream",
     "text": [
      "Found 145 incorrect labels\n"
     ]
    },
    {
     "data": {
      "image/png": "[encoded data removed]",
      "text/plain": [
       "<Figure size 432x288 with 9 Axes>"
      ]
     },
     "metadata": {
      "needs_background": "light"
     },
     "output_type": "display_data"
    }
   ],
   "source": [
    "incorrect = np.where(predicted_classes!=test_Y)[0]\n",
    "print(\"Found %d incorrect labels\" % len(incorrect))\n",
    "for i, incorrect, in enumerate(incorrect[:9]):\n",
    "    plt.subplot(3, 3, i+1)\n",
    "    plt.pcolormesh(test_X[incorrect].reshape(ydim, xdim), cmap='jet')\n",
    "    plt.title(\"Predicted {}, Class {}\".format(predicted_classes[incorrect], test_Y[incorrect]))\n",
    "    plt.tight_layout()"
   ]
  },
  {
   "cell_type": "code",
   "execution_count": 27,
   "metadata": {},
   "outputs": [
    {
     "name": "stdout",
     "output_type": "stream",
     "text": [
      "             precision    recall  f1-score   support\n",
      "\n",
      "    Class 0       0.47      0.94      0.62       109\n",
      "    Class 1       0.48      0.17      0.25        93\n",
      "    Class 2       0.68      0.27      0.39        84\n",
      "\n",
      "avg / total       0.53      0.49      0.43       286\n",
      "\n"
     ]
    }
   ],
   "source": [
    "from sklearn.metrics import classification_report\n",
    "target_names = [\"Class {}\".format(i) for i in range(num_classes)]\n",
    "print(classification_report(test_Y, predicted_classes, target_names=target_names))"
   ]
  },
  {
   "cell_type": "code",
   "execution_count": null,
   "metadata": {},
   "outputs": [],
   "source": []
  }
 ],
 "metadata": {
  "kernelspec": {
   "display_name": "Python 3",
   "language": "python",
   "name": "python3"
  },
  "language_info": {
   "codemirror_mode": {
    "name": "ipython",
    "version": 3
   },
   "file_extension": ".py",
   "mimetype": "text/x-python",
   "name": "python",
   "nbconvert_exporter": "python",
   "pygments_lexer": "ipython3",
   "version": "3.7.0"
  }
 },
 "nbformat": 4,
 "nbformat_minor": 2
}
