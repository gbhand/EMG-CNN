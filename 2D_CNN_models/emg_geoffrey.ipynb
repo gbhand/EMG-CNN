{
 "cells": [
  {
   "cell_type": "code",
   "execution_count": 1,
   "metadata": {},
   "outputs": [
    {
     "name": "stderr",
     "output_type": "stream",
     "text": [
      "Using TensorFlow backend.\n",
      "/opt/miniconda3/envs/trial_env/lib/python3.7/site-packages/tensorflow/python/framework/dtypes.py:526: FutureWarning: Passing (type, 1) or '1type' as a synonym of type is deprecated; in a future version of numpy, it will be understood as (type, (1,)) / '(1,)type'.\n",
      "  _np_qint8 = np.dtype([(\"qint8\", np.int8, 1)])\n",
      "/opt/miniconda3/envs/trial_env/lib/python3.7/site-packages/tensorflow/python/framework/dtypes.py:527: FutureWarning: Passing (type, 1) or '1type' as a synonym of type is deprecated; in a future version of numpy, it will be understood as (type, (1,)) / '(1,)type'.\n",
      "  _np_quint8 = np.dtype([(\"quint8\", np.uint8, 1)])\n",
      "/opt/miniconda3/envs/trial_env/lib/python3.7/site-packages/tensorflow/python/framework/dtypes.py:528: FutureWarning: Passing (type, 1) or '1type' as a synonym of type is deprecated; in a future version of numpy, it will be understood as (type, (1,)) / '(1,)type'.\n",
      "  _np_qint16 = np.dtype([(\"qint16\", np.int16, 1)])\n",
      "/opt/miniconda3/envs/trial_env/lib/python3.7/site-packages/tensorflow/python/framework/dtypes.py:529: FutureWarning: Passing (type, 1) or '1type' as a synonym of type is deprecated; in a future version of numpy, it will be understood as (type, (1,)) / '(1,)type'.\n",
      "  _np_quint16 = np.dtype([(\"quint16\", np.uint16, 1)])\n",
      "/opt/miniconda3/envs/trial_env/lib/python3.7/site-packages/tensorflow/python/framework/dtypes.py:530: FutureWarning: Passing (type, 1) or '1type' as a synonym of type is deprecated; in a future version of numpy, it will be understood as (type, (1,)) / '(1,)type'.\n",
      "  _np_qint32 = np.dtype([(\"qint32\", np.int32, 1)])\n",
      "/opt/miniconda3/envs/trial_env/lib/python3.7/site-packages/tensorflow/python/framework/dtypes.py:535: FutureWarning: Passing (type, 1) or '1type' as a synonym of type is deprecated; in a future version of numpy, it will be understood as (type, (1,)) / '(1,)type'.\n",
      "  np_resource = np.dtype([(\"resource\", np.ubyte, 1)])\n"
     ]
    }
   ],
   "source": [
    "import os\n",
    "\n",
    "import matplotlib.pyplot as plt\n",
    "import numpy as np\n",
    "import pandas as pd\n",
    "import st_remux as st\n",
    "\n",
    "from sklearn.model_selection import train_test_split\n",
    "from keras.utils import to_categorical\n",
    "\n",
    "\n",
    "\n",
    "%matplotlib inline"
   ]
  },
  {
   "cell_type": "code",
   "execution_count": 2,
   "metadata": {},
   "outputs": [],
   "source": [
    "# Config\n",
    "highpath = 'EMG_data/high_fatigue_raw.csv'\n",
    "lowpath = 'EMG_data/low_fatigue_raw.csv'\n",
    "\n",
    "fs = 4000\n",
    "win_len = 40\n",
    "\n",
    "use_filter = 0   # weird results if we use python filtering\n",
    "\n",
    "use_matlab_backend = 0\n",
    "\n",
    "high = np.genfromtxt(highpath, delimiter=',')\n",
    "low = np.genfromtxt(lowpath, delimiter=',')\n"
   ]
  },
  {
   "cell_type": "code",
   "execution_count": 3,
   "metadata": {},
   "outputs": [
    {
     "name": "stdout",
     "output_type": "stream",
     "text": [
      "Using native backend\n"
     ]
    }
   ],
   "source": [
    "if use_matlab_backend:\n",
    "    print('Using MATLAB signal processing backend')\n",
    "    # high_dir = 'datasets/high/'\n",
    "    # low_dir = 'datasets/low/'\n",
    "\n",
    "    high_dir = 'EMG_data/power_spectrum_for_cnn_input/high/'\n",
    "    low_dir = 'EMG_data/power_spectrum_for_cnn_input/low/'\n",
    "\n",
    "    def generate_3darray(directory):\n",
    "        files = os.listdir(directory)\n",
    "        dims = np.genfromtxt(directory + files[0], delimiter=',').shape\n",
    "        length = len(files)\n",
    "        arr = np.zeros((length, dims[0], dims[1]))\n",
    "\n",
    "        for idx, val in enumerate(files):\n",
    "            arr[idx] = np.genfromtxt(directory + val, delimiter=',')\n",
    "\n",
    "        return arr\n",
    "\n",
    "    hi = generate_3darray(high_dir)\n",
    "    lo = generate_3darray(low_dir)\n",
    "    \n",
    "else: \n",
    "    print('Using native backend')\n",
    "    hi = st.raw_to_arr(high, fs, win_len, 0)\n",
    "    lo = st.raw_to_arr(low, fs, win_len, 0)\n",
    "\n",
    "X = np.concatenate((hi, lo))\n",
    "\n",
    "hi_Y = np.ones(len(hi), dtype=int)\n",
    "lo_Y = np.zeros(len(lo), dtype=int)\n",
    "\n",
    "Y = np.concatenate((hi_Y, lo_Y))"
   ]
  },
  {
   "cell_type": "code",
   "execution_count": 4,
   "metadata": {},
   "outputs": [],
   "source": [
    "train_X, test_X, train_Y, test_Y = train_test_split(X, Y, test_size=0.1, random_state=13)"
   ]
  },
  {
   "cell_type": "code",
   "execution_count": 5,
   "metadata": {},
   "outputs": [
    {
     "name": "stdout",
     "output_type": "stream",
     "text": [
      "Training data shape:  (3681, 16, 40) (3681,)\n",
      "Testing data shape:  (410, 16, 40) (410,)\n"
     ]
    }
   ],
   "source": [
    "print('Training data shape: ', train_X.shape, train_Y.shape)\n",
    "print('Testing data shape: ', test_X.shape, test_Y.shape)"
   ]
  },
  {
   "cell_type": "code",
   "execution_count": 6,
   "metadata": {},
   "outputs": [
    {
     "name": "stdout",
     "output_type": "stream",
     "text": [
      "Total number of outputs:  2\n",
      "Output classes:  [0 1]\n"
     ]
    }
   ],
   "source": [
    "classes = np.unique(train_Y)\n",
    "nClasses = len(classes)\n",
    "print('Total number of outputs: ', nClasses)\n",
    "print('Output classes: ', classes)\n"
   ]
  },
  {
   "cell_type": "code",
   "execution_count": 7,
   "metadata": {},
   "outputs": [
    {
     "data": {
      "text/plain": [
       "Text(0.5,1,'Ground Truth: 1')"
      ]
     },
     "execution_count": 7,
     "metadata": {},
     "output_type": "execute_result"
    },
    {
     "data": {
      "image/png": "[encoded data removed]",
      "text/plain": [
       "<Figure size 720x144 with 2 Axes>"
      ]
     },
     "metadata": {
      "needs_background": "light"
     },
     "output_type": "display_data"
    }
   ],
   "source": [
    "plt.figure(figsize=[10,2])\n",
    "\n",
    "# Display first image in training set\n",
    "plt.subplot(121)\n",
    "plt.pcolormesh(train_X[0,:,:], cmap='jet')\n",
    "plt.title(\"Ground Truth: {}\".format(train_Y[0]))\n",
    "\n",
    "# Display second image in testing set\n",
    "plt.subplot(122)\n",
    "plt.pcolormesh(test_X[1], cmap='jet')\n",
    "plt.title(\"Ground Truth: {}\".format(test_Y[1]))"
   ]
  },
  {
   "cell_type": "code",
   "execution_count": 8,
   "metadata": {},
   "outputs": [
    {
     "data": {
      "text/plain": [
       "((3681, 16, 40, 1), (410, 16, 40, 1))"
      ]
     },
     "execution_count": 8,
     "metadata": {},
     "output_type": "execute_result"
    }
   ],
   "source": [
    "ydim = train_X[0].shape[0]\n",
    "xdim = train_X[0].shape[1]\n",
    "train_X = train_X.reshape(-1, ydim, xdim, 1)\n",
    "test_X = test_X.reshape(-1, ydim, xdim, 1)\n",
    "train_X.shape, test_X.shape"
   ]
  },
  {
   "cell_type": "code",
   "execution_count": 9,
   "metadata": {},
   "outputs": [],
   "source": [
    "train_X = train_X.astype('float32')\n",
    "test_X = test_X.astype('float32')"
   ]
  },
  {
   "cell_type": "code",
   "execution_count": 10,
   "metadata": {},
   "outputs": [
    {
     "name": "stdout",
     "output_type": "stream",
     "text": [
      "Original label:  0\n",
      "After conversion to one-hot:  [1. 0.]\n"
     ]
    }
   ],
   "source": [
    "# Change labels from categorical to one-hot encoding\n",
    "train_Y_one_hot = to_categorical(train_Y)\n",
    "test_Y_one_hot = to_categorical(test_Y)\n",
    "\n",
    "# See the difference?\n",
    "print('Original label: ', train_Y[0])\n",
    "print('After conversion to one-hot: ', train_Y_one_hot[0])"
   ]
  },
  {
   "cell_type": "code",
   "execution_count": 11,
   "metadata": {},
   "outputs": [
    {
     "data": {
      "text/plain": [
       "(3681, 2)"
      ]
     },
     "execution_count": 11,
     "metadata": {},
     "output_type": "execute_result"
    }
   ],
   "source": [
    "train_Y_one_hot.shape"
   ]
  },
  {
   "cell_type": "code",
   "execution_count": 12,
   "metadata": {},
   "outputs": [
    {
     "data": {
      "text/plain": [
       "((2944, 16, 40, 1), (737, 16, 40, 1), (2944, 2), (737, 2))"
      ]
     },
     "execution_count": 12,
     "metadata": {},
     "output_type": "execute_result"
    }
   ],
   "source": [
    "# Partition data for 80% training and 20% validation\n",
    "# should reduce overfitting and boost test performance\n",
    "\n",
    "train_X, valid_X, train_label, valid_label = train_test_split(train_X, train_Y_one_hot, test_size=0.2)\n",
    "\n",
    "train_X.shape, valid_X.shape, train_label.shape, valid_label.shape"
   ]
  },
  {
   "cell_type": "code",
   "execution_count": 13,
   "metadata": {},
   "outputs": [],
   "source": [
    "# let's get down to business\n",
    "import keras\n",
    "from keras.models import Sequential, Input, Model\n",
    "from keras.layers import Dense, Dropout, Flatten\n",
    "from keras.layers import Conv2D, MaxPooling2D\n",
    "from keras.layers.normalization import BatchNormalization\n",
    "from keras.layers.advanced_activations import LeakyReLU"
   ]
  },
  {
   "cell_type": "code",
   "execution_count": 14,
   "metadata": {},
   "outputs": [],
   "source": [
    "batch_size = 64\n",
    "epochs = 50\n",
    "num_classes = nClasses"
   ]
  },
  {
   "cell_type": "code",
   "execution_count": 24,
   "metadata": {},
   "outputs": [],
   "source": [
    "emg_model = Sequential()\n",
    "emg_model.add(\n",
    "    Conv2D(\n",
    "        32, \n",
    "        kernel_size=(3, 3), \n",
    "        activation='linear', \n",
    "        input_shape=(ydim, xdim, 1), \n",
    "        padding='same'))\n",
    "emg_model.add(LeakyReLU(alpha=0.1))\n",
    "emg_model.add(MaxPooling2D(pool_size=(2, 2), padding='same'))\n",
    "emg_model.add(Dropout(0.25))\n",
    "emg_model.add(\n",
    "    Conv2D(\n",
    "        64,\n",
    "        (3, 3),\n",
    "        activation='linear',\n",
    "        padding='same'))\n",
    "emg_model.add(LeakyReLU(alpha=0.1))\n",
    "emg_model.add(MaxPooling2D(pool_size=(2, 2), padding='same'))\n",
    "emg_model.add(Dropout(0.25))\n",
    "emg_model.add(\n",
    "    Conv2D(\n",
    "        128,\n",
    "        (3, 3),\n",
    "        activation='linear',\n",
    "        padding='same'))\n",
    "emg_model.add(LeakyReLU(alpha=0.1))\n",
    "emg_model.add(MaxPooling2D(pool_size=(2, 2), padding='same'))\n",
    "emg_model.add(Dropout(0.4))\n",
    "emg_model.add(Flatten())\n",
    "emg_model.add(Dense(128, activation='linear'))\n",
    "emg_model.add(LeakyReLU(alpha=0.1))\n",
    "emg_model.add(Dropout(0.3))\n",
    "emg_model.add(Dense(num_classes, activation='softmax'))"
   ]
  },
  {
   "cell_type": "code",
   "execution_count": 25,
   "metadata": {},
   "outputs": [],
   "source": [
    "emg_model.compile(loss=keras.losses.categorical_crossentropy,\n",
    "              optimizer=keras.optimizers.Adam(),\n",
    "              metrics=['accuracy'])"
   ]
  },
  {
   "cell_type": "code",
   "execution_count": 26,
   "metadata": {},
   "outputs": [
    {
     "name": "stdout",
     "output_type": "stream",
     "text": [
      "Model: \"sequential_4\"\n",
      "_________________________________________________________________\n",
      "Layer (type)                 Output Shape              Param #   \n",
      "=================================================================\n",
      "conv2d_9 (Conv2D)            (None, 16, 40, 32)        320       \n",
      "_________________________________________________________________\n",
      "leaky_re_lu_11 (LeakyReLU)   (None, 16, 40, 32)        0         \n",
      "_________________________________________________________________\n",
      "max_pooling2d_9 (MaxPooling2 (None, 8, 20, 32)         0         \n",
      "_________________________________________________________________\n",
      "dropout_11 (Dropout)         (None, 8, 20, 32)         0         \n",
      "_________________________________________________________________\n",
      "conv2d_10 (Conv2D)           (None, 8, 20, 64)         18496     \n",
      "_________________________________________________________________\n",
      "leaky_re_lu_12 (LeakyReLU)   (None, 8, 20, 64)         0         \n",
      "_________________________________________________________________\n",
      "max_pooling2d_10 (MaxPooling (None, 4, 10, 64)         0         \n",
      "_________________________________________________________________\n",
      "dropout_12 (Dropout)         (None, 4, 10, 64)         0         \n",
      "_________________________________________________________________\n",
      "conv2d_11 (Conv2D)           (None, 4, 10, 128)        73856     \n",
      "_________________________________________________________________\n",
      "leaky_re_lu_13 (LeakyReLU)   (None, 4, 10, 128)        0         \n",
      "_________________________________________________________________\n",
      "max_pooling2d_11 (MaxPooling (None, 2, 5, 128)         0         \n",
      "_________________________________________________________________\n",
      "dropout_13 (Dropout)         (None, 2, 5, 128)         0         \n",
      "_________________________________________________________________\n",
      "flatten_3 (Flatten)          (None, 1280)              0         \n",
      "_________________________________________________________________\n",
      "dense_5 (Dense)              (None, 128)               163968    \n",
      "_________________________________________________________________\n",
      "leaky_re_lu_14 (LeakyReLU)   (None, 128)               0         \n",
      "_________________________________________________________________\n",
      "dropout_14 (Dropout)         (None, 128)               0         \n",
      "_________________________________________________________________\n",
      "dense_6 (Dense)              (None, 2)                 258       \n",
      "=================================================================\n",
      "Total params: 256,898\n",
      "Trainable params: 256,898\n",
      "Non-trainable params: 0\n",
      "_________________________________________________________________\n"
     ]
    }
   ],
   "source": [
    "emg_model.summary()"
   ]
  },
  {
   "cell_type": "code",
   "execution_count": 27,
   "metadata": {},
   "outputs": [
    {
     "name": "stdout",
     "output_type": "stream",
     "text": [
      "Train on 2944 samples, validate on 737 samples\n",
      "Epoch 1/50\n",
      "2944/2944 [==============================] - 4s 2ms/step - loss: 0.6923 - accuracy: 0.5109 - val_loss: 0.6889 - val_accuracy: 0.4763\n",
      "Epoch 2/50\n",
      "2944/2944 [==============================] - 3s 1ms/step - loss: 0.6813 - accuracy: 0.5418 - val_loss: 0.6820 - val_accuracy: 0.5550\n",
      "Epoch 3/50\n",
      "2944/2944 [==============================] - 3s 1ms/step - loss: 0.6871 - accuracy: 0.5194 - val_loss: 0.6780 - val_accuracy: 0.5685\n",
      "Epoch 4/50\n",
      "2944/2944 [==============================] - 3s 1ms/step - loss: 0.6794 - accuracy: 0.5543 - val_loss: 0.6822 - val_accuracy: 0.5617\n",
      "Epoch 5/50\n",
      "2944/2944 [==============================] - 3s 1ms/step - loss: 0.6767 - accuracy: 0.5625 - val_loss: 0.6756 - val_accuracy: 0.5550\n",
      "Epoch 6/50\n",
      "2944/2944 [==============================] - 3s 1ms/step - loss: 0.6781 - accuracy: 0.5537 - val_loss: 0.6745 - val_accuracy: 0.5672\n",
      "Epoch 7/50\n",
      "2944/2944 [==============================] - 3s 1ms/step - loss: 0.6754 - accuracy: 0.5683 - val_loss: 0.6665 - val_accuracy: 0.5726\n",
      "Epoch 8/50\n",
      "2944/2944 [==============================] - 3s 1ms/step - loss: 0.6496 - accuracy: 0.6135 - val_loss: 0.5788 - val_accuracy: 0.7259\n",
      "Epoch 9/50\n",
      "2944/2944 [==============================] - 3s 1ms/step - loss: 0.5623 - accuracy: 0.7221 - val_loss: 0.4810 - val_accuracy: 0.7883\n",
      "Epoch 10/50\n",
      "2944/2944 [==============================] - 3s 1ms/step - loss: 0.4904 - accuracy: 0.7745 - val_loss: 0.4067 - val_accuracy: 0.8318\n",
      "Epoch 11/50\n",
      "2944/2944 [==============================] - 3s 1ms/step - loss: 0.4563 - accuracy: 0.7938 - val_loss: 0.4230 - val_accuracy: 0.8250\n",
      "Epoch 12/50\n",
      "2944/2944 [==============================] - 3s 1ms/step - loss: 0.4229 - accuracy: 0.8122 - val_loss: 0.3925 - val_accuracy: 0.8331\n",
      "Epoch 13/50\n",
      "2944/2944 [==============================] - 3s 1ms/step - loss: 0.3706 - accuracy: 0.8495 - val_loss: 0.3278 - val_accuracy: 0.8752\n",
      "Epoch 14/50\n",
      "2944/2944 [==============================] - 3s 1ms/step - loss: 0.3498 - accuracy: 0.8509 - val_loss: 0.3164 - val_accuracy: 0.8833\n",
      "Epoch 15/50\n",
      "2944/2944 [==============================] - 3s 1ms/step - loss: 0.3449 - accuracy: 0.8587 - val_loss: 0.3002 - val_accuracy: 0.8847\n",
      "Epoch 16/50\n",
      "2944/2944 [==============================] - 3s 1ms/step - loss: 0.3351 - accuracy: 0.8590 - val_loss: 0.3578 - val_accuracy: 0.8494\n",
      "Epoch 17/50\n",
      "2944/2944 [==============================] - 3s 1ms/step - loss: 0.3269 - accuracy: 0.8672 - val_loss: 0.2745 - val_accuracy: 0.8887\n",
      "Epoch 18/50\n",
      "2944/2944 [==============================] - 3s 1ms/step - loss: 0.2984 - accuracy: 0.8794 - val_loss: 0.2781 - val_accuracy: 0.8901\n",
      "Epoch 19/50\n",
      "2944/2944 [==============================] - 3s 1ms/step - loss: 0.2905 - accuracy: 0.8872 - val_loss: 0.2575 - val_accuracy: 0.8928\n",
      "Epoch 20/50\n",
      "2944/2944 [==============================] - 3s 1ms/step - loss: 0.3046 - accuracy: 0.8801 - val_loss: 0.2589 - val_accuracy: 0.9009\n",
      "Epoch 21/50\n",
      "2944/2944 [==============================] - 3s 1ms/step - loss: 0.2737 - accuracy: 0.8899 - val_loss: 0.3172 - val_accuracy: 0.8792\n",
      "Epoch 22/50\n",
      "2944/2944 [==============================] - 4s 1ms/step - loss: 0.2782 - accuracy: 0.8971 - val_loss: 0.3340 - val_accuracy: 0.8684\n",
      "Epoch 23/50\n",
      "2944/2944 [==============================] - 4s 1ms/step - loss: 0.2770 - accuracy: 0.8930 - val_loss: 0.2425 - val_accuracy: 0.8996\n",
      "Epoch 24/50\n",
      "2944/2944 [==============================] - 4s 1ms/step - loss: 0.2631 - accuracy: 0.8947 - val_loss: 0.2091 - val_accuracy: 0.9172\n",
      "Epoch 25/50\n",
      "2944/2944 [==============================] - 3s 1ms/step - loss: 0.2559 - accuracy: 0.9018 - val_loss: 0.2312 - val_accuracy: 0.9064\n",
      "Epoch 26/50\n",
      "2944/2944 [==============================] - 3s 1ms/step - loss: 0.2648 - accuracy: 0.9018 - val_loss: 0.2093 - val_accuracy: 0.9186\n",
      "Epoch 27/50\n",
      "2944/2944 [==============================] - 3s 1ms/step - loss: 0.2425 - accuracy: 0.9046 - val_loss: 0.2174 - val_accuracy: 0.9118\n",
      "Epoch 28/50\n",
      "2944/2944 [==============================] - 4s 1ms/step - loss: 0.2438 - accuracy: 0.9018 - val_loss: 0.2172 - val_accuracy: 0.9132\n",
      "Epoch 29/50\n",
      "2944/2944 [==============================] - 4s 1ms/step - loss: 0.2472 - accuracy: 0.9042 - val_loss: 0.1823 - val_accuracy: 0.9281\n",
      "Epoch 30/50\n",
      "2944/2944 [==============================] - 4s 1ms/step - loss: 0.2364 - accuracy: 0.9103 - val_loss: 0.1916 - val_accuracy: 0.9335\n",
      "Epoch 31/50\n",
      "2944/2944 [==============================] - 4s 1ms/step - loss: 0.2303 - accuracy: 0.9110 - val_loss: 0.1987 - val_accuracy: 0.9172\n",
      "Epoch 32/50\n",
      "2944/2944 [==============================] - 3s 1ms/step - loss: 0.2179 - accuracy: 0.9222 - val_loss: 0.1698 - val_accuracy: 0.9362\n",
      "Epoch 33/50\n",
      "2944/2944 [==============================] - 3s 1ms/step - loss: 0.2238 - accuracy: 0.9181 - val_loss: 0.1739 - val_accuracy: 0.9376\n",
      "Epoch 34/50\n",
      "2944/2944 [==============================] - 4s 1ms/step - loss: 0.2161 - accuracy: 0.9161 - val_loss: 0.2545 - val_accuracy: 0.9037\n",
      "Epoch 35/50\n",
      "2944/2944 [==============================] - 4s 1ms/step - loss: 0.2101 - accuracy: 0.9253 - val_loss: 0.1708 - val_accuracy: 0.9322\n",
      "Epoch 36/50\n",
      "2944/2944 [==============================] - 4s 1ms/step - loss: 0.2125 - accuracy: 0.9198 - val_loss: 0.1738 - val_accuracy: 0.9349\n",
      "Epoch 37/50\n",
      "2944/2944 [==============================] - 4s 1ms/step - loss: 0.2074 - accuracy: 0.9168 - val_loss: 0.1990 - val_accuracy: 0.9172\n",
      "Epoch 38/50\n",
      "2944/2944 [==============================] - 3s 1ms/step - loss: 0.1998 - accuracy: 0.9236 - val_loss: 0.2400 - val_accuracy: 0.9064\n",
      "Epoch 39/50\n",
      "2944/2944 [==============================] - 3s 1ms/step - loss: 0.2053 - accuracy: 0.9232 - val_loss: 0.1828 - val_accuracy: 0.9254\n",
      "Epoch 40/50\n",
      "2944/2944 [==============================] - 3s 1ms/step - loss: 0.1835 - accuracy: 0.9324 - val_loss: 0.1978 - val_accuracy: 0.9199\n",
      "Epoch 41/50\n",
      "2944/2944 [==============================] - 3s 1ms/step - loss: 0.1773 - accuracy: 0.9351 - val_loss: 0.1753 - val_accuracy: 0.9281\n",
      "Epoch 42/50\n",
      "2944/2944 [==============================] - 3s 1ms/step - loss: 0.1815 - accuracy: 0.9307 - val_loss: 0.1473 - val_accuracy: 0.9417\n",
      "Epoch 43/50\n",
      "2944/2944 [==============================] - 4s 1ms/step - loss: 0.1758 - accuracy: 0.9351 - val_loss: 0.1273 - val_accuracy: 0.9498\n",
      "Epoch 44/50\n",
      "2944/2944 [==============================] - 4s 1ms/step - loss: 0.1727 - accuracy: 0.9389 - val_loss: 0.1420 - val_accuracy: 0.9484\n",
      "Epoch 45/50\n",
      "2944/2944 [==============================] - 4s 1ms/step - loss: 0.1881 - accuracy: 0.9263 - val_loss: 0.2091 - val_accuracy: 0.9132\n",
      "Epoch 46/50\n",
      "2944/2944 [==============================] - 4s 1ms/step - loss: 0.1847 - accuracy: 0.9324 - val_loss: 0.1914 - val_accuracy: 0.9240\n",
      "Epoch 47/50\n",
      "2944/2944 [==============================] - 3s 1ms/step - loss: 0.1697 - accuracy: 0.9358 - val_loss: 0.1552 - val_accuracy: 0.9335\n",
      "Epoch 48/50\n",
      "2944/2944 [==============================] - 3s 1ms/step - loss: 0.1664 - accuracy: 0.9327 - val_loss: 0.2370 - val_accuracy: 0.9104\n",
      "Epoch 49/50\n",
      "2944/2944 [==============================] - 3s 1ms/step - loss: 0.1620 - accuracy: 0.9409 - val_loss: 0.1550 - val_accuracy: 0.9362\n",
      "Epoch 50/50\n",
      "2944/2944 [==============================] - 4s 1ms/step - loss: 0.1596 - accuracy: 0.9399 - val_loss: 0.1433 - val_accuracy: 0.9417\n"
     ]
    }
   ],
   "source": [
    "history_emg = emg_model.fit(train_X,train_label,\n",
    "          batch_size=batch_size,\n",
    "          epochs=epochs,\n",
    "          verbose=1,\n",
    "          validation_data=(valid_X, valid_label))"
   ]
  },
  {
   "cell_type": "code",
   "execution_count": 30,
   "metadata": {},
   "outputs": [
    {
     "data": {
      "image/png": "[encoded data removed]",
      "text/plain": [
       "<Figure size 432x288 with 1 Axes>"
      ]
     },
     "metadata": {
      "needs_background": "light"
     },
     "output_type": "display_data"
    },
    {
     "data": {
      "image/png": "[encoded data removed]",
      "text/plain": [
       "<Figure size 432x288 with 1 Axes>"
      ]
     },
     "metadata": {
      "needs_background": "light"
     },
     "output_type": "display_data"
    }
   ],
   "source": [
    "accuracy = history_emg.history['accuracy']\n",
    "val_accuracy = history_emg.history['val_accuracy']\n",
    "loss = history_emg.history['loss']\n",
    "val_loss = history_emg.history['val_loss']\n",
    "epoch = range(len(accuracy))\n",
    "plt.plot(epoch, accuracy, 'bo', label='Training accuracy')\n",
    "plt.plot(epoch, val_accuracy, 'b', label='Validation accuracy')\n",
    "plt.title('Training and validation accuracy')\n",
    "plt.legend()\n",
    "plt.figure()\n",
    "plt.plot(epoch, loss, 'bo', label='Training loss')\n",
    "plt.plot(epoch, val_loss, 'b', label='Validation loss')\n",
    "plt.title('Training and validation loss')\n",
    "plt.legend()\n",
    "plt.show()"
   ]
  },
  {
   "cell_type": "code",
   "execution_count": 51,
   "metadata": {},
   "outputs": [],
   "source": [
    "from keras.preprocessing.image import ImageDataGenerator\n",
    "gen = ImageDataGenerator(rotation_range=8, width_shift_range=0.08, shear_range=0.3,\n",
    "                               height_shift_range=0.08, zoom_range=0.08)\n",
    "batches = gen.flow(train_X,train_label, batch_size=256)\n",
    "val_batches = gen.flow(valid_X, valid_label, batch_size=256)"
   ]
  },
  {
   "cell_type": "code",
   "execution_count": 52,
   "metadata": {},
   "outputs": [
    {
     "name": "stdout",
     "output_type": "stream",
     "text": [
      "Epoch 1/60\n",
      "46/46 [==============================] - 13s 272ms/step - loss: 0.1073 - accuracy: 0.9609 - val_loss: 0.1278 - val_accuracy: 0.9589\n",
      "Epoch 2/60\n",
      "46/46 [==============================] - 13s 275ms/step - loss: 0.1127 - accuracy: 0.9574 - val_loss: 0.0686 - val_accuracy: 0.9632\n",
      "Epoch 3/60\n",
      "46/46 [==============================] - 13s 280ms/step - loss: 0.1126 - accuracy: 0.9586 - val_loss: 0.1875 - val_accuracy: 0.9603\n",
      "Epoch 4/60\n",
      "46/46 [==============================] - 13s 279ms/step - loss: 0.1102 - accuracy: 0.9599 - val_loss: 0.0896 - val_accuracy: 0.9647\n",
      "Epoch 5/60\n",
      "46/46 [==============================] - 13s 278ms/step - loss: 0.1071 - accuracy: 0.9597 - val_loss: 0.1529 - val_accuracy: 0.9580\n",
      "Epoch 6/60\n",
      "46/46 [==============================] - 13s 280ms/step - loss: 0.1135 - accuracy: 0.9567 - val_loss: 0.0514 - val_accuracy: 0.9721\n",
      "Epoch 7/60\n",
      "46/46 [==============================] - 12s 270ms/step - loss: 0.1030 - accuracy: 0.9607 - val_loss: 0.0591 - val_accuracy: 0.9655\n",
      "Epoch 8/60\n",
      "46/46 [==============================] - 13s 278ms/step - loss: 0.1108 - accuracy: 0.9560 - val_loss: 0.0701 - val_accuracy: 0.9666\n",
      "Epoch 9/60\n",
      "46/46 [==============================] - 13s 285ms/step - loss: 0.1070 - accuracy: 0.9584 - val_loss: 0.0883 - val_accuracy: 0.9610\n",
      "Epoch 10/60\n",
      "46/46 [==============================] - 13s 284ms/step - loss: 0.1062 - accuracy: 0.9590 - val_loss: 0.1279 - val_accuracy: 0.9581\n",
      "Epoch 11/60\n",
      "46/46 [==============================] - 13s 286ms/step - loss: 0.1082 - accuracy: 0.9591 - val_loss: 0.0740 - val_accuracy: 0.9651\n",
      "Epoch 12/60\n",
      "46/46 [==============================] - 13s 287ms/step - loss: 0.1015 - accuracy: 0.9618 - val_loss: 0.0767 - val_accuracy: 0.9603\n",
      "Epoch 13/60\n",
      "46/46 [==============================] - 13s 274ms/step - loss: 0.1108 - accuracy: 0.9589 - val_loss: 0.0938 - val_accuracy: 0.9673\n",
      "Epoch 14/60\n",
      "46/46 [==============================] - 13s 277ms/step - loss: 0.0999 - accuracy: 0.9630 - val_loss: 0.1195 - val_accuracy: 0.9684\n",
      "Epoch 15/60\n",
      "46/46 [==============================] - 13s 279ms/step - loss: 0.1087 - accuracy: 0.9596 - val_loss: 0.0737 - val_accuracy: 0.9744\n",
      "Epoch 16/60\n",
      "46/46 [==============================] - 13s 275ms/step - loss: 0.1011 - accuracy: 0.9619 - val_loss: 0.1143 - val_accuracy: 0.9585\n",
      "Epoch 17/60\n",
      "46/46 [==============================] - 13s 277ms/step - loss: 0.1012 - accuracy: 0.9629 - val_loss: 0.2303 - val_accuracy: 0.9331\n",
      "Epoch 18/60\n",
      "46/46 [==============================] - 13s 275ms/step - loss: 0.1002 - accuracy: 0.9622 - val_loss: 0.1101 - val_accuracy: 0.9710\n",
      "Epoch 19/60\n",
      "46/46 [==============================] - 13s 273ms/step - loss: 0.1017 - accuracy: 0.9608 - val_loss: 0.0720 - val_accuracy: 0.9596\n",
      "Epoch 20/60\n",
      "46/46 [==============================] - 13s 276ms/step - loss: 0.0968 - accuracy: 0.9633 - val_loss: 0.0402 - val_accuracy: 0.9725\n",
      "Epoch 21/60\n",
      "46/46 [==============================] - 13s 277ms/step - loss: 0.1014 - accuracy: 0.9624 - val_loss: 0.0446 - val_accuracy: 0.9551\n",
      "Epoch 22/60\n",
      "46/46 [==============================] - 13s 283ms/step - loss: 0.0970 - accuracy: 0.9638 - val_loss: 0.0679 - val_accuracy: 0.9714\n",
      "Epoch 23/60\n",
      "46/46 [==============================] - 13s 281ms/step - loss: 0.1023 - accuracy: 0.9615 - val_loss: 0.1083 - val_accuracy: 0.9580\n",
      "Epoch 24/60\n",
      "46/46 [==============================] - 13s 276ms/step - loss: 0.1030 - accuracy: 0.9626 - val_loss: 0.0683 - val_accuracy: 0.9647\n",
      "Epoch 25/60\n",
      "46/46 [==============================] - 13s 282ms/step - loss: 0.0926 - accuracy: 0.9653 - val_loss: 0.0793 - val_accuracy: 0.9592\n",
      "Epoch 26/60\n",
      "46/46 [==============================] - 13s 281ms/step - loss: 0.0945 - accuracy: 0.9636 - val_loss: 0.0815 - val_accuracy: 0.9621\n",
      "Epoch 27/60\n",
      "46/46 [==============================] - 13s 288ms/step - loss: 0.0954 - accuracy: 0.9620 - val_loss: 0.0592 - val_accuracy: 0.9681\n",
      "Epoch 28/60\n",
      "46/46 [==============================] - 13s 282ms/step - loss: 0.0948 - accuracy: 0.9646 - val_loss: 0.0511 - val_accuracy: 0.9699\n",
      "Epoch 29/60\n",
      "46/46 [==============================] - 13s 287ms/step - loss: 0.0931 - accuracy: 0.9641 - val_loss: 0.0788 - val_accuracy: 0.9666\n",
      "Epoch 30/60\n",
      "46/46 [==============================] - 13s 276ms/step - loss: 0.0948 - accuracy: 0.9646 - val_loss: 0.0792 - val_accuracy: 0.9643\n",
      "Epoch 31/60\n",
      "46/46 [==============================] - 13s 283ms/step - loss: 0.1024 - accuracy: 0.9597 - val_loss: 0.1096 - val_accuracy: 0.9567\n",
      "Epoch 32/60\n",
      "46/46 [==============================] - 13s 285ms/step - loss: 0.0956 - accuracy: 0.9625 - val_loss: 0.1235 - val_accuracy: 0.9695\n",
      "Epoch 33/60\n",
      "46/46 [==============================] - 13s 291ms/step - loss: 0.0956 - accuracy: 0.9644 - val_loss: 0.1022 - val_accuracy: 0.9629\n",
      "Epoch 34/60\n",
      "46/46 [==============================] - 13s 287ms/step - loss: 0.0882 - accuracy: 0.9674 - val_loss: 0.1118 - val_accuracy: 0.9688\n",
      "Epoch 35/60\n",
      "46/46 [==============================] - 13s 283ms/step - loss: 0.0923 - accuracy: 0.9641 - val_loss: 0.0828 - val_accuracy: 0.9677\n",
      "Epoch 36/60\n",
      "46/46 [==============================] - 13s 292ms/step - loss: 0.0941 - accuracy: 0.9644 - val_loss: 0.1813 - val_accuracy: 0.9614\n",
      "Epoch 37/60\n",
      "46/46 [==============================] - 13s 281ms/step - loss: 0.0947 - accuracy: 0.9617 - val_loss: 0.0986 - val_accuracy: 0.9611\n",
      "Epoch 38/60\n",
      "46/46 [==============================] - 13s 291ms/step - loss: 0.0966 - accuracy: 0.9645 - val_loss: 0.0952 - val_accuracy: 0.9666\n",
      "Epoch 39/60\n",
      "46/46 [==============================] - 13s 281ms/step - loss: 0.0940 - accuracy: 0.9646 - val_loss: 0.1230 - val_accuracy: 0.9684\n",
      "Epoch 40/60\n",
      "46/46 [==============================] - 14s 295ms/step - loss: 0.0934 - accuracy: 0.9645 - val_loss: 0.1875 - val_accuracy: 0.9534\n",
      "Epoch 41/60\n",
      "46/46 [==============================] - 14s 294ms/step - loss: 0.0911 - accuracy: 0.9674 - val_loss: 0.0723 - val_accuracy: 0.9692\n",
      "Epoch 42/60\n",
      "46/46 [==============================] - 13s 287ms/step - loss: 0.0857 - accuracy: 0.9695 - val_loss: 0.0828 - val_accuracy: 0.9655\n",
      "Epoch 43/60\n",
      "46/46 [==============================] - 13s 276ms/step - loss: 0.0997 - accuracy: 0.9616 - val_loss: 0.1238 - val_accuracy: 0.9651\n",
      "Epoch 44/60\n",
      "46/46 [==============================] - 13s 288ms/step - loss: 0.0874 - accuracy: 0.9678 - val_loss: 0.0851 - val_accuracy: 0.9621\n",
      "Epoch 45/60\n",
      "46/46 [==============================] - 13s 282ms/step - loss: 0.0882 - accuracy: 0.9682 - val_loss: 0.0736 - val_accuracy: 0.9669\n",
      "Epoch 46/60\n",
      "46/46 [==============================] - 14s 294ms/step - loss: 0.0952 - accuracy: 0.9645 - val_loss: 0.0941 - val_accuracy: 0.9607\n",
      "Epoch 47/60\n",
      "46/46 [==============================] - 13s 282ms/step - loss: 0.0842 - accuracy: 0.9682 - val_loss: 0.0814 - val_accuracy: 0.9651\n",
      "Epoch 48/60\n",
      "46/46 [==============================] - 13s 287ms/step - loss: 0.0793 - accuracy: 0.9708 - val_loss: 0.1521 - val_accuracy: 0.9621\n",
      "Epoch 49/60\n",
      "46/46 [==============================] - 13s 289ms/step - loss: 0.0855 - accuracy: 0.9672 - val_loss: 0.1006 - val_accuracy: 0.9640\n",
      "Epoch 50/60\n",
      "46/46 [==============================] - 13s 285ms/step - loss: 0.0867 - accuracy: 0.9663 - val_loss: 0.0720 - val_accuracy: 0.9681\n",
      "Epoch 51/60\n",
      "46/46 [==============================] - 14s 298ms/step - loss: 0.0867 - accuracy: 0.9665 - val_loss: 0.0685 - val_accuracy: 0.9736\n",
      "Epoch 52/60\n",
      "46/46 [==============================] - 14s 294ms/step - loss: 0.0864 - accuracy: 0.9681 - val_loss: 0.1066 - val_accuracy: 0.9581\n",
      "Epoch 53/60\n",
      "46/46 [==============================] - 13s 292ms/step - loss: 0.0781 - accuracy: 0.9688 - val_loss: 0.0846 - val_accuracy: 0.9673\n",
      "Epoch 54/60\n",
      "46/46 [==============================] - 13s 284ms/step - loss: 0.0765 - accuracy: 0.9708 - val_loss: 0.1076 - val_accuracy: 0.9673\n",
      "Epoch 55/60\n",
      "46/46 [==============================] - 13s 283ms/step - loss: 0.0790 - accuracy: 0.9700 - val_loss: 0.0746 - val_accuracy: 0.9703\n",
      "Epoch 56/60\n",
      "46/46 [==============================] - 13s 288ms/step - loss: 0.0787 - accuracy: 0.9709 - val_loss: 0.0290 - val_accuracy: 0.9729\n",
      "Epoch 57/60\n",
      "46/46 [==============================] - 14s 298ms/step - loss: 0.0784 - accuracy: 0.9710 - val_loss: 0.0741 - val_accuracy: 0.9536\n"
     ]
    },
    {
     "name": "stdout",
     "output_type": "stream",
     "text": [
      "Epoch 58/60\n",
      "46/46 [==============================] - 13s 288ms/step - loss: 0.0803 - accuracy: 0.9702 - val_loss: 0.1252 - val_accuracy: 0.9559\n",
      "Epoch 59/60\n",
      "46/46 [==============================] - 13s 293ms/step - loss: 0.0801 - accuracy: 0.9699 - val_loss: 0.0919 - val_accuracy: 0.9577\n",
      "Epoch 60/60\n",
      "46/46 [==============================] - 14s 298ms/step - loss: 0.0792 - accuracy: 0.9718 - val_loss: 0.0857 - val_accuracy: 0.9677\n"
     ]
    }
   ],
   "source": [
    "history_emg = emg_model.fit_generator(batches, steps_per_epoch=2944//64, epochs=60,\n",
    "                    validation_data=val_batches, validation_steps=737//64, use_multiprocessing=True)"
   ]
  },
  {
   "cell_type": "code",
   "execution_count": 43,
   "metadata": {},
   "outputs": [
    {
     "data": {
      "image/png": "[encoded data removed]",
      "text/plain": [
       "<Figure size 432x288 with 1 Axes>"
      ]
     },
     "metadata": {
      "needs_background": "light"
     },
     "output_type": "display_data"
    },
    {
     "data": {
      "image/png": "[encoded data removed]",
      "text/plain": [
       "<Figure size 432x288 with 1 Axes>"
      ]
     },
     "metadata": {
      "needs_background": "light"
     },
     "output_type": "display_data"
    }
   ],
   "source": [
    "accuracy = history_emg.history['accuracy']\n",
    "val_accuracy = history_emg.history['val_accuracy']\n",
    "loss = history_emg.history['loss']\n",
    "val_loss = history_emg.history['val_loss']\n",
    "epoch = range(len(accuracy))\n",
    "plt.plot(epoch, accuracy, 'bo', label='Training accuracy')\n",
    "plt.plot(epoch, val_accuracy, 'b', label='Validation accuracy')\n",
    "plt.title('Training and validation accuracy')\n",
    "plt.legend()\n",
    "plt.figure()\n",
    "plt.plot(epoch, loss, 'bo', label='Training loss')\n",
    "plt.plot(epoch, val_loss, 'b', label='Validation loss')\n",
    "plt.title('Training and validation loss')\n",
    "plt.legend()\n",
    "plt.show()"
   ]
  },
  {
   "cell_type": "code",
   "execution_count": null,
   "metadata": {},
   "outputs": [],
   "source": []
  }
 ],
 "metadata": {
  "kernelspec": {
   "display_name": "Python 3",
   "language": "python",
   "name": "python3"
  },
  "language_info": {
   "codemirror_mode": {
    "name": "ipython",
    "version": 3
   },
   "file_extension": ".py",
   "mimetype": "text/x-python",
   "name": "python",
   "nbconvert_exporter": "python",
   "pygments_lexer": "ipython3",
   "version": "3.7.0"
  }
 },
 "nbformat": 4,
 "nbformat_minor": 2
}
