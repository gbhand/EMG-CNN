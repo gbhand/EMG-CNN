{
 "cells": [
  {
   "cell_type": "code",
   "execution_count": 43,
   "metadata": {},
   "outputs": [],
   "source": [
    "import os\n",
    "\n",
    "import matplotlib.pyplot as plt\n",
    "import numpy as np\n",
    "import pandas as pd\n",
    "import st_remux as st\n",
    "\n",
    "from sklearn.model_selection import train_test_split\n",
    "from keras.utils import to_categorical\n",
    "\n",
    "\n",
    "\n",
    "%matplotlib inline"
   ]
  },
  {
   "cell_type": "code",
   "execution_count": 44,
   "metadata": {},
   "outputs": [],
   "source": [
    "# Config\n",
    "# highpath = 'datasets/high.csv'\n",
    "# lowpath = 'datasets/none.csv'\n",
    "# hi = st.raw_to_arr(high, fs, win_len, 0)\n",
    "# lo = st.raw_to_arr(low, fs, win_len, 0)\n",
    "highdir = 'data_for/high'\n",
    "meddir = 'datasets/med'\n",
    "lowdir = 'datasets/low'\n",
    "nonedir = 'datasets/none'\n",
    "\n",
    "\n",
    "\n",
    "fs = 4000\n",
    "win_len = 40\n",
    "\n",
    "use_filter = 0   # weird results if we use python filtering\n",
    "\n",
    "use_matlab_backend = 0"
   ]
  },
  {
   "cell_type": "code",
   "execution_count": 45,
   "metadata": {},
   "outputs": [],
   "source": [
    "# high = np.genfromtxt(highpath, delimiter=',')\n",
    "# low = np.genfromtxt(lowpath, delimiter=',')"
   ]
  },
  {
   "cell_type": "code",
   "execution_count": 46,
   "metadata": {},
   "outputs": [
    {
     "name": "stdout",
     "output_type": "stream",
     "text": [
      "Using native backend\n"
     ]
    }
   ],
   "source": [
    "if use_matlab_backend:\n",
    "    print('Using MATLAB signal processing backend')\n",
    "    # high_dir = 'datasets/high/'\n",
    "    # low_dir = 'datasets/low/'\n",
    "\n",
    "    high_dir = 'C:/Users/Geoffrey/Documents/MATLAB/S transform time frequency/high/'\n",
    "    low_dir = 'C:/Users/Geoffrey/Documents/MATLAB/S transform time frequency/low/'\n",
    "\n",
    "    def generate_3darray(directory):\n",
    "        files = os.listdir(directory)\n",
    "        dims = np.genfromtxt(directory + files[0], delimiter=',').shape\n",
    "        length = len(files)\n",
    "        arr = np.zeros((length, dims[0], dims[1]))\n",
    "\n",
    "        for idx, val in enumerate(files):\n",
    "            arr[idx] = np.genfromtxt(directory + val, delimiter=',')\n",
    "\n",
    "        return arr\n",
    "\n",
    "    hi = generate_3darray(high_dir)\n",
    "    lo = generate_3darray(low_dir)\n",
    "    \n",
    "else: \n",
    "    print('Using native backend')\n",
    "    hi = st.raw_to_arr(highdir, fs, win_len, 0)\n",
    "    med = st.raw_to_arr(meddir, fs, win_len, 0)\n",
    "    lo = st.raw_to_arr(lowdir, fs, win_len, 0)\n",
    "    none = st.raw_to_arr(nonedir, fs, win_len, 0)\n",
    "\n"
   ]
  },
  {
   "cell_type": "code",
   "execution_count": 48,
   "metadata": {},
   "outputs": [
    {
     "name": "stdout",
     "output_type": "stream",
     "text": [
      "(23470, 16, 40)\n"
     ]
    }
   ],
   "source": [
    "X = np.concatenate((hi, med, lo, none))\n",
    "d= X.shape\n",
    "print(d)\n",
    "\n",
    "hi_Y = np.ones(len(hi), dtype=int) * 3\n",
    "med_Y = np.ones(len(med), dtype=int) * 2\n",
    "lo_Y = np.ones(len(lo), dtype=int) * 1\n",
    "none_Y = np.zeros(len(none), dtype=int)\n",
    "\n",
    "Y = np.concatenate((hi_Y, med_Y, lo_Y, none_Y))"
   ]
  },
  {
   "cell_type": "code",
   "execution_count": 6,
   "metadata": {},
   "outputs": [],
   "source": [
    "train_X, test_X, train_Y, test_Y = train_test_split(X, Y, test_size=0.1)"
   ]
  },
  {
   "cell_type": "code",
   "execution_count": 7,
   "metadata": {},
   "outputs": [
    {
     "name": "stdout",
     "output_type": "stream",
     "text": [
      "Training data shape:  (21123, 16, 40) (21123,)\n",
      "Testing data shape:  (2347, 16, 40) (2347,)\n"
     ]
    }
   ],
   "source": [
    "print('Training data shape: ', train_X.shape, train_Y.shape)\n",
    "print('Testing data shape: ', test_X.shape, test_Y.shape)"
   ]
  },
  {
   "cell_type": "code",
   "execution_count": 8,
   "metadata": {},
   "outputs": [
    {
     "name": "stdout",
     "output_type": "stream",
     "text": [
      "Total number of outputs:  4\n",
      "Output classes:  [0 1 2 3]\n"
     ]
    }
   ],
   "source": [
    "classes = np.unique(train_Y)\n",
    "nClasses = len(classes)\n",
    "print('Total number of outputs: ', nClasses)\n",
    "print('Output classes: ', classes)"
   ]
  },
  {
   "cell_type": "code",
   "execution_count": 9,
   "metadata": {
    "scrolled": true
   },
   "outputs": [
    {
     "data": {
      "text/plain": [
       "Text(0.5,1,'Ground Truth: 2')"
      ]
     },
     "execution_count": 9,
     "metadata": {},
     "output_type": "execute_result"
    },
    {
     "data": {
      "image/png": "[encoded data removed]",
      "text/plain": [
       "<Figure size 720x144 with 2 Axes>"
      ]
     },
     "metadata": {
      "needs_background": "light"
     },
     "output_type": "display_data"
    }
   ],
   "source": [
    "plt.figure(figsize=[10,2])\n",
    "\n",
    "# Display first image in training set\n",
    "plt.subplot(121)\n",
    "plt.pcolormesh(train_X[0,:,:], cmap='jet')\n",
    "plt.title(\"Ground Truth: {}\".format(train_Y[0]))\n",
    "\n",
    "# Display second image in testing set\n",
    "plt.subplot(122)\n",
    "plt.pcolormesh(test_X[1], cmap='jet')\n",
    "plt.title(\"Ground Truth: {}\".format(test_Y[1]))"
   ]
  },
  {
   "cell_type": "code",
   "execution_count": 10,
   "metadata": {},
   "outputs": [
    {
     "data": {
      "text/plain": [
       "((21123, 16, 40, 1), (2347, 16, 40, 1))"
      ]
     },
     "execution_count": 10,
     "metadata": {},
     "output_type": "execute_result"
    }
   ],
   "source": [
    "ydim = train_X[0].shape[0]\n",
    "xdim = train_X[0].shape[1]\n",
    "train_X = train_X.reshape(-1, ydim, xdim, 1)\n",
    "test_X = test_X.reshape(-1, ydim, xdim, 1)\n",
    "train_X.shape, test_X.shape"
   ]
  },
  {
   "cell_type": "code",
   "execution_count": 11,
   "metadata": {},
   "outputs": [],
   "source": [
    "train_X = train_X.astype('float32')\n",
    "test_X = test_X.astype('float32')"
   ]
  },
  {
   "cell_type": "code",
   "execution_count": 12,
   "metadata": {},
   "outputs": [
    {
     "name": "stdout",
     "output_type": "stream",
     "text": [
      "Original label:  2\n",
      "After conversion to one-hot:  [0. 0. 1. 0.]\n"
     ]
    }
   ],
   "source": [
    "# Change labels from categorical to one-hot encoding\n",
    "train_Y_one_hot = to_categorical(train_Y)\n",
    "test_Y_one_hot = to_categorical(test_Y)\n",
    "\n",
    "# See the difference?\n",
    "print('Original label: ', train_Y[0])\n",
    "print('After conversion to one-hot: ', train_Y_one_hot[0])"
   ]
  },
  {
   "cell_type": "code",
   "execution_count": 13,
   "metadata": {},
   "outputs": [
    {
     "data": {
      "text/plain": [
       "(21123, 4)"
      ]
     },
     "execution_count": 13,
     "metadata": {},
     "output_type": "execute_result"
    }
   ],
   "source": [
    "train_Y_one_hot.shape"
   ]
  },
  {
   "cell_type": "code",
   "execution_count": 14,
   "metadata": {},
   "outputs": [
    {
     "data": {
      "text/plain": [
       "((16898, 16, 40, 1), (4225, 16, 40, 1), (16898, 4), (4225, 4))"
      ]
     },
     "execution_count": 14,
     "metadata": {},
     "output_type": "execute_result"
    }
   ],
   "source": [
    "# Partition data for 80% training and 20% validation\n",
    "# should reduce overfitting and boost test performance\n",
    "\n",
    "train_X, valid_X, train_label, valid_label = train_test_split(train_X, train_Y_one_hot, test_size=0.2)\n",
    "\n",
    "train_X.shape, valid_X.shape, train_label.shape, valid_label.shape"
   ]
  },
  {
   "cell_type": "code",
   "execution_count": 15,
   "metadata": {},
   "outputs": [],
   "source": [
    "# let's get down to business\n",
    "import keras\n",
    "from keras.models import Sequential, Input, Model\n",
    "from keras.layers import Dense, Dropout, Flatten\n",
    "from keras.layers import Conv2D, MaxPooling2D\n",
    "from keras.layers.normalization import BatchNormalization\n",
    "from keras.layers.advanced_activations import LeakyReLU"
   ]
  },
  {
   "cell_type": "code",
   "execution_count": 16,
   "metadata": {},
   "outputs": [],
   "source": [
    "# Parameters\n",
    "batch_size = 64\n",
    "epochs = 50\n",
    "num_classes = nClasses"
   ]
  },
  {
   "cell_type": "code",
   "execution_count": 17,
   "metadata": {},
   "outputs": [
    {
     "name": "stdout",
     "output_type": "stream",
     "text": [
      "WARNING:tensorflow:From /opt/miniconda3/envs/trial_env/lib/python3.7/site-packages/tensorflow/python/ops/resource_variable_ops.py:435: colocate_with (from tensorflow.python.framework.ops) is deprecated and will be removed in a future version.\n",
      "Instructions for updating:\n",
      "Colocations handled automatically by placer.\n"
     ]
    }
   ],
   "source": [
    "emg_model = Sequential()\n",
    "emg_model.add(\n",
    "    Conv2D(\n",
    "        32, \n",
    "        kernel_size=(3, 3), \n",
    "        activation='linear', \n",
    "        input_shape=(ydim, xdim, 1), \n",
    "        padding='same'))\n",
    "emg_model.add(LeakyReLU(alpha=0.1))\n",
    "emg_model.add(MaxPooling2D(pool_size=(2, 2), padding='same'))\n",
    "emg_model.add(Dropout(0.25))\n",
    "emg_model.add(\n",
    "    Conv2D(\n",
    "        64,\n",
    "        (3, 3),\n",
    "        activation='linear',\n",
    "        padding='same'))\n",
    "emg_model.add(LeakyReLU(alpha=0.1))\n",
    "emg_model.add(MaxPooling2D(pool_size=(2, 2), padding='same'))\n",
    "emg_model.add(Dropout(0.25))\n",
    "emg_model.add(\n",
    "    Conv2D(\n",
    "        128,\n",
    "        (3, 3),\n",
    "        activation='linear',\n",
    "        padding='same'))\n",
    "emg_model.add(LeakyReLU(alpha=0.1))\n",
    "emg_model.add(MaxPooling2D(pool_size=(2, 2), padding='same'))\n",
    "emg_model.add(Dropout(0.4))\n",
    "emg_model.add(Flatten())\n",
    "emg_model.add(Dense(128, activation='linear'))\n",
    "emg_model.add(LeakyReLU(alpha=0.1))\n",
    "emg_model.add(Dropout(0.3))\n",
    "emg_model.add(Dense(num_classes, activation='softmax'))"
   ]
  },
  {
   "cell_type": "code",
   "execution_count": 18,
   "metadata": {},
   "outputs": [],
   "source": [
    "emg_model.compile(\n",
    "    loss=keras.losses.categorical_crossentropy,\n",
    "    optimizer=keras.optimizers.Adam(),\n",
    "    metrics=['accuracy'])"
   ]
  },
  {
   "cell_type": "code",
   "execution_count": 19,
   "metadata": {
    "scrolled": true
   },
   "outputs": [
    {
     "name": "stdout",
     "output_type": "stream",
     "text": [
      "Model: \"sequential_1\"\n",
      "_________________________________________________________________\n",
      "Layer (type)                 Output Shape              Param #   \n",
      "=================================================================\n",
      "conv2d_1 (Conv2D)            (None, 16, 40, 32)        320       \n",
      "_________________________________________________________________\n",
      "leaky_re_lu_1 (LeakyReLU)    (None, 16, 40, 32)        0         \n",
      "_________________________________________________________________\n",
      "max_pooling2d_1 (MaxPooling2 (None, 8, 20, 32)         0         \n",
      "_________________________________________________________________\n",
      "dropout_1 (Dropout)          (None, 8, 20, 32)         0         \n",
      "_________________________________________________________________\n",
      "conv2d_2 (Conv2D)            (None, 8, 20, 64)         18496     \n",
      "_________________________________________________________________\n",
      "leaky_re_lu_2 (LeakyReLU)    (None, 8, 20, 64)         0         \n",
      "_________________________________________________________________\n",
      "max_pooling2d_2 (MaxPooling2 (None, 4, 10, 64)         0         \n",
      "_________________________________________________________________\n",
      "dropout_2 (Dropout)          (None, 4, 10, 64)         0         \n",
      "_________________________________________________________________\n",
      "conv2d_3 (Conv2D)            (None, 4, 10, 128)        73856     \n",
      "_________________________________________________________________\n",
      "leaky_re_lu_3 (LeakyReLU)    (None, 4, 10, 128)        0         \n",
      "_________________________________________________________________\n",
      "max_pooling2d_3 (MaxPooling2 (None, 2, 5, 128)         0         \n",
      "_________________________________________________________________\n",
      "dropout_3 (Dropout)          (None, 2, 5, 128)         0         \n",
      "_________________________________________________________________\n",
      "flatten_1 (Flatten)          (None, 1280)              0         \n",
      "_________________________________________________________________\n",
      "dense_1 (Dense)              (None, 128)               163968    \n",
      "_________________________________________________________________\n",
      "leaky_re_lu_4 (LeakyReLU)    (None, 128)               0         \n",
      "_________________________________________________________________\n",
      "dropout_4 (Dropout)          (None, 128)               0         \n",
      "_________________________________________________________________\n",
      "dense_2 (Dense)              (None, 4)                 516       \n",
      "=================================================================\n",
      "Total params: 257,156\n",
      "Trainable params: 257,156\n",
      "Non-trainable params: 0\n",
      "_________________________________________________________________\n"
     ]
    }
   ],
   "source": [
    "emg_model.summary()"
   ]
  },
  {
   "cell_type": "code",
   "execution_count": 20,
   "metadata": {},
   "outputs": [
    {
     "name": "stdout",
     "output_type": "stream",
     "text": [
      "WARNING:tensorflow:From /opt/miniconda3/envs/trial_env/lib/python3.7/site-packages/tensorflow/python/ops/math_ops.py:3066: to_int32 (from tensorflow.python.ops.math_ops) is deprecated and will be removed in a future version.\n",
      "Instructions for updating:\n",
      "Use tf.cast instead.\n",
      "Train on 16898 samples, validate on 4225 samples\n",
      "Epoch 1/50\n",
      "16898/16898 [==============================] - 22s 1ms/step - loss: 1.2456 - accuracy: 0.4240 - val_loss: 1.3007 - val_accuracy: 0.4353\n",
      "Epoch 2/50\n",
      "16898/16898 [==============================] - 21s 1ms/step - loss: 1.0663 - accuracy: 0.5207 - val_loss: 0.9443 - val_accuracy: 0.6170\n",
      "Epoch 3/50\n",
      "16898/16898 [==============================] - 21s 1ms/step - loss: 0.9666 - accuracy: 0.5800 - val_loss: 0.8862 - val_accuracy: 0.6289\n",
      "Epoch 4/50\n",
      "16898/16898 [==============================] - 20s 1ms/step - loss: 0.9103 - accuracy: 0.6144 - val_loss: 0.8919 - val_accuracy: 0.6267\n",
      "Epoch 5/50\n",
      "16898/16898 [==============================] - 21s 1ms/step - loss: 0.8917 - accuracy: 0.6219 - val_loss: 0.8233 - val_accuracy: 0.6734\n",
      "Epoch 6/50\n",
      "16898/16898 [==============================] - 21s 1ms/step - loss: 0.8441 - accuracy: 0.6474 - val_loss: 0.7669 - val_accuracy: 0.6933\n",
      "Epoch 7/50\n",
      "16898/16898 [==============================] - 22s 1ms/step - loss: 0.8227 - accuracy: 0.6579 - val_loss: 0.7594 - val_accuracy: 0.6914\n",
      "Epoch 8/50\n",
      "16898/16898 [==============================] - 21s 1ms/step - loss: 0.7975 - accuracy: 0.6729 - val_loss: 0.7482 - val_accuracy: 0.7103\n",
      "Epoch 9/50\n",
      "16898/16898 [==============================] - 23s 1ms/step - loss: 0.7792 - accuracy: 0.6799 - val_loss: 0.7407 - val_accuracy: 0.7051\n",
      "Epoch 10/50\n",
      "16898/16898 [==============================] - 22s 1ms/step - loss: 0.7812 - accuracy: 0.6797 - val_loss: 0.6903 - val_accuracy: 0.7200\n",
      "Epoch 11/50\n",
      "16898/16898 [==============================] - 22s 1ms/step - loss: 0.7583 - accuracy: 0.6887 - val_loss: 0.7435 - val_accuracy: 0.7056\n",
      "Epoch 12/50\n",
      "16898/16898 [==============================] - 22s 1ms/step - loss: 0.7394 - accuracy: 0.6999 - val_loss: 0.7406 - val_accuracy: 0.7056\n",
      "Epoch 13/50\n",
      "16898/16898 [==============================] - 22s 1ms/step - loss: 0.7337 - accuracy: 0.7038 - val_loss: 0.7140 - val_accuracy: 0.7103\n",
      "Epoch 14/50\n",
      "16898/16898 [==============================] - 22s 1ms/step - loss: 0.7232 - accuracy: 0.7080 - val_loss: 0.6881 - val_accuracy: 0.7264\n",
      "Epoch 15/50\n",
      "16898/16898 [==============================] - 23s 1ms/step - loss: 0.7192 - accuracy: 0.7078 - val_loss: 0.6832 - val_accuracy: 0.7295\n",
      "Epoch 16/50\n",
      "16898/16898 [==============================] - 26s 2ms/step - loss: 0.7102 - accuracy: 0.7140 - val_loss: 0.6808 - val_accuracy: 0.7186\n",
      "Epoch 17/50\n",
      "16898/16898 [==============================] - 27s 2ms/step - loss: 0.7109 - accuracy: 0.7164 - val_loss: 0.6439 - val_accuracy: 0.7399\n",
      "Epoch 18/50\n",
      "16898/16898 [==============================] - 26s 2ms/step - loss: 0.6990 - accuracy: 0.7178 - val_loss: 0.6370 - val_accuracy: 0.7491\n",
      "Epoch 19/50\n",
      "16898/16898 [==============================] - 26s 2ms/step - loss: 0.6874 - accuracy: 0.7240 - val_loss: 0.6330 - val_accuracy: 0.7527\n",
      "Epoch 20/50\n",
      "16898/16898 [==============================] - 26s 2ms/step - loss: 0.6850 - accuracy: 0.7265 - val_loss: 0.6415 - val_accuracy: 0.7375\n",
      "Epoch 21/50\n",
      "16898/16898 [==============================] - 26s 2ms/step - loss: 0.6727 - accuracy: 0.7315 - val_loss: 0.6366 - val_accuracy: 0.7434\n",
      "Epoch 22/50\n",
      "16898/16898 [==============================] - 24s 1ms/step - loss: 0.6741 - accuracy: 0.7277 - val_loss: 0.6595 - val_accuracy: 0.7330\n",
      "Epoch 23/50\n",
      "16898/16898 [==============================] - 21s 1ms/step - loss: 0.6685 - accuracy: 0.7322 - val_loss: 0.6049 - val_accuracy: 0.7607\n",
      "Epoch 24/50\n",
      "16898/16898 [==============================] - 21s 1ms/step - loss: 0.6670 - accuracy: 0.7358 - val_loss: 0.6692 - val_accuracy: 0.7363\n",
      "Epoch 25/50\n",
      "16898/16898 [==============================] - 21s 1ms/step - loss: 0.6708 - accuracy: 0.7305 - val_loss: 0.6709 - val_accuracy: 0.7333\n",
      "Epoch 26/50\n",
      "16898/16898 [==============================] - 21s 1ms/step - loss: 0.6540 - accuracy: 0.7372 - val_loss: 0.6154 - val_accuracy: 0.7657\n",
      "Epoch 27/50\n",
      "16898/16898 [==============================] - 21s 1ms/step - loss: 0.6600 - accuracy: 0.7359 - val_loss: 0.6090 - val_accuracy: 0.7600\n",
      "Epoch 28/50\n",
      "16898/16898 [==============================] - 21s 1ms/step - loss: 0.6472 - accuracy: 0.7412 - val_loss: 0.5892 - val_accuracy: 0.7716\n",
      "Epoch 29/50\n",
      "16898/16898 [==============================] - 22s 1ms/step - loss: 0.6433 - accuracy: 0.7420 - val_loss: 0.6206 - val_accuracy: 0.7543\n",
      "Epoch 30/50\n",
      "16898/16898 [==============================] - 21s 1ms/step - loss: 0.6346 - accuracy: 0.7478 - val_loss: 0.5934 - val_accuracy: 0.7633\n",
      "Epoch 31/50\n",
      "16898/16898 [==============================] - 21s 1ms/step - loss: 0.6301 - accuracy: 0.7519 - val_loss: 0.6341 - val_accuracy: 0.7491\n",
      "Epoch 32/50\n",
      "16898/16898 [==============================] - 21s 1ms/step - loss: 0.6269 - accuracy: 0.7487 - val_loss: 0.5904 - val_accuracy: 0.7671\n",
      "Epoch 33/50\n",
      "16898/16898 [==============================] - 21s 1ms/step - loss: 0.6221 - accuracy: 0.7507 - val_loss: 0.5995 - val_accuracy: 0.7707\n",
      "Epoch 34/50\n",
      "16898/16898 [==============================] - 22s 1ms/step - loss: 0.6256 - accuracy: 0.7474 - val_loss: 0.5696 - val_accuracy: 0.7766\n",
      "Epoch 35/50\n",
      "16898/16898 [==============================] - 21s 1ms/step - loss: 0.6167 - accuracy: 0.7532 - val_loss: 0.6102 - val_accuracy: 0.7581\n",
      "Epoch 36/50\n",
      "16898/16898 [==============================] - 21s 1ms/step - loss: 0.6132 - accuracy: 0.7542 - val_loss: 0.6222 - val_accuracy: 0.7569\n",
      "Epoch 37/50\n",
      "16898/16898 [==============================] - 22s 1ms/step - loss: 0.6096 - accuracy: 0.7583 - val_loss: 0.5919 - val_accuracy: 0.7669\n",
      "Epoch 38/50\n",
      "16898/16898 [==============================] - 21s 1ms/step - loss: 0.6087 - accuracy: 0.7552 - val_loss: 0.5791 - val_accuracy: 0.7654\n",
      "Epoch 39/50\n",
      "16898/16898 [==============================] - 22s 1ms/step - loss: 0.6093 - accuracy: 0.7606 - val_loss: 0.5623 - val_accuracy: 0.7763\n",
      "Epoch 40/50\n",
      "16898/16898 [==============================] - 21s 1ms/step - loss: 0.5985 - accuracy: 0.7605 - val_loss: 0.5606 - val_accuracy: 0.7858\n",
      "Epoch 41/50\n",
      "16898/16898 [==============================] - 22s 1ms/step - loss: 0.5989 - accuracy: 0.7625 - val_loss: 0.5705 - val_accuracy: 0.7716\n",
      "Epoch 42/50\n",
      "16898/16898 [==============================] - 22s 1ms/step - loss: 0.6070 - accuracy: 0.7590 - val_loss: 0.6078 - val_accuracy: 0.7586\n",
      "Epoch 43/50\n",
      "16898/16898 [==============================] - 21s 1ms/step - loss: 0.5856 - accuracy: 0.7660 - val_loss: 0.5779 - val_accuracy: 0.7761\n",
      "Epoch 44/50\n",
      "16898/16898 [==============================] - 22s 1ms/step - loss: 0.5897 - accuracy: 0.7680 - val_loss: 0.5499 - val_accuracy: 0.7905\n",
      "Epoch 45/50\n",
      "16898/16898 [==============================] - 21s 1ms/step - loss: 0.5931 - accuracy: 0.7649 - val_loss: 0.5593 - val_accuracy: 0.7794\n",
      "Epoch 46/50\n",
      "16898/16898 [==============================] - 22s 1ms/step - loss: 0.5734 - accuracy: 0.7693 - val_loss: 0.5554 - val_accuracy: 0.7870\n",
      "Epoch 47/50\n",
      "16898/16898 [==============================] - 22s 1ms/step - loss: 0.5763 - accuracy: 0.7741 - val_loss: 0.6068 - val_accuracy: 0.7647\n",
      "Epoch 48/50\n",
      "16898/16898 [==============================] - 22s 1ms/step - loss: 0.5835 - accuracy: 0.7649 - val_loss: 0.5690 - val_accuracy: 0.7844\n",
      "Epoch 49/50\n",
      "16898/16898 [==============================] - 21s 1ms/step - loss: 0.5759 - accuracy: 0.7694 - val_loss: 0.5933 - val_accuracy: 0.7659\n",
      "Epoch 50/50\n",
      "16898/16898 [==============================] - 21s 1ms/step - loss: 0.5746 - accuracy: 0.7740 - val_loss: 0.5524 - val_accuracy: 0.7912\n"
     ]
    }
   ],
   "source": [
    "emg_train = emg_model.fit(\n",
    "    train_X,\n",
    "    train_label,\n",
    "    batch_size=batch_size,\n",
    "    epochs=epochs,\n",
    "    verbose=1,\n",
    "    validation_data=(valid_X, valid_label))"
   ]
  },
  {
   "cell_type": "code",
   "execution_count": 21,
   "metadata": {},
   "outputs": [],
   "source": [
    "test_eval = emg_model.evaluate(test_X, test_Y_one_hot, verbose=0)"
   ]
  },
  {
   "cell_type": "code",
   "execution_count": 22,
   "metadata": {},
   "outputs": [
    {
     "name": "stdout",
     "output_type": "stream",
     "text": [
      "Test loss:  0.5678808849874739\n",
      "Test accuracy:  0.7856838703155518\n"
     ]
    }
   ],
   "source": [
    "print('Test loss: ', test_eval[0])\n",
    "print('Test accuracy: ', test_eval[1])"
   ]
  },
  {
   "cell_type": "code",
   "execution_count": 23,
   "metadata": {},
   "outputs": [
    {
     "data": {
      "image/png": "[encoded data removed]",
      "text/plain": [
       "<Figure size 432x288 with 1 Axes>"
      ]
     },
     "metadata": {
      "needs_background": "light"
     },
     "output_type": "display_data"
    },
    {
     "data": {
      "image/png": "[encoded data removed]",
      "text/plain": [
       "<Figure size 432x288 with 1 Axes>"
      ]
     },
     "metadata": {
      "needs_background": "light"
     },
     "output_type": "display_data"
    }
   ],
   "source": [
    "# Visualization\n",
    "accuracy = emg_train.history['accuracy']\n",
    "val_accuracy = emg_train.history['val_accuracy']\n",
    "loss = emg_train.history['loss']\n",
    "val_loss = emg_train.history['val_loss']\n",
    "epoch = range(len(accuracy))\n",
    "plt.plot(epoch, accuracy, 'bo', label='Training accuracy')\n",
    "plt.plot(epoch, val_accuracy, 'b', label='Validation accuracy')\n",
    "plt.title('Training and validation accuracy')\n",
    "plt.legend()\n",
    "plt.figure()\n",
    "plt.plot(epoch, loss, 'bo', label='Training loss')\n",
    "plt.plot(epoch, val_loss, 'b', label='Validation loss')\n",
    "plt.title('Training and validation loss')\n",
    "plt.legend()\n",
    "plt.show()"
   ]
  },
  {
   "cell_type": "code",
   "execution_count": 24,
   "metadata": {},
   "outputs": [
    {
     "name": "stdout",
     "output_type": "stream",
     "text": [
      "Train on 16898 samples, validate on 4225 samples\n",
      "Epoch 1/50\n",
      "16898/16898 [==============================] - 22s 1ms/step - loss: 0.5707 - accuracy: 0.7699 - val_loss: 0.5686 - val_accuracy: 0.7818\n",
      "Epoch 2/50\n",
      "16898/16898 [==============================] - 46s 3ms/step - loss: 0.5725 - accuracy: 0.7723 - val_loss: 0.5489 - val_accuracy: 0.7908\n",
      "Epoch 3/50\n",
      "16898/16898 [==============================] - 28s 2ms/step - loss: 0.5704 - accuracy: 0.7698 - val_loss: 0.5663 - val_accuracy: 0.7808\n",
      "Epoch 4/50\n",
      "16898/16898 [==============================] - 20s 1ms/step - loss: 0.5719 - accuracy: 0.7703 - val_loss: 0.5535 - val_accuracy: 0.7856\n",
      "Epoch 5/50\n",
      "16898/16898 [==============================] - 2119s 125ms/step - loss: 0.5643 - accuracy: 0.7726 - val_loss: 0.5863 - val_accuracy: 0.7688\n",
      "Epoch 6/50\n",
      "16898/16898 [==============================] - 561s 33ms/step - loss: 0.5644 - accuracy: 0.7731 - val_loss: 0.5365 - val_accuracy: 0.7934\n",
      "Epoch 7/50\n",
      "16898/16898 [==============================] - 21s 1ms/step - loss: 0.5570 - accuracy: 0.7794 - val_loss: 0.5792 - val_accuracy: 0.7711\n",
      "Epoch 8/50\n",
      "16898/16898 [==============================] - 20s 1ms/step - loss: 0.5619 - accuracy: 0.7776 - val_loss: 0.5447 - val_accuracy: 0.7891\n",
      "Epoch 9/50\n",
      "16898/16898 [==============================] - 21s 1ms/step - loss: 0.5468 - accuracy: 0.7831 - val_loss: 0.5508 - val_accuracy: 0.7898\n",
      "Epoch 10/50\n",
      "16898/16898 [==============================] - 21s 1ms/step - loss: 0.5459 - accuracy: 0.7821 - val_loss: 0.5606 - val_accuracy: 0.7844\n",
      "Epoch 11/50\n",
      "16898/16898 [==============================] - 21s 1ms/step - loss: 0.5414 - accuracy: 0.7839 - val_loss: 0.5398 - val_accuracy: 0.7929\n",
      "Epoch 12/50\n",
      "16898/16898 [==============================] - 21s 1ms/step - loss: 0.5508 - accuracy: 0.7794 - val_loss: 0.5400 - val_accuracy: 0.7936\n",
      "Epoch 13/50\n",
      "16898/16898 [==============================] - 20s 1ms/step - loss: 0.5561 - accuracy: 0.7797 - val_loss: 0.5398 - val_accuracy: 0.7924\n",
      "Epoch 14/50\n",
      "16898/16898 [==============================] - 20s 1ms/step - loss: 0.5455 - accuracy: 0.7842 - val_loss: 0.5430 - val_accuracy: 0.7863\n",
      "Epoch 15/50\n",
      "16898/16898 [==============================] - 20s 1ms/step - loss: 0.5384 - accuracy: 0.7893 - val_loss: 0.5499 - val_accuracy: 0.7856\n",
      "Epoch 16/50\n",
      "16898/16898 [==============================] - 20s 1ms/step - loss: 0.5438 - accuracy: 0.7844 - val_loss: 0.5550 - val_accuracy: 0.7853\n",
      "Epoch 17/50\n",
      "16898/16898 [==============================] - 21s 1ms/step - loss: 0.5449 - accuracy: 0.7830 - val_loss: 0.5657 - val_accuracy: 0.7796\n",
      "Epoch 18/50\n",
      "16898/16898 [==============================] - 20s 1ms/step - loss: 0.5376 - accuracy: 0.7886 - val_loss: 0.5404 - val_accuracy: 0.7953\n",
      "Epoch 19/50\n",
      "16898/16898 [==============================] - 20s 1ms/step - loss: 0.5352 - accuracy: 0.7917 - val_loss: 0.5427 - val_accuracy: 0.7929\n",
      "Epoch 20/50\n",
      "16898/16898 [==============================] - 20s 1ms/step - loss: 0.5247 - accuracy: 0.7904 - val_loss: 0.5422 - val_accuracy: 0.7936\n",
      "Epoch 21/50\n",
      "16898/16898 [==============================] - 20s 1ms/step - loss: 0.5297 - accuracy: 0.7912 - val_loss: 0.5400 - val_accuracy: 0.7920\n",
      "Epoch 22/50\n",
      "16898/16898 [==============================] - 21s 1ms/step - loss: 0.5346 - accuracy: 0.7932 - val_loss: 0.5495 - val_accuracy: 0.7879\n",
      "Epoch 23/50\n",
      "16898/16898 [==============================] - 21s 1ms/step - loss: 0.5286 - accuracy: 0.7901 - val_loss: 0.5436 - val_accuracy: 0.7884\n",
      "Epoch 24/50\n",
      "16898/16898 [==============================] - 22s 1ms/step - loss: 0.5293 - accuracy: 0.7877 - val_loss: 0.5524 - val_accuracy: 0.7799\n",
      "Epoch 25/50\n",
      "16898/16898 [==============================] - 20s 1ms/step - loss: 0.5380 - accuracy: 0.7855 - val_loss: 0.5648 - val_accuracy: 0.7811\n",
      "Epoch 26/50\n",
      "16898/16898 [==============================] - 20s 1ms/step - loss: 0.5223 - accuracy: 0.7930 - val_loss: 0.5497 - val_accuracy: 0.7893\n",
      "Epoch 27/50\n",
      "16898/16898 [==============================] - 20s 1ms/step - loss: 0.5330 - accuracy: 0.7884 - val_loss: 0.5612 - val_accuracy: 0.7851\n",
      "Epoch 28/50\n",
      "16898/16898 [==============================] - 21s 1ms/step - loss: 0.5259 - accuracy: 0.7942 - val_loss: 0.5495 - val_accuracy: 0.7908\n",
      "Epoch 29/50\n",
      "16898/16898 [==============================] - 21s 1ms/step - loss: 0.5137 - accuracy: 0.7977 - val_loss: 0.5408 - val_accuracy: 0.7915\n",
      "Epoch 30/50\n",
      "16898/16898 [==============================] - 20s 1ms/step - loss: 0.5146 - accuracy: 0.7945 - val_loss: 0.5472 - val_accuracy: 0.7929\n",
      "Epoch 31/50\n",
      "16898/16898 [==============================] - 20s 1ms/step - loss: 0.5159 - accuracy: 0.7987 - val_loss: 0.5540 - val_accuracy: 0.7865\n",
      "Epoch 32/50\n",
      "16898/16898 [==============================] - 20s 1ms/step - loss: 0.5092 - accuracy: 0.7984 - val_loss: 0.5354 - val_accuracy: 0.7934\n",
      "Epoch 33/50\n",
      "16898/16898 [==============================] - 20s 1ms/step - loss: 0.5082 - accuracy: 0.8011 - val_loss: 0.5483 - val_accuracy: 0.7832\n",
      "Epoch 34/50\n",
      "16898/16898 [==============================] - 20s 1ms/step - loss: 0.5079 - accuracy: 0.8019 - val_loss: 0.5575 - val_accuracy: 0.7865\n",
      "Epoch 35/50\n",
      "16898/16898 [==============================] - 20s 1ms/step - loss: 0.5089 - accuracy: 0.7960 - val_loss: 0.5521 - val_accuracy: 0.7870\n",
      "Epoch 36/50\n",
      "16898/16898 [==============================] - 20s 1ms/step - loss: 0.5097 - accuracy: 0.8015 - val_loss: 0.5365 - val_accuracy: 0.7934\n",
      "Epoch 37/50\n",
      "16898/16898 [==============================] - 20s 1ms/step - loss: 0.5038 - accuracy: 0.8020 - val_loss: 0.5357 - val_accuracy: 0.7927\n",
      "Epoch 38/50\n",
      "16898/16898 [==============================] - 20s 1ms/step - loss: 0.4989 - accuracy: 0.8023 - val_loss: 0.5454 - val_accuracy: 0.7936\n",
      "Epoch 39/50\n",
      "16898/16898 [==============================] - 20s 1ms/step - loss: 0.5126 - accuracy: 0.7955 - val_loss: 0.5379 - val_accuracy: 0.7950\n",
      "Epoch 40/50\n",
      "16898/16898 [==============================] - 20s 1ms/step - loss: 0.5002 - accuracy: 0.8010 - val_loss: 0.5312 - val_accuracy: 0.8014\n",
      "Epoch 41/50\n",
      "16898/16898 [==============================] - 370s 22ms/step - loss: 0.4985 - accuracy: 0.8037 - val_loss: 0.5329 - val_accuracy: 0.7962\n",
      "Epoch 42/50\n",
      "16898/16898 [==============================] - 20s 1ms/step - loss: 0.4967 - accuracy: 0.8023 - val_loss: 0.5499 - val_accuracy: 0.7886\n",
      "Epoch 43/50\n",
      "16898/16898 [==============================] - 20s 1ms/step - loss: 0.4992 - accuracy: 0.8036 - val_loss: 0.5458 - val_accuracy: 0.7941\n",
      "Epoch 44/50\n",
      "16898/16898 [==============================] - 21s 1ms/step - loss: 0.4948 - accuracy: 0.8020 - val_loss: 0.5528 - val_accuracy: 0.7922\n",
      "Epoch 45/50\n",
      "16898/16898 [==============================] - 22s 1ms/step - loss: 0.5031 - accuracy: 0.8002 - val_loss: 0.5400 - val_accuracy: 0.7948\n",
      "Epoch 46/50\n",
      "16898/16898 [==============================] - 21s 1ms/step - loss: 0.4991 - accuracy: 0.8001 - val_loss: 0.5329 - val_accuracy: 0.7976\n",
      "Epoch 47/50\n",
      "16898/16898 [==============================] - 21s 1ms/step - loss: 0.5046 - accuracy: 0.7989 - val_loss: 0.5400 - val_accuracy: 0.7981\n",
      "Epoch 48/50\n",
      "16898/16898 [==============================] - 21s 1ms/step - loss: 0.4956 - accuracy: 0.8039 - val_loss: 0.5512 - val_accuracy: 0.7931\n",
      "Epoch 49/50\n",
      "16898/16898 [==============================] - 21s 1ms/step - loss: 0.4921 - accuracy: 0.8071 - val_loss: 0.5499 - val_accuracy: 0.7903\n",
      "Epoch 50/50\n",
      "16898/16898 [==============================] - 21s 1ms/step - loss: 0.4952 - accuracy: 0.8061 - val_loss: 0.5375 - val_accuracy: 0.7960\n"
     ]
    }
   ],
   "source": [
    "emg_train_dropout = emg_model.fit(\n",
    "    train_X,\n",
    "    train_label,\n",
    "    batch_size=batch_size,\n",
    "    epochs=epochs,\n",
    "    verbose=1,\n",
    "    validation_data=(valid_X, valid_label))"
   ]
  },
  {
   "cell_type": "code",
   "execution_count": 25,
   "metadata": {},
   "outputs": [],
   "source": [
    "# emg_model.save(\"emg_model_dropout_new.h5py\")"
   ]
  },
  {
   "cell_type": "code",
   "execution_count": 26,
   "metadata": {},
   "outputs": [
    {
     "name": "stdout",
     "output_type": "stream",
     "text": [
      "2347/2347 [==============================] - 1s 345us/step\n"
     ]
    }
   ],
   "source": [
    "test_eval= emg_model.evaluate(test_X, test_Y_one_hot, verbose=1)"
   ]
  },
  {
   "cell_type": "code",
   "execution_count": 27,
   "metadata": {},
   "outputs": [
    {
     "name": "stdout",
     "output_type": "stream",
     "text": [
      "Test loss:  0.5535070183026216\n",
      "Test accuracy:  0.7933531999588013\n"
     ]
    }
   ],
   "source": [
    "print('Test loss: ', test_eval[0])\n",
    "print('Test accuracy: ', test_eval[1])"
   ]
  },
  {
   "cell_type": "code",
   "execution_count": 28,
   "metadata": {},
   "outputs": [
    {
     "data": {
      "image/png": "[encoded data removed]",
      "text/plain": [
       "<Figure size 432x288 with 1 Axes>"
      ]
     },
     "metadata": {
      "needs_background": "light"
     },
     "output_type": "display_data"
    },
    {
     "data": {
      "image/png": "[encoded data removed]",
      "text/plain": [
       "<Figure size 432x288 with 1 Axes>"
      ]
     },
     "metadata": {
      "needs_background": "light"
     },
     "output_type": "display_data"
    }
   ],
   "source": [
    "# Visualization\n",
    "accuracy = emg_train_dropout.history['accuracy']\n",
    "val_accuracy = emg_train_dropout.history['val_accuracy']\n",
    "loss = emg_train_dropout.history['loss']\n",
    "val_loss = emg_train_dropout.history['val_loss']\n",
    "epoch = range(len(accuracy))\n",
    "plt.plot(epoch, accuracy, 'bo', label='Training accuracy')\n",
    "plt.plot(epoch, val_accuracy, 'b', label='Validation accuracy')\n",
    "plt.title('Training and validation accuracy')\n",
    "plt.legend()\n",
    "plt.figure()\n",
    "plt.plot(epoch, loss, 'bo', label='Training loss')\n",
    "plt.plot(epoch, val_loss, 'b', label='Validation loss')\n",
    "plt.title('Training and validation loss')\n",
    "plt.legend()\n",
    "plt.show()"
   ]
  },
  {
   "cell_type": "code",
   "execution_count": 29,
   "metadata": {},
   "outputs": [],
   "source": [
    "predicted_classes = emg_model.predict(test_X)"
   ]
  },
  {
   "cell_type": "code",
   "execution_count": 30,
   "metadata": {},
   "outputs": [],
   "source": [
    "predicted_classes = np.argmax(np.round(predicted_classes), axis=1)"
   ]
  },
  {
   "cell_type": "code",
   "execution_count": 31,
   "metadata": {},
   "outputs": [
    {
     "data": {
      "text/plain": [
       "((2347,), (2347,))"
      ]
     },
     "execution_count": 31,
     "metadata": {},
     "output_type": "execute_result"
    }
   ],
   "source": [
    "predicted_classes.shape, test_Y.shape"
   ]
  },
  {
   "cell_type": "code",
   "execution_count": 32,
   "metadata": {},
   "outputs": [
    {
     "name": "stdout",
     "output_type": "stream",
     "text": [
      "Found 1808 correct labels\n"
     ]
    },
    {
     "data": {
      "image/png": "[encoded data removed]",
      "text/plain": [
       "<Figure size 432x288 with 9 Axes>"
      ]
     },
     "metadata": {
      "needs_background": "light"
     },
     "output_type": "display_data"
    }
   ],
   "source": [
    "correct = np.where(predicted_classes==test_Y)[0]\n",
    "print(\"Found %d correct labels\" % len(correct))\n",
    "for i, correct, in enumerate(correct[:9]):\n",
    "    plt.subplot(3, 3, i+1)\n",
    "    plt.pcolormesh(test_X[correct].reshape(ydim, xdim), cmap='jet')\n",
    "    plt.title(\"Predicted {}, Class {}\".format(predicted_classes[correct], test_Y[correct]))\n",
    "    plt.tight_layout()"
   ]
  },
  {
   "cell_type": "code",
   "execution_count": 33,
   "metadata": {},
   "outputs": [
    {
     "name": "stdout",
     "output_type": "stream",
     "text": [
      "Found 539 incorrect labels\n"
     ]
    },
    {
     "data": {
      "image/png": "[encoded data removed]",
      "text/plain": [
       "<Figure size 432x288 with 9 Axes>"
      ]
     },
     "metadata": {
      "needs_background": "light"
     },
     "output_type": "display_data"
    }
   ],
   "source": [
    "incorrect = np.where(predicted_classes!=test_Y)[0]\n",
    "print(\"Found %d incorrect labels\" % len(incorrect))\n",
    "for i, incorrect, in enumerate(incorrect[:9]):\n",
    "    plt.subplot(3, 3, i+1)\n",
    "    plt.pcolormesh(test_X[incorrect].reshape(ydim, xdim), cmap='jet')\n",
    "    plt.title(\"Predicted {}, Class {}\".format(predicted_classes[incorrect], test_Y[incorrect]))\n",
    "    plt.tight_layout()"
   ]
  },
  {
   "cell_type": "code",
   "execution_count": 34,
   "metadata": {},
   "outputs": [
    {
     "name": "stdout",
     "output_type": "stream",
     "text": [
      "             precision    recall  f1-score   support\n",
      "\n",
      "    Class 0       0.71      0.97      0.82       637\n",
      "    Class 1       0.82      0.82      0.82       760\n",
      "    Class 2       0.81      0.62      0.70       537\n",
      "    Class 3       0.77      0.56      0.65       413\n",
      "\n",
      "avg / total       0.78      0.77      0.76      2347\n",
      "\n"
     ]
    }
   ],
   "source": [
    "from sklearn.metrics import classification_report\n",
    "target_names = [\"Class {}\".format(i) for i in range(num_classes)]\n",
    "print(classification_report(test_Y, predicted_classes, target_names=target_names))"
   ]
  },
  {
   "cell_type": "code",
   "execution_count": null,
   "metadata": {},
   "outputs": [],
   "source": []
  }
 ],
 "metadata": {
  "kernelspec": {
   "display_name": "Python 3",
   "language": "python",
   "name": "python3"
  },
  "language_info": {
   "codemirror_mode": {
    "name": "ipython",
    "version": 3
   },
   "file_extension": ".py",
   "mimetype": "text/x-python",
   "name": "python",
   "nbconvert_exporter": "python",
   "pygments_lexer": "ipython3",
   "version": "3.7.0"
  }
 },
 "nbformat": 4,
 "nbformat_minor": 4
}
