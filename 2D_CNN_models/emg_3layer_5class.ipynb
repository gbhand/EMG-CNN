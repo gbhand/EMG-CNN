{
 "cells": [
  {
   "cell_type": "code",
   "execution_count": 1,
   "metadata": {},
   "outputs": [
    {
     "name": "stderr",
     "output_type": "stream",
     "text": [
      "Using TensorFlow backend.\n",
      "/opt/miniconda3/envs/trial_env/lib/python3.7/site-packages/tensorflow/python/framework/dtypes.py:526: FutureWarning: Passing (type, 1) or '1type' as a synonym of type is deprecated; in a future version of numpy, it will be understood as (type, (1,)) / '(1,)type'.\n",
      "  _np_qint8 = np.dtype([(\"qint8\", np.int8, 1)])\n",
      "/opt/miniconda3/envs/trial_env/lib/python3.7/site-packages/tensorflow/python/framework/dtypes.py:527: FutureWarning: Passing (type, 1) or '1type' as a synonym of type is deprecated; in a future version of numpy, it will be understood as (type, (1,)) / '(1,)type'.\n",
      "  _np_quint8 = np.dtype([(\"quint8\", np.uint8, 1)])\n",
      "/opt/miniconda3/envs/trial_env/lib/python3.7/site-packages/tensorflow/python/framework/dtypes.py:528: FutureWarning: Passing (type, 1) or '1type' as a synonym of type is deprecated; in a future version of numpy, it will be understood as (type, (1,)) / '(1,)type'.\n",
      "  _np_qint16 = np.dtype([(\"qint16\", np.int16, 1)])\n",
      "/opt/miniconda3/envs/trial_env/lib/python3.7/site-packages/tensorflow/python/framework/dtypes.py:529: FutureWarning: Passing (type, 1) or '1type' as a synonym of type is deprecated; in a future version of numpy, it will be understood as (type, (1,)) / '(1,)type'.\n",
      "  _np_quint16 = np.dtype([(\"quint16\", np.uint16, 1)])\n",
      "/opt/miniconda3/envs/trial_env/lib/python3.7/site-packages/tensorflow/python/framework/dtypes.py:530: FutureWarning: Passing (type, 1) or '1type' as a synonym of type is deprecated; in a future version of numpy, it will be understood as (type, (1,)) / '(1,)type'.\n",
      "  _np_qint32 = np.dtype([(\"qint32\", np.int32, 1)])\n",
      "/opt/miniconda3/envs/trial_env/lib/python3.7/site-packages/tensorflow/python/framework/dtypes.py:535: FutureWarning: Passing (type, 1) or '1type' as a synonym of type is deprecated; in a future version of numpy, it will be understood as (type, (1,)) / '(1,)type'.\n",
      "  np_resource = np.dtype([(\"resource\", np.ubyte, 1)])\n"
     ]
    }
   ],
   "source": [
    "import os\n",
    "\n",
    "import matplotlib.pyplot as plt\n",
    "import numpy as np\n",
    "import pandas as pd\n",
    "import st_remux as st\n",
    "\n",
    "from sklearn.model_selection import train_test_split\n",
    "from keras.utils import to_categorical\n",
    "\n",
    "\n",
    "\n",
    "%matplotlib inline"
   ]
  },
  {
   "cell_type": "code",
   "execution_count": 2,
   "metadata": {},
   "outputs": [],
   "source": [
    "# Config\n",
    "# highpath = 'datasets/high.csv'\n",
    "# lowpath = 'datasets/none.csv'\n",
    "# hi = st.raw_to_arr(high, fs, win_len, 0)\n",
    "# lo = st.raw_to_arr(low, fs, win_len, 0)\n",
    "first_class = 'data_for_cnn/0'\n",
    "second_class = 'data_for_cnn/1'\n",
    "third_class = 'data_for_cnn/2'\n",
    "fourth_class = 'data_for_cnn/3'\n",
    "fifth_class= 'data_for_cnn/4'\n",
    "\n",
    "\n",
    "\n",
    "fs = 4000\n",
    "win_len = 40\n",
    "\n",
    "use_filter = 0   # weird results if we use python filtering\n",
    "\n",
    "use_matlab_backend = 0"
   ]
  },
  {
   "cell_type": "code",
   "execution_count": 3,
   "metadata": {},
   "outputs": [],
   "source": [
    "# high = np.genfromtxt(highpath, delimiter=',')\n",
    "# low = np.genfromtxt(lowpath, delimiter=',')"
   ]
  },
  {
   "cell_type": "code",
   "execution_count": 4,
   "metadata": {},
   "outputs": [
    {
     "name": "stdout",
     "output_type": "stream",
     "text": [
      "Using native backend\n",
      "['RAW.csv']\n",
      "ydim=16 xdim=40\n",
      "['RAW.csv']\n",
      "ydim=16 xdim=40\n",
      "['RAW.csv']\n",
      "ydim=16 xdim=40\n",
      "['RAW.csv']\n",
      "ydim=16 xdim=40\n",
      "['RAW.csv']\n",
      "ydim=16 xdim=40\n"
     ]
    }
   ],
   "source": [
    "if use_matlab_backend:\n",
    "    print('Using MATLAB signal processing backend')\n",
    "    # high_dir = 'datasets/high/'\n",
    "    # low_dir = 'datasets/low/'\n",
    "\n",
    "    high_dir = 'C:/Users/Geoffrey/Documents/MATLAB/S transform time frequency/high/'\n",
    "    low_dir = 'C:/Users/Geoffrey/Documents/MATLAB/S transform time frequency/low/'\n",
    "\n",
    "    def generate_3darray(directory):\n",
    "        files = os.listdir(directory)\n",
    "        dims = np.genfromtxt(directory + files[0], delimiter=',').shape\n",
    "        length = len(files)\n",
    "        arr = np.zeros((length, dims[0], dims[1]))\n",
    "\n",
    "        for idx, val in enumerate(files):\n",
    "            arr[idx] = np.genfromtxt(directory + val, delimiter=',')\n",
    "\n",
    "        return arr\n",
    "\n",
    "    hi = generate_3darray(high_dir)\n",
    "    lo = generate_3darray(low_dir)\n",
    "    \n",
    "else: \n",
    "    print('Using native backend')\n",
    "    zero = st.raw_to_arr(first_class, fs, win_len, 0)\n",
    "    one = st.raw_to_arr(second_class, fs, win_len, 0)\n",
    "    two = st.raw_to_arr(third_class, fs, win_len, 0)\n",
    "    three = st.raw_to_arr(fourth_class, fs, win_len, 0)\n",
    "    four = st.raw_to_arr(fifth_class, fs, win_len, 0)\n",
    "\n"
   ]
  },
  {
   "cell_type": "code",
   "execution_count": 5,
   "metadata": {},
   "outputs": [
    {
     "name": "stdout",
     "output_type": "stream",
     "text": [
      "(152100, 16, 40)\n"
     ]
    }
   ],
   "source": [
    "X = np.concatenate((zero, one, two, three, four))\n",
    "d= X.shape\n",
    "print(d)\n",
    "\n",
    "four_Y = np.ones(len(four), dtype=int) * 4\n",
    "three_Y = np.ones(len(three), dtype=int) * 3\n",
    "two_Y = np.ones(len(two), dtype=int) * 2\n",
    "one_Y = np.ones(len(one), dtype=int) * 1\n",
    "zero_Y = np.zeros(len(zero), dtype=int)\n",
    "\n",
    "Y = np.concatenate((four_Y, three_Y, two_Y, one_Y, zero_Y))"
   ]
  },
  {
   "cell_type": "code",
   "execution_count": 6,
   "metadata": {},
   "outputs": [],
   "source": [
    "train_X, test_X, train_Y, test_Y = train_test_split(X, Y, test_size=0.2)"
   ]
  },
  {
   "cell_type": "code",
   "execution_count": 7,
   "metadata": {},
   "outputs": [
    {
     "name": "stdout",
     "output_type": "stream",
     "text": [
      "Training data shape:  (121680, 16, 40) (121680,)\n",
      "Testing data shape:  (30420, 16, 40) (30420,)\n"
     ]
    }
   ],
   "source": [
    "print('Training data shape: ', train_X.shape, train_Y.shape)\n",
    "print('Testing data shape: ', test_X.shape, test_Y.shape)"
   ]
  },
  {
   "cell_type": "code",
   "execution_count": 8,
   "metadata": {},
   "outputs": [
    {
     "name": "stdout",
     "output_type": "stream",
     "text": [
      "Total number of outputs:  5\n",
      "Output classes:  [0 1 2 3 4]\n"
     ]
    }
   ],
   "source": [
    "classes = np.unique(train_Y)\n",
    "nClasses = len(classes)\n",
    "print('Total number of outputs: ', nClasses)\n",
    "print('Output classes: ', classes)"
   ]
  },
  {
   "cell_type": "code",
   "execution_count": 9,
   "metadata": {
    "scrolled": true
   },
   "outputs": [
    {
     "data": {
      "text/plain": [
       "Text(0.5,1,'Ground Truth: 1')"
      ]
     },
     "execution_count": 9,
     "metadata": {},
     "output_type": "execute_result"
    },
    {
     "data": {
      "image/png": "[encoded data removed]",
      "text/plain": [
       "<Figure size 720x144 with 2 Axes>"
      ]
     },
     "metadata": {
      "needs_background": "light"
     },
     "output_type": "display_data"
    }
   ],
   "source": [
    "plt.figure(figsize=[10,2])\n",
    "\n",
    "# Display first image in training set\n",
    "plt.subplot(121)\n",
    "plt.pcolormesh(train_X[0,:,:], cmap='jet')\n",
    "plt.title(\"Ground Truth: {}\".format(train_Y[0]))\n",
    "\n",
    "# Display second image in testing set\n",
    "plt.subplot(122)\n",
    "plt.pcolormesh(test_X[1], cmap='jet')\n",
    "plt.title(\"Ground Truth: {}\".format(test_Y[1]))"
   ]
  },
  {
   "cell_type": "code",
   "execution_count": 10,
   "metadata": {},
   "outputs": [
    {
     "data": {
      "text/plain": [
       "((121680, 16, 40, 1), (30420, 16, 40, 1))"
      ]
     },
     "execution_count": 10,
     "metadata": {},
     "output_type": "execute_result"
    }
   ],
   "source": [
    "ydim = train_X[0].shape[0]\n",
    "xdim = train_X[0].shape[1]\n",
    "train_X = train_X.reshape(-1, ydim, xdim, 1)\n",
    "test_X = test_X.reshape(-1, ydim, xdim, 1)\n",
    "train_X.shape, test_X.shape"
   ]
  },
  {
   "cell_type": "code",
   "execution_count": 11,
   "metadata": {},
   "outputs": [],
   "source": [
    "train_X = train_X.astype('float32')\n",
    "test_X = test_X.astype('float32')"
   ]
  },
  {
   "cell_type": "code",
   "execution_count": 12,
   "metadata": {},
   "outputs": [
    {
     "name": "stdout",
     "output_type": "stream",
     "text": [
      "Original label:  2\n",
      "After conversion to one-hot:  [0. 0. 1. 0. 0.]\n"
     ]
    }
   ],
   "source": [
    "# Change labels from categorical to one-hot encoding\n",
    "train_Y_one_hot = to_categorical(train_Y)\n",
    "test_Y_one_hot = to_categorical(test_Y)\n",
    "\n",
    "# See the difference?\n",
    "print('Original label: ', train_Y[0])\n",
    "print('After conversion to one-hot: ', train_Y_one_hot[0])"
   ]
  },
  {
   "cell_type": "code",
   "execution_count": 13,
   "metadata": {},
   "outputs": [
    {
     "data": {
      "text/plain": [
       "(121680, 5)"
      ]
     },
     "execution_count": 13,
     "metadata": {},
     "output_type": "execute_result"
    }
   ],
   "source": [
    "train_Y_one_hot.shape"
   ]
  },
  {
   "cell_type": "code",
   "execution_count": 14,
   "metadata": {},
   "outputs": [
    {
     "data": {
      "text/plain": [
       "((97344, 16, 40, 1), (24336, 16, 40, 1), (97344, 5), (24336, 5))"
      ]
     },
     "execution_count": 14,
     "metadata": {},
     "output_type": "execute_result"
    }
   ],
   "source": [
    "# Partition data for 80% training and 20% validation\n",
    "# should reduce overfitting and boost test performance\n",
    "\n",
    "train_X, valid_X, train_label, valid_label = train_test_split(train_X, train_Y_one_hot, test_size=0.2)\n",
    "\n",
    "train_X.shape, valid_X.shape, train_label.shape, valid_label.shape"
   ]
  },
  {
   "cell_type": "code",
   "execution_count": 15,
   "metadata": {},
   "outputs": [],
   "source": [
    "# let's get down to business\n",
    "import keras\n",
    "from keras.models import Sequential, Input, Model\n",
    "from keras.layers import Dense, Dropout, Flatten\n",
    "from keras.layers import Conv2D, MaxPooling2D\n",
    "from keras.layers.normalization import BatchNormalization\n",
    "from keras.layers.advanced_activations import LeakyReLU"
   ]
  },
  {
   "cell_type": "code",
   "execution_count": 16,
   "metadata": {},
   "outputs": [],
   "source": [
    "# Parameters\n",
    "batch_size = 64\n",
    "epochs = 50\n",
    "num_classes = nClasses"
   ]
  },
  {
   "cell_type": "code",
   "execution_count": 17,
   "metadata": {},
   "outputs": [
    {
     "name": "stdout",
     "output_type": "stream",
     "text": [
      "WARNING:tensorflow:From /opt/miniconda3/envs/trial_env/lib/python3.7/site-packages/tensorflow/python/ops/resource_variable_ops.py:435: colocate_with (from tensorflow.python.framework.ops) is deprecated and will be removed in a future version.\n",
      "Instructions for updating:\n",
      "Colocations handled automatically by placer.\n"
     ]
    }
   ],
   "source": [
    "emg_model = Sequential()\n",
    "emg_model.add(\n",
    "    Conv2D(\n",
    "        32, \n",
    "        kernel_size=(3, 3), \n",
    "        activation='linear', \n",
    "        input_shape=(ydim, xdim, 1), \n",
    "        padding='same'))\n",
    "emg_model.add(LeakyReLU(alpha=0.1))\n",
    "emg_model.add(MaxPooling2D(pool_size=(2, 2), padding='same'))\n",
    "emg_model.add(Dropout(0.25))\n",
    "emg_model.add(\n",
    "    Conv2D(\n",
    "        64,\n",
    "        (3, 3),\n",
    "        activation='linear',\n",
    "        padding='same'))\n",
    "emg_model.add(LeakyReLU(alpha=0.1))\n",
    "emg_model.add(MaxPooling2D(pool_size=(2, 2), padding='same'))\n",
    "emg_model.add(Dropout(0.25))\n",
    "emg_model.add(\n",
    "    Conv2D(\n",
    "        128,\n",
    "        (3, 3),\n",
    "        activation='linear',\n",
    "        padding='same'))\n",
    "emg_model.add(LeakyReLU(alpha=0.1))\n",
    "emg_model.add(MaxPooling2D(pool_size=(2, 2), padding='same'))\n",
    "emg_model.add(Dropout(0.4))\n",
    "emg_model.add(Flatten())\n",
    "emg_model.add(Dense(128, activation='linear'))\n",
    "emg_model.add(LeakyReLU(alpha=0.1))\n",
    "emg_model.add(Dropout(0.3))\n",
    "emg_model.add(Dense(num_classes, activation='softmax'))"
   ]
  },
  {
   "cell_type": "code",
   "execution_count": 18,
   "metadata": {},
   "outputs": [],
   "source": [
    "emg_model.compile(\n",
    "    loss=keras.losses.categorical_crossentropy,\n",
    "    optimizer=keras.optimizers.Adam(),\n",
    "    metrics=['accuracy'])"
   ]
  },
  {
   "cell_type": "code",
   "execution_count": 19,
   "metadata": {
    "scrolled": true
   },
   "outputs": [
    {
     "name": "stdout",
     "output_type": "stream",
     "text": [
      "Model: \"sequential_1\"\n",
      "_________________________________________________________________\n",
      "Layer (type)                 Output Shape              Param #   \n",
      "=================================================================\n",
      "conv2d_1 (Conv2D)            (None, 16, 40, 32)        320       \n",
      "_________________________________________________________________\n",
      "leaky_re_lu_1 (LeakyReLU)    (None, 16, 40, 32)        0         \n",
      "_________________________________________________________________\n",
      "max_pooling2d_1 (MaxPooling2 (None, 8, 20, 32)         0         \n",
      "_________________________________________________________________\n",
      "dropout_1 (Dropout)          (None, 8, 20, 32)         0         \n",
      "_________________________________________________________________\n",
      "conv2d_2 (Conv2D)            (None, 8, 20, 64)         18496     \n",
      "_________________________________________________________________\n",
      "leaky_re_lu_2 (LeakyReLU)    (None, 8, 20, 64)         0         \n",
      "_________________________________________________________________\n",
      "max_pooling2d_2 (MaxPooling2 (None, 4, 10, 64)         0         \n",
      "_________________________________________________________________\n",
      "dropout_2 (Dropout)          (None, 4, 10, 64)         0         \n",
      "_________________________________________________________________\n",
      "conv2d_3 (Conv2D)            (None, 4, 10, 128)        73856     \n",
      "_________________________________________________________________\n",
      "leaky_re_lu_3 (LeakyReLU)    (None, 4, 10, 128)        0         \n",
      "_________________________________________________________________\n",
      "max_pooling2d_3 (MaxPooling2 (None, 2, 5, 128)         0         \n",
      "_________________________________________________________________\n",
      "dropout_3 (Dropout)          (None, 2, 5, 128)         0         \n",
      "_________________________________________________________________\n",
      "flatten_1 (Flatten)          (None, 1280)              0         \n",
      "_________________________________________________________________\n",
      "dense_1 (Dense)              (None, 128)               163968    \n",
      "_________________________________________________________________\n",
      "leaky_re_lu_4 (LeakyReLU)    (None, 128)               0         \n",
      "_________________________________________________________________\n",
      "dropout_4 (Dropout)          (None, 128)               0         \n",
      "_________________________________________________________________\n",
      "dense_2 (Dense)              (None, 5)                 645       \n",
      "=================================================================\n",
      "Total params: 257,285\n",
      "Trainable params: 257,285\n",
      "Non-trainable params: 0\n",
      "_________________________________________________________________\n"
     ]
    }
   ],
   "source": [
    "emg_model.summary()"
   ]
  },
  {
   "cell_type": "code",
   "execution_count": 21,
   "metadata": {},
   "outputs": [
    {
     "name": "stdout",
     "output_type": "stream",
     "text": [
      "Train on 97344 samples, validate on 24336 samples\n",
      "Epoch 1/50\n",
      "97344/97344 [==============================] - 155s 2ms/step - loss: 1.1588 - accuracy: 0.4585 - val_loss: 1.1645 - val_accuracy: 0.4516\n",
      "Epoch 2/50\n",
      "97344/97344 [==============================] - 149s 2ms/step - loss: 1.1568 - accuracy: 0.4578 - val_loss: 1.1613 - val_accuracy: 0.4523\n",
      "Epoch 3/50\n",
      "97344/97344 [==============================] - 146s 1ms/step - loss: 1.1565 - accuracy: 0.4579 - val_loss: 1.1878 - val_accuracy: 0.4470\n",
      "Epoch 4/50\n",
      "97344/97344 [==============================] - 152s 2ms/step - loss: 1.1549 - accuracy: 0.4608 - val_loss: 1.1599 - val_accuracy: 0.4515\n",
      "Epoch 5/50\n",
      "97344/97344 [==============================] - 158s 2ms/step - loss: 1.1550 - accuracy: 0.4597 - val_loss: 1.1562 - val_accuracy: 0.4552\n",
      "Epoch 6/50\n",
      "97344/97344 [==============================] - 161s 2ms/step - loss: 1.1566 - accuracy: 0.4587 - val_loss: 1.1715 - val_accuracy: 0.4509\n",
      "Epoch 7/50\n",
      "97344/97344 [==============================] - 166s 2ms/step - loss: 1.1537 - accuracy: 0.4595 - val_loss: 1.1725 - val_accuracy: 0.4495\n",
      "Epoch 8/50\n",
      "97344/97344 [==============================] - 172s 2ms/step - loss: 1.1539 - accuracy: 0.4587 - val_loss: 1.1539 - val_accuracy: 0.4509\n",
      "Epoch 9/50\n",
      "97344/97344 [==============================] - 168s 2ms/step - loss: 1.1528 - accuracy: 0.4609 - val_loss: 1.1616 - val_accuracy: 0.4528\n",
      "Epoch 10/50\n",
      "97344/97344 [==============================] - 169s 2ms/step - loss: 1.1526 - accuracy: 0.4595 - val_loss: 1.1536 - val_accuracy: 0.4527\n",
      "Epoch 11/50\n",
      "97344/97344 [==============================] - 156s 2ms/step - loss: 1.1516 - accuracy: 0.4610 - val_loss: 1.1729 - val_accuracy: 0.4493\n",
      "Epoch 12/50\n",
      "97344/97344 [==============================] - 144s 1ms/step - loss: 1.1515 - accuracy: 0.4605 - val_loss: 1.1586 - val_accuracy: 0.4510\n",
      "Epoch 13/50\n",
      "97344/97344 [==============================] - 3803s 39ms/step - loss: 1.1509 - accuracy: 0.4609 - val_loss: 1.1628 - val_accuracy: 0.4519\n",
      "Epoch 14/50\n",
      "97344/97344 [==============================] - 121s 1ms/step - loss: 1.1503 - accuracy: 0.4623 - val_loss: 1.1698 - val_accuracy: 0.4479\n",
      "Epoch 15/50\n",
      "97344/97344 [==============================] - 114s 1ms/step - loss: 1.1485 - accuracy: 0.4627 - val_loss: 1.1689 - val_accuracy: 0.4509\n",
      "Epoch 16/50\n",
      "97344/97344 [==============================] - 114s 1ms/step - loss: 1.1494 - accuracy: 0.4612 - val_loss: 1.1679 - val_accuracy: 0.4506\n",
      "Epoch 17/50\n",
      "97344/97344 [==============================] - 115s 1ms/step - loss: 1.1479 - accuracy: 0.4621 - val_loss: 1.2054 - val_accuracy: 0.4434\n",
      "Epoch 18/50\n",
      "97344/97344 [==============================] - 115s 1ms/step - loss: 1.1474 - accuracy: 0.4616 - val_loss: 1.1580 - val_accuracy: 0.4505\n",
      "Epoch 19/50\n",
      "97344/97344 [==============================] - 137s 1ms/step - loss: 1.1468 - accuracy: 0.4649 - val_loss: 1.1680 - val_accuracy: 0.4511\n",
      "Epoch 20/50\n",
      "97344/97344 [==============================] - 144s 1ms/step - loss: 1.1449 - accuracy: 0.4623 - val_loss: 1.1522 - val_accuracy: 0.4520\n",
      "Epoch 21/50\n",
      "97344/97344 [==============================] - 146s 1ms/step - loss: 1.1461 - accuracy: 0.4635 - val_loss: 1.1562 - val_accuracy: 0.4513\n",
      "Epoch 22/50\n",
      "97344/97344 [==============================] - 144s 1ms/step - loss: 1.1458 - accuracy: 0.4638 - val_loss: 1.1828 - val_accuracy: 0.4494\n",
      "Epoch 23/50\n",
      "97344/97344 [==============================] - 145s 1ms/step - loss: 1.1453 - accuracy: 0.4649 - val_loss: 1.1875 - val_accuracy: 0.4480\n",
      "Epoch 24/50\n",
      "97344/97344 [==============================] - 147s 2ms/step - loss: 1.1443 - accuracy: 0.4654 - val_loss: 1.1676 - val_accuracy: 0.4530\n",
      "Epoch 25/50\n",
      "97344/97344 [==============================] - 148s 2ms/step - loss: 1.1443 - accuracy: 0.4636 - val_loss: 1.1576 - val_accuracy: 0.4556\n",
      "Epoch 26/50\n",
      "97344/97344 [==============================] - 1828s 19ms/step - loss: 1.1444 - accuracy: 0.4641 - val_loss: 1.1598 - val_accuracy: 0.4510\n",
      "Epoch 27/50\n",
      "97344/97344 [==============================] - 144s 1ms/step - loss: 1.1444 - accuracy: 0.4658 - val_loss: 1.2036 - val_accuracy: 0.4445\n",
      "Epoch 28/50\n",
      "97344/97344 [==============================] - 145s 1ms/step - loss: 1.1426 - accuracy: 0.4653 - val_loss: 1.1711 - val_accuracy: 0.4487\n",
      "Epoch 29/50\n",
      "97344/97344 [==============================] - 149s 2ms/step - loss: 1.1435 - accuracy: 0.4655 - val_loss: 1.1746 - val_accuracy: 0.4497\n",
      "Epoch 30/50\n",
      "97344/97344 [==============================] - 151s 2ms/step - loss: 1.1436 - accuracy: 0.4649 - val_loss: 1.1650 - val_accuracy: 0.4502\n",
      "Epoch 31/50\n",
      "97344/97344 [==============================] - 153s 2ms/step - loss: 1.1419 - accuracy: 0.4677 - val_loss: 1.1723 - val_accuracy: 0.4481\n",
      "Epoch 32/50\n",
      "97344/97344 [==============================] - 135s 1ms/step - loss: 1.1430 - accuracy: 0.4655 - val_loss: 1.1703 - val_accuracy: 0.4488\n",
      "Epoch 33/50\n",
      "97344/97344 [==============================] - 127s 1ms/step - loss: 1.1406 - accuracy: 0.4657 - val_loss: 1.1533 - val_accuracy: 0.4500\n",
      "Epoch 34/50\n",
      "97344/97344 [==============================] - 128s 1ms/step - loss: 1.1407 - accuracy: 0.4647 - val_loss: 1.1506 - val_accuracy: 0.4543\n",
      "Epoch 35/50\n",
      "97344/97344 [==============================] - 162s 2ms/step - loss: 1.1410 - accuracy: 0.4653 - val_loss: 1.1674 - val_accuracy: 0.4477\n",
      "Epoch 36/50\n",
      "97344/97344 [==============================] - 162s 2ms/step - loss: 1.1413 - accuracy: 0.4667 - val_loss: 1.1679 - val_accuracy: 0.4475\n",
      "Epoch 37/50\n",
      "97344/97344 [==============================] - 164s 2ms/step - loss: 1.1400 - accuracy: 0.4655 - val_loss: 1.1582 - val_accuracy: 0.4549\n",
      "Epoch 38/50\n",
      "97344/97344 [==============================] - 165s 2ms/step - loss: 1.1397 - accuracy: 0.4651 - val_loss: 1.1515 - val_accuracy: 0.4517\n",
      "Epoch 39/50\n",
      "97344/97344 [==============================] - 167s 2ms/step - loss: 1.1381 - accuracy: 0.4667 - val_loss: 1.1511 - val_accuracy: 0.4527\n",
      "Epoch 40/50\n",
      "97344/97344 [==============================] - 168s 2ms/step - loss: 1.1369 - accuracy: 0.4669 - val_loss: 1.1585 - val_accuracy: 0.4532\n",
      "Epoch 41/50\n",
      "97344/97344 [==============================] - 160s 2ms/step - loss: 1.1366 - accuracy: 0.4688 - val_loss: 1.1592 - val_accuracy: 0.4525\n",
      "Epoch 42/50\n",
      "97344/97344 [==============================] - 161s 2ms/step - loss: 1.1374 - accuracy: 0.4688 - val_loss: 1.1715 - val_accuracy: 0.4497\n",
      "Epoch 43/50\n",
      "97344/97344 [==============================] - 159s 2ms/step - loss: 1.1366 - accuracy: 0.4697 - val_loss: 1.1648 - val_accuracy: 0.4486\n",
      "Epoch 44/50\n",
      "97344/97344 [==============================] - 153s 2ms/step - loss: 1.1361 - accuracy: 0.4681 - val_loss: 1.1739 - val_accuracy: 0.4528\n",
      "Epoch 45/50\n",
      "97344/97344 [==============================] - 150s 2ms/step - loss: 1.1371 - accuracy: 0.4682 - val_loss: 1.1551 - val_accuracy: 0.4557\n",
      "Epoch 46/50\n",
      "97344/97344 [==============================] - 151s 2ms/step - loss: 1.1358 - accuracy: 0.4677 - val_loss: 1.1608 - val_accuracy: 0.4487\n",
      "Epoch 47/50\n",
      "97344/97344 [==============================] - 150s 2ms/step - loss: 1.1352 - accuracy: 0.4687 - val_loss: 1.1535 - val_accuracy: 0.4552\n",
      "Epoch 48/50\n",
      "97344/97344 [==============================] - 130s 1ms/step - loss: 1.1370 - accuracy: 0.4689 - val_loss: 1.1621 - val_accuracy: 0.4507\n",
      "Epoch 49/50\n",
      "97344/97344 [==============================] - 129s 1ms/step - loss: 1.1356 - accuracy: 0.4676 - val_loss: 1.1599 - val_accuracy: 0.4501\n",
      "Epoch 50/50\n",
      "97344/97344 [==============================] - 128s 1ms/step - loss: 1.1356 - accuracy: 0.4679 - val_loss: 1.1656 - val_accuracy: 0.4508\n"
     ]
    }
   ],
   "source": [
    "emg_train = emg_model.fit(\n",
    "    train_X,\n",
    "    train_label,\n",
    "    batch_size=batch_size,\n",
    "    epochs=epochs,\n",
    "    verbose=1,\n",
    "    validation_data=(valid_X, valid_label))"
   ]
  },
  {
   "cell_type": "code",
   "execution_count": 22,
   "metadata": {},
   "outputs": [],
   "source": [
    "test_eval = emg_model.evaluate(test_X, test_Y_one_hot, verbose=0)"
   ]
  },
  {
   "cell_type": "code",
   "execution_count": 23,
   "metadata": {},
   "outputs": [
    {
     "name": "stdout",
     "output_type": "stream",
     "text": [
      "Test loss:  1.1632816546689047\n",
      "Test accuracy:  0.44967126846313477\n"
     ]
    }
   ],
   "source": [
    "print('Test loss: ', test_eval[0])\n",
    "print('Test accuracy: ', test_eval[1])"
   ]
  },
  {
   "cell_type": "code",
   "execution_count": 24,
   "metadata": {},
   "outputs": [
    {
     "data": {
      "image/png": "[encoded data removed]",
      "text/plain": [
       "<Figure size 432x288 with 1 Axes>"
      ]
     },
     "metadata": {
      "needs_background": "light"
     },
     "output_type": "display_data"
    },
    {
     "data": {
      "image/png": "[encoded data removed]",
      "text/plain": [
       "<Figure size 432x288 with 1 Axes>"
      ]
     },
     "metadata": {
      "needs_background": "light"
     },
     "output_type": "display_data"
    }
   ],
   "source": [
    "# Visualization\n",
    "accuracy = emg_train.history['accuracy']\n",
    "val_accuracy = emg_train.history['val_accuracy']\n",
    "loss = emg_train.history['loss']\n",
    "val_loss = emg_train.history['val_loss']\n",
    "epoch = range(len(accuracy))\n",
    "plt.plot(epoch, accuracy, 'bo', label='Training accuracy')\n",
    "plt.plot(epoch, val_accuracy, 'b', label='Validation accuracy')\n",
    "plt.title('Training and validation accuracy')\n",
    "plt.legend()\n",
    "plt.figure()\n",
    "plt.plot(epoch, loss, 'bo', label='Training loss')\n",
    "plt.plot(epoch, val_loss, 'b', label='Validation loss')\n",
    "plt.title('Training and validation loss')\n",
    "plt.legend()\n",
    "plt.show()"
   ]
  },
  {
   "cell_type": "code",
   "execution_count": null,
   "metadata": {},
   "outputs": [],
   "source": [
    "emg_train_dropout = emg_model.fit(\n",
    "    train_X,\n",
    "    train_label,\n",
    "    batch_size=batch_size,\n",
    "    epochs=epochs,\n",
    "    verbose=1,\n",
    "    validation_data=(valid_X, valid_label))"
   ]
  },
  {
   "cell_type": "code",
   "execution_count": null,
   "metadata": {},
   "outputs": [],
   "source": [
    "# emg_model.save(\"emg_model_dropout_new.h5py\")"
   ]
  },
  {
   "cell_type": "code",
   "execution_count": null,
   "metadata": {},
   "outputs": [],
   "source": [
    "test_eval= emg_model.evaluate(test_X, test_Y_one_hot, verbose=1)"
   ]
  },
  {
   "cell_type": "code",
   "execution_count": null,
   "metadata": {},
   "outputs": [],
   "source": [
    "print('Test loss: ', test_eval[0])\n",
    "print('Test accuracy: ', test_eval[1])"
   ]
  },
  {
   "cell_type": "code",
   "execution_count": null,
   "metadata": {},
   "outputs": [],
   "source": [
    "# Visualization\n",
    "accuracy = emg_train_dropout.history['accuracy']\n",
    "val_accuracy = emg_train_dropout.history['val_accuracy']\n",
    "loss = emg_train_dropout.history['loss']\n",
    "val_loss = emg_train_dropout.history['val_loss']\n",
    "epoch = range(len(accuracy))\n",
    "plt.plot(epoch, accuracy, 'bo', label='Training accuracy')\n",
    "plt.plot(epoch, val_accuracy, 'b', label='Validation accuracy')\n",
    "plt.title('Training and validation accuracy')\n",
    "plt.legend()\n",
    "plt.figure()\n",
    "plt.plot(epoch, loss, 'bo', label='Training loss')\n",
    "plt.plot(epoch, val_loss, 'b', label='Validation loss')\n",
    "plt.title('Training and validation loss')\n",
    "plt.legend()\n",
    "plt.show()"
   ]
  },
  {
   "cell_type": "code",
   "execution_count": null,
   "metadata": {},
   "outputs": [],
   "source": [
    "predicted_classes = emg_model.predict(test_X)"
   ]
  },
  {
   "cell_type": "code",
   "execution_count": null,
   "metadata": {},
   "outputs": [],
   "source": [
    "predicted_classes = np.argmax(np.round(predicted_classes), axis=1)"
   ]
  },
  {
   "cell_type": "code",
   "execution_count": null,
   "metadata": {},
   "outputs": [],
   "source": [
    "predicted_classes.shape, test_Y.shape"
   ]
  },
  {
   "cell_type": "code",
   "execution_count": null,
   "metadata": {},
   "outputs": [],
   "source": [
    "correct = np.where(predicted_classes==test_Y)[0]\n",
    "print(\"Found %d correct labels\" % len(correct))\n",
    "for i, correct, in enumerate(correct[:9]):\n",
    "    plt.subplot(3, 3, i+1)\n",
    "    plt.pcolormesh(test_X[correct].reshape(ydim, xdim), cmap='jet')\n",
    "    plt.title(\"Predicted {}, Class {}\".format(predicted_classes[correct], test_Y[correct]))\n",
    "    plt.tight_layout()"
   ]
  },
  {
   "cell_type": "code",
   "execution_count": null,
   "metadata": {},
   "outputs": [],
   "source": [
    "incorrect = np.where(predicted_classes!=test_Y)[0]\n",
    "print(\"Found %d incorrect labels\" % len(incorrect))\n",
    "for i, incorrect, in enumerate(incorrect[:9]):\n",
    "    plt.subplot(3, 3, i+1)\n",
    "    plt.pcolormesh(test_X[incorrect].reshape(ydim, xdim), cmap='jet')\n",
    "    plt.title(\"Predicted {}, Class {}\".format(predicted_classes[incorrect], test_Y[incorrect]))\n",
    "    plt.tight_layout()"
   ]
  },
  {
   "cell_type": "code",
   "execution_count": null,
   "metadata": {},
   "outputs": [],
   "source": [
    "from sklearn.metrics import classification_report\n",
    "target_names = [\"Class {}\".format(i) for i in range(num_classes)]\n",
    "print(classification_report(test_Y, predicted_classes, target_names=target_names))"
   ]
  },
  {
   "cell_type": "code",
   "execution_count": null,
   "metadata": {},
   "outputs": [],
   "source": []
  }
 ],
 "metadata": {
  "kernelspec": {
   "display_name": "Python 3",
   "language": "python",
   "name": "python3"
  },
  "language_info": {
   "codemirror_mode": {
    "name": "ipython",
    "version": 3
   },
   "file_extension": ".py",
   "mimetype": "text/x-python",
   "name": "python",
   "nbconvert_exporter": "python",
   "pygments_lexer": "ipython3",
   "version": "3.7.0"
  }
 },
 "nbformat": 4,
 "nbformat_minor": 4
}
