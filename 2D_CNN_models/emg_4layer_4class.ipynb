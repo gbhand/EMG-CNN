{
 "cells": [
  {
   "cell_type": "code",
   "execution_count": 1,
   "metadata": {},
   "outputs": [
    {
     "name": "stderr",
     "output_type": "stream",
     "text": [
      "Using TensorFlow backend.\n",
      "/opt/miniconda3/envs/trial_env/lib/python3.7/site-packages/tensorflow/python/framework/dtypes.py:526: FutureWarning: Passing (type, 1) or '1type' as a synonym of type is deprecated; in a future version of numpy, it will be understood as (type, (1,)) / '(1,)type'.\n",
      "  _np_qint8 = np.dtype([(\"qint8\", np.int8, 1)])\n",
      "/opt/miniconda3/envs/trial_env/lib/python3.7/site-packages/tensorflow/python/framework/dtypes.py:527: FutureWarning: Passing (type, 1) or '1type' as a synonym of type is deprecated; in a future version of numpy, it will be understood as (type, (1,)) / '(1,)type'.\n",
      "  _np_quint8 = np.dtype([(\"quint8\", np.uint8, 1)])\n",
      "/opt/miniconda3/envs/trial_env/lib/python3.7/site-packages/tensorflow/python/framework/dtypes.py:528: FutureWarning: Passing (type, 1) or '1type' as a synonym of type is deprecated; in a future version of numpy, it will be understood as (type, (1,)) / '(1,)type'.\n",
      "  _np_qint16 = np.dtype([(\"qint16\", np.int16, 1)])\n",
      "/opt/miniconda3/envs/trial_env/lib/python3.7/site-packages/tensorflow/python/framework/dtypes.py:529: FutureWarning: Passing (type, 1) or '1type' as a synonym of type is deprecated; in a future version of numpy, it will be understood as (type, (1,)) / '(1,)type'.\n",
      "  _np_quint16 = np.dtype([(\"quint16\", np.uint16, 1)])\n",
      "/opt/miniconda3/envs/trial_env/lib/python3.7/site-packages/tensorflow/python/framework/dtypes.py:530: FutureWarning: Passing (type, 1) or '1type' as a synonym of type is deprecated; in a future version of numpy, it will be understood as (type, (1,)) / '(1,)type'.\n",
      "  _np_qint32 = np.dtype([(\"qint32\", np.int32, 1)])\n",
      "/opt/miniconda3/envs/trial_env/lib/python3.7/site-packages/tensorflow/python/framework/dtypes.py:535: FutureWarning: Passing (type, 1) or '1type' as a synonym of type is deprecated; in a future version of numpy, it will be understood as (type, (1,)) / '(1,)type'.\n",
      "  np_resource = np.dtype([(\"resource\", np.ubyte, 1)])\n"
     ]
    }
   ],
   "source": [
    "import os\n",
    "\n",
    "import matplotlib.pyplot as plt\n",
    "import numpy as np\n",
    "import pandas as pd\n",
    "import st_remux as st\n",
    "\n",
    "from sklearn.model_selection import train_test_split\n",
    "from keras.utils import to_categorical\n",
    "\n",
    "\n",
    "\n",
    "%matplotlib inline"
   ]
  },
  {
   "cell_type": "code",
   "execution_count": 2,
   "metadata": {},
   "outputs": [],
   "source": [
    "# Config\n",
    "# highpath = 'datasets/high.csv'\n",
    "# lowpath = 'datasets/none.csv'\n",
    "# hi = st.raw_to_arr(high, fs, win_len, 0)\n",
    "# lo = st.raw_to_arr(low, fs, win_len, 0)\n",
    "highdir = 'datasets/high'\n",
    "meddir = 'datasets/med'\n",
    "lowdir = 'datasets/low'\n",
    "nonedir = 'datasets/none'\n",
    "\n",
    "\n",
    "\n",
    "fs = 4000\n",
    "win_len = 40\n",
    "\n",
    "use_filter = 0   # weird results if we use python filtering\n",
    "\n",
    "use_matlab_backend = 0"
   ]
  },
  {
   "cell_type": "code",
   "execution_count": 3,
   "metadata": {},
   "outputs": [],
   "source": [
    "# high = np.genfromtxt(highpath, delimiter=',')\n",
    "# low = np.genfromtxt(lowpath, delimiter=',')"
   ]
  },
  {
   "cell_type": "code",
   "execution_count": 4,
   "metadata": {},
   "outputs": [
    {
     "name": "stdout",
     "output_type": "stream",
     "text": [
      "Using native backend\n"
     ]
    }
   ],
   "source": [
    "if use_matlab_backend:\n",
    "    print('Using MATLAB signal processing backend')\n",
    "    # high_dir = 'datasets/high/'\n",
    "    # low_dir = 'datasets/low/'\n",
    "\n",
    "    high_dir = 'C:/Users/Geoffrey/Documents/MATLAB/S transform time frequency/high/'\n",
    "    low_dir = 'C:/Users/Geoffrey/Documents/MATLAB/S transform time frequency/low/'\n",
    "\n",
    "    def generate_3darray(directory):\n",
    "        files = os.listdir(directory)\n",
    "        dims = np.genfromtxt(directory + files[0], delimiter=',').shape\n",
    "        length = len(files)\n",
    "        arr = np.zeros((length, dims[0], dims[1]))\n",
    "\n",
    "        for idx, val in enumerate(files):\n",
    "            arr[idx] = np.genfromtxt(directory + val, delimiter=',')\n",
    "\n",
    "        return arr\n",
    "\n",
    "    hi = generate_3darray(high_dir)\n",
    "    lo = generate_3darray(low_dir)\n",
    "    \n",
    "else: \n",
    "    print('Using native backend')\n",
    "    hi = st.raw_to_arr(highdir, fs, win_len, 0)\n",
    "    med = st.raw_to_arr(meddir, fs, win_len, 0)\n",
    "    lo = st.raw_to_arr(lowdir, fs, win_len, 0)\n",
    "    none = st.raw_to_arr(nonedir, fs, win_len, 0)\n",
    "\n"
   ]
  },
  {
   "cell_type": "code",
   "execution_count": 5,
   "metadata": {},
   "outputs": [
    {
     "name": "stdout",
     "output_type": "stream",
     "text": [
      "(23470, 16, 40)\n"
     ]
    }
   ],
   "source": [
    "X = np.concatenate((hi, med, lo, none))\n",
    "d= X.shape\n",
    "print(d)\n",
    "\n",
    "hi_Y = np.ones(len(hi), dtype=int) * 3\n",
    "med_Y = np.ones(len(med), dtype=int) * 2\n",
    "lo_Y = np.ones(len(lo), dtype=int) * 1\n",
    "none_Y = np.zeros(len(none), dtype=int)\n",
    "\n",
    "Y = np.concatenate((hi_Y, med_Y, lo_Y, none_Y))"
   ]
  },
  {
   "cell_type": "code",
   "execution_count": 6,
   "metadata": {},
   "outputs": [],
   "source": [
    "train_X, test_X, train_Y, test_Y = train_test_split(X, Y, test_size=0.1)"
   ]
  },
  {
   "cell_type": "code",
   "execution_count": 7,
   "metadata": {},
   "outputs": [
    {
     "name": "stdout",
     "output_type": "stream",
     "text": [
      "Training data shape:  (21123, 16, 40) (21123,)\n",
      "Testing data shape:  (2347, 16, 40) (2347,)\n"
     ]
    }
   ],
   "source": [
    "print('Training data shape: ', train_X.shape, train_Y.shape)\n",
    "print('Testing data shape: ', test_X.shape, test_Y.shape)"
   ]
  },
  {
   "cell_type": "code",
   "execution_count": 8,
   "metadata": {},
   "outputs": [
    {
     "name": "stdout",
     "output_type": "stream",
     "text": [
      "Total number of outputs:  4\n",
      "Output classes:  [0 1 2 3]\n"
     ]
    }
   ],
   "source": [
    "classes = np.unique(train_Y)\n",
    "nClasses = len(classes)\n",
    "print('Total number of outputs: ', nClasses)\n",
    "print('Output classes: ', classes)"
   ]
  },
  {
   "cell_type": "code",
   "execution_count": 9,
   "metadata": {
    "scrolled": true
   },
   "outputs": [
    {
     "data": {
      "text/plain": [
       "Text(0.5,1,'Ground Truth: 2')"
      ]
     },
     "execution_count": 9,
     "metadata": {},
     "output_type": "execute_result"
    },
    {
     "data": {
      "image/png": "[encoded data removed]",
      "text/plain": [
       "<Figure size 720x144 with 2 Axes>"
      ]
     },
     "metadata": {
      "needs_background": "light"
     },
     "output_type": "display_data"
    }
   ],
   "source": [
    "plt.figure(figsize=[10,2])\n",
    "\n",
    "# Display first image in training set\n",
    "plt.subplot(121)\n",
    "plt.pcolormesh(train_X[0,:,:], cmap='jet')\n",
    "plt.title(\"Ground Truth: {}\".format(train_Y[0]))\n",
    "\n",
    "# Display second image in testing set\n",
    "plt.subplot(122)\n",
    "plt.pcolormesh(test_X[1], cmap='jet')\n",
    "plt.title(\"Ground Truth: {}\".format(test_Y[1]))"
   ]
  },
  {
   "cell_type": "code",
   "execution_count": 10,
   "metadata": {},
   "outputs": [
    {
     "data": {
      "text/plain": [
       "((21123, 16, 40, 1), (2347, 16, 40, 1))"
      ]
     },
     "execution_count": 10,
     "metadata": {},
     "output_type": "execute_result"
    }
   ],
   "source": [
    "ydim = train_X[0].shape[0]\n",
    "xdim = train_X[0].shape[1]\n",
    "train_X = train_X.reshape(-1, ydim, xdim, 1)\n",
    "test_X = test_X.reshape(-1, ydim, xdim, 1)\n",
    "train_X.shape, test_X.shape"
   ]
  },
  {
   "cell_type": "code",
   "execution_count": 11,
   "metadata": {},
   "outputs": [],
   "source": [
    "train_X = train_X.astype('float32')\n",
    "test_X = test_X.astype('float32')"
   ]
  },
  {
   "cell_type": "code",
   "execution_count": 12,
   "metadata": {},
   "outputs": [
    {
     "name": "stdout",
     "output_type": "stream",
     "text": [
      "Original label:  2\n",
      "After conversion to one-hot:  [0. 0. 1. 0.]\n"
     ]
    }
   ],
   "source": [
    "# Change labels from categorical to one-hot encoding\n",
    "train_Y_one_hot = to_categorical(train_Y)\n",
    "test_Y_one_hot = to_categorical(test_Y)\n",
    "\n",
    "# See the difference?\n",
    "print('Original label: ', train_Y[0])\n",
    "print('After conversion to one-hot: ', train_Y_one_hot[0])"
   ]
  },
  {
   "cell_type": "code",
   "execution_count": 13,
   "metadata": {},
   "outputs": [
    {
     "data": {
      "text/plain": [
       "(21123, 4)"
      ]
     },
     "execution_count": 13,
     "metadata": {},
     "output_type": "execute_result"
    }
   ],
   "source": [
    "train_Y_one_hot.shape"
   ]
  },
  {
   "cell_type": "code",
   "execution_count": 14,
   "metadata": {},
   "outputs": [
    {
     "data": {
      "text/plain": [
       "((16898, 16, 40, 1), (4225, 16, 40, 1), (16898, 4), (4225, 4))"
      ]
     },
     "execution_count": 14,
     "metadata": {},
     "output_type": "execute_result"
    }
   ],
   "source": [
    "# Partition data for 80% training and 20% validation\n",
    "# should reduce overfitting and boost test performance\n",
    "\n",
    "train_X, valid_X, train_label, valid_label = train_test_split(train_X, train_Y_one_hot, test_size=0.2)\n",
    "\n",
    "train_X.shape, valid_X.shape, train_label.shape, valid_label.shape"
   ]
  },
  {
   "cell_type": "code",
   "execution_count": 15,
   "metadata": {},
   "outputs": [],
   "source": [
    "# let's get down to business\n",
    "import keras\n",
    "from keras.models import Sequential, Input, Model\n",
    "from keras.layers import Dense, Dropout, Flatten\n",
    "from keras.layers import Conv2D, MaxPooling2D\n",
    "from keras.layers.normalization import BatchNormalization\n",
    "from keras.layers.advanced_activations import LeakyReLU"
   ]
  },
  {
   "cell_type": "code",
   "execution_count": 16,
   "metadata": {},
   "outputs": [],
   "source": [
    "# Parameters\n",
    "batch_size = 64\n",
    "epochs = 50\n",
    "num_classes = nClasses"
   ]
  },
  {
   "cell_type": "code",
   "execution_count": 40,
   "metadata": {},
   "outputs": [],
   "source": [
    "emg_model = Sequential()\n",
    "\n",
    "emg_model.add(Conv2D(32, kernel_size=(3, 3), activation='linear', input_shape=(ydim, xdim, 1), padding='same'))\n",
    "#emg_model.add(BatchNormalization())\n",
    "\n",
    "emg_model.add(\n",
    "    Conv2D(\n",
    "        32, \n",
    "        kernel_size=(3, 3), \n",
    "        activation='linear',  \n",
    "        padding='same'))\n",
    "emg_model.add(LeakyReLU(alpha=0.1))\n",
    "#emg_model.add(BatchNormalization())\n",
    "emg_model.add(MaxPooling2D(pool_size=(2, 2), padding='same'))\n",
    "emg_model.add(Dropout(0.25))\n",
    "\n",
    "emg_model.add(\n",
    "    Conv2D(\n",
    "        64,\n",
    "        (3, 3),\n",
    "        activation='linear',\n",
    "        padding='same'))\n",
    "emg_model.add(LeakyReLU(alpha=0.1))\n",
    "#emg_model.add(BatchNormalization())\n",
    "emg_model.add(MaxPooling2D(pool_size=(2, 2), padding='same'))\n",
    "emg_model.add(Dropout(0.25))\n",
    "\n",
    "emg_model.add(\n",
    "    Conv2D(\n",
    "        128,\n",
    "        (3, 3),\n",
    "        activation='linear',\n",
    "        padding='same'))\n",
    "emg_model.add(LeakyReLU(alpha=0.1))\n",
    "#emg_model.add(BatchNormalization())\n",
    "emg_model.add(MaxPooling2D(pool_size=(2, 2), padding='same'))\n",
    "emg_model.add(Dropout(0.25))\n",
    "emg_model.add(Flatten())\n",
    "\n",
    "\"\"\"emg_model.add(Dense(512, activation='linear'))\n",
    "emg_model.add(LeakyReLU(alpha=0.1))\n",
    "#emg_model.add(BatchNormalization())\n",
    "emg_model.add(Dropout(0.3))\"\"\"\n",
    "\n",
    "emg_model.add(Dense(128, activation='linear'))\n",
    "emg_model.add(LeakyReLU(alpha=0.1))\n",
    "#emg_model.add(BatchNormalization())\n",
    "emg_model.add(Dropout(0.3))\n",
    "\n",
    "emg_model.add(Dense(num_classes, activation='softmax'))"
   ]
  },
  {
   "cell_type": "code",
   "execution_count": 41,
   "metadata": {},
   "outputs": [],
   "source": [
    "emg_model.compile(\n",
    "    loss=keras.losses.categorical_crossentropy,\n",
    "    optimizer=keras.optimizers.Adam(),\n",
    "    metrics=['accuracy'])"
   ]
  },
  {
   "cell_type": "code",
   "execution_count": 42,
   "metadata": {
    "scrolled": true
   },
   "outputs": [
    {
     "name": "stdout",
     "output_type": "stream",
     "text": [
      "Model: \"sequential_5\"\n",
      "_________________________________________________________________\n",
      "Layer (type)                 Output Shape              Param #   \n",
      "=================================================================\n",
      "conv2d_17 (Conv2D)           (None, 16, 40, 32)        320       \n",
      "_________________________________________________________________\n",
      "conv2d_18 (Conv2D)           (None, 16, 40, 32)        9248      \n",
      "_________________________________________________________________\n",
      "leaky_re_lu_18 (LeakyReLU)   (None, 16, 40, 32)        0         \n",
      "_________________________________________________________________\n",
      "max_pooling2d_13 (MaxPooling (None, 8, 20, 32)         0         \n",
      "_________________________________________________________________\n",
      "dropout_20 (Dropout)         (None, 8, 20, 32)         0         \n",
      "_________________________________________________________________\n",
      "conv2d_19 (Conv2D)           (None, 8, 20, 64)         18496     \n",
      "_________________________________________________________________\n",
      "leaky_re_lu_19 (LeakyReLU)   (None, 8, 20, 64)         0         \n",
      "_________________________________________________________________\n",
      "max_pooling2d_14 (MaxPooling (None, 4, 10, 64)         0         \n",
      "_________________________________________________________________\n",
      "dropout_21 (Dropout)         (None, 4, 10, 64)         0         \n",
      "_________________________________________________________________\n",
      "conv2d_20 (Conv2D)           (None, 4, 10, 128)        73856     \n",
      "_________________________________________________________________\n",
      "leaky_re_lu_20 (LeakyReLU)   (None, 4, 10, 128)        0         \n",
      "_________________________________________________________________\n",
      "max_pooling2d_15 (MaxPooling (None, 2, 5, 128)         0         \n",
      "_________________________________________________________________\n",
      "dropout_22 (Dropout)         (None, 2, 5, 128)         0         \n",
      "_________________________________________________________________\n",
      "flatten_5 (Flatten)          (None, 1280)              0         \n",
      "_________________________________________________________________\n",
      "dense_12 (Dense)             (None, 128)               163968    \n",
      "_________________________________________________________________\n",
      "leaky_re_lu_21 (LeakyReLU)   (None, 128)               0         \n",
      "_________________________________________________________________\n",
      "dropout_23 (Dropout)         (None, 128)               0         \n",
      "_________________________________________________________________\n",
      "dense_13 (Dense)             (None, 4)                 516       \n",
      "=================================================================\n",
      "Total params: 266,404\n",
      "Trainable params: 266,404\n",
      "Non-trainable params: 0\n",
      "_________________________________________________________________\n"
     ]
    }
   ],
   "source": [
    "emg_model.summary()"
   ]
  },
  {
   "cell_type": "code",
   "execution_count": 43,
   "metadata": {},
   "outputs": [
    {
     "name": "stdout",
     "output_type": "stream",
     "text": [
      "Train on 16898 samples, validate on 4225 samples\n",
      "Epoch 1/50\n",
      "16898/16898 [==============================] - 40s 2ms/step - loss: 1.3095 - accuracy: 0.3914 - val_loss: 1.2011 - val_accuracy: 0.4601\n",
      "Epoch 2/50\n",
      "16898/16898 [==============================] - 37s 2ms/step - loss: 1.0742 - accuracy: 0.5136 - val_loss: 1.2179 - val_accuracy: 0.3967\n",
      "Epoch 3/50\n",
      "16898/16898 [==============================] - 36s 2ms/step - loss: 0.9576 - accuracy: 0.5915 - val_loss: 0.8763 - val_accuracy: 0.6109\n",
      "Epoch 4/50\n",
      "16898/16898 [==============================] - 37s 2ms/step - loss: 0.8716 - accuracy: 0.6343 - val_loss: 0.8991 - val_accuracy: 0.6320\n",
      "Epoch 5/50\n",
      "16898/16898 [==============================] - 36s 2ms/step - loss: 0.8168 - accuracy: 0.6680 - val_loss: 0.7454 - val_accuracy: 0.6909\n",
      "Epoch 6/50\n",
      "16898/16898 [==============================] - 37s 2ms/step - loss: 0.7744 - accuracy: 0.6861 - val_loss: 0.6945 - val_accuracy: 0.7157\n",
      "Epoch 7/50\n",
      "16898/16898 [==============================] - 37s 2ms/step - loss: 0.7385 - accuracy: 0.7009 - val_loss: 0.7061 - val_accuracy: 0.7122\n",
      "Epoch 8/50\n",
      "16898/16898 [==============================] - 37s 2ms/step - loss: 0.7195 - accuracy: 0.7124 - val_loss: 0.6666 - val_accuracy: 0.7264\n",
      "Epoch 9/50\n",
      "16898/16898 [==============================] - 37s 2ms/step - loss: 0.7022 - accuracy: 0.7212 - val_loss: 0.6841 - val_accuracy: 0.7217\n",
      "Epoch 10/50\n",
      "16898/16898 [==============================] - 38s 2ms/step - loss: 0.6838 - accuracy: 0.7280 - val_loss: 0.6364 - val_accuracy: 0.7460\n",
      "Epoch 11/50\n",
      "16898/16898 [==============================] - 36s 2ms/step - loss: 0.6762 - accuracy: 0.7317 - val_loss: 0.6077 - val_accuracy: 0.7555\n",
      "Epoch 12/50\n",
      "16898/16898 [==============================] - 36s 2ms/step - loss: 0.6524 - accuracy: 0.7405 - val_loss: 0.6670 - val_accuracy: 0.7344\n",
      "Epoch 13/50\n",
      "16898/16898 [==============================] - 37s 2ms/step - loss: 0.6520 - accuracy: 0.7406 - val_loss: 0.7061 - val_accuracy: 0.7195\n",
      "Epoch 14/50\n",
      "16898/16898 [==============================] - 37s 2ms/step - loss: 0.6559 - accuracy: 0.7409 - val_loss: 0.6313 - val_accuracy: 0.7472\n",
      "Epoch 15/50\n",
      "16898/16898 [==============================] - 36s 2ms/step - loss: 0.6237 - accuracy: 0.7517 - val_loss: 0.5776 - val_accuracy: 0.7751\n",
      "Epoch 16/50\n",
      "16898/16898 [==============================] - 37s 2ms/step - loss: 0.6143 - accuracy: 0.7590 - val_loss: 0.6247 - val_accuracy: 0.7557\n",
      "Epoch 17/50\n",
      "16898/16898 [==============================] - 36s 2ms/step - loss: 0.6042 - accuracy: 0.7597 - val_loss: 0.5910 - val_accuracy: 0.7628\n",
      "Epoch 18/50\n",
      "16898/16898 [==============================] - 37s 2ms/step - loss: 0.5995 - accuracy: 0.7599 - val_loss: 0.5755 - val_accuracy: 0.7707\n",
      "Epoch 19/50\n",
      "16898/16898 [==============================] - 36s 2ms/step - loss: 0.5988 - accuracy: 0.7615 - val_loss: 0.5688 - val_accuracy: 0.7775\n",
      "Epoch 20/50\n",
      "16898/16898 [==============================] - 38s 2ms/step - loss: 0.5928 - accuracy: 0.7674 - val_loss: 0.5757 - val_accuracy: 0.7716\n",
      "Epoch 21/50\n",
      "16898/16898 [==============================] - 37s 2ms/step - loss: 0.5822 - accuracy: 0.7698 - val_loss: 0.5598 - val_accuracy: 0.7804\n",
      "Epoch 22/50\n",
      "16898/16898 [==============================] - 37s 2ms/step - loss: 0.5687 - accuracy: 0.7763 - val_loss: 0.5433 - val_accuracy: 0.7844\n",
      "Epoch 23/50\n",
      "16898/16898 [==============================] - 36s 2ms/step - loss: 0.5603 - accuracy: 0.7829 - val_loss: 0.6039 - val_accuracy: 0.7609\n",
      "Epoch 24/50\n",
      "16898/16898 [==============================] - 37s 2ms/step - loss: 0.5563 - accuracy: 0.7807 - val_loss: 0.5789 - val_accuracy: 0.7683\n",
      "Epoch 25/50\n",
      "16898/16898 [==============================] - 38s 2ms/step - loss: 0.5476 - accuracy: 0.7816 - val_loss: 0.5440 - val_accuracy: 0.7849\n",
      "Epoch 26/50\n",
      "16898/16898 [==============================] - 37s 2ms/step - loss: 0.5449 - accuracy: 0.7852 - val_loss: 0.6171 - val_accuracy: 0.7633\n",
      "Epoch 27/50\n",
      "16898/16898 [==============================] - 37s 2ms/step - loss: 0.5322 - accuracy: 0.7881 - val_loss: 0.6185 - val_accuracy: 0.7581\n",
      "Epoch 28/50\n",
      "16898/16898 [==============================] - 1038s 61ms/step - loss: 0.5377 - accuracy: 0.7864 - val_loss: 0.5506 - val_accuracy: 0.7834\n",
      "Epoch 29/50\n",
      "16898/16898 [==============================] - 721s 43ms/step - loss: 0.5339 - accuracy: 0.7886 - val_loss: 0.5634 - val_accuracy: 0.7782\n",
      "Epoch 30/50\n",
      "16898/16898 [==============================] - 36s 2ms/step - loss: 0.5348 - accuracy: 0.7885 - val_loss: 0.5626 - val_accuracy: 0.7804\n",
      "Epoch 31/50\n",
      "16898/16898 [==============================] - 35s 2ms/step - loss: 0.5180 - accuracy: 0.7950 - val_loss: 0.5476 - val_accuracy: 0.7820\n",
      "Epoch 32/50\n",
      "16898/16898 [==============================] - 36s 2ms/step - loss: 0.5137 - accuracy: 0.7990 - val_loss: 0.5365 - val_accuracy: 0.7877\n",
      "Epoch 33/50\n",
      "16898/16898 [==============================] - 36s 2ms/step - loss: 0.5119 - accuracy: 0.7967 - val_loss: 0.5399 - val_accuracy: 0.7884\n",
      "Epoch 34/50\n",
      "16898/16898 [==============================] - 38s 2ms/step - loss: 0.5069 - accuracy: 0.7997 - val_loss: 0.5593 - val_accuracy: 0.7688\n",
      "Epoch 35/50\n",
      "16898/16898 [==============================] - 36s 2ms/step - loss: 0.5028 - accuracy: 0.8047 - val_loss: 0.5449 - val_accuracy: 0.7794\n",
      "Epoch 36/50\n",
      "16898/16898 [==============================] - 37s 2ms/step - loss: 0.4937 - accuracy: 0.8056 - val_loss: 0.5435 - val_accuracy: 0.7827\n",
      "Epoch 37/50\n",
      "16898/16898 [==============================] - 37s 2ms/step - loss: 0.4855 - accuracy: 0.8125 - val_loss: 0.5381 - val_accuracy: 0.7837\n",
      "Epoch 38/50\n",
      "16898/16898 [==============================] - 37s 2ms/step - loss: 0.4918 - accuracy: 0.8072 - val_loss: 0.5629 - val_accuracy: 0.7830\n",
      "Epoch 39/50\n",
      "16898/16898 [==============================] - 37s 2ms/step - loss: 0.4836 - accuracy: 0.8111 - val_loss: 0.5474 - val_accuracy: 0.7865\n",
      "Epoch 40/50\n",
      "16898/16898 [==============================] - 38s 2ms/step - loss: 0.4770 - accuracy: 0.8142 - val_loss: 0.5571 - val_accuracy: 0.7794\n",
      "Epoch 41/50\n",
      "16898/16898 [==============================] - 39s 2ms/step - loss: 0.4781 - accuracy: 0.8112 - val_loss: 0.5468 - val_accuracy: 0.7891\n",
      "Epoch 42/50\n",
      "16898/16898 [==============================] - 38s 2ms/step - loss: 0.4657 - accuracy: 0.8173 - val_loss: 0.5389 - val_accuracy: 0.7889\n",
      "Epoch 43/50\n",
      "16898/16898 [==============================] - 38s 2ms/step - loss: 0.4668 - accuracy: 0.8136 - val_loss: 0.5164 - val_accuracy: 0.8009\n",
      "Epoch 44/50\n",
      "16898/16898 [==============================] - 38s 2ms/step - loss: 0.4743 - accuracy: 0.8187 - val_loss: 0.5536 - val_accuracy: 0.7889\n",
      "Epoch 45/50\n",
      "16898/16898 [==============================] - 39s 2ms/step - loss: 0.4591 - accuracy: 0.8202 - val_loss: 0.5356 - val_accuracy: 0.7901\n",
      "Epoch 46/50\n",
      "16898/16898 [==============================] - 39s 2ms/step - loss: 0.4597 - accuracy: 0.8205 - val_loss: 0.6062 - val_accuracy: 0.7692\n",
      "Epoch 47/50\n",
      "16898/16898 [==============================] - 38s 2ms/step - loss: 0.4554 - accuracy: 0.8219 - val_loss: 0.5292 - val_accuracy: 0.7948\n",
      "Epoch 48/50\n",
      "16898/16898 [==============================] - 40s 2ms/step - loss: 0.4546 - accuracy: 0.8237 - val_loss: 0.5334 - val_accuracy: 0.7946\n",
      "Epoch 49/50\n",
      "16898/16898 [==============================] - 40s 2ms/step - loss: 0.4477 - accuracy: 0.8244 - val_loss: 0.5820 - val_accuracy: 0.7751\n",
      "Epoch 50/50\n",
      "16898/16898 [==============================] - 39s 2ms/step - loss: 0.4445 - accuracy: 0.8247 - val_loss: 0.5344 - val_accuracy: 0.7957\n"
     ]
    }
   ],
   "source": [
    "emg_train = emg_model.fit(\n",
    "    train_X,\n",
    "    train_label,\n",
    "    batch_size=batch_size,\n",
    "    epochs=epochs,\n",
    "    verbose=1,\n",
    "    validation_data=(valid_X, valid_label))"
   ]
  },
  {
   "cell_type": "code",
   "execution_count": 44,
   "metadata": {},
   "outputs": [],
   "source": [
    "test_eval = emg_model.evaluate(test_X, test_Y_one_hot, verbose=0)"
   ]
  },
  {
   "cell_type": "code",
   "execution_count": 45,
   "metadata": {},
   "outputs": [
    {
     "name": "stdout",
     "output_type": "stream",
     "text": [
      "Test loss:  0.5540608481671082\n",
      "Test accuracy:  0.7980400323867798\n"
     ]
    }
   ],
   "source": [
    "print('Test loss: ', test_eval[0])\n",
    "print('Test accuracy: ', test_eval[1])"
   ]
  },
  {
   "cell_type": "code",
   "execution_count": 46,
   "metadata": {},
   "outputs": [
    {
     "data": {
      "image/png": "[encoded data removed]",
      "text/plain": [
       "<Figure size 432x288 with 1 Axes>"
      ]
     },
     "metadata": {
      "needs_background": "light"
     },
     "output_type": "display_data"
    },
    {
     "data": {
      "image/png": "[encoded data removed]",
      "text/plain": [
       "<Figure size 432x288 with 1 Axes>"
      ]
     },
     "metadata": {
      "needs_background": "light"
     },
     "output_type": "display_data"
    }
   ],
   "source": [
    "# Visualization\n",
    "accuracy = emg_train.history['accuracy']\n",
    "val_accuracy = emg_train.history['val_accuracy']\n",
    "loss = emg_train.history['loss']\n",
    "val_loss = emg_train.history['val_loss']\n",
    "epoch = range(len(accuracy))\n",
    "plt.plot(epoch, accuracy, 'bo', label='Training accuracy')\n",
    "plt.plot(epoch, val_accuracy, 'b', label='Validation accuracy')\n",
    "plt.title('Training and validation accuracy')\n",
    "plt.legend()\n",
    "plt.figure()\n",
    "plt.plot(epoch, loss, 'bo', label='Training loss')\n",
    "plt.plot(epoch, val_loss, 'b', label='Validation loss')\n",
    "plt.title('Training and validation loss')\n",
    "plt.legend()\n",
    "plt.show()"
   ]
  },
  {
   "cell_type": "code",
   "execution_count": 47,
   "metadata": {},
   "outputs": [
    {
     "name": "stdout",
     "output_type": "stream",
     "text": [
      "Train on 16898 samples, validate on 4225 samples\n",
      "Epoch 1/50\n",
      "16898/16898 [==============================] - 42s 2ms/step - loss: 0.4499 - accuracy: 0.8262 - val_loss: 0.5397 - val_accuracy: 0.7931\n",
      "Epoch 2/50\n",
      "16898/16898 [==============================] - 42s 2ms/step - loss: 0.4412 - accuracy: 0.8260 - val_loss: 0.5658 - val_accuracy: 0.7865\n",
      "Epoch 3/50\n",
      "16898/16898 [==============================] - 41s 2ms/step - loss: 0.4286 - accuracy: 0.8313 - val_loss: 0.5417 - val_accuracy: 0.7886\n",
      "Epoch 4/50\n",
      "16898/16898 [==============================] - 40s 2ms/step - loss: 0.4340 - accuracy: 0.8304 - val_loss: 0.5605 - val_accuracy: 0.7860\n",
      "Epoch 5/50\n",
      "16898/16898 [==============================] - 41s 2ms/step - loss: 0.4385 - accuracy: 0.8296 - val_loss: 0.5935 - val_accuracy: 0.7652\n",
      "Epoch 6/50\n",
      "16898/16898 [==============================] - 42s 2ms/step - loss: 0.4457 - accuracy: 0.8254 - val_loss: 0.5319 - val_accuracy: 0.7941\n",
      "Epoch 7/50\n",
      "16898/16898 [==============================] - 42s 2ms/step - loss: 0.4335 - accuracy: 0.8312 - val_loss: 0.5955 - val_accuracy: 0.7721\n",
      "Epoch 8/50\n",
      "16898/16898 [==============================] - 40s 2ms/step - loss: 0.4278 - accuracy: 0.8336 - val_loss: 0.6213 - val_accuracy: 0.7759\n",
      "Epoch 9/50\n",
      "16898/16898 [==============================] - 42s 2ms/step - loss: 0.4284 - accuracy: 0.8333 - val_loss: 0.5419 - val_accuracy: 0.7898\n",
      "Epoch 10/50\n",
      "16898/16898 [==============================] - 43s 3ms/step - loss: 0.4163 - accuracy: 0.8354 - val_loss: 0.5607 - val_accuracy: 0.7967\n",
      "Epoch 11/50\n",
      "16898/16898 [==============================] - 41s 2ms/step - loss: 0.4234 - accuracy: 0.8321 - val_loss: 0.5390 - val_accuracy: 0.7936\n",
      "Epoch 12/50\n",
      "16898/16898 [==============================] - 42s 2ms/step - loss: 0.4066 - accuracy: 0.8434 - val_loss: 0.5537 - val_accuracy: 0.7943\n",
      "Epoch 13/50\n",
      "16898/16898 [==============================] - 42s 2ms/step - loss: 0.4146 - accuracy: 0.8414 - val_loss: 0.5250 - val_accuracy: 0.7974\n",
      "Epoch 14/50\n",
      "16898/16898 [==============================] - 42s 2ms/step - loss: 0.4201 - accuracy: 0.8391 - val_loss: 0.5255 - val_accuracy: 0.7967\n",
      "Epoch 15/50\n",
      "16898/16898 [==============================] - 42s 2ms/step - loss: 0.4019 - accuracy: 0.8428 - val_loss: 0.6284 - val_accuracy: 0.7853\n",
      "Epoch 16/50\n",
      "16898/16898 [==============================] - 41s 2ms/step - loss: 0.4162 - accuracy: 0.8364 - val_loss: 0.5324 - val_accuracy: 0.8036\n",
      "Epoch 17/50\n",
      "16898/16898 [==============================] - 42s 2ms/step - loss: 0.4055 - accuracy: 0.8431 - val_loss: 0.5602 - val_accuracy: 0.7908\n",
      "Epoch 18/50\n",
      "16898/16898 [==============================] - 44s 3ms/step - loss: 0.4105 - accuracy: 0.8391 - val_loss: 0.5246 - val_accuracy: 0.8031\n",
      "Epoch 19/50\n",
      "16898/16898 [==============================] - 44s 3ms/step - loss: 0.4097 - accuracy: 0.8395 - val_loss: 0.5663 - val_accuracy: 0.7875\n",
      "Epoch 20/50\n",
      "16898/16898 [==============================] - 42s 2ms/step - loss: 0.3914 - accuracy: 0.8462 - val_loss: 0.5567 - val_accuracy: 0.7870\n",
      "Epoch 21/50\n",
      "16898/16898 [==============================] - 44s 3ms/step - loss: 0.3962 - accuracy: 0.8465 - val_loss: 0.5542 - val_accuracy: 0.7988\n",
      "Epoch 22/50\n",
      "16898/16898 [==============================] - 44s 3ms/step - loss: 0.4010 - accuracy: 0.8428 - val_loss: 0.5685 - val_accuracy: 0.7910\n",
      "Epoch 23/50\n",
      "16898/16898 [==============================] - 42s 2ms/step - loss: 0.3829 - accuracy: 0.8492 - val_loss: 0.5482 - val_accuracy: 0.7917\n",
      "Epoch 24/50\n",
      "16898/16898 [==============================] - 41s 2ms/step - loss: 0.3939 - accuracy: 0.8497 - val_loss: 0.5255 - val_accuracy: 0.7991\n",
      "Epoch 25/50\n",
      "16898/16898 [==============================] - 41s 2ms/step - loss: 0.3841 - accuracy: 0.8509 - val_loss: 0.5542 - val_accuracy: 0.7922\n",
      "Epoch 26/50\n",
      "16898/16898 [==============================] - 40s 2ms/step - loss: 0.3927 - accuracy: 0.8455 - val_loss: 0.5373 - val_accuracy: 0.7995\n",
      "Epoch 27/50\n",
      "16898/16898 [==============================] - 41s 2ms/step - loss: 0.3834 - accuracy: 0.8491 - val_loss: 0.5687 - val_accuracy: 0.7841\n",
      "Epoch 28/50\n",
      "16898/16898 [==============================] - 39s 2ms/step - loss: 0.3858 - accuracy: 0.8491 - val_loss: 0.5654 - val_accuracy: 0.7920\n",
      "Epoch 29/50\n",
      "16898/16898 [==============================] - 39s 2ms/step - loss: 0.3740 - accuracy: 0.8548 - val_loss: 0.5382 - val_accuracy: 0.7993\n",
      "Epoch 30/50\n",
      "16898/16898 [==============================] - 43s 3ms/step - loss: 0.3672 - accuracy: 0.8535 - val_loss: 0.5423 - val_accuracy: 0.7993\n",
      "Epoch 31/50\n",
      "16898/16898 [==============================] - 42s 2ms/step - loss: 0.4126 - accuracy: 0.8430 - val_loss: 0.5980 - val_accuracy: 0.7920\n",
      "Epoch 32/50\n",
      "16898/16898 [==============================] - 43s 3ms/step - loss: 0.3864 - accuracy: 0.8517 - val_loss: 0.5430 - val_accuracy: 0.7995\n",
      "Epoch 33/50\n",
      "16898/16898 [==============================] - 40s 2ms/step - loss: 0.3763 - accuracy: 0.8535 - val_loss: 0.6090 - val_accuracy: 0.7785\n",
      "Epoch 34/50\n",
      "16898/16898 [==============================] - 39s 2ms/step - loss: 0.3787 - accuracy: 0.8536 - val_loss: 0.6168 - val_accuracy: 0.7787\n",
      "Epoch 35/50\n",
      "16898/16898 [==============================] - 39s 2ms/step - loss: 0.3721 - accuracy: 0.8569 - val_loss: 0.5352 - val_accuracy: 0.7938\n",
      "Epoch 36/50\n",
      "16898/16898 [==============================] - 38s 2ms/step - loss: 0.3787 - accuracy: 0.8542 - val_loss: 0.5603 - val_accuracy: 0.8033\n",
      "Epoch 37/50\n",
      "16898/16898 [==============================] - 39s 2ms/step - loss: 0.3653 - accuracy: 0.8585 - val_loss: 0.5657 - val_accuracy: 0.7979\n",
      "Epoch 38/50\n",
      "16898/16898 [==============================] - 39s 2ms/step - loss: 0.3724 - accuracy: 0.8554 - val_loss: 0.5651 - val_accuracy: 0.7917\n",
      "Epoch 39/50\n",
      "16898/16898 [==============================] - 39s 2ms/step - loss: 0.3802 - accuracy: 0.8535 - val_loss: 0.5273 - val_accuracy: 0.8005\n",
      "Epoch 40/50\n",
      "16898/16898 [==============================] - 37s 2ms/step - loss: 0.3635 - accuracy: 0.8600 - val_loss: 0.5762 - val_accuracy: 0.7924\n",
      "Epoch 41/50\n",
      "16898/16898 [==============================] - 38s 2ms/step - loss: 0.3627 - accuracy: 0.8605 - val_loss: 0.5882 - val_accuracy: 0.7917\n",
      "Epoch 42/50\n",
      "16898/16898 [==============================] - 38s 2ms/step - loss: 0.3563 - accuracy: 0.8604 - val_loss: 0.5582 - val_accuracy: 0.7936\n",
      "Epoch 43/50\n",
      "16898/16898 [==============================] - 38s 2ms/step - loss: 0.3587 - accuracy: 0.8586 - val_loss: 0.5727 - val_accuracy: 0.7920\n",
      "Epoch 44/50\n",
      "16898/16898 [==============================] - 39s 2ms/step - loss: 0.3673 - accuracy: 0.8564 - val_loss: 0.5797 - val_accuracy: 0.7896\n",
      "Epoch 45/50\n",
      "16898/16898 [==============================] - 38s 2ms/step - loss: 0.3508 - accuracy: 0.8629 - val_loss: 0.5435 - val_accuracy: 0.8024\n",
      "Epoch 46/50\n",
      "16898/16898 [==============================] - 38s 2ms/step - loss: 0.3541 - accuracy: 0.8623 - val_loss: 0.5693 - val_accuracy: 0.7995\n",
      "Epoch 47/50\n",
      "16898/16898 [==============================] - 38s 2ms/step - loss: 0.3597 - accuracy: 0.8595 - val_loss: 0.6008 - val_accuracy: 0.7886\n",
      "Epoch 48/50\n",
      "16898/16898 [==============================] - 38s 2ms/step - loss: 0.3490 - accuracy: 0.8660 - val_loss: 0.5807 - val_accuracy: 0.7941\n",
      "Epoch 49/50\n",
      "16898/16898 [==============================] - 38s 2ms/step - loss: 0.3560 - accuracy: 0.8632 - val_loss: 0.5484 - val_accuracy: 0.8024\n",
      "Epoch 50/50\n",
      "16898/16898 [==============================] - 42s 3ms/step - loss: 0.3473 - accuracy: 0.8628 - val_loss: 0.5330 - val_accuracy: 0.8014\n"
     ]
    }
   ],
   "source": [
    "emg_train_dropout = emg_model.fit(\n",
    "    train_X,\n",
    "    train_label,\n",
    "    batch_size=batch_size,\n",
    "    epochs=epochs,\n",
    "    verbose=1,\n",
    "    validation_data=(valid_X, valid_label))"
   ]
  },
  {
   "cell_type": "code",
   "execution_count": null,
   "metadata": {},
   "outputs": [],
   "source": [
    "# emg_model.save(\"emg_model_dropout_new.h5py\")"
   ]
  },
  {
   "cell_type": "code",
   "execution_count": 37,
   "metadata": {},
   "outputs": [
    {
     "name": "stdout",
     "output_type": "stream",
     "text": [
      "2347/2347 [==============================] - 2s 752us/step\n"
     ]
    }
   ],
   "source": [
    "test_eval= emg_model.evaluate(test_X, test_Y_one_hot, verbose=1)"
   ]
  },
  {
   "cell_type": "code",
   "execution_count": 38,
   "metadata": {},
   "outputs": [
    {
     "name": "stdout",
     "output_type": "stream",
     "text": [
      "Test loss:  0.6918263824178048\n",
      "Test accuracy:  0.7967618107795715\n"
     ]
    }
   ],
   "source": [
    "print('Test loss: ', test_eval[0])\n",
    "print('Test accuracy: ', test_eval[1])"
   ]
  },
  {
   "cell_type": "code",
   "execution_count": 39,
   "metadata": {},
   "outputs": [
    {
     "data": {
      "image/png": "[encoded data removed]",
      "text/plain": [
       "<Figure size 432x288 with 1 Axes>"
      ]
     },
     "metadata": {
      "needs_background": "light"
     },
     "output_type": "display_data"
    },
    {
     "data": {
      "image/png": "[encoded data removed]",
      "text/plain": [
       "<Figure size 432x288 with 1 Axes>"
      ]
     },
     "metadata": {
      "needs_background": "light"
     },
     "output_type": "display_data"
    }
   ],
   "source": [
    "# Visualization\n",
    "accuracy = emg_train_dropout.history['accuracy']\n",
    "val_accuracy = emg_train_dropout.history['val_accuracy']\n",
    "loss = emg_train_dropout.history['loss']\n",
    "val_loss = emg_train_dropout.history['val_loss']\n",
    "epoch = range(len(accuracy))\n",
    "plt.plot(epoch, accuracy, 'bo', label='Training accuracy')\n",
    "plt.plot(epoch, val_accuracy, 'b', label='Validation accuracy')\n",
    "plt.title('Training and validation accuracy')\n",
    "plt.legend()\n",
    "plt.figure()\n",
    "plt.plot(epoch, loss, 'bo', label='Training loss')\n",
    "plt.plot(epoch, val_loss, 'b', label='Validation loss')\n",
    "plt.title('Training and validation loss')\n",
    "plt.legend()\n",
    "plt.show()"
   ]
  },
  {
   "cell_type": "code",
   "execution_count": null,
   "metadata": {},
   "outputs": [],
   "source": [
    "predicted_classes = emg_model.predict(test_X)"
   ]
  },
  {
   "cell_type": "code",
   "execution_count": null,
   "metadata": {},
   "outputs": [],
   "source": [
    "predicted_classes = np.argmax(np.round(predicted_classes), axis=1)"
   ]
  },
  {
   "cell_type": "code",
   "execution_count": null,
   "metadata": {},
   "outputs": [],
   "source": [
    "predicted_classes.shape, test_Y.shape"
   ]
  },
  {
   "cell_type": "code",
   "execution_count": null,
   "metadata": {},
   "outputs": [],
   "source": [
    "correct = np.where(predicted_classes==test_Y)[0]\n",
    "print(\"Found %d correct labels\" % len(correct))\n",
    "for i, correct, in enumerate(correct[:9]):\n",
    "    plt.subplot(3, 3, i+1)\n",
    "    plt.pcolormesh(test_X[correct].reshape(ydim, xdim), cmap='jet')\n",
    "    plt.title(\"Predicted {}, Class {}\".format(predicted_classes[correct], test_Y[correct]))\n",
    "    plt.tight_layout()"
   ]
  },
  {
   "cell_type": "code",
   "execution_count": null,
   "metadata": {},
   "outputs": [],
   "source": [
    "incorrect = np.where(predicted_classes!=test_Y)[0]\n",
    "print(\"Found %d incorrect labels\" % len(incorrect))\n",
    "for i, incorrect, in enumerate(incorrect[:9]):\n",
    "    plt.subplot(3, 3, i+1)\n",
    "    plt.pcolormesh(test_X[incorrect].reshape(ydim, xdim), cmap='jet')\n",
    "    plt.title(\"Predicted {}, Class {}\".format(predicted_classes[incorrect], test_Y[incorrect]))\n",
    "    plt.tight_layout()"
   ]
  },
  {
   "cell_type": "code",
   "execution_count": null,
   "metadata": {},
   "outputs": [],
   "source": [
    "from sklearn.metrics import classification_report\n",
    "target_names = [\"Class {}\".format(i) for i in range(num_classes)]\n",
    "print(classification_report(test_Y, predicted_classes, target_names=target_names))"
   ]
  },
  {
   "cell_type": "code",
   "execution_count": null,
   "metadata": {},
   "outputs": [],
   "source": []
  }
 ],
 "metadata": {
  "kernelspec": {
   "display_name": "Python 3",
   "language": "python",
   "name": "python3"
  },
  "language_info": {
   "codemirror_mode": {
    "name": "ipython",
    "version": 3
   },
   "file_extension": ".py",
   "mimetype": "text/x-python",
   "name": "python",
   "nbconvert_exporter": "python",
   "pygments_lexer": "ipython3",
   "version": "3.7.0"
  }
 },
 "nbformat": 4,
 "nbformat_minor": 4
}
