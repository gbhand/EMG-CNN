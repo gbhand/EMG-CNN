{
 "cells": [
  {
   "cell_type": "code",
   "execution_count": 1,
   "metadata": {},
   "outputs": [
    {
     "name": "stderr",
     "output_type": "stream",
     "text": [
      "Using TensorFlow backend.\n",
      "/opt/miniconda3/envs/trial_env/lib/python3.7/site-packages/tensorflow/python/framework/dtypes.py:526: FutureWarning: Passing (type, 1) or '1type' as a synonym of type is deprecated; in a future version of numpy, it will be understood as (type, (1,)) / '(1,)type'.\n",
      "  _np_qint8 = np.dtype([(\"qint8\", np.int8, 1)])\n",
      "/opt/miniconda3/envs/trial_env/lib/python3.7/site-packages/tensorflow/python/framework/dtypes.py:527: FutureWarning: Passing (type, 1) or '1type' as a synonym of type is deprecated; in a future version of numpy, it will be understood as (type, (1,)) / '(1,)type'.\n",
      "  _np_quint8 = np.dtype([(\"quint8\", np.uint8, 1)])\n",
      "/opt/miniconda3/envs/trial_env/lib/python3.7/site-packages/tensorflow/python/framework/dtypes.py:528: FutureWarning: Passing (type, 1) or '1type' as a synonym of type is deprecated; in a future version of numpy, it will be understood as (type, (1,)) / '(1,)type'.\n",
      "  _np_qint16 = np.dtype([(\"qint16\", np.int16, 1)])\n",
      "/opt/miniconda3/envs/trial_env/lib/python3.7/site-packages/tensorflow/python/framework/dtypes.py:529: FutureWarning: Passing (type, 1) or '1type' as a synonym of type is deprecated; in a future version of numpy, it will be understood as (type, (1,)) / '(1,)type'.\n",
      "  _np_quint16 = np.dtype([(\"quint16\", np.uint16, 1)])\n",
      "/opt/miniconda3/envs/trial_env/lib/python3.7/site-packages/tensorflow/python/framework/dtypes.py:530: FutureWarning: Passing (type, 1) or '1type' as a synonym of type is deprecated; in a future version of numpy, it will be understood as (type, (1,)) / '(1,)type'.\n",
      "  _np_qint32 = np.dtype([(\"qint32\", np.int32, 1)])\n",
      "/opt/miniconda3/envs/trial_env/lib/python3.7/site-packages/tensorflow/python/framework/dtypes.py:535: FutureWarning: Passing (type, 1) or '1type' as a synonym of type is deprecated; in a future version of numpy, it will be understood as (type, (1,)) / '(1,)type'.\n",
      "  np_resource = np.dtype([(\"resource\", np.ubyte, 1)])\n"
     ]
    }
   ],
   "source": [
    "import os\n",
    "\n",
    "import matplotlib.pyplot as plt\n",
    "import numpy as np\n",
    "import pandas as pd\n",
    "import st_remux as st\n",
    "\n",
    "from sklearn.model_selection import train_test_split\n",
    "from keras.utils import to_categorical\n",
    "\n",
    "\n",
    "\n",
    "%matplotlib inline"
   ]
  },
  {
   "cell_type": "code",
   "execution_count": 2,
   "metadata": {},
   "outputs": [],
   "source": [
    "# Config\n",
    "nopain = 'Pain_data/final_data/no_pain'\n",
    "highpain = 'Pain_data/final_data/high_pain'\n",
    "\n",
    "fs = 4000\n",
    "win_len = 40\n",
    "\n",
    "use_filter = 0   # weird results if we use python filtering\n",
    "\n",
    "use_matlab_backend = 0\n",
    "\n",
    "#high = np.genfromtxt(highpain, delimiter=',')\n",
    "#no = np.genfromtxt(nopain, delimiter=',')"
   ]
  },
  {
   "cell_type": "code",
   "execution_count": 3,
   "metadata": {},
   "outputs": [
    {
     "name": "stdout",
     "output_type": "stream",
     "text": [
      "Using native backend\n",
      "['.DS_Store', 'pain_large.csv']\n",
      "ydim=16 xdim=40\n",
      "['.DS_Store', 'nopain.csv']\n",
      "ydim=16 xdim=40\n"
     ]
    }
   ],
   "source": [
    "if use_matlab_backend:\n",
    "    print('Using MATLAB signal processing backend')\n",
    "    # high_dir = 'datasets/high/'\n",
    "    # low_dir = 'datasets/low/'\n",
    "\n",
    "    high_dir = 'EMG_data/power_spectrum_for_cnn_input/high/'\n",
    "    low_dir = 'EMG_data/power_spectrum_for_cnn_input/low/'\n",
    "\n",
    "    def generate_3darray(directory):\n",
    "        files = os.listdir(directory)\n",
    "        dims = np.genfromtxt(directory + files[0], delimiter=',').shape\n",
    "        length = len(files)\n",
    "        arr = np.zeros((length, dims[0], dims[1]))\n",
    "\n",
    "        for idx, val in enumerate(files):\n",
    "            arr[idx] = np.genfromtxt(directory + val, delimiter=',')\n",
    "\n",
    "        return arr\n",
    "\n",
    "    hi = generate_3darray(high_dir)\n",
    "    lo = generate_3darray(low_dir)\n",
    "    \n",
    "else: \n",
    "    print('Using native backend')\n",
    "    hi = st.raw_to_arr(highpain, fs, win_len, 0)\n",
    "    no = st.raw_to_arr(nopain, fs, win_len, 0)\n",
    "\n",
    "X = np.concatenate((hi, no))\n",
    "\n",
    "hi_Y = np.ones(len(hi), dtype=int)\n",
    "no_Y = np.zeros(len(no), dtype=int)\n",
    "\n",
    "Y = np.concatenate((hi_Y, no_Y))"
   ]
  },
  {
   "cell_type": "code",
   "execution_count": 4,
   "metadata": {},
   "outputs": [],
   "source": [
    "train_X, test_X, train_Y, test_Y = train_test_split(X, Y, test_size=0.1)"
   ]
  },
  {
   "cell_type": "code",
   "execution_count": 5,
   "metadata": {},
   "outputs": [
    {
     "name": "stdout",
     "output_type": "stream",
     "text": [
      "Training data shape:  (2572, 16, 40) (2572,)\n",
      "Testing data shape:  (286, 16, 40) (286,)\n"
     ]
    }
   ],
   "source": [
    "print('Training data shape: ', train_X.shape, train_Y.shape)\n",
    "print('Testing data shape: ', test_X.shape, test_Y.shape)"
   ]
  },
  {
   "cell_type": "code",
   "execution_count": 6,
   "metadata": {},
   "outputs": [
    {
     "name": "stdout",
     "output_type": "stream",
     "text": [
      "Total number of outputs:  2\n",
      "Output classes:  [0 1]\n"
     ]
    }
   ],
   "source": [
    "classes = np.unique(train_Y)\n",
    "nClasses = len(classes)\n",
    "print('Total number of outputs: ', nClasses)\n",
    "print('Output classes: ', classes)"
   ]
  },
  {
   "cell_type": "code",
   "execution_count": 7,
   "metadata": {},
   "outputs": [
    {
     "data": {
      "text/plain": [
       "Text(0.5,1,'Ground Truth: 1')"
      ]
     },
     "execution_count": 7,
     "metadata": {},
     "output_type": "execute_result"
    },
    {
     "data": {
      "image/png": "[encoded data removed]",
      "text/plain": [
       "<Figure size 720x144 with 2 Axes>"
      ]
     },
     "metadata": {
      "needs_background": "light"
     },
     "output_type": "display_data"
    }
   ],
   "source": [
    "plt.figure(figsize=[10,2])\n",
    "\n",
    "# Display first image in training set\n",
    "plt.subplot(121)\n",
    "plt.pcolormesh(train_X[0,:,:], cmap='jet')\n",
    "plt.title(\"Ground Truth: {}\".format(train_Y[0]))\n",
    "\n",
    "# Display second image in testing set\n",
    "plt.subplot(122)\n",
    "plt.pcolormesh(test_X[1], cmap='jet')\n",
    "plt.title(\"Ground Truth: {}\".format(test_Y[1]))"
   ]
  },
  {
   "cell_type": "code",
   "execution_count": 8,
   "metadata": {},
   "outputs": [
    {
     "data": {
      "text/plain": [
       "((2572, 16, 40, 1), (286, 16, 40, 1))"
      ]
     },
     "execution_count": 8,
     "metadata": {},
     "output_type": "execute_result"
    }
   ],
   "source": [
    "ydim = train_X[0].shape[0]\n",
    "xdim = train_X[0].shape[1]\n",
    "train_X = train_X.reshape(-1, ydim, xdim, 1)\n",
    "test_X = test_X.reshape(-1, ydim, xdim, 1)\n",
    "train_X.shape, test_X.shape"
   ]
  },
  {
   "cell_type": "code",
   "execution_count": 9,
   "metadata": {},
   "outputs": [],
   "source": [
    "train_X = train_X.astype('float32')\n",
    "test_X = test_X.astype('float32')"
   ]
  },
  {
   "cell_type": "code",
   "execution_count": 10,
   "metadata": {},
   "outputs": [
    {
     "name": "stdout",
     "output_type": "stream",
     "text": [
      "Original label:  0\n",
      "After conversion to one-hot:  [1. 0.]\n"
     ]
    }
   ],
   "source": [
    "# Change labels from categorical to one-hot encoding\n",
    "train_Y_one_hot = to_categorical(train_Y)\n",
    "test_Y_one_hot = to_categorical(test_Y)\n",
    "\n",
    "# See the difference?\n",
    "print('Original label: ', train_Y[0])\n",
    "print('After conversion to one-hot: ', train_Y_one_hot[0])"
   ]
  },
  {
   "cell_type": "code",
   "execution_count": 11,
   "metadata": {},
   "outputs": [
    {
     "data": {
      "text/plain": [
       "(286, 2)"
      ]
     },
     "execution_count": 11,
     "metadata": {},
     "output_type": "execute_result"
    }
   ],
   "source": [
    "train_Y_one_hot.shape\n",
    "test_Y_one_hot.shape"
   ]
  },
  {
   "cell_type": "code",
   "execution_count": 12,
   "metadata": {},
   "outputs": [
    {
     "data": {
      "text/plain": [
       "((2057, 16, 40, 1), (515, 16, 40, 1), (2057, 2), (515, 2))"
      ]
     },
     "execution_count": 12,
     "metadata": {},
     "output_type": "execute_result"
    }
   ],
   "source": [
    "# Partition data for 80% training and 20% validation\n",
    "# should reduce overfitting and boost test performance\n",
    "\n",
    "train_X, valid_X, train_label, valid_label = train_test_split(train_X, train_Y_one_hot, test_size=0.2)\n",
    "\n",
    "train_X.shape, valid_X.shape, train_label.shape, valid_label.shape"
   ]
  },
  {
   "cell_type": "code",
   "execution_count": 13,
   "metadata": {},
   "outputs": [],
   "source": [
    "# let's get down to business\n",
    "import keras\n",
    "from keras.models import Sequential, Input, Model\n",
    "from keras.layers import Dense, Dropout, Flatten\n",
    "from keras.layers import Conv2D, MaxPooling2D\n",
    "from keras.layers.normalization import BatchNormalization\n",
    "from keras.layers.advanced_activations import LeakyReLU"
   ]
  },
  {
   "cell_type": "code",
   "execution_count": 14,
   "metadata": {},
   "outputs": [],
   "source": [
    "# Parameters\n",
    "batch_size = 32\n",
    "epochs = 50\n",
    "num_classes = nClasses"
   ]
  },
  {
   "cell_type": "code",
   "execution_count": 15,
   "metadata": {},
   "outputs": [
    {
     "name": "stdout",
     "output_type": "stream",
     "text": [
      "WARNING:tensorflow:From /opt/miniconda3/envs/trial_env/lib/python3.7/site-packages/tensorflow/python/ops/resource_variable_ops.py:435: colocate_with (from tensorflow.python.framework.ops) is deprecated and will be removed in a future version.\n",
      "Instructions for updating:\n",
      "Colocations handled automatically by placer.\n"
     ]
    }
   ],
   "source": [
    "pain_model = Sequential()\n",
    "pain_model.add(\n",
    "    Conv2D(\n",
    "        32, \n",
    "        kernel_size=(3, 3), \n",
    "        activation='linear', \n",
    "        input_shape=(ydim, xdim, 1), \n",
    "        padding='same'))\n",
    "pain_model.add(LeakyReLU(alpha=0.1))\n",
    "pain_model.add(MaxPooling2D(pool_size=(2, 2), padding='same'))\n",
    "pain_model.add(Dropout(0.25))\n",
    "pain_model.add(\n",
    "    Conv2D(\n",
    "        64,\n",
    "        (3, 3),\n",
    "        activation='linear',\n",
    "        padding='same'))\n",
    "pain_model.add(LeakyReLU(alpha=0.1))\n",
    "pain_model.add(MaxPooling2D(pool_size=(2, 2), padding='same'))\n",
    "pain_model.add(Dropout(0.25))\n",
    "pain_model.add(\n",
    "    Conv2D(\n",
    "        128,\n",
    "        (3, 3),\n",
    "        activation='linear',\n",
    "        padding='same'))\n",
    "pain_model.add(LeakyReLU(alpha=0.1))\n",
    "pain_model.add(MaxPooling2D(pool_size=(2, 2), padding='same'))\n",
    "pain_model.add(Dropout(0.4))\n",
    "pain_model.add(Flatten())\n",
    "pain_model.add(Dense(128, activation='linear'))\n",
    "pain_model.add(LeakyReLU(alpha=0.1))\n",
    "pain_model.add(Dropout(0.3))\n",
    "pain_model.add(Dense(num_classes, activation='softmax'))"
   ]
  },
  {
   "cell_type": "code",
   "execution_count": 16,
   "metadata": {},
   "outputs": [],
   "source": [
    "pain_model.compile(\n",
    "    loss=keras.losses.categorical_crossentropy,\n",
    "    optimizer=keras.optimizers.Adam(),\n",
    "    metrics=['accuracy'])"
   ]
  },
  {
   "cell_type": "code",
   "execution_count": 17,
   "metadata": {},
   "outputs": [
    {
     "name": "stdout",
     "output_type": "stream",
     "text": [
      "Model: \"sequential_1\"\n",
      "_________________________________________________________________\n",
      "Layer (type)                 Output Shape              Param #   \n",
      "=================================================================\n",
      "conv2d_1 (Conv2D)            (None, 16, 40, 32)        320       \n",
      "_________________________________________________________________\n",
      "leaky_re_lu_1 (LeakyReLU)    (None, 16, 40, 32)        0         \n",
      "_________________________________________________________________\n",
      "max_pooling2d_1 (MaxPooling2 (None, 8, 20, 32)         0         \n",
      "_________________________________________________________________\n",
      "dropout_1 (Dropout)          (None, 8, 20, 32)         0         \n",
      "_________________________________________________________________\n",
      "conv2d_2 (Conv2D)            (None, 8, 20, 64)         18496     \n",
      "_________________________________________________________________\n",
      "leaky_re_lu_2 (LeakyReLU)    (None, 8, 20, 64)         0         \n",
      "_________________________________________________________________\n",
      "max_pooling2d_2 (MaxPooling2 (None, 4, 10, 64)         0         \n",
      "_________________________________________________________________\n",
      "dropout_2 (Dropout)          (None, 4, 10, 64)         0         \n",
      "_________________________________________________________________\n",
      "conv2d_3 (Conv2D)            (None, 4, 10, 128)        73856     \n",
      "_________________________________________________________________\n",
      "leaky_re_lu_3 (LeakyReLU)    (None, 4, 10, 128)        0         \n",
      "_________________________________________________________________\n",
      "max_pooling2d_3 (MaxPooling2 (None, 2, 5, 128)         0         \n",
      "_________________________________________________________________\n",
      "dropout_3 (Dropout)          (None, 2, 5, 128)         0         \n",
      "_________________________________________________________________\n",
      "flatten_1 (Flatten)          (None, 1280)              0         \n",
      "_________________________________________________________________\n",
      "dense_1 (Dense)              (None, 128)               163968    \n",
      "_________________________________________________________________\n",
      "leaky_re_lu_4 (LeakyReLU)    (None, 128)               0         \n",
      "_________________________________________________________________\n",
      "dropout_4 (Dropout)          (None, 128)               0         \n",
      "_________________________________________________________________\n",
      "dense_2 (Dense)              (None, 2)                 258       \n",
      "=================================================================\n",
      "Total params: 256,898\n",
      "Trainable params: 256,898\n",
      "Non-trainable params: 0\n",
      "_________________________________________________________________\n"
     ]
    }
   ],
   "source": [
    "pain_model.summary()"
   ]
  },
  {
   "cell_type": "code",
   "execution_count": 18,
   "metadata": {},
   "outputs": [
    {
     "name": "stdout",
     "output_type": "stream",
     "text": [
      "WARNING:tensorflow:From /opt/miniconda3/envs/trial_env/lib/python3.7/site-packages/tensorflow/python/ops/math_ops.py:3066: to_int32 (from tensorflow.python.ops.math_ops) is deprecated and will be removed in a future version.\n",
      "Instructions for updating:\n",
      "Use tf.cast instead.\n",
      "Train on 2057 samples, validate on 515 samples\n",
      "Epoch 1/50\n",
      "2057/2057 [==============================] - 4s 2ms/step - loss: 0.6435 - accuracy: 0.6675 - val_loss: 0.6222 - val_accuracy: 0.6757\n",
      "Epoch 2/50\n",
      "2057/2057 [==============================] - 3s 1ms/step - loss: 0.6227 - accuracy: 0.6850 - val_loss: 0.5989 - val_accuracy: 0.6971\n",
      "Epoch 3/50\n",
      "2057/2057 [==============================] - 3s 1ms/step - loss: 0.6056 - accuracy: 0.6971 - val_loss: 0.5928 - val_accuracy: 0.7010\n",
      "Epoch 4/50\n",
      "2057/2057 [==============================] - 3s 1ms/step - loss: 0.6038 - accuracy: 0.7020 - val_loss: 0.5880 - val_accuracy: 0.7184\n",
      "Epoch 5/50\n",
      "2057/2057 [==============================] - 3s 1ms/step - loss: 0.6076 - accuracy: 0.7059 - val_loss: 0.5838 - val_accuracy: 0.7165\n",
      "Epoch 6/50\n",
      "2057/2057 [==============================] - 3s 1ms/step - loss: 0.5970 - accuracy: 0.7088 - val_loss: 0.5810 - val_accuracy: 0.7243\n",
      "Epoch 7/50\n",
      "2057/2057 [==============================] - 3s 1ms/step - loss: 0.5965 - accuracy: 0.7093 - val_loss: 0.5862 - val_accuracy: 0.7204\n",
      "Epoch 8/50\n",
      "2057/2057 [==============================] - 3s 1ms/step - loss: 0.5959 - accuracy: 0.7069 - val_loss: 0.5828 - val_accuracy: 0.7223\n",
      "Epoch 9/50\n",
      "2057/2057 [==============================] - 3s 1ms/step - loss: 0.6017 - accuracy: 0.6966 - val_loss: 0.5795 - val_accuracy: 0.7204\n",
      "Epoch 10/50\n",
      "2057/2057 [==============================] - 3s 1ms/step - loss: 0.5926 - accuracy: 0.7137 - val_loss: 0.5783 - val_accuracy: 0.7262\n",
      "Epoch 11/50\n",
      "2057/2057 [==============================] - 3s 1ms/step - loss: 0.5931 - accuracy: 0.7137 - val_loss: 0.5835 - val_accuracy: 0.7204\n",
      "Epoch 12/50\n",
      "2057/2057 [==============================] - 3s 1ms/step - loss: 0.5872 - accuracy: 0.7103 - val_loss: 0.5699 - val_accuracy: 0.7340\n",
      "Epoch 13/50\n",
      "2057/2057 [==============================] - 3s 1ms/step - loss: 0.5881 - accuracy: 0.7185 - val_loss: 0.5887 - val_accuracy: 0.7223\n",
      "Epoch 14/50\n",
      "2057/2057 [==============================] - 3s 1ms/step - loss: 0.5883 - accuracy: 0.7141 - val_loss: 0.5784 - val_accuracy: 0.7184\n",
      "Epoch 15/50\n",
      "2057/2057 [==============================] - 3s 1ms/step - loss: 0.5833 - accuracy: 0.7146 - val_loss: 0.5790 - val_accuracy: 0.7320\n",
      "Epoch 16/50\n",
      "2057/2057 [==============================] - 3s 1ms/step - loss: 0.5844 - accuracy: 0.7205 - val_loss: 0.5748 - val_accuracy: 0.7223\n",
      "Epoch 17/50\n",
      "2057/2057 [==============================] - 3s 1ms/step - loss: 0.5784 - accuracy: 0.7195 - val_loss: 0.6009 - val_accuracy: 0.7243\n",
      "Epoch 18/50\n",
      "2057/2057 [==============================] - 3s 1ms/step - loss: 0.5832 - accuracy: 0.7127 - val_loss: 0.5706 - val_accuracy: 0.7204\n",
      "Epoch 19/50\n",
      "2057/2057 [==============================] - 3s 1ms/step - loss: 0.5843 - accuracy: 0.7098 - val_loss: 0.5719 - val_accuracy: 0.7243\n",
      "Epoch 20/50\n",
      "2057/2057 [==============================] - 3s 1ms/step - loss: 0.5818 - accuracy: 0.7132 - val_loss: 0.5702 - val_accuracy: 0.7282\n",
      "Epoch 21/50\n",
      "2057/2057 [==============================] - 3s 1ms/step - loss: 0.5745 - accuracy: 0.7200 - val_loss: 0.5760 - val_accuracy: 0.7262\n",
      "Epoch 22/50\n",
      "2057/2057 [==============================] - 3s 1ms/step - loss: 0.5738 - accuracy: 0.7185 - val_loss: 0.5713 - val_accuracy: 0.7301\n",
      "Epoch 23/50\n",
      "2057/2057 [==============================] - 3s 1ms/step - loss: 0.5688 - accuracy: 0.7253 - val_loss: 0.5796 - val_accuracy: 0.7243\n",
      "Epoch 24/50\n",
      "2057/2057 [==============================] - 3s 1ms/step - loss: 0.5710 - accuracy: 0.7219 - val_loss: 0.5732 - val_accuracy: 0.7320\n",
      "Epoch 25/50\n",
      "2057/2057 [==============================] - 3s 1ms/step - loss: 0.5769 - accuracy: 0.7195 - val_loss: 0.5831 - val_accuracy: 0.7301\n",
      "Epoch 26/50\n",
      "2057/2057 [==============================] - 3s 1ms/step - loss: 0.5660 - accuracy: 0.7282 - val_loss: 0.5824 - val_accuracy: 0.7320\n",
      "Epoch 27/50\n",
      "2057/2057 [==============================] - 3s 1ms/step - loss: 0.5656 - accuracy: 0.7253 - val_loss: 0.5759 - val_accuracy: 0.7301\n",
      "Epoch 28/50\n",
      "2057/2057 [==============================] - 3s 1ms/step - loss: 0.5622 - accuracy: 0.7263 - val_loss: 0.5791 - val_accuracy: 0.7223\n",
      "Epoch 29/50\n",
      "2057/2057 [==============================] - 3s 1ms/step - loss: 0.5582 - accuracy: 0.7307 - val_loss: 0.5884 - val_accuracy: 0.7340\n",
      "Epoch 30/50\n",
      "2057/2057 [==============================] - 3s 1ms/step - loss: 0.5615 - accuracy: 0.7239 - val_loss: 0.5757 - val_accuracy: 0.7282\n",
      "Epoch 31/50\n",
      "2057/2057 [==============================] - 3s 1ms/step - loss: 0.5492 - accuracy: 0.7375 - val_loss: 0.5938 - val_accuracy: 0.7340\n",
      "Epoch 32/50\n",
      "2057/2057 [==============================] - 3s 1ms/step - loss: 0.5572 - accuracy: 0.7331 - val_loss: 0.5848 - val_accuracy: 0.7223\n",
      "Epoch 33/50\n",
      "2057/2057 [==============================] - 3s 1ms/step - loss: 0.5577 - accuracy: 0.7268 - val_loss: 0.5946 - val_accuracy: 0.7204\n",
      "Epoch 34/50\n",
      "2057/2057 [==============================] - 3s 1ms/step - loss: 0.5442 - accuracy: 0.7312 - val_loss: 0.5891 - val_accuracy: 0.7223\n",
      "Epoch 35/50\n",
      "2057/2057 [==============================] - 4s 2ms/step - loss: 0.5479 - accuracy: 0.7312 - val_loss: 0.5946 - val_accuracy: 0.7204\n",
      "Epoch 36/50\n",
      "2057/2057 [==============================] - 4s 2ms/step - loss: 0.5334 - accuracy: 0.7389 - val_loss: 0.5949 - val_accuracy: 0.7204\n",
      "Epoch 37/50\n",
      "2057/2057 [==============================] - 4s 2ms/step - loss: 0.5400 - accuracy: 0.7423 - val_loss: 0.5943 - val_accuracy: 0.7243\n",
      "Epoch 38/50\n",
      "2057/2057 [==============================] - 3s 2ms/step - loss: 0.5380 - accuracy: 0.7375 - val_loss: 0.5936 - val_accuracy: 0.7262\n",
      "Epoch 39/50\n",
      "2057/2057 [==============================] - 3s 2ms/step - loss: 0.5378 - accuracy: 0.7438 - val_loss: 0.6126 - val_accuracy: 0.7282\n",
      "Epoch 40/50\n",
      "2057/2057 [==============================] - 3s 1ms/step - loss: 0.5438 - accuracy: 0.7355 - val_loss: 0.6048 - val_accuracy: 0.7126\n",
      "Epoch 41/50\n",
      "2057/2057 [==============================] - 3s 1ms/step - loss: 0.5285 - accuracy: 0.7448 - val_loss: 0.6095 - val_accuracy: 0.7126\n",
      "Epoch 42/50\n",
      "2057/2057 [==============================] - 3s 1ms/step - loss: 0.5213 - accuracy: 0.7462 - val_loss: 0.6199 - val_accuracy: 0.7165\n",
      "Epoch 43/50\n",
      "2057/2057 [==============================] - 3s 1ms/step - loss: 0.5308 - accuracy: 0.7394 - val_loss: 0.6074 - val_accuracy: 0.7184\n",
      "Epoch 44/50\n",
      "2057/2057 [==============================] - 3s 1ms/step - loss: 0.5305 - accuracy: 0.7540 - val_loss: 0.6242 - val_accuracy: 0.6951\n",
      "Epoch 45/50\n",
      "2057/2057 [==============================] - 3s 1ms/step - loss: 0.5161 - accuracy: 0.7535 - val_loss: 0.6243 - val_accuracy: 0.7087\n",
      "Epoch 46/50\n",
      "2057/2057 [==============================] - 3s 1ms/step - loss: 0.5021 - accuracy: 0.7705 - val_loss: 0.6646 - val_accuracy: 0.7126\n",
      "Epoch 47/50\n",
      "2057/2057 [==============================] - 3s 2ms/step - loss: 0.5074 - accuracy: 0.7715 - val_loss: 0.6250 - val_accuracy: 0.7087\n",
      "Epoch 48/50\n",
      "2057/2057 [==============================] - 3s 1ms/step - loss: 0.4953 - accuracy: 0.7691 - val_loss: 0.6235 - val_accuracy: 0.6932\n",
      "Epoch 49/50\n",
      "2057/2057 [==============================] - 3s 1ms/step - loss: 0.4996 - accuracy: 0.7647 - val_loss: 0.6374 - val_accuracy: 0.7146\n",
      "Epoch 50/50\n",
      "2057/2057 [==============================] - 3s 1ms/step - loss: 0.4938 - accuracy: 0.7735 - val_loss: 0.6450 - val_accuracy: 0.7107\n"
     ]
    }
   ],
   "source": [
    "pain_train = pain_model.fit(train_X,train_label,\n",
    "    batch_size=batch_size,\n",
    "    epochs=epochs,\n",
    "    verbose=1,\n",
    "    validation_data=(valid_X, valid_label))"
   ]
  },
  {
   "cell_type": "code",
   "execution_count": 19,
   "metadata": {},
   "outputs": [],
   "source": [
    "test_eval = pain_model.evaluate(test_X, test_Y_one_hot, verbose=0)"
   ]
  },
  {
   "cell_type": "code",
   "execution_count": 20,
   "metadata": {},
   "outputs": [
    {
     "name": "stdout",
     "output_type": "stream",
     "text": [
      "Test loss:  0.7255903436587408\n",
      "Test accuracy:  0.6748251914978027\n"
     ]
    }
   ],
   "source": [
    "print('Test loss: ', test_eval[0])\n",
    "print('Test accuracy: ', test_eval[1])"
   ]
  },
  {
   "cell_type": "code",
   "execution_count": 21,
   "metadata": {},
   "outputs": [
    {
     "data": {
      "image/png": "[encoded data removed]",
      "text/plain": [
       "<Figure size 432x288 with 1 Axes>"
      ]
     },
     "metadata": {
      "needs_background": "light"
     },
     "output_type": "display_data"
    },
    {
     "data": {
      "image/png": "[encoded data removed]",
      "text/plain": [
       "<Figure size 432x288 with 1 Axes>"
      ]
     },
     "metadata": {
      "needs_background": "light"
     },
     "output_type": "display_data"
    }
   ],
   "source": [
    "accuracy = pain_train.history['accuracy']\n",
    "val_accuracy = pain_train.history['val_accuracy']\n",
    "loss = pain_train.history['loss']\n",
    "val_loss = pain_train.history['val_loss']\n",
    "epoch = range(len(accuracy))\n",
    "plt.plot(epoch, accuracy, 'bo', label='Training accuracy')\n",
    "plt.plot(epoch, val_accuracy, 'b', label='Validation accuracy')\n",
    "plt.title('Training and validation accuracy')\n",
    "plt.legend()\n",
    "plt.figure()\n",
    "plt.plot(epoch, loss, 'bo', label='Training loss')\n",
    "plt.plot(epoch, val_loss, 'b', label='Validation loss')\n",
    "plt.title('Training and validation loss')\n",
    "plt.legend()\n",
    "plt.show()"
   ]
  },
  {
   "cell_type": "code",
   "execution_count": 22,
   "metadata": {},
   "outputs": [],
   "source": [
    "predicted_classes = pain_model.predict(test_X)"
   ]
  },
  {
   "cell_type": "code",
   "execution_count": 23,
   "metadata": {},
   "outputs": [],
   "source": [
    "predicted_classes = np.argmax(np.round(predicted_classes), axis=1)"
   ]
  },
  {
   "cell_type": "code",
   "execution_count": 24,
   "metadata": {},
   "outputs": [
    {
     "data": {
      "text/plain": [
       "((286,), (286,))"
      ]
     },
     "execution_count": 24,
     "metadata": {},
     "output_type": "execute_result"
    }
   ],
   "source": [
    "predicted_classes.shape, test_Y.shape"
   ]
  },
  {
   "cell_type": "code",
   "execution_count": 25,
   "metadata": {},
   "outputs": [
    {
     "name": "stdout",
     "output_type": "stream",
     "text": [
      "Found 193 correct labels\n"
     ]
    },
    {
     "data": {
      "image/png": "[encoded data removed]",
      "text/plain": [
       "<Figure size 432x288 with 9 Axes>"
      ]
     },
     "metadata": {
      "needs_background": "light"
     },
     "output_type": "display_data"
    }
   ],
   "source": [
    "correct = np.where(predicted_classes==test_Y)[0]\n",
    "print(\"Found %d correct labels\" % len(correct))\n",
    "for i, correct, in enumerate(correct[:9]):\n",
    "    plt.subplot(3, 3, i+1)\n",
    "    plt.pcolormesh(test_X[correct].reshape(ydim, xdim), cmap='jet')\n",
    "    plt.title(\"Predicted {}, Class {}\".format(predicted_classes[correct], test_Y[correct]))\n",
    "    plt.tight_layout()"
   ]
  },
  {
   "cell_type": "code",
   "execution_count": 26,
   "metadata": {},
   "outputs": [
    {
     "name": "stdout",
     "output_type": "stream",
     "text": [
      "Found 93 incorrect labels\n"
     ]
    },
    {
     "data": {
      "image/png": "[encoded data removed]",
      "text/plain": [
       "<Figure size 432x288 with 9 Axes>"
      ]
     },
     "metadata": {
      "needs_background": "light"
     },
     "output_type": "display_data"
    }
   ],
   "source": [
    "incorrect = np.where(predicted_classes!=test_Y)[0]\n",
    "print(\"Found %d incorrect labels\" % len(incorrect))\n",
    "for i, incorrect, in enumerate(incorrect[:9]):\n",
    "    plt.subplot(3, 3, i+1)\n",
    "    plt.pcolormesh(test_X[incorrect].reshape(ydim, xdim), cmap='jet')\n",
    "    plt.title(\"Predicted {}, Class {}\".format(predicted_classes[incorrect], test_Y[incorrect]))\n",
    "    plt.tight_layout()"
   ]
  },
  {
   "cell_type": "code",
   "execution_count": 27,
   "metadata": {},
   "outputs": [
    {
     "name": "stdout",
     "output_type": "stream",
     "text": [
      "             precision    recall  f1-score   support\n",
      "\n",
      "    Class 0       0.67      0.94      0.78       176\n",
      "    Class 1       0.72      0.25      0.38       110\n",
      "\n",
      "avg / total       0.69      0.67      0.62       286\n",
      "\n"
     ]
    }
   ],
   "source": [
    "from sklearn.metrics import classification_report\n",
    "target_names = [\"Class {}\".format(i) for i in range(num_classes)]\n",
    "print(classification_report(test_Y, predicted_classes, target_names=target_names))"
   ]
  },
  {
   "cell_type": "code",
   "execution_count": null,
   "metadata": {},
   "outputs": [],
   "source": []
  }
 ],
 "metadata": {
  "kernelspec": {
   "display_name": "Python 3",
   "language": "python",
   "name": "python3"
  },
  "language_info": {
   "codemirror_mode": {
    "name": "ipython",
    "version": 3
   },
   "file_extension": ".py",
   "mimetype": "text/x-python",
   "name": "python",
   "nbconvert_exporter": "python",
   "pygments_lexer": "ipython3",
   "version": "3.7.0"
  }
 },
 "nbformat": 4,
 "nbformat_minor": 2
}
