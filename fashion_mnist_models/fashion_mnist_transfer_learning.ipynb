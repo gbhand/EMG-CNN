{
 "cells": [
  {
   "cell_type": "code",
   "execution_count": 1,
   "metadata": {},
   "outputs": [
    {
     "name": "stderr",
     "output_type": "stream",
     "text": [
      "Using TensorFlow backend.\n",
      "/opt/miniconda3/envs/trial_env/lib/python3.7/site-packages/tensorflow/python/framework/dtypes.py:526: FutureWarning: Passing (type, 1) or '1type' as a synonym of type is deprecated; in a future version of numpy, it will be understood as (type, (1,)) / '(1,)type'.\n",
      "  _np_qint8 = np.dtype([(\"qint8\", np.int8, 1)])\n",
      "/opt/miniconda3/envs/trial_env/lib/python3.7/site-packages/tensorflow/python/framework/dtypes.py:527: FutureWarning: Passing (type, 1) or '1type' as a synonym of type is deprecated; in a future version of numpy, it will be understood as (type, (1,)) / '(1,)type'.\n",
      "  _np_quint8 = np.dtype([(\"quint8\", np.uint8, 1)])\n",
      "/opt/miniconda3/envs/trial_env/lib/python3.7/site-packages/tensorflow/python/framework/dtypes.py:528: FutureWarning: Passing (type, 1) or '1type' as a synonym of type is deprecated; in a future version of numpy, it will be understood as (type, (1,)) / '(1,)type'.\n",
      "  _np_qint16 = np.dtype([(\"qint16\", np.int16, 1)])\n",
      "/opt/miniconda3/envs/trial_env/lib/python3.7/site-packages/tensorflow/python/framework/dtypes.py:529: FutureWarning: Passing (type, 1) or '1type' as a synonym of type is deprecated; in a future version of numpy, it will be understood as (type, (1,)) / '(1,)type'.\n",
      "  _np_quint16 = np.dtype([(\"quint16\", np.uint16, 1)])\n",
      "/opt/miniconda3/envs/trial_env/lib/python3.7/site-packages/tensorflow/python/framework/dtypes.py:530: FutureWarning: Passing (type, 1) or '1type' as a synonym of type is deprecated; in a future version of numpy, it will be understood as (type, (1,)) / '(1,)type'.\n",
      "  _np_qint32 = np.dtype([(\"qint32\", np.int32, 1)])\n",
      "/opt/miniconda3/envs/trial_env/lib/python3.7/site-packages/tensorflow/python/framework/dtypes.py:535: FutureWarning: Passing (type, 1) or '1type' as a synonym of type is deprecated; in a future version of numpy, it will be understood as (type, (1,)) / '(1,)type'.\n",
      "  np_resource = np.dtype([(\"resource\", np.ubyte, 1)])\n"
     ]
    }
   ],
   "source": [
    "import numpy as np\n",
    "import pandas as pd\n",
    "import matplotlib.pyplot as plt\n",
    "from keras.utils import to_categorical\n",
    "\n",
    "# Load training and test data into dataframes\n",
    "data_train = pd.read_csv('fashion_data/fashion-mnist_train.csv')\n",
    "data_test = pd.read_csv('fashion_data/fashion-mnist_test.csv')\n",
    "\n",
    "# X forms the training images, and y forms the training labels\n",
    "X = np.array(data_train.iloc[:, 1:])\n",
    "y = to_categorical(np.array(data_train.iloc[:, 0]))\n",
    "\n",
    "# X_test forms the test images, and y_test forms the test labels\n",
    "X_test = np.array(data_test.iloc[:, 1:])\n",
    "y_test = to_categorical(np.array(data_test.iloc[:, 0]))"
   ]
  },
  {
   "cell_type": "code",
   "execution_count": 2,
   "metadata": {},
   "outputs": [
    {
     "data": {
      "text/plain": [
       "((60000, 784, 3), (10000, 784, 3))"
      ]
     },
     "execution_count": 2,
     "metadata": {},
     "output_type": "execute_result"
    }
   ],
   "source": [
    "\n",
    "# Convert the training and test images into 3 channels\n",
    "X = np.dstack([X] * 3)\n",
    "X_test = np.dstack([X_test]*3)\n",
    "\n",
    "# Display their new shapes\n",
    "X.shape, X_test.shape"
   ]
  },
  {
   "cell_type": "code",
   "execution_count": 3,
   "metadata": {},
   "outputs": [
    {
     "data": {
      "text/plain": [
       "((60000, 28, 28, 3), (10000, 28, 28, 3))"
      ]
     },
     "execution_count": 3,
     "metadata": {},
     "output_type": "execute_result"
    }
   ],
   "source": [
    "X = X.reshape(-1, 28,28,3)\n",
    "X_test= X_test.reshape (-1,28,28,3)\n",
    "\n",
    "# Display the new shape\n",
    "X.shape, X_test.shape"
   ]
  },
  {
   "cell_type": "code",
   "execution_count": 4,
   "metadata": {},
   "outputs": [
    {
     "data": {
      "text/plain": [
       "((60000, 150, 150, 3), (10000, 150, 150, 3))"
      ]
     },
     "execution_count": 4,
     "metadata": {},
     "output_type": "execute_result"
    }
   ],
   "source": [
    "\n",
    "# Resize the images as 150 * 150 as required by VGG19\n",
    "from keras.preprocessing.image import img_to_array, array_to_img\n",
    "\n",
    "X = np.asarray([img_to_array(array_to_img(im, scale=False).resize((150,150))) for im in X])\n",
    "X_test = np.asarray([img_to_array(array_to_img(im, scale=False).resize((150,150))) for im in X_test])\n",
    "\n",
    "# Display the new shape\n",
    "X.shape, X_test.shape"
   ]
  },
  {
   "cell_type": "code",
   "execution_count": 5,
   "metadata": {},
   "outputs": [],
   "source": [
    "X = X.astype('float32')\n",
    "X /= 255\n",
    "\n",
    "X_test = X_test.astype('float32')\n",
    "X_test /= 255"
   ]
  },
  {
   "cell_type": "code",
   "execution_count": 6,
   "metadata": {},
   "outputs": [
    {
     "data": {
      "text/plain": [
       "((48000, 150, 150, 3), (12000, 150, 150, 3), (48000, 10), (12000, 10))"
      ]
     },
     "execution_count": 6,
     "metadata": {},
     "output_type": "execute_result"
    }
   ],
   "source": [
    "from sklearn.model_selection import train_test_split\n",
    "\n",
    "# Here I split original training data to sub-training (80%) and validation data (20%)\n",
    "X_train, X_val, y_train, y_val = train_test_split(X, y, test_size=0.2, random_state=13)\n",
    "\n",
    "# Check the data size whether it is as per tensorflow and VGG19 requirement\n",
    "X_train.shape, X_val.shape, y_train.shape, y_val.shape"
   ]
  },
  {
   "cell_type": "code",
   "execution_count": 7,
   "metadata": {},
   "outputs": [
    {
     "name": "stdout",
     "output_type": "stream",
     "text": [
      "WARNING:tensorflow:From /opt/miniconda3/envs/trial_env/lib/python3.7/site-packages/tensorflow/python/ops/resource_variable_ops.py:435: colocate_with (from tensorflow.python.framework.ops) is deprecated and will be removed in a future version.\n",
      "Instructions for updating:\n",
      "Colocations handled automatically by placer.\n"
     ]
    }
   ],
   "source": [
    "from keras.applications import VGG19\n",
    "\n",
    "# Create the base model of VGG19\n",
    "vgg19 = VGG19(weights='imagenet', include_top=False, input_shape = (150, 150, 3), classes = 10)"
   ]
  },
  {
   "cell_type": "code",
   "execution_count": 8,
   "metadata": {},
   "outputs": [
    {
     "name": "stdout",
     "output_type": "stream",
     "text": [
      "Model: \"vgg19\"\n",
      "_________________________________________________________________\n",
      "Layer (type)                 Output Shape              Param #   \n",
      "=================================================================\n",
      "input_1 (InputLayer)         (None, 150, 150, 3)       0         \n",
      "_________________________________________________________________\n",
      "block1_conv1 (Conv2D)        (None, 150, 150, 64)      1792      \n",
      "_________________________________________________________________\n",
      "block1_conv2 (Conv2D)        (None, 150, 150, 64)      36928     \n",
      "_________________________________________________________________\n",
      "block1_pool (MaxPooling2D)   (None, 75, 75, 64)        0         \n",
      "_________________________________________________________________\n",
      "block2_conv1 (Conv2D)        (None, 75, 75, 128)       73856     \n",
      "_________________________________________________________________\n",
      "block2_conv2 (Conv2D)        (None, 75, 75, 128)       147584    \n",
      "_________________________________________________________________\n",
      "block2_pool (MaxPooling2D)   (None, 37, 37, 128)       0         \n",
      "_________________________________________________________________\n",
      "block3_conv1 (Conv2D)        (None, 37, 37, 256)       295168    \n",
      "_________________________________________________________________\n",
      "block3_conv2 (Conv2D)        (None, 37, 37, 256)       590080    \n",
      "_________________________________________________________________\n",
      "block3_conv3 (Conv2D)        (None, 37, 37, 256)       590080    \n",
      "_________________________________________________________________\n",
      "block3_conv4 (Conv2D)        (None, 37, 37, 256)       590080    \n",
      "_________________________________________________________________\n",
      "block3_pool (MaxPooling2D)   (None, 18, 18, 256)       0         \n",
      "_________________________________________________________________\n",
      "block4_conv1 (Conv2D)        (None, 18, 18, 512)       1180160   \n",
      "_________________________________________________________________\n",
      "block4_conv2 (Conv2D)        (None, 18, 18, 512)       2359808   \n",
      "_________________________________________________________________\n",
      "block4_conv3 (Conv2D)        (None, 18, 18, 512)       2359808   \n",
      "_________________________________________________________________\n",
      "block4_conv4 (Conv2D)        (None, 18, 18, 512)       2359808   \n",
      "_________________________________________________________________\n",
      "block4_pool (MaxPooling2D)   (None, 9, 9, 512)         0         \n",
      "_________________________________________________________________\n",
      "block5_conv1 (Conv2D)        (None, 9, 9, 512)         2359808   \n",
      "_________________________________________________________________\n",
      "block5_conv2 (Conv2D)        (None, 9, 9, 512)         2359808   \n",
      "_________________________________________________________________\n",
      "block5_conv3 (Conv2D)        (None, 9, 9, 512)         2359808   \n",
      "_________________________________________________________________\n",
      "block5_conv4 (Conv2D)        (None, 9, 9, 512)         2359808   \n",
      "_________________________________________________________________\n",
      "block5_pool (MaxPooling2D)   (None, 4, 4, 512)         0         \n",
      "=================================================================\n",
      "Total params: 20,024,384\n",
      "Trainable params: 20,024,384\n",
      "Non-trainable params: 0\n",
      "_________________________________________________________________\n"
     ]
    }
   ],
   "source": [
    "vgg19.summary()"
   ]
  },
  {
   "cell_type": "code",
   "execution_count": 9,
   "metadata": {},
   "outputs": [],
   "source": [
    "from keras.applications.vgg19 import preprocess_input\n",
    "\n",
    "# Preprocessing the input \n",
    "X_train = preprocess_input(X_train)\n",
    "X_val = preprocess_input(X_val)\n",
    "X_test = preprocess_input(X_test)\n"
   ]
  },
  {
   "cell_type": "code",
   "execution_count": 10,
   "metadata": {},
   "outputs": [
    {
     "name": "stdout",
     "output_type": "stream",
     "text": [
      "48000/48000 [==============================] - 15296s 319ms/step\n",
      "10000/10000 [==============================] - 1710s 171ms/step\n",
      "12000/12000 [==============================] - 2815s 235ms/step\n"
     ]
    }
   ],
   "source": [
    "train_features = vgg19.predict(np.array(X_train), batch_size=256, verbose=1)\n",
    "test_features = vgg19.predict(np.array(X_test), batch_size=256, verbose=1)\n",
    "val_features = vgg19.predict(np.array(X_val), batch_size=256, verbose=1)"
   ]
  },
  {
   "cell_type": "code",
   "execution_count": 11,
   "metadata": {},
   "outputs": [],
   "source": [
    "np.savez(\"train_features\", train_features, y_train)\n",
    "np.savez(\"test_features\", test_features, y_test)\n",
    "np.savez(\"val_features\", val_features, y_val)"
   ]
  },
  {
   "cell_type": "code",
   "execution_count": 12,
   "metadata": {},
   "outputs": [
    {
     "name": "stdout",
     "output_type": "stream",
     "text": [
      "(48000, 4, 4, 512) \n",
      " (10000, 4, 4, 512) \n",
      " (12000, 4, 4, 512)\n"
     ]
    }
   ],
   "source": [
    "print(train_features.shape, \"\\n\",  test_features.shape, \"\\n\", val_features.shape)"
   ]
  },
  {
   "cell_type": "code",
   "execution_count": 13,
   "metadata": {},
   "outputs": [],
   "source": [
    "train_features = np.reshape(train_features, (48000, 4*4*512))\n",
    "test_features = np.reshape(test_features, (10000, 4*4*512))\n",
    "val_features = np.reshape(val_features, (12000, 4*4*512))"
   ]
  },
  {
   "cell_type": "code",
   "execution_count": 14,
   "metadata": {},
   "outputs": [],
   "source": [
    "from keras.layers import Dense, Dropout\n",
    "from keras.models import Model\n",
    "from keras import models\n",
    "from keras import layers\n",
    "from keras import optimizers\n",
    "\n",
    "# Add Dense and Dropout layers on top of VGG19 pre-trained\n",
    "model = models.Sequential()\n",
    "model.add(layers.Dense(512, activation='relu', input_dim=4 * 4 * 512))\n",
    "model.add(layers.Dropout(0.5))\n",
    "model.add(layers.Dense(10, activation=\"softmax\"))"
   ]
  },
  {
   "cell_type": "code",
   "execution_count": 15,
   "metadata": {},
   "outputs": [],
   "source": [
    "import keras\n",
    "\n",
    "# Compile the model\n",
    "model.compile(loss=keras.losses.categorical_crossentropy,\n",
    "              optimizer=keras.optimizers.Adam(),\n",
    "              metrics=['accuracy'])"
   ]
  },
  {
   "cell_type": "code",
   "execution_count": 16,
   "metadata": {},
   "outputs": [
    {
     "name": "stdout",
     "output_type": "stream",
     "text": [
      "WARNING:tensorflow:From /opt/miniconda3/envs/trial_env/lib/python3.7/site-packages/tensorflow/python/ops/math_ops.py:3066: to_int32 (from tensorflow.python.ops.math_ops) is deprecated and will be removed in a future version.\n",
      "Instructions for updating:\n",
      "Use tf.cast instead.\n",
      "Train on 48000 samples, validate on 12000 samples\n",
      "Epoch 1/50\n",
      "48000/48000 [==============================] - 16s 333us/step - loss: 2.1157 - accuracy: 0.2950 - val_loss: 1.5365 - val_accuracy: 0.5921\n",
      "Epoch 2/50\n",
      "48000/48000 [==============================] - 16s 325us/step - loss: 1.4498 - accuracy: 0.4790 - val_loss: 1.1782 - val_accuracy: 0.6367\n",
      "Epoch 3/50\n",
      "48000/48000 [==============================] - 16s 329us/step - loss: 1.2291 - accuracy: 0.5510 - val_loss: 1.0067 - val_accuracy: 0.6537\n",
      "Epoch 4/50\n",
      "48000/48000 [==============================] - 16s 331us/step - loss: 1.1325 - accuracy: 0.5862 - val_loss: 0.9391 - val_accuracy: 0.6874\n",
      "Epoch 5/50\n",
      "48000/48000 [==============================] - 16s 325us/step - loss: 1.0520 - accuracy: 0.6154 - val_loss: 0.8737 - val_accuracy: 0.6892\n",
      "Epoch 6/50\n",
      "48000/48000 [==============================] - 16s 324us/step - loss: 1.0079 - accuracy: 0.6276 - val_loss: 0.8442 - val_accuracy: 0.7163\n",
      "Epoch 7/50\n",
      "48000/48000 [==============================] - 16s 323us/step - loss: 0.9725 - accuracy: 0.6377 - val_loss: 0.8195 - val_accuracy: 0.7173\n",
      "Epoch 8/50\n",
      "48000/48000 [==============================] - 17s 350us/step - loss: 0.9470 - accuracy: 0.6476 - val_loss: 0.7945 - val_accuracy: 0.7311\n",
      "Epoch 9/50\n",
      "48000/48000 [==============================] - 17s 351us/step - loss: 0.9265 - accuracy: 0.6542 - val_loss: 0.7558 - val_accuracy: 0.7295\n",
      "Epoch 10/50\n",
      "48000/48000 [==============================] - 18s 365us/step - loss: 0.9181 - accuracy: 0.6524 - val_loss: 0.7572 - val_accuracy: 0.7319\n",
      "Epoch 11/50\n",
      "48000/48000 [==============================] - 17s 351us/step - loss: 0.9058 - accuracy: 0.6590 - val_loss: 0.7569 - val_accuracy: 0.7262\n",
      "Epoch 12/50\n",
      "48000/48000 [==============================] - 17s 353us/step - loss: 0.9004 - accuracy: 0.6628 - val_loss: 0.7432 - val_accuracy: 0.7265\n",
      "Epoch 13/50\n",
      "48000/48000 [==============================] - 16s 332us/step - loss: 0.8857 - accuracy: 0.6701 - val_loss: 0.7092 - val_accuracy: 0.7367\n",
      "Epoch 14/50\n",
      "48000/48000 [==============================] - 16s 337us/step - loss: 0.8828 - accuracy: 0.6683 - val_loss: 0.7117 - val_accuracy: 0.7474\n",
      "Epoch 15/50\n",
      "48000/48000 [==============================] - 17s 353us/step - loss: 0.8574 - accuracy: 0.6810 - val_loss: 0.7085 - val_accuracy: 0.7358\n",
      "Epoch 16/50\n",
      "48000/48000 [==============================] - 17s 347us/step - loss: 0.8646 - accuracy: 0.6765 - val_loss: 0.7149 - val_accuracy: 0.7458\n",
      "Epoch 17/50\n",
      "48000/48000 [==============================] - 17s 348us/step - loss: 0.8718 - accuracy: 0.6711 - val_loss: 0.7326 - val_accuracy: 0.7283\n",
      "Epoch 18/50\n",
      "48000/48000 [==============================] - 18s 368us/step - loss: 0.8567 - accuracy: 0.6799 - val_loss: 0.6897 - val_accuracy: 0.7467\n",
      "Epoch 19/50\n",
      "48000/48000 [==============================] - 16s 341us/step - loss: 0.8458 - accuracy: 0.6853 - val_loss: 0.6848 - val_accuracy: 0.7427\n",
      "Epoch 20/50\n",
      "48000/48000 [==============================] - 17s 357us/step - loss: 0.8410 - accuracy: 0.6863 - val_loss: 0.6841 - val_accuracy: 0.7490\n",
      "Epoch 21/50\n",
      "48000/48000 [==============================] - 18s 385us/step - loss: 0.8390 - accuracy: 0.6887 - val_loss: 0.6843 - val_accuracy: 0.7399\n",
      "Epoch 22/50\n",
      "48000/48000 [==============================] - 19s 396us/step - loss: 0.8324 - accuracy: 0.6899 - val_loss: 0.6678 - val_accuracy: 0.7492\n",
      "Epoch 23/50\n",
      "48000/48000 [==============================] - 18s 385us/step - loss: 0.8385 - accuracy: 0.6854 - val_loss: 0.6773 - val_accuracy: 0.7505\n",
      "Epoch 24/50\n",
      "48000/48000 [==============================] - 18s 376us/step - loss: 0.8360 - accuracy: 0.6889 - val_loss: 0.6846 - val_accuracy: 0.7549\n",
      "Epoch 25/50\n",
      "48000/48000 [==============================] - 18s 365us/step - loss: 0.8377 - accuracy: 0.6870 - val_loss: 0.6650 - val_accuracy: 0.7572\n",
      "Epoch 26/50\n",
      "48000/48000 [==============================] - 17s 354us/step - loss: 0.8363 - accuracy: 0.6891 - val_loss: 0.6608 - val_accuracy: 0.7515\n",
      "Epoch 27/50\n",
      "48000/48000 [==============================] - 18s 372us/step - loss: 0.8384 - accuracy: 0.6848 - val_loss: 0.6685 - val_accuracy: 0.7552\n",
      "Epoch 28/50\n",
      "48000/48000 [==============================] - 17s 353us/step - loss: 0.8343 - accuracy: 0.6879 - val_loss: 0.6619 - val_accuracy: 0.7537\n",
      "Epoch 29/50\n",
      "48000/48000 [==============================] - 19s 389us/step - loss: 0.8170 - accuracy: 0.6965 - val_loss: 0.6734 - val_accuracy: 0.7448\n",
      "Epoch 30/50\n",
      "48000/48000 [==============================] - 17s 357us/step - loss: 0.8258 - accuracy: 0.6898 - val_loss: 0.6562 - val_accuracy: 0.7491\n",
      "Epoch 31/50\n",
      "48000/48000 [==============================] - 17s 351us/step - loss: 0.8175 - accuracy: 0.6949 - val_loss: 0.6669 - val_accuracy: 0.7458\n",
      "Epoch 32/50\n",
      "48000/48000 [==============================] - 17s 345us/step - loss: 0.8210 - accuracy: 0.6925 - val_loss: 0.6599 - val_accuracy: 0.7573\n",
      "Epoch 33/50\n",
      "48000/48000 [==============================] - 17s 350us/step - loss: 0.8278 - accuracy: 0.6881 - val_loss: 0.6572 - val_accuracy: 0.7613\n",
      "Epoch 34/50\n",
      "48000/48000 [==============================] - 20s 418us/step - loss: 0.8332 - accuracy: 0.6865 - val_loss: 0.6530 - val_accuracy: 0.7609\n",
      "Epoch 35/50\n",
      "48000/48000 [==============================] - 17s 357us/step - loss: 0.8280 - accuracy: 0.6868 - val_loss: 0.6519 - val_accuracy: 0.7625\n",
      "Epoch 36/50\n",
      "48000/48000 [==============================] - 18s 370us/step - loss: 0.8286 - accuracy: 0.6873 - val_loss: 0.6694 - val_accuracy: 0.7541\n",
      "Epoch 37/50\n",
      "48000/48000 [==============================] - 17s 359us/step - loss: 0.8178 - accuracy: 0.6946 - val_loss: 0.6492 - val_accuracy: 0.7592\n",
      "Epoch 38/50\n",
      "48000/48000 [==============================] - 18s 377us/step - loss: 0.8285 - accuracy: 0.6880 - val_loss: 0.6449 - val_accuracy: 0.7620\n",
      "Epoch 39/50\n",
      "48000/48000 [==============================] - 18s 375us/step - loss: 0.8210 - accuracy: 0.6914 - val_loss: 0.6375 - val_accuracy: 0.7573\n",
      "Epoch 40/50\n",
      "48000/48000 [==============================] - 17s 361us/step - loss: 0.8368 - accuracy: 0.6819 - val_loss: 0.6388 - val_accuracy: 0.7612\n",
      "Epoch 41/50\n",
      "48000/48000 [==============================] - 18s 379us/step - loss: 0.8203 - accuracy: 0.6917 - val_loss: 0.6518 - val_accuracy: 0.7583\n",
      "Epoch 42/50\n",
      "48000/48000 [==============================] - 17s 361us/step - loss: 0.8177 - accuracy: 0.6924 - val_loss: 0.6415 - val_accuracy: 0.7563\n",
      "Epoch 43/50\n",
      "48000/48000 [==============================] - 18s 373us/step - loss: 0.8141 - accuracy: 0.6934 - val_loss: 0.6341 - val_accuracy: 0.7738\n",
      "Epoch 44/50\n",
      "48000/48000 [==============================] - 16s 334us/step - loss: 0.8170 - accuracy: 0.6934 - val_loss: 0.6382 - val_accuracy: 0.7666\n",
      "Epoch 45/50\n",
      "48000/48000 [==============================] - 16s 341us/step - loss: 0.8174 - accuracy: 0.6912 - val_loss: 0.6206 - val_accuracy: 0.7728\n",
      "Epoch 46/50\n",
      "48000/48000 [==============================] - 20s 410us/step - loss: 0.8105 - accuracy: 0.6951 - val_loss: 0.6400 - val_accuracy: 0.7678\n",
      "Epoch 47/50\n",
      "48000/48000 [==============================] - 21s 448us/step - loss: 0.8199 - accuracy: 0.6874 - val_loss: 0.6553 - val_accuracy: 0.7547\n",
      "Epoch 48/50\n",
      "48000/48000 [==============================] - 17s 349us/step - loss: 0.8284 - accuracy: 0.6826 - val_loss: 0.6460 - val_accuracy: 0.7674\n",
      "Epoch 49/50\n",
      "48000/48000 [==============================] - 18s 381us/step - loss: 0.8208 - accuracy: 0.6854 - val_loss: 0.6345 - val_accuracy: 0.7690\n",
      "Epoch 50/50\n",
      "48000/48000 [==============================] - 17s 363us/step - loss: 0.8200 - accuracy: 0.6854 - val_loss: 0.6335 - val_accuracy: 0.7631\n"
     ]
    }
   ],
   "source": [
    "history = model.fit(train_features, y_train,\n",
    "          batch_size=256,\n",
    "          epochs=50,\n",
    "          verbose=1,\n",
    "          validation_data=(val_features, y_val))"
   ]
  },
  {
   "cell_type": "code",
   "execution_count": null,
   "metadata": {},
   "outputs": [],
   "source": []
  }
 ],
 "metadata": {
  "kernelspec": {
   "display_name": "Python 3",
   "language": "python",
   "name": "python3"
  },
  "language_info": {
   "codemirror_mode": {
    "name": "ipython",
    "version": 3
   },
   "file_extension": ".py",
   "mimetype": "text/x-python",
   "name": "python",
   "nbconvert_exporter": "python",
   "pygments_lexer": "ipython3",
   "version": "3.7.0"
  }
 },
 "nbformat": 4,
 "nbformat_minor": 2
}
