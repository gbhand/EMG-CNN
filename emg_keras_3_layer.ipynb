{
 "cells": [
  {
   "cell_type": "code",
   "execution_count": 1,
   "metadata": {},
   "outputs": [
    {
     "name": "stderr",
     "output_type": "stream",
     "text": [
      "Using TensorFlow backend.\n"
     ]
    }
   ],
   "source": [
    "import os\n",
    "\n",
    "import matplotlib.pyplot as plt\n",
    "import numpy as np\n",
    "import pandas as pd\n",
    "import st_remux as st\n",
    "\n",
    "from sklearn.model_selection import train_test_split\n",
    "from keras.utils import to_categorical\n",
    "\n",
    "\n",
    "\n",
    "%matplotlib inline"
   ]
  },
  {
   "cell_type": "code",
   "execution_count": 2,
   "metadata": {},
   "outputs": [],
   "source": [
    "# Config\n",
    "# highpath = 'datasets/high.csv'\n",
    "# lowpath = 'datasets/none.csv'\n",
    "# hi = st.raw_to_arr(high, fs, win_len, 0)\n",
    "# lo = st.raw_to_arr(low, fs, win_len, 0)\n",
    "highdir = 'datasets/high'\n",
    "meddir = 'datasets/med'\n",
    "lowdir = 'datasets/low'\n",
    "nonedir = 'datasets/none'\n",
    "\n",
    "\n",
    "\n",
    "fs = 4000\n",
    "win_len = 40\n",
    "\n",
    "use_filter = 0   # weird results if we use python filtering\n",
    "\n",
    "use_matlab_backend = 0"
   ]
  },
  {
   "cell_type": "code",
   "execution_count": 3,
   "metadata": {},
   "outputs": [],
   "source": [
    "# high = np.genfromtxt(highpath, delimiter=',')\n",
    "# low = np.genfromtxt(lowpath, delimiter=',')"
   ]
  },
  {
   "cell_type": "code",
   "execution_count": 35,
   "metadata": {},
   "outputs": [
    {
     "name": "stdout",
     "output_type": "stream",
     "text": [
      "Using native backend\n"
     ]
    }
   ],
   "source": [
    "if use_matlab_backend:\n",
    "    print('Using MATLAB signal processing backend')\n",
    "    # high_dir = 'datasets/high/'\n",
    "    # low_dir = 'datasets/low/'\n",
    "\n",
    "    high_dir = 'C:/Users/Geoffrey/Documents/MATLAB/S transform time frequency/high/'\n",
    "    low_dir = 'C:/Users/Geoffrey/Documents/MATLAB/S transform time frequency/low/'\n",
    "\n",
    "    def generate_3darray(directory):\n",
    "        files = os.listdir(directory)\n",
    "        dims = np.genfromtxt(directory + files[0], delimiter=',').shape\n",
    "        length = len(files)\n",
    "        arr = np.zeros((length, dims[0], dims[1]))\n",
    "\n",
    "        for idx, val in enumerate(files):\n",
    "            arr[idx] = np.genfromtxt(directory + val, delimiter=',')\n",
    "\n",
    "        return arr\n",
    "\n",
    "    hi = generate_3darray(high_dir)\n",
    "    lo = generate_3darray(low_dir)\n",
    "    \n",
    "else: \n",
    "    print('Using native backend')\n",
    "    hi = st.raw_to_arr(highdir, fs, win_len, 0)\n",
    "    med = st.raw_to_arr(meddir, fs, win_len, 0)\n",
    "    lo = st.raw_to_arr(lowdir, fs, win_len, 0)\n",
    "    none = st.raw_to_arr(nonedir, fs, win_len, 0)\n",
    "\n"
   ]
  },
  {
   "cell_type": "code",
   "execution_count": 39,
   "metadata": {},
   "outputs": [],
   "source": [
    "X = np.concatenate((hi, med, lo, none))\n",
    "\n",
    "hi_Y = np.ones(len(hi), dtype=int) * 3\n",
    "med_Y = np.ones(len(med), dtype=int) * 2\n",
    "lo_Y = np.ones(len(lo), dtype=int) * 1\n",
    "none_Y = np.zeros(len(none), dtype=int)\n",
    "\n",
    "Y = np.concatenate((hi_Y, med_Y, lo_Y, none_Y))"
   ]
  },
  {
   "cell_type": "code",
   "execution_count": 40,
   "metadata": {},
   "outputs": [],
   "source": [
    "train_X, test_X, train_Y, test_Y = train_test_split(X, Y, test_size=0.1)"
   ]
  },
  {
   "cell_type": "code",
   "execution_count": 41,
   "metadata": {},
   "outputs": [
    {
     "name": "stdout",
     "output_type": "stream",
     "text": [
      "Training data shape:  (21123, 16, 40) (21123,)\n",
      "Testing data shape:  (2347, 16, 40) (2347,)\n"
     ]
    }
   ],
   "source": [
    "print('Training data shape: ', train_X.shape, train_Y.shape)\n",
    "print('Testing data shape: ', test_X.shape, test_Y.shape)"
   ]
  },
  {
   "cell_type": "code",
   "execution_count": 42,
   "metadata": {},
   "outputs": [
    {
     "name": "stdout",
     "output_type": "stream",
     "text": [
      "Total number of outputs:  4\n",
      "Output classes:  [0 1 2 3]\n"
     ]
    }
   ],
   "source": [
    "classes = np.unique(train_Y)\n",
    "nClasses = len(classes)\n",
    "print('Total number of outputs: ', nClasses)\n",
    "print('Output classes: ', classes)"
   ]
  },
  {
   "cell_type": "code",
   "execution_count": 43,
   "metadata": {
    "scrolled": true
   },
   "outputs": [
    {
     "data": {
      "text/plain": [
       "Text(0.5,1,'Ground Truth: 3')"
      ]
     },
     "execution_count": 43,
     "metadata": {},
     "output_type": "execute_result"
    },
    {
     "data": {
      "image/png": "[encoded data removed]",
      "text/plain": [
       "<Figure size 720x144 with 2 Axes>"
      ]
     },
     "metadata": {
      "needs_background": "light"
     },
     "output_type": "display_data"
    }
   ],
   "source": [
    "plt.figure(figsize=[10,2])\n",
    "\n",
    "# Display first image in training set\n",
    "plt.subplot(121)\n",
    "plt.pcolormesh(train_X[0,:,:], cmap='jet')\n",
    "plt.title(\"Ground Truth: {}\".format(train_Y[0]))\n",
    "\n",
    "# Display second image in testing set\n",
    "plt.subplot(122)\n",
    "plt.pcolormesh(test_X[1], cmap='jet')\n",
    "plt.title(\"Ground Truth: {}\".format(test_Y[1]))"
   ]
  },
  {
   "cell_type": "code",
   "execution_count": 44,
   "metadata": {},
   "outputs": [
    {
     "data": {
      "text/plain": [
       "((21123, 16, 40, 1), (2347, 16, 40, 1))"
      ]
     },
     "execution_count": 44,
     "metadata": {},
     "output_type": "execute_result"
    }
   ],
   "source": [
    "ydim = train_X[0].shape[0]\n",
    "xdim = train_X[0].shape[1]\n",
    "train_X = train_X.reshape(-1, ydim, xdim, 1)\n",
    "test_X = test_X.reshape(-1, ydim, xdim, 1)\n",
    "train_X.shape, test_X.shape"
   ]
  },
  {
   "cell_type": "code",
   "execution_count": 45,
   "metadata": {},
   "outputs": [],
   "source": [
    "train_X = train_X.astype('float32')\n",
    "test_X = test_X.astype('float32')"
   ]
  },
  {
   "cell_type": "code",
   "execution_count": 46,
   "metadata": {},
   "outputs": [
    {
     "name": "stdout",
     "output_type": "stream",
     "text": [
      "Original label:  0\n",
      "After conversion to one-hot:  [1. 0. 0. 0.]\n"
     ]
    }
   ],
   "source": [
    "# Change labels from categorical to one-hot encoding\n",
    "train_Y_one_hot = to_categorical(train_Y)\n",
    "test_Y_one_hot = to_categorical(test_Y)\n",
    "\n",
    "# See the difference?\n",
    "print('Original label: ', train_Y[0])\n",
    "print('After conversion to one-hot: ', train_Y_one_hot[0])"
   ]
  },
  {
   "cell_type": "code",
   "execution_count": 47,
   "metadata": {},
   "outputs": [
    {
     "data": {
      "text/plain": [
       "(21123, 4)"
      ]
     },
     "execution_count": 47,
     "metadata": {},
     "output_type": "execute_result"
    }
   ],
   "source": [
    "train_Y_one_hot.shape"
   ]
  },
  {
   "cell_type": "code",
   "execution_count": 48,
   "metadata": {},
   "outputs": [
    {
     "data": {
      "text/plain": [
       "((16898, 16, 40, 1), (4225, 16, 40, 1), (16898, 4), (4225, 4))"
      ]
     },
     "execution_count": 48,
     "metadata": {},
     "output_type": "execute_result"
    }
   ],
   "source": [
    "# Partition data for 80% training and 20% validation\n",
    "# should reduce overfitting and boost test performance\n",
    "\n",
    "train_X, valid_X, train_label, valid_label = train_test_split(train_X, train_Y_one_hot, test_size=0.2)\n",
    "\n",
    "train_X.shape, valid_X.shape, train_label.shape, valid_label.shape"
   ]
  },
  {
   "cell_type": "code",
   "execution_count": 49,
   "metadata": {},
   "outputs": [],
   "source": [
    "# let's get down to business\n",
    "import keras\n",
    "from keras.models import Sequential, Input, Model\n",
    "from keras.layers import Dense, Dropout, Flatten\n",
    "from keras.layers import Conv2D, MaxPooling2D\n",
    "from keras.layers.normalization import BatchNormalization\n",
    "from keras.layers.advanced_activations import LeakyReLU"
   ]
  },
  {
   "cell_type": "code",
   "execution_count": 50,
   "metadata": {},
   "outputs": [],
   "source": [
    "# Parameters\n",
    "batch_size = 64\n",
    "epochs = 50\n",
    "num_classes = nClasses"
   ]
  },
  {
   "cell_type": "code",
   "execution_count": 51,
   "metadata": {},
   "outputs": [],
   "source": [
    "emg_model = Sequential()\n",
    "emg_model.add(\n",
    "    Conv2D(\n",
    "        32, \n",
    "        kernel_size=(3, 3), \n",
    "        activation='linear', \n",
    "        input_shape=(ydim, xdim, 1), \n",
    "        padding='same'))\n",
    "emg_model.add(LeakyReLU(alpha=0.1))\n",
    "emg_model.add(MaxPooling2D(pool_size=(2, 2), padding='same'))\n",
    "emg_model.add(Dropout(0.25))\n",
    "emg_model.add(\n",
    "    Conv2D(\n",
    "        64,\n",
    "        (3, 3),\n",
    "        activation='linear',\n",
    "        padding='same'))\n",
    "emg_model.add(LeakyReLU(alpha=0.1))\n",
    "emg_model.add(MaxPooling2D(pool_size=(2, 2), padding='same'))\n",
    "emg_model.add(Dropout(0.25))\n",
    "emg_model.add(\n",
    "    Conv2D(\n",
    "        128,\n",
    "        (3, 3),\n",
    "        activation='linear',\n",
    "        padding='same'))\n",
    "emg_model.add(LeakyReLU(alpha=0.1))\n",
    "emg_model.add(MaxPooling2D(pool_size=(2, 2), padding='same'))\n",
    "emg_model.add(Dropout(0.4))\n",
    "emg_model.add(Flatten())\n",
    "emg_model.add(Dense(128, activation='linear'))\n",
    "emg_model.add(LeakyReLU(alpha=0.1))\n",
    "emg_model.add(Dropout(0.3))\n",
    "emg_model.add(Dense(num_classes, activation='softmax'))"
   ]
  },
  {
   "cell_type": "code",
   "execution_count": 52,
   "metadata": {},
   "outputs": [],
   "source": [
    "emg_model.compile(\n",
    "    loss=keras.losses.categorical_crossentropy,\n",
    "    optimizer=keras.optimizers.Adam(),\n",
    "    metrics=['accuracy'])"
   ]
  },
  {
   "cell_type": "code",
   "execution_count": 53,
   "metadata": {
    "scrolled": true
   },
   "outputs": [
    {
     "name": "stdout",
     "output_type": "stream",
     "text": [
      "Model: \"sequential_2\"\n",
      "_________________________________________________________________\n",
      "Layer (type)                 Output Shape              Param #   \n",
      "=================================================================\n",
      "conv2d_4 (Conv2D)            (None, 16, 40, 32)        320       \n",
      "_________________________________________________________________\n",
      "leaky_re_lu_5 (LeakyReLU)    (None, 16, 40, 32)        0         \n",
      "_________________________________________________________________\n",
      "max_pooling2d_4 (MaxPooling2 (None, 8, 20, 32)         0         \n",
      "_________________________________________________________________\n",
      "dropout_5 (Dropout)          (None, 8, 20, 32)         0         \n",
      "_________________________________________________________________\n",
      "conv2d_5 (Conv2D)            (None, 8, 20, 64)         18496     \n",
      "_________________________________________________________________\n",
      "leaky_re_lu_6 (LeakyReLU)    (None, 8, 20, 64)         0         \n",
      "_________________________________________________________________\n",
      "max_pooling2d_5 (MaxPooling2 (None, 4, 10, 64)         0         \n",
      "_________________________________________________________________\n",
      "dropout_6 (Dropout)          (None, 4, 10, 64)         0         \n",
      "_________________________________________________________________\n",
      "conv2d_6 (Conv2D)            (None, 4, 10, 128)        73856     \n",
      "_________________________________________________________________\n",
      "leaky_re_lu_7 (LeakyReLU)    (None, 4, 10, 128)        0         \n",
      "_________________________________________________________________\n",
      "max_pooling2d_6 (MaxPooling2 (None, 2, 5, 128)         0         \n",
      "_________________________________________________________________\n",
      "dropout_7 (Dropout)          (None, 2, 5, 128)         0         \n",
      "_________________________________________________________________\n",
      "flatten_2 (Flatten)          (None, 1280)              0         \n",
      "_________________________________________________________________\n",
      "dense_3 (Dense)              (None, 128)               163968    \n",
      "_________________________________________________________________\n",
      "leaky_re_lu_8 (LeakyReLU)    (None, 128)               0         \n",
      "_________________________________________________________________\n",
      "dropout_8 (Dropout)          (None, 128)               0         \n",
      "_________________________________________________________________\n",
      "dense_4 (Dense)              (None, 4)                 516       \n",
      "=================================================================\n",
      "Total params: 257,156\n",
      "Trainable params: 257,156\n",
      "Non-trainable params: 0\n",
      "_________________________________________________________________\n"
     ]
    }
   ],
   "source": [
    "emg_model.summary()"
   ]
  },
  {
   "cell_type": "code",
   "execution_count": 54,
   "metadata": {},
   "outputs": [
    {
     "name": "stdout",
     "output_type": "stream",
     "text": [
      "Train on 16898 samples, validate on 4225 samples\n",
      "Epoch 1/50\n",
      "16898/16898 [==============================] - 12s 695us/step - loss: 1.2620 - accuracy: 0.4175 - val_loss: 1.1431 - val_accuracy: 0.4795\n",
      "Epoch 2/50\n",
      "16898/16898 [==============================] - 11s 677us/step - loss: 1.0702 - accuracy: 0.5185 - val_loss: 1.1362 - val_accuracy: 0.4691\n",
      "Epoch 3/50\n",
      "16898/16898 [==============================] - 11s 678us/step - loss: 0.9746 - accuracy: 0.5804 - val_loss: 0.8945 - val_accuracy: 0.6249\n",
      "Epoch 4/50\n",
      "16898/16898 [==============================] - 11s 676us/step - loss: 0.9257 - accuracy: 0.6079 - val_loss: 0.8762 - val_accuracy: 0.6322\n",
      "Epoch 5/50\n",
      "16898/16898 [==============================] - 11s 679us/step - loss: 0.8792 - accuracy: 0.6297 - val_loss: 0.9486 - val_accuracy: 0.5865\n",
      "Epoch 6/50\n",
      "16898/16898 [==============================] - 11s 675us/step - loss: 0.8456 - accuracy: 0.6475 - val_loss: 0.7809 - val_accuracy: 0.6795\n",
      "Epoch 7/50\n",
      "16898/16898 [==============================] - 11s 677us/step - loss: 0.8106 - accuracy: 0.6666 - val_loss: 0.7883 - val_accuracy: 0.6762\n",
      "Epoch 8/50\n",
      "16898/16898 [==============================] - 11s 672us/step - loss: 0.7931 - accuracy: 0.6747 - val_loss: 0.7348 - val_accuracy: 0.6944\n",
      "Epoch 9/50\n",
      "16898/16898 [==============================] - 12s 686us/step - loss: 0.7775 - accuracy: 0.6824 - val_loss: 0.7997 - val_accuracy: 0.6762\n",
      "Epoch 10/50\n",
      "16898/16898 [==============================] - 12s 685us/step - loss: 0.7604 - accuracy: 0.6913 - val_loss: 0.7649 - val_accuracy: 0.6769\n",
      "Epoch 11/50\n",
      "16898/16898 [==============================] - 12s 740us/step - loss: 0.7531 - accuracy: 0.6954 - val_loss: 0.7621 - val_accuracy: 0.6911\n",
      "Epoch 12/50\n",
      "16898/16898 [==============================] - 12s 681us/step - loss: 0.7426 - accuracy: 0.7014 - val_loss: 0.6996 - val_accuracy: 0.7112\n",
      "Epoch 13/50\n",
      "16898/16898 [==============================] - 12s 681us/step - loss: 0.7333 - accuracy: 0.7033 - val_loss: 0.7454 - val_accuracy: 0.6793\n",
      "Epoch 14/50\n",
      "16898/16898 [==============================] - 12s 690us/step - loss: 0.7330 - accuracy: 0.7010 - val_loss: 0.6788 - val_accuracy: 0.7186\n",
      "Epoch 15/50\n",
      "16898/16898 [==============================] - 13s 754us/step - loss: 0.7198 - accuracy: 0.7104 - val_loss: 0.6693 - val_accuracy: 0.7245\n",
      "Epoch 16/50\n",
      "16898/16898 [==============================] - 12s 695us/step - loss: 0.7086 - accuracy: 0.7146 - val_loss: 0.6802 - val_accuracy: 0.7146\n",
      "Epoch 17/50\n",
      "16898/16898 [==============================] - 12s 715us/step - loss: 0.7022 - accuracy: 0.7204 - val_loss: 0.6572 - val_accuracy: 0.7285\n",
      "Epoch 18/50\n",
      "16898/16898 [==============================] - 13s 745us/step - loss: 0.6960 - accuracy: 0.7228 - val_loss: 0.6647 - val_accuracy: 0.7328\n",
      "Epoch 19/50\n",
      "16898/16898 [==============================] - 12s 721us/step - loss: 0.6798 - accuracy: 0.7314 - val_loss: 0.6700 - val_accuracy: 0.7160\n",
      "Epoch 20/50\n",
      "16898/16898 [==============================] - 12s 699us/step - loss: 0.7067 - accuracy: 0.7192 - val_loss: 0.6411 - val_accuracy: 0.7411\n",
      "Epoch 21/50\n",
      "16898/16898 [==============================] - 12s 690us/step - loss: 0.6752 - accuracy: 0.7301 - val_loss: 0.6897 - val_accuracy: 0.7273\n",
      "Epoch 22/50\n",
      "16898/16898 [==============================] - 12s 690us/step - loss: 0.6840 - accuracy: 0.7258 - val_loss: 0.6362 - val_accuracy: 0.7361\n",
      "Epoch 23/50\n",
      "16898/16898 [==============================] - 12s 719us/step - loss: 0.6686 - accuracy: 0.7352 - val_loss: 0.6436 - val_accuracy: 0.7366\n",
      "Epoch 24/50\n",
      "16898/16898 [==============================] - 12s 697us/step - loss: 0.6658 - accuracy: 0.7354 - val_loss: 0.6556 - val_accuracy: 0.7375\n",
      "Epoch 25/50\n",
      "16898/16898 [==============================] - 12s 689us/step - loss: 0.6610 - accuracy: 0.7358 - val_loss: 0.6179 - val_accuracy: 0.7449\n",
      "Epoch 26/50\n",
      "16898/16898 [==============================] - 12s 691us/step - loss: 0.6542 - accuracy: 0.7392 - val_loss: 0.6209 - val_accuracy: 0.7451\n",
      "Epoch 27/50\n",
      "16898/16898 [==============================] - 13s 755us/step - loss: 0.6616 - accuracy: 0.7370 - val_loss: 0.6412 - val_accuracy: 0.7347\n",
      "Epoch 28/50\n",
      "16898/16898 [==============================] - 12s 709us/step - loss: 0.6435 - accuracy: 0.7445 - val_loss: 0.6085 - val_accuracy: 0.7475\n",
      "Epoch 29/50\n",
      "16898/16898 [==============================] - 12s 728us/step - loss: 0.6458 - accuracy: 0.7448 - val_loss: 0.6582 - val_accuracy: 0.7297\n",
      "Epoch 30/50\n",
      "16898/16898 [==============================] - 12s 693us/step - loss: 0.6409 - accuracy: 0.7461 - val_loss: 0.6788 - val_accuracy: 0.7318\n",
      "Epoch 31/50\n",
      "16898/16898 [==============================] - 13s 742us/step - loss: 0.6390 - accuracy: 0.7484 - val_loss: 0.6039 - val_accuracy: 0.7628\n",
      "Epoch 32/50\n",
      "16898/16898 [==============================] - 13s 762us/step - loss: 0.6300 - accuracy: 0.7480 - val_loss: 0.6072 - val_accuracy: 0.7567\n",
      "Epoch 33/50\n",
      "16898/16898 [==============================] - 12s 704us/step - loss: 0.6248 - accuracy: 0.7477 - val_loss: 0.5925 - val_accuracy: 0.7619\n",
      "Epoch 34/50\n",
      "16898/16898 [==============================] - 12s 717us/step - loss: 0.6160 - accuracy: 0.7578 - val_loss: 0.6084 - val_accuracy: 0.7557\n",
      "Epoch 35/50\n",
      "16898/16898 [==============================] - 11s 679us/step - loss: 0.6207 - accuracy: 0.7532 - val_loss: 0.5973 - val_accuracy: 0.7626\n",
      "Epoch 36/50\n",
      "16898/16898 [==============================] - 12s 681us/step - loss: 0.6202 - accuracy: 0.7546 - val_loss: 0.5946 - val_accuracy: 0.7607\n",
      "Epoch 37/50\n",
      "16898/16898 [==============================] - 12s 691us/step - loss: 0.6095 - accuracy: 0.7578 - val_loss: 0.5834 - val_accuracy: 0.7654\n",
      "Epoch 38/50\n",
      "16898/16898 [==============================] - 12s 699us/step - loss: 0.6309 - accuracy: 0.7488 - val_loss: 0.5959 - val_accuracy: 0.7605\n",
      "Epoch 39/50\n",
      "16898/16898 [==============================] - 12s 691us/step - loss: 0.6132 - accuracy: 0.7562 - val_loss: 0.5942 - val_accuracy: 0.7624\n",
      "Epoch 40/50\n",
      "16898/16898 [==============================] - 11s 678us/step - loss: 0.6095 - accuracy: 0.7598 - val_loss: 0.6171 - val_accuracy: 0.7520\n",
      "Epoch 41/50\n",
      "16898/16898 [==============================] - 12s 685us/step - loss: 0.5976 - accuracy: 0.7635 - val_loss: 0.6000 - val_accuracy: 0.7624\n",
      "Epoch 42/50\n",
      "16898/16898 [==============================] - 11s 675us/step - loss: 0.5979 - accuracy: 0.7638 - val_loss: 0.5936 - val_accuracy: 0.7548\n",
      "Epoch 43/50\n",
      "16898/16898 [==============================] - 11s 673us/step - loss: 0.5947 - accuracy: 0.7635 - val_loss: 0.5862 - val_accuracy: 0.7671\n",
      "Epoch 44/50\n",
      "16898/16898 [==============================] - 11s 672us/step - loss: 0.5915 - accuracy: 0.7691 - val_loss: 0.5973 - val_accuracy: 0.7579\n",
      "Epoch 45/50\n",
      "16898/16898 [==============================] - 11s 677us/step - loss: 0.5864 - accuracy: 0.7674 - val_loss: 0.5819 - val_accuracy: 0.7602\n",
      "Epoch 46/50\n",
      "16898/16898 [==============================] - 11s 671us/step - loss: 0.5744 - accuracy: 0.7742 - val_loss: 0.5710 - val_accuracy: 0.7723\n",
      "Epoch 47/50\n",
      "16898/16898 [==============================] - 11s 674us/step - loss: 0.5826 - accuracy: 0.7703 - val_loss: 0.6289 - val_accuracy: 0.7503\n",
      "Epoch 48/50\n",
      "16898/16898 [==============================] - 11s 673us/step - loss: 0.5825 - accuracy: 0.7718 - val_loss: 0.5846 - val_accuracy: 0.7621\n",
      "Epoch 49/50\n",
      "16898/16898 [==============================] - 11s 674us/step - loss: 0.5669 - accuracy: 0.7744 - val_loss: 0.5975 - val_accuracy: 0.7636\n",
      "Epoch 50/50\n",
      "16898/16898 [==============================] - 11s 673us/step - loss: 0.5850 - accuracy: 0.7709 - val_loss: 0.5802 - val_accuracy: 0.7657\n"
     ]
    }
   ],
   "source": [
    "emg_train = emg_model.fit(\n",
    "    train_X,\n",
    "    train_label,\n",
    "    batch_size=batch_size,\n",
    "    epochs=epochs,\n",
    "    verbose=1,\n",
    "    validation_data=(valid_X, valid_label))"
   ]
  },
  {
   "cell_type": "code",
   "execution_count": 55,
   "metadata": {},
   "outputs": [],
   "source": [
    "test_eval = emg_model.evaluate(test_X, test_Y_one_hot, verbose=0)"
   ]
  },
  {
   "cell_type": "code",
   "execution_count": 56,
   "metadata": {},
   "outputs": [
    {
     "name": "stdout",
     "output_type": "stream",
     "text": [
      "Test loss:  0.5788089766190516\n",
      "Test accuracy:  0.7750319838523865\n"
     ]
    }
   ],
   "source": [
    "print('Test loss: ', test_eval[0])\n",
    "print('Test accuracy: ', test_eval[1])"
   ]
  },
  {
   "cell_type": "code",
   "execution_count": 64,
   "metadata": {},
   "outputs": [
    {
     "data": {
      "image/png": "[encoded data removed]",
      "text/plain": [
       "<Figure size 432x288 with 1 Axes>"
      ]
     },
     "metadata": {
      "needs_background": "light"
     },
     "output_type": "display_data"
    },
    {
     "data": {
      "image/png": "[encoded data removed]",
      "text/plain": [
       "<Figure size 432x288 with 1 Axes>"
      ]
     },
     "metadata": {
      "needs_background": "light"
     },
     "output_type": "display_data"
    }
   ],
   "source": [
    "# Visualization\n",
    "accuracy = emg_train.history['accuracy']\n",
    "val_accuracy = emg_train.history['val_accuracy']\n",
    "loss = emg_train.history['loss']\n",
    "val_loss = emg_train.history['val_loss']\n",
    "epoch = range(len(accuracy))\n",
    "plt.plot(epoch, accuracy, 'bo', label='Training accuracy')\n",
    "plt.plot(epoch, val_accuracy, 'b', label='Validation accuracy')\n",
    "plt.title('Training and validation accuracy')\n",
    "plt.legend()\n",
    "plt.figure()\n",
    "plt.plot(epoch, loss, 'bo', label='Training loss')\n",
    "plt.plot(epoch, val_loss, 'b', label='Validation loss')\n",
    "plt.title('Training and validation loss')\n",
    "plt.legend()\n",
    "plt.show()"
   ]
  },
  {
   "cell_type": "code",
   "execution_count": 23,
   "metadata": {},
   "outputs": [
    {
     "name": "stdout",
     "output_type": "stream",
     "text": [
      "Train on 9598 samples, validate on 2400 samples\n",
      "Epoch 1/50\n",
      "9598/9598 [==============================] - 7s 693us/step - loss: 0.3191 - accuracy: 0.8648 - val_loss: 0.3332 - val_accuracy: 0.8587\n",
      "Epoch 2/50\n",
      "9598/9598 [==============================] - 7s 688us/step - loss: 0.3080 - accuracy: 0.8730 - val_loss: 0.3080 - val_accuracy: 0.8642\n",
      "Epoch 3/50\n",
      "9598/9598 [==============================] - 7s 684us/step - loss: 0.3134 - accuracy: 0.8667 - val_loss: 0.3272 - val_accuracy: 0.8604\n",
      "Epoch 4/50\n",
      "9598/9598 [==============================] - 7s 694us/step - loss: 0.3118 - accuracy: 0.8662 - val_loss: 0.3023 - val_accuracy: 0.8708\n",
      "Epoch 5/50\n",
      "9598/9598 [==============================] - 7s 693us/step - loss: 0.3050 - accuracy: 0.8730 - val_loss: 0.3144 - val_accuracy: 0.8558\n",
      "Epoch 6/50\n",
      "9598/9598 [==============================] - 7s 688us/step - loss: 0.3059 - accuracy: 0.8714 - val_loss: 0.3007 - val_accuracy: 0.8658\n",
      "Epoch 7/50\n",
      "9598/9598 [==============================] - 7s 688us/step - loss: 0.3014 - accuracy: 0.8752 - val_loss: 0.3044 - val_accuracy: 0.8629\n",
      "Epoch 8/50\n",
      "9598/9598 [==============================] - 7s 691us/step - loss: 0.3019 - accuracy: 0.8714 - val_loss: 0.2929 - val_accuracy: 0.8708\n",
      "Epoch 9/50\n",
      "9598/9598 [==============================] - 7s 688us/step - loss: 0.3118 - accuracy: 0.8712 - val_loss: 0.3048 - val_accuracy: 0.8612\n",
      "Epoch 10/50\n",
      "9598/9598 [==============================] - 7s 698us/step - loss: 0.3019 - accuracy: 0.8743 - val_loss: 0.3032 - val_accuracy: 0.8667\n",
      "Epoch 11/50\n",
      "9598/9598 [==============================] - 7s 697us/step - loss: 0.3053 - accuracy: 0.8738 - val_loss: 0.2970 - val_accuracy: 0.8675\n",
      "Epoch 12/50\n",
      "9598/9598 [==============================] - 7s 692us/step - loss: 0.2943 - accuracy: 0.8762 - val_loss: 0.3077 - val_accuracy: 0.8696\n",
      "Epoch 13/50\n",
      "9598/9598 [==============================] - 7s 690us/step - loss: 0.2918 - accuracy: 0.8772 - val_loss: 0.2988 - val_accuracy: 0.8758\n",
      "Epoch 14/50\n",
      "9598/9598 [==============================] - 7s 688us/step - loss: 0.2965 - accuracy: 0.8736 - val_loss: 0.3061 - val_accuracy: 0.8754\n",
      "Epoch 15/50\n",
      "9598/9598 [==============================] - 7s 696us/step - loss: 0.2955 - accuracy: 0.8784 - val_loss: 0.2952 - val_accuracy: 0.8792\n",
      "Epoch 16/50\n",
      "9598/9598 [==============================] - 7s 690us/step - loss: 0.2884 - accuracy: 0.8786 - val_loss: 0.2918 - val_accuracy: 0.8808\n",
      "Epoch 17/50\n",
      "9598/9598 [==============================] - 7s 696us/step - loss: 0.2944 - accuracy: 0.8772 - val_loss: 0.2949 - val_accuracy: 0.8771\n",
      "Epoch 18/50\n",
      "9598/9598 [==============================] - 7s 699us/step - loss: 0.2839 - accuracy: 0.8824 - val_loss: 0.2956 - val_accuracy: 0.8712\n",
      "Epoch 19/50\n",
      "9598/9598 [==============================] - 7s 695us/step - loss: 0.2867 - accuracy: 0.8838 - val_loss: 0.3100 - val_accuracy: 0.8625\n",
      "Epoch 20/50\n",
      "9598/9598 [==============================] - 7s 692us/step - loss: 0.2865 - accuracy: 0.8804 - val_loss: 0.2981 - val_accuracy: 0.8775\n",
      "Epoch 21/50\n",
      "9598/9598 [==============================] - 7s 688us/step - loss: 0.2833 - accuracy: 0.8824 - val_loss: 0.2921 - val_accuracy: 0.8796\n",
      "Epoch 22/50\n",
      "9598/9598 [==============================] - 7s 696us/step - loss: 0.2836 - accuracy: 0.8820 - val_loss: 0.2969 - val_accuracy: 0.8750\n",
      "Epoch 23/50\n",
      "9598/9598 [==============================] - 7s 710us/step - loss: 0.2775 - accuracy: 0.8855 - val_loss: 0.2830 - val_accuracy: 0.8813\n",
      "Epoch 24/50\n",
      "9598/9598 [==============================] - 7s 695us/step - loss: 0.2769 - accuracy: 0.8835 - val_loss: 0.3111 - val_accuracy: 0.8796\n",
      "Epoch 25/50\n",
      "9598/9598 [==============================] - 7s 690us/step - loss: 0.2770 - accuracy: 0.8838 - val_loss: 0.3010 - val_accuracy: 0.8817\n",
      "Epoch 26/50\n",
      "9598/9598 [==============================] - 7s 696us/step - loss: 0.2789 - accuracy: 0.8849 - val_loss: 0.2890 - val_accuracy: 0.8842\n",
      "Epoch 27/50\n",
      "9598/9598 [==============================] - 7s 701us/step - loss: 0.2827 - accuracy: 0.8850 - val_loss: 0.2843 - val_accuracy: 0.8817\n",
      "Epoch 28/50\n",
      "9598/9598 [==============================] - 7s 697us/step - loss: 0.2743 - accuracy: 0.8846 - val_loss: 0.2896 - val_accuracy: 0.8800\n",
      "Epoch 29/50\n",
      "9598/9598 [==============================] - 7s 700us/step - loss: 0.2759 - accuracy: 0.8819 - val_loss: 0.2953 - val_accuracy: 0.8783\n",
      "Epoch 30/50\n",
      "9598/9598 [==============================] - 7s 699us/step - loss: 0.2663 - accuracy: 0.8907 - val_loss: 0.2966 - val_accuracy: 0.8808\n",
      "Epoch 31/50\n",
      "9598/9598 [==============================] - 7s 694us/step - loss: 0.2683 - accuracy: 0.8875 - val_loss: 0.2903 - val_accuracy: 0.8863\n",
      "Epoch 32/50\n",
      "9598/9598 [==============================] - 7s 695us/step - loss: 0.2686 - accuracy: 0.8904 - val_loss: 0.2808 - val_accuracy: 0.8904\n",
      "Epoch 33/50\n",
      "9598/9598 [==============================] - 7s 693us/step - loss: 0.2651 - accuracy: 0.8901 - val_loss: 0.2795 - val_accuracy: 0.8892\n",
      "Epoch 34/50\n",
      "9598/9598 [==============================] - 7s 694us/step - loss: 0.2583 - accuracy: 0.8928 - val_loss: 0.2781 - val_accuracy: 0.8913\n",
      "Epoch 35/50\n",
      "9598/9598 [==============================] - 7s 702us/step - loss: 0.2681 - accuracy: 0.8904 - val_loss: 0.2813 - val_accuracy: 0.8854\n",
      "Epoch 36/50\n",
      "9598/9598 [==============================] - 7s 696us/step - loss: 0.2649 - accuracy: 0.8895 - val_loss: 0.2959 - val_accuracy: 0.8854\n",
      "Epoch 37/50\n",
      "9598/9598 [==============================] - 7s 697us/step - loss: 0.2559 - accuracy: 0.8951 - val_loss: 0.2967 - val_accuracy: 0.8800\n",
      "Epoch 38/50\n",
      "9598/9598 [==============================] - 7s 697us/step - loss: 0.2602 - accuracy: 0.8937 - val_loss: 0.3130 - val_accuracy: 0.8838\n",
      "Epoch 39/50\n",
      "9598/9598 [==============================] - 7s 696us/step - loss: 0.2570 - accuracy: 0.8928 - val_loss: 0.3114 - val_accuracy: 0.8913\n",
      "Epoch 40/50\n",
      "9598/9598 [==============================] - 7s 695us/step - loss: 0.2642 - accuracy: 0.8908 - val_loss: 0.3111 - val_accuracy: 0.8908\n",
      "Epoch 41/50\n",
      "9598/9598 [==============================] - 7s 695us/step - loss: 0.2671 - accuracy: 0.8913 - val_loss: 0.2819 - val_accuracy: 0.8858\n",
      "Epoch 42/50\n",
      "9598/9598 [==============================] - 7s 700us/step - loss: 0.2595 - accuracy: 0.8907 - val_loss: 0.2976 - val_accuracy: 0.8800\n",
      "Epoch 43/50\n",
      "9598/9598 [==============================] - 7s 701us/step - loss: 0.2577 - accuracy: 0.8939 - val_loss: 0.2801 - val_accuracy: 0.8888\n",
      "Epoch 44/50\n",
      "9598/9598 [==============================] - 7s 703us/step - loss: 0.2528 - accuracy: 0.8978 - val_loss: 0.3125 - val_accuracy: 0.8725\n",
      "Epoch 45/50\n",
      "9598/9598 [==============================] - 7s 700us/step - loss: 0.2512 - accuracy: 0.8986 - val_loss: 0.2988 - val_accuracy: 0.8854\n",
      "Epoch 46/50\n",
      "9598/9598 [==============================] - 7s 698us/step - loss: 0.2521 - accuracy: 0.8978 - val_loss: 0.2944 - val_accuracy: 0.8858\n",
      "Epoch 47/50\n",
      "9598/9598 [==============================] - 7s 704us/step - loss: 0.2467 - accuracy: 0.8967 - val_loss: 0.2863 - val_accuracy: 0.8892\n",
      "Epoch 48/50\n",
      "9598/9598 [==============================] - 7s 698us/step - loss: 0.2448 - accuracy: 0.8995 - val_loss: 0.2902 - val_accuracy: 0.8825\n",
      "Epoch 49/50\n",
      "9598/9598 [==============================] - 7s 696us/step - loss: 0.2436 - accuracy: 0.8976 - val_loss: 0.2959 - val_accuracy: 0.8842\n",
      "Epoch 50/50\n",
      "9598/9598 [==============================] - 7s 705us/step - loss: 0.2459 - accuracy: 0.8996 - val_loss: 0.2942 - val_accuracy: 0.8779\n"
     ]
    }
   ],
   "source": [
    "emg_train_dropout = emg_model.fit(\n",
    "    train_X,\n",
    "    train_label,\n",
    "    batch_size=batch_size,\n",
    "    epochs=epochs,\n",
    "    verbose=1,\n",
    "    validation_data=(valid_X, valid_label))"
   ]
  },
  {
   "cell_type": "code",
   "execution_count": 24,
   "metadata": {},
   "outputs": [],
   "source": [
    "# emg_model.save(\"emg_model_dropout_new.h5py\")"
   ]
  },
  {
   "cell_type": "code",
   "execution_count": 25,
   "metadata": {},
   "outputs": [
    {
     "name": "stdout",
     "output_type": "stream",
     "text": [
      "1334/1334 [==============================] - 0s 220us/step\n"
     ]
    }
   ],
   "source": [
    "test_eval= emg_model.evaluate(test_X, test_Y_one_hot, verbose=1)"
   ]
  },
  {
   "cell_type": "code",
   "execution_count": 26,
   "metadata": {},
   "outputs": [
    {
     "name": "stdout",
     "output_type": "stream",
     "text": [
      "Test loss:  0.2753505294603565\n",
      "Test accuracy:  0.8838080763816833\n"
     ]
    }
   ],
   "source": [
    "print('Test loss: ', test_eval[0])\n",
    "print('Test accuracy: ', test_eval[1])"
   ]
  },
  {
   "cell_type": "code",
   "execution_count": 27,
   "metadata": {},
   "outputs": [
    {
     "data": {
      "image/png": "[encoded data removed]",
      "text/plain": [
       "<Figure size 432x288 with 1 Axes>"
      ]
     },
     "metadata": {
      "needs_background": "light"
     },
     "output_type": "display_data"
    },
    {
     "data": {
      "image/png": "[encoded data removed]",
      "text/plain": [
       "<Figure size 432x288 with 1 Axes>"
      ]
     },
     "metadata": {
      "needs_background": "light"
     },
     "output_type": "display_data"
    }
   ],
   "source": [
    "# Visualization\n",
    "accuracy = emg_train_dropout.history['accuracy']\n",
    "val_accuracy = emg_train_dropout.history['val_accuracy']\n",
    "loss = emg_train_dropout.history['loss']\n",
    "val_loss = emg_train_dropout.history['val_loss']\n",
    "epoch = range(len(accuracy))\n",
    "plt.plot(epoch, accuracy, 'bo', label='Training accuracy')\n",
    "plt.plot(epoch, val_accuracy, 'b', label='Validation accuracy')\n",
    "plt.title('Training and validation accuracy')\n",
    "plt.legend()\n",
    "plt.figure()\n",
    "plt.plot(epoch, loss, 'bo', label='Training loss')\n",
    "plt.plot(epoch, val_loss, 'b', label='Validation loss')\n",
    "plt.title('Training and validation loss')\n",
    "plt.legend()\n",
    "plt.show()"
   ]
  },
  {
   "cell_type": "code",
   "execution_count": 58,
   "metadata": {},
   "outputs": [],
   "source": [
    "predicted_classes = emg_model.predict(test_X)"
   ]
  },
  {
   "cell_type": "code",
   "execution_count": 59,
   "metadata": {},
   "outputs": [],
   "source": [
    "predicted_classes = np.argmax(np.round(predicted_classes), axis=1)"
   ]
  },
  {
   "cell_type": "code",
   "execution_count": 60,
   "metadata": {},
   "outputs": [
    {
     "data": {
      "text/plain": [
       "((2347,), (2347,))"
      ]
     },
     "execution_count": 60,
     "metadata": {},
     "output_type": "execute_result"
    }
   ],
   "source": [
    "predicted_classes.shape, test_Y.shape"
   ]
  },
  {
   "cell_type": "code",
   "execution_count": 61,
   "metadata": {},
   "outputs": [
    {
     "name": "stdout",
     "output_type": "stream",
     "text": [
      "Found 1732 correct labels\n"
     ]
    },
    {
     "data": {
      "image/png": "[encoded data removed]",
      "text/plain": [
       "<Figure size 432x288 with 9 Axes>"
      ]
     },
     "metadata": {
      "needs_background": "light"
     },
     "output_type": "display_data"
    }
   ],
   "source": [
    "correct = np.where(predicted_classes==test_Y)[0]\n",
    "print(\"Found %d correct labels\" % len(correct))\n",
    "for i, correct, in enumerate(correct[:9]):\n",
    "    plt.subplot(3, 3, i+1)\n",
    "    plt.pcolormesh(test_X[correct].reshape(ydim, xdim), cmap='jet')\n",
    "    plt.title(\"Predicted {}, Class {}\".format(predicted_classes[correct], test_Y[correct]))\n",
    "    plt.tight_layout()"
   ]
  },
  {
   "cell_type": "code",
   "execution_count": 62,
   "metadata": {},
   "outputs": [
    {
     "name": "stdout",
     "output_type": "stream",
     "text": [
      "Found 615 incorrect labels\n"
     ]
    },
    {
     "data": {
      "image/png": "[encoded data removed]",
      "text/plain": [
       "<Figure size 432x288 with 9 Axes>"
      ]
     },
     "metadata": {
      "needs_background": "light"
     },
     "output_type": "display_data"
    }
   ],
   "source": [
    "incorrect = np.where(predicted_classes!=test_Y)[0]\n",
    "print(\"Found %d incorrect labels\" % len(incorrect))\n",
    "for i, incorrect, in enumerate(incorrect[:9]):\n",
    "    plt.subplot(3, 3, i+1)\n",
    "    plt.pcolormesh(test_X[incorrect].reshape(ydim, xdim), cmap='jet')\n",
    "    plt.title(\"Predicted {}, Class {}\".format(predicted_classes[incorrect], test_Y[incorrect]))\n",
    "    plt.tight_layout()"
   ]
  },
  {
   "cell_type": "code",
   "execution_count": 63,
   "metadata": {},
   "outputs": [
    {
     "name": "stdout",
     "output_type": "stream",
     "text": [
      "              precision    recall  f1-score   support\n",
      "\n",
      "     Class 0       0.65      0.94      0.77       566\n",
      "     Class 1       0.78      0.82      0.80       792\n",
      "     Class 2       0.83      0.58      0.68       591\n",
      "     Class 3       0.75      0.53      0.62       398\n",
      "\n",
      "    accuracy                           0.74      2347\n",
      "   macro avg       0.75      0.72      0.72      2347\n",
      "weighted avg       0.76      0.74      0.73      2347\n",
      "\n"
     ]
    }
   ],
   "source": [
    "from sklearn.metrics import classification_report\n",
    "target_names = [\"Class {}\".format(i) for i in range(num_classes)]\n",
    "print(classification_report(test_Y, predicted_classes, target_names=target_names))"
   ]
  },
  {
   "cell_type": "code",
   "execution_count": null,
   "metadata": {},
   "outputs": [],
   "source": []
  }
 ],
 "metadata": {
  "kernelspec": {
   "display_name": "Python 3",
   "language": "python",
   "name": "python3"
  },
  "language_info": {
   "codemirror_mode": {
    "name": "ipython",
    "version": 3
   },
   "file_extension": ".py",
   "mimetype": "text/x-python",
   "name": "python",
   "nbconvert_exporter": "python",
   "pygments_lexer": "ipython3",
   "version": "3.6.10"
  }
 },
 "nbformat": 4,
 "nbformat_minor": 4
}
